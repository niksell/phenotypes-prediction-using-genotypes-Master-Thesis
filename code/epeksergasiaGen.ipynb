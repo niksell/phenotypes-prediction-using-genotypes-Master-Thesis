{
 "cells": [
  {
   "cell_type": "code",
   "execution_count": 29,
   "metadata": {
    "collapsed": false
   },
   "outputs": [],
   "source": [
    "import json\n",
    "import pandas as pd\n",
    "import pandas.io.data as web\n",
    "from pandas.io.json import json_normalize\n",
    "import itertools\n",
    "from operator import itemgetter\n",
    "from pandas import Series, DataFrame\n",
    "import numpy as np\n",
    "import scipy as sp\n",
    "import scipy.sparse as sp_sparse\n",
    "import scipy.spatial.distance as sp_dist\n",
    "\n",
    "import matplotlib.pyplot as plt\n",
    "\n",
    "import sklearn as sk\n",
    "import sklearn.datasets as sk_data\n",
    "import sklearn.metrics as metrics\n",
    "from sklearn import preprocessing\n",
    "import scipy.sparse.linalg as linalg\n",
    "\n",
    "import matplotlib as mpl\n",
    "\n",
    "import glob\n",
    "import os\n",
    "import time\n",
    "import operator\n",
    "#my_file = open(\"G://Documents//tsap//ukb_1_59614380.gen\")\n",
    "#file_contents = my_file.read()\n",
    "#print(file_contents)\n",
    "#for i in my_file:\n",
    "    \n",
    "#    print(i[1])\n",
    "#temp=[]\n",
    "myDict={}\n",
    "test=[]\n",
    "genoms = {}\n",
    "reverseGenoms = {}\n",
    "with open(\"G://Documents//tsap//ukb_1_59614380.gen\", \"r\") as f:\n",
    "    for line in f:\n",
    "        temp=line.split(\" \")\n",
    "        #for i in temp:\n",
    "        #    if len(i)>10:\n",
    "        k=temp[1].split(\"_\")\n",
    "        first=k[1]+k[1]\n",
    "        second=k[1]+k[2]\n",
    "        third=k[2]+k[2]\n",
    "        myDict[0]=(first)\n",
    "        myDict[1]=(second)\n",
    "        myDict[2]=(third)\n",
    "        p=0\n",
    "        k=0\n",
    "        triades = []\n",
    "        j = 0\n",
    "        max=0.0\n",
    "        for i in range(6,len(temp)):\n",
    "            \n",
    "            triades.append(temp[i])\n",
    "            \n",
    "            if float(temp[i])>=max:\n",
    "                max=float(temp[i])\n",
    "                k=p\n",
    "                p+=1\n",
    "            else:\n",
    "                p+=1\n",
    "            if p==3:\n",
    "                p=0\n",
    "                test.append(myDict[k])\n",
    "                reverseGenoms[(temp[1],j)] = triades \n",
    "                k=0\n",
    "                j+=1\n",
    "                triades=[]\n",
    "                max=0\n",
    "        key = (temp[0],temp[1],temp[2])\n",
    "        genoms[key] = np.array(test)\n",
    "        \n",
    "#     jsonLine=json.loads(line)\n",
    "#        myDict_business[jsonLine['business_id']]=(jsonLine['review_count'])  \n",
    "#        myDict_business_cat[jsonLine['business_id']]=(jsonLine['categories'])  "
   ]
  },
  {
   "cell_type": "code",
   "execution_count": 31,
   "metadata": {
    "collapsed": false
   },
   "outputs": [
    {
     "data": {
      "text/plain": [
       "['0', '0.937012', '0.0629883']"
      ]
     },
     "execution_count": 31,
     "metadata": {},
     "output_type": "execute_result"
    }
   ],
   "source": [
    "reverseGenoms[(\"1:59614380_T_A\",0)]"
   ]
  },
  {
   "cell_type": "code",
   "execution_count": null,
   "metadata": {
    "collapsed": true
   },
   "outputs": [],
   "source": []
  }
 ],
 "metadata": {
  "kernelspec": {
   "display_name": "Python 3",
   "language": "python",
   "name": "python3"
  },
  "language_info": {
   "codemirror_mode": {
    "name": "ipython",
    "version": 3
   },
   "file_extension": ".py",
   "mimetype": "text/x-python",
   "name": "python",
   "nbconvert_exporter": "python",
   "pygments_lexer": "ipython3",
   "version": "3.5.1"
  }
 },
 "nbformat": 4,
 "nbformat_minor": 0
}
