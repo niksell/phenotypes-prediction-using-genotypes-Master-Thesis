{
 "cells": [
  {
   "cell_type": "code",
   "execution_count": 19,
   "metadata": {
    "collapsed": false
   },
   "outputs": [],
   "source": [
    "class SaveDataSet():\n",
    "    def __init__(self,name,ids,data):\n",
    "        \n",
    "        self.name = name\n",
    "        self.ids = ids\n",
    "        self.data = data\n",
    "        self.__writeLogFile('tt',self.name)\n",
    "        self.__writeVariables(self,'patients')\n",
    "        self.__writeVariables(self,'snps')\n",
    "        self.__writeCSV()\n",
    "        \n",
    "    def __writeLogFile(self):\n",
    "        \n",
    "        write = open(self.name+'.log','w')\n",
    "        write.write(\"Logo file for the Test Data Set \"+self.name+'\\n')\n",
    "        write.write(self.name + \" has \"+ lens(self.ids['patients']['nameToId'].keys()) + \" patients \"'\\n')\n",
    "        write.write(self.name + \" has \"+ lens(self.ids['snps']['nameToId'].keys()) + \" snps \"'\\n')\n",
    "        write.close()\n",
    "        \n",
    "    def __writeVariables(self,kind):\n",
    "        \n",
    "        write = open(self.name+'_'+kind+'.txt','w')\n",
    "        write.write(kind + '\\n')\n",
    "        \n",
    "        for i in range(len(self.ids[kind]['nameToId'].keys())):\n",
    "            name = self.ids[kind]['idToName'][i]\n",
    "            write.write(name + '\\t'+self.ids[kind]['nameToId'][name])\n",
    "        \n",
    "        write.close()\n",
    "        \n",
    "        \n",
    "    def __writeCSV(self):\n",
    "        \n",
    "        f = open(self.name+'.csv', 'wt')\n",
    "        try:\n",
    "            writer = csv.writer(f)\n",
    "            \n",
    "            line = ' '\n",
    "            for i in range(len(self.ids['snps']['nameToId'].keys())):\n",
    "                line = ','+self.ids['snps']['idToName'][i]\n",
    "            writer.writerow(line)\n",
    "            \n",
    "            line = ' '\n",
    "            for i in range(len(self.ids['snps']['nameToId'].keys())):\n",
    "                name = self.ids['snps']['idToName'][i]\n",
    "                line = ','+self.ids['snps']['nameToId'][name]\n",
    "            writer.writerow(line)\n",
    "            \n",
    "            for i in range(len(self.ids['patients']['nameToId'].keys())):\n",
    "                line = self.ids['patients']['idToName'][i]\n",
    "                for j in range(len(self.ids['snps']['nameToId'].keys())):\n",
    "                    line = ','+self.data[i,j]\n",
    "                writer.writerow(line)\n",
    "        finally:\n",
    "            f.close()\n",
    "        "
   ]
  },
  {
   "cell_type": "code",
   "execution_count": null,
   "metadata": {
    "collapsed": false
   },
   "outputs": [],
   "source": []
  },
  {
   "cell_type": "code",
   "execution_count": null,
   "metadata": {
    "collapsed": true
   },
   "outputs": [],
   "source": []
  }
 ],
 "metadata": {
  "anaconda-cloud": {},
  "kernelspec": {
   "display_name": "Python [conda env:diplwmatikh]",
   "language": "python",
   "name": "conda-env-diplwmatikh-py"
  },
  "language_info": {
   "codemirror_mode": {
    "name": "ipython",
    "version": 2
   },
   "file_extension": ".py",
   "mimetype": "text/x-python",
   "name": "python",
   "nbconvert_exporter": "python",
   "pygments_lexer": "ipython2",
   "version": "2.7.13"
  }
 },
 "nbformat": 4,
 "nbformat_minor": 1
}
