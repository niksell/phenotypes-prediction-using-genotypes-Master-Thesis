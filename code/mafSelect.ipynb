{
 "cells": [
  {
   "cell_type": "code",
   "execution_count": null,
   "metadata": {
    "collapsed": true
   },
   "outputs": [],
   "source": [
    "import os\n",
    "\n",
    "assoc = {}\n",
    "path = 'D:\\\\newSet\\\\assoc\\\\'\n",
    "\n",
    "for i in range (1,23):\n",
    "\n",
    "    snps = {}\n",
    "    chro = \"chr\" + str(i)\n",
    "    \n",
    "    readPath = path + chro +'.assoc'\n",
    "    file = open(readPath,'r')\n",
    "    \n",
    "    line = file.readline()\n",
    "    \n",
    "    for line in file:\n",
    "        \n",
    "        snps[line.split()[1].strip()] = line\n",
    "    \n",
    "    assoc[chro] = snps\n",
    "    file.close()\n",
    "    \n",
    "\n",
    "path = 'D:\\\\newSet\\\\maf\\\\maf = 0.01\\\\'\n",
    "\n",
    "for i in range (1,23):\n",
    "    \n",
    "    chro = \"chr\" + str(i)\n",
    "    \n",
    "    readPath = path + chro +'.frq'\n",
    "    writePath = 'D:\\\\newSet\\\\maf\\\\assoc' + \"\\\\maf = 0.01\\\\\" + chro +\".assoc\"\n",
    "    \n",
    "    file = open(readPath,'r')\n",
    "    write = open(writePath,'w')\n",
    "    line = file.readline()\n",
    "    \n",
    "    write.write('CHR\tSNP\tBP\tA1\tF_A\tF_U\tA2\tCHISQ\tP\tOR' + '\\n')\n",
    "    \n",
    "    for line in file:\n",
    "        write.write(assoc[chro][line.split()[1].strip()])\n",
    "    \n",
    "    file.close()\n",
    "    write.close()\n",
    "\n",
    "assoc = {}"
   ]
  },
  {
   "cell_type": "code",
   "execution_count": null,
   "metadata": {
    "collapsed": true
   },
   "outputs": [],
   "source": [
    "print "
   ]
  },
  {
   "cell_type": "code",
   "execution_count": null,
   "metadata": {
    "collapsed": true
   },
   "outputs": [],
   "source": []
  }
 ],
 "metadata": {
  "kernelspec": {
   "display_name": "Python 3",
   "language": "python",
   "name": "python3"
  },
  "language_info": {
   "codemirror_mode": {
    "name": "ipython",
    "version": 3
   },
   "file_extension": ".py",
   "mimetype": "text/x-python",
   "name": "python",
   "nbconvert_exporter": "python",
   "pygments_lexer": "ipython3",
   "version": "3.6.2"
  }
 },
 "nbformat": 4,
 "nbformat_minor": 2
}
