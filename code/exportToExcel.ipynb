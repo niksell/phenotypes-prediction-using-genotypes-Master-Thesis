{
 "cells": [
  {
   "cell_type": "code",
   "execution_count": 1,
   "metadata": {
    "collapsed": true
   },
   "outputs": [],
   "source": [
    "import xlwt\n",
    "from pandas import DataFrame\n",
    "\n"
   ]
  },
  {
   "cell_type": "code",
   "execution_count": 5,
   "metadata": {
    "collapsed": true
   },
   "outputs": [],
   "source": [
    "file = open('C:\\\\Users\\\\ANTONIS\\\\Desktop\\\\newSet\\\\maf\\\\maf = 0.05\\\\assoc\\\\pvalue = 0.001\\\\Νέος φάκελος\\\\notabs\\\\\n",
    "/low100_not_abs_balanced ( 06-03-2018 ).txt','r')\n",
    "\n",
    "path = 'C:\\\\Users\\\\ANTONIS\\\\Desktop\\\\newSet\\\\maf\\\\maf = 0.05\\\\'\n",
    "maf = {}\n",
    "for i in range (1,23):\n",
    "    \n",
    "    chro = \"chr\" + str(i)\n",
    "    \n",
    "    readPath = path + chro +'.frq'\n",
    "   \n",
    "    \n",
    "    file1 = open(readPath,'r')\n",
    "    line = file1.readline()\n",
    "    \n",
    "    for line in file1:\n",
    "        \n",
    "        maf[line.split()[1].strip()] = line.split()[4].strip()\n",
    "        \n",
    "    file1.close()\n",
    "\n",
    "column1 = []\n",
    "column2 = []\n",
    "column3 = []\n",
    "summ = 0\n",
    "for line in file:\n",
    "    if len(line.split()) > 0:\n",
    "        if 'chromosome' in line.strip():\n",
    "            chro = line.strip()\n",
    "\n",
    "        else:\n",
    "            column1.append(chro)\n",
    "            column2.append(line.split()[0].strip())\n",
    "            column3.append(maf[line.split()[0].strip()])\n",
    "            \n",
    "df = DataFrame({'Chromosome': column1,  'SNP': column2, 'MAF': column3,})\n",
    "\n",
    "file.close()\n",
    "\n",
    "\n",
    "df.to_excel('C:\\\\Users\\\\ANTONIS\\\\Desktop\\\\newSet\\\\maf\\\\maf = 0.05\\\\assoc\\\\pvalue = 0.001\\\\Νέος φάκελος\\\\notabs\\\\\n",
    "/low100_not_abs_balanced ( 06-03-2018 ).xlsx', \n",
    "            sheet_name='0.7_down=100_up=100_abs', index=False)"
   ]
  },
  {
   "cell_type": "code",
   "execution_count": 37,
   "metadata": {
    "collapsed": true
   },
   "outputs": [],
   "source": [
    "file = open('D:\\\\newSet\\\\maf\\\\maf = 0.05\\\\assoc\\\\pvalue = 0.001\\\\tree\\\\treelow100 ( 18-02-2018 ) _treelow100.txt','r')\n",
    "\n",
    "line = file.readline()\n",
    "\n",
    "\n",
    "column1 = {}\n",
    "column2 = []\n",
    "column3 = []\n",
    "summ = 0\n",
    "for line in file:\n",
    "    if(len(line.split())>1):\n",
    "        column1[line.split()[0].strip()] = (line.split()[2].strip())\n",
    "      \n",
    "            \n",
    "df = DataFrame({'category': [column1['Category']],  'accuracy': [column1['accuracy']], \n",
    "                'auc': [column1['auc']],'recall':[column1['recall']],\n",
    "                'precision':[column1['precision']],'F_Score':[column1['f1']],\n",
    "                'SNPs':[column1['len_snps']],'down':[column1['down']],'thresh':[column1['thres']]})\n",
    "\n",
    "file.close()\n",
    "\n",
    "\n",
    "df.to_excel('D:\\\\newSet\\\\maf\\\\maf = 0.05\\\\assoc\\\\pvalue = 0.001\\\\tree\\\\treelow97 ( 18-02-2018 ) _treelow97.xlsx', \n",
    "            sheet_name='0.7_down=100_up=100_notabs', index=False)"
   ]
  },
  {
   "cell_type": "code",
   "execution_count": null,
   "metadata": {
    "collapsed": true
   },
   "outputs": [],
   "source": []
  }
 ],
 "metadata": {
  "kernelspec": {
   "display_name": "Python 3",
   "language": "python",
   "name": "python3"
  },
  "language_info": {
   "codemirror_mode": {
    "name": "ipython",
    "version": 3
   },
   "file_extension": ".py",
   "mimetype": "text/x-python",
   "name": "python",
   "nbconvert_exporter": "python",
   "pygments_lexer": "ipython3",
   "version": "3.6.2"
  }
 },
 "nbformat": 4,
 "nbformat_minor": 1
}
