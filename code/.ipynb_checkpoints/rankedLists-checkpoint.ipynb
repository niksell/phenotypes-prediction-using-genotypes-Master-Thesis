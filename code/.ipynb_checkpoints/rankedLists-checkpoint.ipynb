{
 "cells": [
  {
   "cell_type": "code",
   "execution_count": 1,
   "metadata": {},
   "outputs": [],
   "source": [
    "import os\n",
    "from random import randint\n",
    "\n",
    "def writeCoef(snps,sc):\n",
    "          \n",
    "  \n",
    "     #   write = open('D:\\\\newSet\\\\maf\\\\maf = 0.05\\\\assoc\\\\pvalue = 0.001\\\\snpsSorted.txt','w')\n",
    "        write = open('C:\\\\Users\\\\ANTONIS\\\\Desktop\\\\newSet\\\\maf\\\\maf = 0.05\\\\assoc\\\\pvalue = 0.001\\\\snpsSorted.txt','w')\n",
    "        for i in range(len(sc)):\n",
    "            \n",
    "            snp = ids[sc[i]][0]\n",
    "            snps[sc[i]].remove(snp)\n",
    "            write.write(str(snp)+'\\t'+str(sc[i])+'\\n')\n",
    "            \n",
    "        write.close()\n",
    "           \n",
    "\n",
    "maf = []\n",
    "\n",
    "#file = open('D:\\\\newSet\\\\maf\\\\maf = 0.05\\\\assoc\\\\pvalue = 0.001\\\\mycutoff ( 12-03-2018 ).txt','r')\n",
    "#file = open('C:\\\\Users\\\\ANTONIS\\\\Desktop\\\\newSet\\\\maf\\\\maf = 0.05\\\\assoc\\\\pvalue = 0.001\\\\mycutoffabs ( 20-03-2018 ).txt','r')\n",
    "file = open('C:\\\\Users\\\\ANTONIS\\\\Desktop\\\\newSet\\\\maf\\\\maf = 0.05\\\\assoc\\\\pvalue = 0.001\\\\mycutoff ( 16-03-2018 ).txt','r')\n",
    "\n",
    "for i in file:\n",
    "    \n",
    "    maf.append(i.split()[0].strip())\n",
    "    \n",
    "file.close()"
   ]
  },
  {
   "cell_type": "code",
   "execution_count": 2,
   "metadata": {},
   "outputs": [],
   "source": [
    "snps={}\n",
    "for i in range(1,23):\n",
    "    chr='chr'+str(i)\n",
    "   \n",
    "    #file = open('D:\\\\newSet\\\\maf\\\\maf = 0.05\\\\assoc\\\\'+chr+'.assoc','r')\n",
    "    file = open('C:\\\\Users\\\\ANTONIS\\\\Desktop\\\\newSet\\\\maf\\\\maf = 0.05\\\\assoc\\\\'+chr+'.assoc','r')\n",
    "    \n",
    "    line =file.readline\n",
    " #   print(file.readline)\n",
    "    for line in file:\n",
    "      \n",
    "        snp = line.split()[1].strip()\n",
    "        pvalue = line.split()[8].strip()\n",
    "        \n",
    "        snps[snp]=pvalue\n",
    "        \n",
    "    file.close()\n",
    "        "
   ]
  },
  {
   "cell_type": "code",
   "execution_count": 3,
   "metadata": {
    "collapsed": true
   },
   "outputs": [],
   "source": [
    "snpss =[]\n",
    "pvalues=[]\n",
    "\n",
    "for i in maf:\n",
    "    \n",
    "    snpss.append(i)\n",
    "    pvalues.append(float(snps[i]))\n",
    "\n",
    "ids = {}\n",
    "\n",
    "for i in range(len(pvalues)):\n",
    "        ids[pvalues[i]] = []\n",
    "\n",
    "for i in range(len(pvalues)):\n",
    "    \n",
    "    ids[pvalues[i]].append(snpss[i])"
   ]
  },
  {
   "cell_type": "code",
   "execution_count": 4,
   "metadata": {},
   "outputs": [],
   "source": [
    "sc = sorted(pvalues,reverse=True)\n",
    "\n",
    "#writeCoef(ids,sc)\n",
    "\n",
    "pvaluesSorted = []\n",
    "\n",
    "for i in range(len(sc)):\n",
    "\n",
    "    snp = ids[sc[i]][0]\n",
    "    ids[sc[i]].remove(snp)\n",
    "    pvaluesSorted.append(snp)\n"
   ]
  },
  {
   "cell_type": "code",
   "execution_count": 5,
   "metadata": {},
   "outputs": [
    {
     "name": "stdout",
     "output_type": "stream",
     "text": [
      "0.02855910201\n",
      "0.203925850094\n"
     ]
    }
   ],
   "source": [
    "import scipy.stats as stats\n",
    "\n",
    "ids = {}\n",
    "#count = []\n",
    "count = 0\n",
    "for i in maf:\n",
    "    #aRand = randint(0,10000000)\n",
    "    #while(aRand in count):\n",
    "     #   aRand = randint(0,10000000) \n",
    "    #ids[i] = aRand\n",
    "    #count.append(aRand)\n",
    "    ids[i] = count\n",
    "    count += 1\n",
    "    \n",
    "xSNP = []\n",
    "xMAF = []\n",
    "\n",
    "for i in maf:\n",
    "    xMAF.append(ids[i])\n",
    "    \n",
    "for i in pvaluesSorted:\n",
    "    xSNP.append(ids[i])\n",
    "\n",
    "'''x1 = [12, 2, 1, 12, 2]\n",
    "#x2 = [1, 4, 7, 1, 0]\n",
    "x2 = [12, 2, 1, 12, 2]'''\n",
    "tau, p_value = stats.kendalltau(xMAF, xSNP)\n",
    "print(tau)\n",
    "print(p_value)"
   ]
  },
  {
   "cell_type": "code",
   "execution_count": null,
   "metadata": {},
   "outputs": [],
   "source": []
  },
  {
   "cell_type": "code",
   "execution_count": null,
   "metadata": {
    "collapsed": true
   },
   "outputs": [],
   "source": []
  }
 ],
 "metadata": {
  "kernelspec": {
   "display_name": "Python 3",
   "language": "python",
   "name": "python3"
  },
  "language_info": {
   "codemirror_mode": {
    "name": "ipython",
    "version": 3
   },
   "file_extension": ".py",
   "mimetype": "text/x-python",
   "name": "python",
   "nbconvert_exporter": "python",
   "pygments_lexer": "ipython3",
   "version": "3.6.2"
  }
 },
 "nbformat": 4,
 "nbformat_minor": 1
}
