{
 "cells": [
  {
   "cell_type": "code",
   "execution_count": 3,
   "metadata": {
    "collapsed": false
   },
   "outputs": [
    {
     "ename": "FileNotFoundError",
     "evalue": "[Errno 2] No such file or directory: 'D:\\\\newSet\\\\maf\\\\\\\\chr1.assoc'",
     "output_type": "error",
     "traceback": [
      "\u001b[1;31m---------------------------------------------------------------------------\u001b[0m",
      "\u001b[1;31mFileNotFoundError\u001b[0m                         Traceback (most recent call last)",
      "\u001b[1;32m<ipython-input-3-3aa91c770ab9>\u001b[0m in \u001b[0;36m<module>\u001b[1;34m()\u001b[0m\n\u001b[0;32m     35\u001b[0m \u001b[1;33m\u001b[0m\u001b[0m\n\u001b[0;32m     36\u001b[0m         \u001b[0mwrite\u001b[0m \u001b[1;33m=\u001b[0m \u001b[0mopen\u001b[0m\u001b[1;33m(\u001b[0m\u001b[0mwritePath\u001b[0m\u001b[1;33m,\u001b[0m\u001b[1;34m'w'\u001b[0m\u001b[1;33m)\u001b[0m\u001b[1;33m\u001b[0m\u001b[0m\n\u001b[1;32m---> 37\u001b[1;33m         \u001b[0mfile\u001b[0m \u001b[1;33m=\u001b[0m \u001b[0mopen\u001b[0m\u001b[1;33m(\u001b[0m\u001b[0mreadPath\u001b[0m\u001b[1;33m,\u001b[0m\u001b[1;34m'r'\u001b[0m\u001b[1;33m)\u001b[0m\u001b[1;33m\u001b[0m\u001b[0m\n\u001b[0m\u001b[0;32m     38\u001b[0m \u001b[1;33m\u001b[0m\u001b[0m\n\u001b[0;32m     39\u001b[0m         \u001b[0mline\u001b[0m \u001b[1;33m=\u001b[0m \u001b[0mfile\u001b[0m\u001b[1;33m.\u001b[0m\u001b[0mreadline\u001b[0m\u001b[1;33m(\u001b[0m\u001b[1;33m)\u001b[0m\u001b[1;33m\u001b[0m\u001b[0m\n",
      "\u001b[1;31mFileNotFoundError\u001b[0m: [Errno 2] No such file or directory: 'D:\\\\newSet\\\\maf\\\\\\\\chr1.assoc'"
     ]
    }
   ],
   "source": [
    "import os\n",
    "\n",
    "\n",
    "threshold = []\n",
    "\n",
    "\n",
    "threshold.append(5e-3)\n",
    "threshold.append(5e-2)\n",
    "threshold.append(1e-2)\n",
    "threshold.append(1e-3)\n",
    "#threshold.append(1e-4)\n",
    "#threshold.append(1e-5)\n",
    "#threshold.append(5e-8)\n",
    "\n",
    "path = 'D:\\\\newSet\\\\maf' #to path pou 8a dhmiourgh8oun oi fakeloi eite desktop eite se kapoio sklhro\n",
    "\n",
    "#path = 'D:\\\\newSet\\\\maf\\\\assoc\\\\'\n",
    "#path = 'C:\\\\Users\\\\ANTONIS\\\\Desktop\\\\newSet\\\\assoc\\\\'\n",
    "for i in range(len(threshold)):\n",
    "    \n",
    "    folderPath = path + '\\\\' + 'pvalue = ' + str(threshold[i]) \n",
    "    #folderPath = path + '\\\\' + 'maf = ' + str(threshold[i]) \n",
    "    if not os.path.exists(folderPath):\n",
    "        os.makedirs(folderPath)\n",
    "    \n",
    "    for j in range(1,23):\n",
    "        \n",
    "        chro = \"chr\" + str(j)\n",
    "        \n",
    "        readPath = path + '\\\\' + chro +'.assoc' ####to path opou einai ola ta assoc arxeia\n",
    "        writePath = folderPath + \"\\\\\" + chro +\".assoc\" \n",
    "        \n",
    "      #  readPath = path + chro +'.frq' ####to path opou einai ola ta assoc arxeia\n",
    "      #  writePath = folderPath + \"\\\\\" + chro +\".frq\" \n",
    "        \n",
    "        write = open(writePath,'w')\n",
    "        file = open(readPath,'r')\n",
    "        \n",
    "        line = file.readline()\n",
    "        \n",
    "      \n",
    "        for l in range(len(line.split())):\n",
    "                  \n",
    "            write.write(line.split()[l].strip() + '\\t')\n",
    "        \n",
    "       # write.write(line)\n",
    "        write.write(\"\\n\")\n",
    "       \n",
    "        for line in file:\n",
    "            \n",
    "            if line.split()[8].strip() != \"NA\":\n",
    "               \n",
    "                if float(line.split()[8].strip()) <= threshold[i] :\n",
    "                    \n",
    "                     for l in range(len(line.split())):\n",
    "                  \n",
    "                        write.write(line.split()[l].strip() + '\\t')\n",
    "                    #write.write(line)\n",
    "                     write.write(\"\\n\")\n",
    "        \n",
    "        file.close()\n",
    "        write.close()\n",
    "              "
   ]
  },
  {
   "cell_type": "code",
   "execution_count": null,
   "metadata": {
    "collapsed": true
   },
   "outputs": [],
   "source": []
  },
  {
   "cell_type": "code",
   "execution_count": null,
   "metadata": {
    "collapsed": true
   },
   "outputs": [],
   "source": []
  }
 ],
 "metadata": {
  "anaconda-cloud": {},
  "kernelspec": {
   "display_name": "Python 3",
   "language": "python",
   "name": "python3"
  },
  "language_info": {
   "codemirror_mode": {
    "name": "ipython",
    "version": 3
   },
   "file_extension": ".py",
   "mimetype": "text/x-python",
   "name": "python",
   "nbconvert_exporter": "python",
   "pygments_lexer": "ipython3",
   "version": "3.5.2"
  }
 },
 "nbformat": 4,
 "nbformat_minor": 1
}
