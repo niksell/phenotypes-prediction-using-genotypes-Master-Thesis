{
 "cells": [
  {
   "cell_type": "code",
   "execution_count": 1,
   "metadata": {
    "collapsed": false
   },
   "outputs": [
    {
     "ename": "SyntaxError",
     "evalue": "invalid syntax (<ipython-input-1-a54f186eaed1>, line 12)",
     "output_type": "error",
     "traceback": [
      "\u001b[1;36m  File \u001b[1;32m\"<ipython-input-1-a54f186eaed1>\"\u001b[1;36m, line \u001b[1;32m12\u001b[0m\n\u001b[1;33m    if line.split()[] <= i:\u001b[0m\n\u001b[1;37m                    ^\u001b[0m\n\u001b[1;31mSyntaxError\u001b[0m\u001b[1;31m:\u001b[0m invalid syntax\n"
     ]
    }
   ],
   "source": [
    "threshold = []\n",
    "\n",
    "threshold.append(str(0.001))\n",
    "threshold.append(str(0.0001))\n",
    "threshold.append(str(0.00001))\n",
    "threshold.append(str(0.000001))\n",
    "threshold.append(str(0.00000005))\n",
    "\n",
    "for i in range(len(threshold)):\n",
    "    writePath = 'path for writing'\n",
    "    write = open(writePath,'w')\n",
    "    for j in range(1,15):\n",
    "        path = 'path for reading file'\n",
    "        file = open(path,'r')\n",
    "        file.readline()\n",
    "    \n",
    "        for line in file:\n",
    "            if line.split()[] <= i:\n",
    "                \n",
    "                write.write(line)\n",
    "                \n",
    "    write.close()\n",
    "                "
   ]
  },
  {
   "cell_type": "code",
   "execution_count": null,
   "metadata": {
    "collapsed": true
   },
   "outputs": [],
   "source": []
  }
 ],
 "metadata": {
  "kernelspec": {
   "display_name": "Python 3",
   "language": "python",
   "name": "python3"
  },
  "language_info": {
   "codemirror_mode": {
    "name": "ipython",
    "version": 3
   },
   "file_extension": ".py",
   "mimetype": "text/x-python",
   "name": "python",
   "nbconvert_exporter": "python",
   "pygments_lexer": "ipython3",
   "version": "3.5.2"
  }
 },
 "nbformat": 4,
 "nbformat_minor": 0
}
