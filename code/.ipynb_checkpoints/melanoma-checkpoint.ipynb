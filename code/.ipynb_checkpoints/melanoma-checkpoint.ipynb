{
 "cells": [
  {
   "cell_type": "code",
   "execution_count": null,
   "metadata": {
    "collapsed": false
   },
   "outputs": [],
   "source": [
    "from sklearn import linear_model\n",
    "from sklearn.model_selection import cross_val_score\n",
    "from sklearn.metrics import mean_squared_error\n",
    "import matplotlib.pyplot as plt\n",
    "import numpy as np\n",
    "import os.path\n",
    "import csv\n",
    "from sklearn.svm import SVC\n",
    "from sklearn.svm import NuSVC\n",
    "from sklearn.tree import DecisionTreeRegressor\n",
    "from sklearn.ensemble import RandomForestRegressor\n",
    "from sklearn.ensemble import RandomForestClassifier\n",
    "from sklearn import grid_search\n",
    "import sklearn.linear_model as linear_model\n",
    "import sklearn.metrics as metrics\n",
    "from sklearn import preprocessing\n",
    "import statsmodels.api as sm\n",
    "import statsmodels.formula.api as smf\n",
    "from sklearn.model_selection import GridSearchCV\n",
    "from sklearn.metrics import mean_squared_error, make_scorer\n",
    "from random import randint\n",
    "from sklearn import tree\n",
    "from sklearn.decomposition import PCA\n",
    "from sklearn.metrics import f1_score\n",
    "from sklearn.model_selection import train_test_split\n",
    "from sklearn.preprocessing import OneHotEncoder\n",
    "import math\n",
    "\n",
    "from metrics.Correlation import Correlation\n",
    "from IO.Write import Write\n",
    "from IO.Read import Read\n",
    "from metrics.RSquare import RSquare\n",
    "from DataSet.Dataset import DataSet\n",
    "\n",
    "\n",
    "def setIdToName(aList):\n",
    "    \n",
    "    ids = {}\n",
    "    nameToId = {}\n",
    "    idToName = {}\n",
    "    count = 0\n",
    "    \n",
    "    for i in aList:\n",
    "        \n",
    "        nameToId[i] = count\n",
    "        idToName[count] = i\n",
    "        count += 1\n",
    "        \n",
    "    ids['nameToId'] = nameToId\n",
    "    ids['idToName'] = idToName\n",
    "    \n",
    "    return ids\n",
    "\n",
    "\n",
    "def setSnpsCode(patients,chromosomes):\n",
    "    \n",
    "    for i in patients.keys():\n",
    "        patients[i].snpCode(chromosomes)\n",
    "        \n",
    "    return patients\n",
    "    \n",
    "\n",
    "\n",
    "\n",
    "def tables(sampleX,sampleY,k):\n",
    "  \n",
    "    samples = {}\n",
    "    \n",
    "    for run in range(1,k+1):\n",
    "        \n",
    "        d1 = {}\n",
    "        \n",
    "\n",
    "        dataTestX = sampleX[run]\n",
    "        dataTestY = sampleY[run]\n",
    "\n",
    "        n = 0\n",
    "\n",
    "        for i in sampleX.keys():\n",
    "\n",
    "            if i != run:\n",
    "\n",
    "                n += len(sampleX[i])\n",
    "\n",
    "        dataTrainX = np.zeros((n,len(sampleX[1].T)),dtype = int)\n",
    "        dataTrainY = np.zeros((n,),dtype = int)\n",
    "\n",
    "        count = 0\n",
    "\n",
    "        for sample in sampleX.keys():\n",
    "\n",
    "            if sample != run:\n",
    "\n",
    "                 for i in range(len(sampleX[sample])):\n",
    "                    for j in range(len(sampleX[sample].T)):\n",
    "                        dataTrainX[count,j] = sampleX[sample][i,j]\n",
    "\n",
    "                    dataTrainY[count] = sampleY[sample][i]\n",
    "                    count += 1\n",
    "\n",
    "        d1['trainX'] = dataTrainX\n",
    "        d1['trainY'] = dataTrainY\n",
    "        d1['testX'] = dataTestX\n",
    "        d1['testY'] = dataTestY\n",
    "        \n",
    "        samples[run] = d1\n",
    "    \n",
    "    return samples\n",
    "    \n",
    "def kSampleData(k,X,Y):\n",
    "    \n",
    "    x = int (len(X) / k)\n",
    "    allElements = np.zeros((len(X),),dtype = int)\n",
    "    \n",
    "    count1 = 1\n",
    "    sampleX = {}\n",
    "    sampleY = {}\n",
    "   \n",
    "    \n",
    "    while count1 <= k:\n",
    "        count2 = 1\n",
    "        sampleData = []\n",
    "        \n",
    "        if count1 == k:\n",
    "            x =  len(X) - ((k-1) * x)\n",
    "        \n",
    "        dataX = np.zeros((x,len(X.T)),dtype = int)\n",
    "        dataY = np.zeros((x,),dtype = int)\n",
    "        \n",
    "        while count2 <= x:\n",
    "            \n",
    "            aRand = randint(0,len(X)-1)\n",
    "            \n",
    "            while allElements[aRand] == 1:\n",
    "                \n",
    "                aRand = randint(0,len(X)-1)\n",
    "            \n",
    "            allElements[aRand] = 1\n",
    "            sampleData.append(aRand)\n",
    "            count2 += 1\n",
    "            \n",
    "        for i in range(len(sampleData)):\n",
    "            for j in range(len(X.T)):\n",
    "                dataX[i,j] = X[sampleData[i],j]\n",
    "            \n",
    "            dataY[i] = Y[sampleData[i]]\n",
    "            \n",
    "        sampleX[count1] = dataX\n",
    "        sampleY[count1] = dataY\n",
    "        count1 +=1\n",
    "        \n",
    "    return tables(sampleX,sampleY,k)\n",
    "\n",
    "\n",
    "def calculateJaccardSim(X):\n",
    "    \n",
    "    xNew = np.zeros((len(X.T),len(X.T)),dtype = float)\n",
    "    \n",
    "    for i in range(len(X.T)):\n",
    "        \n",
    "        for j in range(i+1,len(X.T)):\n",
    "            \n",
    "            result = metrics.jaccard_similarity_score(X[:,i],X[:,j])\n",
    "            \n",
    "            xNew[i,j] = result\n",
    "            xNew[j,i] = result\n",
    "            \n",
    "        xNew[i,i] = 1.0\n",
    "        \n",
    "    \n",
    "    return xNew    \n",
    "\n",
    "def reduceFeatures(X,a,b,c = 10,method = 'Cosine_Similarity'):\n",
    "    \n",
    "    snpsOut = []\n",
    "    snpsIn = []\n",
    "    snps1 = []\n",
    "    snps2 = []\n",
    "    snpsRandom = []\n",
    "    \n",
    "    snpsReturn = {}\n",
    "    \n",
    "    if method == 'Cosine_Similarity':\n",
    "        \n",
    "        snpsCount = {}\n",
    "        print(\"size = \",len(X.T))\n",
    "        for i in range(len(X.T)):\n",
    "            \n",
    "            snpsCount[i] = 0\n",
    "        \n",
    "        xNew = metrics.pairwise.cosine_similarity(X.T)\n",
    "        print(\"xNew shape \",xNew.shape)\n",
    "       \n",
    "        for i in range(len(xNew)):\n",
    "            for j in range(i+1,len(xNew.T)):\n",
    "                    \n",
    "                if ((xNew[i,j] - a >= 1e-10) and (xNew[i,j] - b) <= 1e-10):\n",
    "       \n",
    "                    snpsCount[j] = snpsCount[j] + 1\n",
    "                    snpsCount[i] = snpsCount[i] + 1\n",
    "                    \n",
    "        countBigThanZero = 0  \n",
    "       \n",
    "        \n",
    "        for i in snpsCount.keys():\n",
    "            if snpsCount[i] > 0:\n",
    "                countBigThanZero += 1\n",
    "        \n",
    "         \n",
    "        for i in snpsCount.keys():\n",
    "            \n",
    "            if snpsCount[i] > 0:\n",
    "                snpsIn.append(i)\n",
    "            \n",
    "            if snpsCount[i] > countBigThanZero * c / 100:           \n",
    "                snps1.append(i)\n",
    "        \n",
    "        for i in range(len(X.T)):\n",
    "            if i not in snps1:\n",
    "                snps2.append(i)\n",
    "                \n",
    "        for i in snps2:\n",
    "            flag = 0\n",
    "            for j in snps2:\n",
    "                 if (1 - xNew[i,j]) <= 1e-2 and j != i:\n",
    "                        flag = 1\n",
    "                        break\n",
    "            if flag == 0:\n",
    "                snpsOut.append(i)\n",
    "                \n",
    "                \n",
    "        snpsSelected = np.zeros((len(X.T),1),dtype = int)\n",
    "     \n",
    "        for i in snpsOut:\n",
    "            snpsSelected[i] = 1\n",
    "        \n",
    "        if len(snpsOut) < len(X.T)/2:\n",
    "            size = len(snpsOut) + 1\n",
    "        elif len(snpsOut) == len(X.T):\n",
    "            size = 0\n",
    "        else:\n",
    "            size = len(X.T) - len(snpsOut) + 1\n",
    "        \n",
    "        for i in range(1,size):\n",
    "            \n",
    "            aRand = randint(0,len(X.T)-1)\n",
    "    \n",
    "            while(snpsSelected[aRand] == 1):\n",
    "\n",
    "                aRand = randint(0,len(X.T)-1)\n",
    "                \n",
    "            snpsSelected[aRand] = 1\n",
    "            snpsRandom.append(aRand)\n",
    "        \n",
    "       \n",
    "        \n",
    "        print(\"snps = \",len(snpsOut))\n",
    "        print(\"len snpsIn = \",len(snpsIn))\n",
    "        print(\"len snpsRandom = \",len(snpsRandom))\n",
    "        \n",
    "        snpsReturn['snpsOutArea'] = snpsOut\n",
    "        snpsReturn['snpsInArea'] = snpsIn\n",
    "        snpsReturn['snpsRandom'] = snpsRandom\n",
    "        \n",
    "    elif method == 'jaccard1':\n",
    "    \n",
    "        snpsPairs = {}\n",
    "        print(\"size = \",len(X.T))\n",
    "        for i in range(len(X.T)):\n",
    "            snpsPairs[i] = 0\n",
    "            \n",
    "        \n",
    "        xNew = X\n",
    "        print(\"xNew shape \",xNew.shape)\n",
    "       \n",
    "        for i in range(len(xNew)):\n",
    "            for j in range(i+1,len(xNew.T)):\n",
    "                    \n",
    "                if (xNew[i,j] - a <= 1e-10) :\n",
    "                    \n",
    "                    snpsPairs[i] = snpsPairs[i] + 1\n",
    "                    snpsPairs[j] = snpsPairs[j] + 1\n",
    "                    \n",
    "                \n",
    "        for i in snpsPairs.keys():\n",
    "            if snpsPairs[i] >= c * len(X.T) / 100:\n",
    "                snpsOut.append(i)\n",
    "       \n",
    "                   \n",
    "        \n",
    "        \n",
    "        print(\"snps = \",len(snpsOut))\n",
    "        print(\"len snpsIn = \",len(snpsIn))\n",
    "        print(\"len snpsRandom = \",len(snpsRandom))\n",
    "        \n",
    "        snpsReturn['snpsOutArea'] = snpsOut\n",
    "        snpsReturn['snpsInArea'] = snpsIn\n",
    "        snpsReturn['snpsRandom'] = snpsRandom\n",
    "        \n",
    "    \n",
    "            \n",
    "    return snpsReturn\n",
    "\n",
    "\n",
    "def createNewTable(snps,X):\n",
    "    \n",
    "    newX = np.zeros((len(X),len(snps)),dtype = int)\n",
    "    \n",
    "    for i in range(len(newX)):\n",
    "        for j in range(len(newX.T)):\n",
    "            newX[i,j] = -1\n",
    "    \n",
    "    for i in range(len(snps)):\n",
    "        for j in range(len(X)):\n",
    "            \n",
    "            newX[j,i] = X[j,snps[i]]\n",
    "            \n",
    "    print(\"new shape = \",newX.shape)\n",
    "            \n",
    "    return newX\n",
    "\n",
    "\n",
    "\n",
    "def crossValidiation(X, Y, k = 1, continious = True, classifier = None,OLS = False,Logistic = False):\n",
    "    \n",
    "    if not classifier:\n",
    "        print(\"wrong!!!!!!! you have to choise a classifier\")\n",
    "        return\n",
    "    \n",
    "    results = {}\n",
    "    accuracy = {}\n",
    "    auc = {}\n",
    "    recall = {}\n",
    "    precision = {}\n",
    "    f1Score = {}\n",
    "    \n",
    "    sumResults = 0.0\n",
    "    sumAccuracy = 0.0\n",
    "    sumAuc = 0.0\n",
    "    sumRecall = 0.0\n",
    "    sumPrecision = 0.0\n",
    "    sumF1Score = 0.0\n",
    "    \n",
    "    samples = kSampleData(k,X,Y)\n",
    "    \n",
    "    for run in range(1, k + 1):\n",
    "        \n",
    "        trainX = samples[run]['trainX']\n",
    "        trainY = samples[run]['trainY']\n",
    "        \n",
    "        testX = samples[run]['testX']\n",
    "        testY = samples[run]['testY']\n",
    "        \n",
    "        \n",
    "        if OLS:\n",
    "            classifier = sm.OLS(trainY,trainX)\n",
    "            yPredict = classifier.fit().predict(testX)\n",
    "        else:\n",
    "\n",
    "            classifier.fit(trainX, trainY)\n",
    "            yPredict = classifier.predict(testX)\n",
    "        \n",
    "        if continious:\n",
    "            \n",
    "            for i in range(len(yPredict)):\n",
    "                \n",
    "                if (abs(0 - yPredict[i]) - abs(1 - yPredict[i])) <= 1e-10 :\n",
    "                    yPredict[i] = 0\n",
    "                else:\n",
    "                    yPredict[i] = 1\n",
    "                    \n",
    "        if Logistic:\n",
    "            \n",
    "            probabilities = classifier.predict_proba(testX)\n",
    "            \n",
    "            for i in range(len(probabilities)):\n",
    "                if probabilities[i][1] >= 0.8:\n",
    "                    yPredict[i] = 1\n",
    "                else:\n",
    "                    yPredict[i] = 0\n",
    "          \n",
    "        accuracy[run] = metrics.accuracy_score(testY,yPredict)#(yPredict,testY)#\n",
    "        fpr, tpr, thresholds = metrics.roc_curve(testY,yPredict)\n",
    "        auc[run] = metrics.auc(fpr,tpr)\n",
    "        recall[run] = metrics.recall_score(testY,yPredict)\n",
    "        precision[run] = metrics.precision_score(testY,yPredict)\n",
    "        f1Score[run] = f1_score(testY, yPredict, average='binary')\n",
    "        \n",
    "    \n",
    "    for i in accuracy.keys():\n",
    "        sumAccuracy = sumAccuracy + accuracy[i]\n",
    "        sumAuc = sumAuc + auc[i]\n",
    "        sumRecall = sumRecall + recall[i]\n",
    "        sumPrecision = sumPrecision + precision[i]\n",
    "        sumF1Score = sumF1Score + f1Score[i]\n",
    "    \n",
    "    results['accuracy'] = sumAccuracy / k\n",
    "    results['auc'] = sumAuc / k\n",
    "    results['recall'] = sumRecall / k\n",
    "    results['precision'] = sumPrecision / k\n",
    "    results['f1'] = sumF1Score / k\n",
    "    \n",
    "    return results\n",
    "\n"
   ]
  },
  {
   "cell_type": "code",
   "execution_count": null,
   "metadata": {
    "collapsed": false
   },
   "outputs": [],
   "source": []
  },
  {
   "cell_type": "code",
   "execution_count": null,
   "metadata": {
    "collapsed": false,
    "scrolled": true
   },
   "outputs": [],
   "source": [
    "path = 'C:\\\\Users\\\\ANTONIS\\\\Desktop\\\\p = 0.0001\\\\' #bake ton fakelo pou 8a epe3ergas8eis\n",
    "#path = 'C:\\\\Users\\\\ANTONIS\\\\Desktop\\\\pValues\\\\pvalue = 1e-05\\\\'\n",
    "\n",
    "numberOfChromosomes = 22#'ari8mos twn xromoswmatwn'\n",
    "patientsTrain = {}\n",
    "patientsTest = {}\n",
    "allPatients = {}\n",
    "\n",
    "chromosomes = {}\n",
    "\n",
    "read = Read(path,numberOfChromosomes)\n",
    "write = Write(path,numberOfChromosomes)\n",
    "\n",
    "patients = read.readPatients('Patients.txt')\n",
    "chromosomes = read.readSnps(\".assoc\")\n",
    "write.writePatientsList(patients,'patient.txt')\n",
    "write.writeSnpsList(chromosomes)\n"
   ]
  },
  {
   "cell_type": "markdown",
   "metadata": {},
   "source": [
    "# run train_lgen bat and test_leg bat"
   ]
  },
  {
   "cell_type": "code",
   "execution_count": null,
   "metadata": {
    "collapsed": false
   },
   "outputs": [],
   "source": [
    "\n",
    "snps = read.getListOfSnps()\n",
    "ids = {} \n",
    "idsTest = {}\n",
    "\n",
    "\n",
    "\n",
    "if os.path.exists(path + 'snpCode.txt'):\n",
    "    print(\"mphka\")\n",
    "    patients = read.readSnpsCode(patients)\n",
    "    \n",
    "    \n",
    "else:\n",
    "    patients = read.readLgen(patients)\n",
    "    \n",
    "   \n",
    "    patients = setSnpsCode(patients,chromosomes)\n",
    "    \n",
    "    \n",
    "\n",
    "\n",
    "ids['patients'] = setIdToName(list(patients.keys()))\n",
    "ids['snps'] = setIdToName(snps)\n",
    "\n",
    "\n",
    "\n"
   ]
  },
  {
   "cell_type": "code",
   "execution_count": null,
   "metadata": {
    "collapsed": false
   },
   "outputs": [],
   "source": [
    "trainSet = DataSet(patients,ids)\n",
    "\n",
    "\n",
    "X = trainSet.getXTable()\n",
    "Y = trainSet.getYTable()\n",
    "\n",
    "if not os.path.exists(path + 'snpCode.txt'):\n",
    "    print(\"mphka 3\")\n",
    "    write.saveData(ids,patientsTrain,'Train',xTraining,chromosomes)\n",
    "    write.saveData(idsTest,patientsTest,'Test',xTest)"
   ]
  },
  {
   "cell_type": "code",
   "execution_count": null,
   "metadata": {
    "collapsed": false
   },
   "outputs": [],
   "source": []
  },
  {
   "cell_type": "markdown",
   "metadata": {},
   "source": [
    "# Correlation"
   ]
  },
  {
   "cell_type": "code",
   "execution_count": null,
   "metadata": {
    "collapsed": false
   },
   "outputs": [],
   "source": [
    "xTraining, xTest, yTraining1, yTest = train_test_split(X, Y, test_size=0.1, random_state=0)\n",
    "print(\"mergex = \",X.shape)\n",
    "print(\"xTrain = \",xTraining.shape)\n",
    "print(\"xTest = \",xTest.shape)\n",
    "print(\"yTrain = \",yTraining1.shape)\n",
    "print(\"yTest = \",yTest.shape)"
   ]
  },
  {
   "cell_type": "code",
   "execution_count": null,
   "metadata": {
    "collapsed": true
   },
   "outputs": [],
   "source": [
    "#cor = Correlation(X)\n",
    "#cor = RSquare(X)\n",
    "\n",
    "#cor = Correlation(xTraining)\n",
    "cor = RSquare(xTraining)"
   ]
  },
  {
   "cell_type": "code",
   "execution_count": null,
   "metadata": {
    "collapsed": true
   },
   "outputs": [],
   "source": [
    "#corr = cor.getCorrMatrix()\n",
    "corr = cor.getRMatrix()\n",
    "\n",
    "snpsCount = {}\n",
    "\n",
    "for i in range(5415):\n",
    "    \n",
    "    snpsCount[i] = 0\n",
    "    \n",
    "for i in range(5415):\n",
    "    for j in range(i+1,5415):\n",
    "        \n",
    "        if corr[i,j] - 0.8 >= 1e-12:\n",
    "            snpsCount[i] = snpsCount[i] + 1\n",
    "            snpsCount[j] = snpsCount[j] + 1\n",
    "            \n",
    "            "
   ]
  },
  {
   "cell_type": "markdown",
   "metadata": {},
   "source": [
    "# Correlation high"
   ]
  },
  {
   "cell_type": "code",
   "execution_count": null,
   "metadata": {
    "collapsed": false
   },
   "outputs": [],
   "source": [
    "snpsRed = []\n",
    "count = 0\n",
    "c1 = []\n",
    "for i in snpsCount.keys():\n",
    "    if snpsCount[i]>0:\n",
    "        c1.append(i)\n",
    "        count += 1\n",
    "\n",
    "snpsRed = c1\n",
    "print(\"count = \",count)\n",
    "print(\"len snpsRed = \",len(snpsRed))"
   ]
  },
  {
   "cell_type": "markdown",
   "metadata": {},
   "source": [
    "# Correlation Low"
   ]
  },
  {
   "cell_type": "code",
   "execution_count": null,
   "metadata": {
    "collapsed": false
   },
   "outputs": [],
   "source": [
    "snpsRed = []\n",
    "for i in range(5415):\n",
    "    \n",
    "    if (i not in c1):\n",
    "        snpsRed.append(i)\n",
    "        \n",
    "print(\"len snpsRed = \",len(snpsRed))\n",
    "print(\"count + len(snpsRed) = \", count + len(snpsRed))"
   ]
  },
  {
   "cell_type": "code",
   "execution_count": null,
   "metadata": {
    "collapsed": false
   },
   "outputs": [],
   "source": [
    "XX = createNewTable(snpsRed,X)\n",
    "xTraining1 = createNewTable(snpsRed,xTraining)\n",
    "xTest1 = createNewTable(snpsRed,xTest)"
   ]
  },
  {
   "cell_type": "markdown",
   "metadata": {},
   "source": [
    "# Sepearte cases and Controls"
   ]
  },
  {
   "cell_type": "code",
   "execution_count": null,
   "metadata": {
    "collapsed": false
   },
   "outputs": [],
   "source": [
    "xTraining, xTest, yTraining1, yTest = train_test_split(X, Y, test_size=0.1, random_state=0)\n",
    "print(\"mergex = \",X.shape)\n",
    "print(\"xTrain = \",xTraining.shape)\n",
    "print(\"xTest = \",xTest.shape)\n",
    "print(\"yTrain = \",yTraining1.shape)\n",
    "print(\"yTest = \",yTest.shape)"
   ]
  },
  {
   "cell_type": "code",
   "execution_count": null,
   "metadata": {
    "collapsed": false
   },
   "outputs": [],
   "source": [
    "cases = []\n",
    "controls = []\n",
    "yCo = []\n",
    "yCa = []\n",
    "idsCa = {}\n",
    "idsCos = {}\n",
    "\n",
    "caIds = {}\n",
    "cosIds = {}\n",
    "\n",
    "for i in range(len(yTraining1)):\n",
    "    if yTraining1[i] == 0 :\n",
    "        controls.append(i)\n",
    "        \n",
    "    elif yTraining1[i] == 1:\n",
    "        cases.append(i)\n",
    "        \n",
    "count = 0\n",
    "\n",
    "for i in controls:\n",
    "    idsCos[i] = count\n",
    "    cosIds[count] = i\n",
    "    count += 1\n",
    "    \n",
    "count = 0\n",
    "\n",
    "for i in cases:\n",
    "    idsCa[i] = count\n",
    "    caIds[count] = i\n",
    "    count += 1\n",
    "        \n",
    "control = np.zeros((len(controls),len(xTraining.T)))\n",
    "case = np.zeros((len(cases),len(xTraining.T)))\n",
    "\n",
    "for i in controls:\n",
    "    pos = idsCos[i]\n",
    "    control[pos,:] = xTraining[i,:]\n",
    "   # yCo.append(Y[pos])\n",
    "    \n",
    "for i in cases:\n",
    "    pos = idsCa[i]\n",
    "    case[pos,:] = xTraining[i,:]\n",
    "   # yCa.append(Y[pos])\n",
    "\n",
    "print(\"cases = \",case.shape)\n",
    "print(\"controls = \",control.shape)\n"
   ]
  },
  {
   "cell_type": "code",
   "execution_count": null,
   "metadata": {
    "collapsed": false
   },
   "outputs": [],
   "source": [
    "#r21 = RSquare(control)\n",
    "#r22 = RSquare(case)\n",
    "\n",
    "r21 = Correlation(control)\n",
    "r22 = Correlation(case)\n"
   ]
  },
  {
   "cell_type": "code",
   "execution_count": null,
   "metadata": {
    "collapsed": false
   },
   "outputs": [],
   "source": [
    "#co = r21.getRMatrix()\n",
    "#ca = r22.getRMatrix()\n",
    "\n",
    "co = r21.getCorrMatrix()\n",
    "ca = r22.getCorrMatrix()\n",
    "\n",
    "countCo ={}\n",
    "countCa = {}\n",
    "\n",
    "count1 = 0\n",
    "count2 = 0\n",
    "\n",
    "c1 = []\n",
    "c2 = []\n",
    "\n",
    "for i in range(5415):\n",
    "    countCo[i] = 0\n",
    "    countCa[i] = 0\n",
    "    \n",
    "for i in range(5415):\n",
    "    for j in range(i+1,5415):\n",
    "        \n",
    "        if abs(co[i,j]) - 0.8 >= 1e-12:\n",
    "            countCo[i] = countCo[i] + 1\n",
    "            countCo[j] = countCo[j] + 1\n",
    "            \n",
    "        if abs(ca[i,j]) - 0.8 >= 1e-12:\n",
    "            \n",
    "            countCa[i] = countCa[i] + 1\n",
    "            countCa[j] = countCa[j] + 1\n",
    "    \n",
    "for i in countCo.keys():\n",
    "    if countCo[i]>0:\n",
    "        c1.append(i)\n",
    "        count1 += 1\n",
    "        \n",
    "    if countCa[i]>0:\n",
    "        c2.append(i)\n",
    "        count2 += 1\n",
    "        \n",
    "print(\"count1 = \",count1)\n",
    "print(\"count1 = \",count2)\n",
    "print(\"c1 =\",len(c1))\n",
    "print(\"c2 =\",len(c2))"
   ]
  },
  {
   "cell_type": "markdown",
   "metadata": {},
   "source": [
    "# Case U CONTROL"
   ]
  },
  {
   "cell_type": "code",
   "execution_count": null,
   "metadata": {
    "collapsed": false
   },
   "outputs": [],
   "source": [
    "snpsRed = []\n",
    "\n",
    "c1H = list(set(c1) - set(c2))\n",
    "c2H = list(set(c2) - set(c1))\n",
    "\n",
    "for i in c1H:\n",
    "    snpsRed.append(i)\n",
    "    \n",
    "for i in c2H:\n",
    "    snpsRed.append(i)\n",
    "\n",
    "print(\"c1 =\",len(c1))\n",
    "print(\"c2 =\",len(c2))\n",
    "print(\"c1H =\",len(c1H))\n",
    "print(\"c2H =\",len(c2H))\n",
    "print(\"len snpsRed = \",len(snpsRed))"
   ]
  },
  {
   "cell_type": "markdown",
   "metadata": {},
   "source": [
    "# Case & Control"
   ]
  },
  {
   "cell_type": "code",
   "execution_count": null,
   "metadata": {
    "collapsed": false
   },
   "outputs": [],
   "source": [
    "snpsRed = []\n",
    "count = 0\n",
    "for i in c1:\n",
    "    if i in c2:\n",
    "        count += 1\n",
    "snpsRed = list(set(c1) & set(c2))\n",
    "print(\"c1 =\",len(c1))\n",
    "print(\"c2 =\",len(c2))\n",
    "print(\"len snpsRed = \",len(snpsRed))\n",
    "print(\"count = \",count)"
   ]
  },
  {
   "cell_type": "markdown",
   "metadata": {},
   "source": [
    "# 1 - ((Case U Control) + (Case & Control))"
   ]
  },
  {
   "cell_type": "code",
   "execution_count": null,
   "metadata": {
    "collapsed": false
   },
   "outputs": [],
   "source": [
    "snpsRed = []\n",
    "c1H = []\n",
    "c2H = []\n",
    "c3H = []\n",
    "helpList = []\n",
    "\n",
    "c1H = list(set(c1) - set(c2))\n",
    "c2H = list(set(c2) - set(c1))\n",
    "c3H = list(set(c1) & set(c2))\n",
    "\n",
    "for i in c1H:\n",
    "    helpList.append(i)\n",
    "    \n",
    "for i in c2H:\n",
    "    helpList.append(i)\n",
    "    \n",
    "for i in c3H:\n",
    "    helpList.append(i)\n",
    "\n",
    "for i in range(5415):\n",
    "    \n",
    "    if i not in helpList:\n",
    "        snpsRed.append(i)\n",
    "        \n",
    "print(\"c1H =\",len(c1H))\n",
    "print(\"c2H =\",len(c2H))\n",
    "print(\"c3H =\",len(c3H))\n",
    "print(\"c1 =\",len(c1))\n",
    "print(\"c2 =\",len(c2))\n",
    "print(\"helpList =\",len(helpList)) \n",
    "print(\"len snpsRed = \",len(snpsRed))\n",
    "print(\"5415 - len(helpList) = \", 5415 - len(helpList))"
   ]
  },
  {
   "cell_type": "markdown",
   "metadata": {},
   "source": [
    "# 1 - (Case & Control)"
   ]
  },
  {
   "cell_type": "code",
   "execution_count": null,
   "metadata": {
    "collapsed": false
   },
   "outputs": [],
   "source": [
    "snpsRed = []\n",
    "count = 0\n",
    "for i in c1:\n",
    "    if i in c2:\n",
    "        count += 1\n",
    "cHelp = list(set(c1) & set(c2))\n",
    "\n",
    "for i in range(5415):\n",
    "    if i not in cHelp:\n",
    "        snpsRed.append(i)\n",
    "\n",
    "print(\"c1 =\",len(c1))\n",
    "print(\"c2 =\",len(c2))\n",
    "print(\"len cHelp = \",len(cHelp))\n",
    "print(\"count = \",count)\n",
    "print(\"len snpsRed = \",len(snpsRed))"
   ]
  },
  {
   "cell_type": "code",
   "execution_count": null,
   "metadata": {
    "collapsed": false
   },
   "outputs": [],
   "source": [
    "XX = createNewTable(snpsRed,X)\n",
    "xTraining1 = createNewTable(snpsRed,xTraining)\n",
    "xTest1 = createNewTable(snpsRed,xTest)"
   ]
  },
  {
   "cell_type": "code",
   "execution_count": null,
   "metadata": {
    "collapsed": true
   },
   "outputs": [],
   "source": []
  },
  {
   "cell_type": "code",
   "execution_count": null,
   "metadata": {
    "collapsed": false
   },
   "outputs": [],
   "source": [
    "lr_clf = linear_model.LogisticRegression()  \n",
    "lr_clf.fit(mergeXtable, mergeYtable)\n",
    "xTraining = lr_clf.fit_transform(X,Y)\n",
    "\n"
   ]
  },
  {
   "cell_type": "code",
   "execution_count": null,
   "metadata": {
    "collapsed": false
   },
   "outputs": [],
   "source": [
    "Xt = xNew = calculateJaccardSim(X)"
   ]
  },
  {
   "cell_type": "code",
   "execution_count": null,
   "metadata": {
    "collapsed": false
   },
   "outputs": [],
   "source": [
    "count = {}\n",
    "sn = {}\n",
    "s = []\n",
    "for i in range(5415):\n",
    "    count[i] = 0\n",
    "    sn[i] = []\n",
    "for i in range(5415):\n",
    "    for j in range(i+1, 5415):\n",
    "        if Xt[i,j] - 0.3 >= 1e-10 and Xt[i,j] - 0.6 <= 1e-10 :\n",
    "            count[i] = count[i] + 1\n",
    "            count[j] = count[j] + 1\n",
    "            sn[i].append(j)\n",
    "\n",
    "\n",
    "    \n",
    "c = 0\n",
    "for i in sn.keys():\n",
    "    \n",
    "    c = c + len((sn[i]))\n",
    "              \n",
    "print(\"c = \",c)\n",
    "\n",
    "for i in range(len(X.T)):\n",
    "    for j in range(i+1,len(X.T)):\n",
    "         sn[j] = list(set(sn[j]) - set(sn[i]))\n",
    "            \n",
    "    l = []\n",
    "    l.append(j)\n",
    "    sn[i] = list(set(sn[i]) - set(l))      \n",
    "            \n",
    "'''c = 0\n",
    "for i in count.keys():\n",
    "    if count[i] >= 25 * 5415 /100:\n",
    "        c +=1\n",
    "   # if len(sn[i]) > 0:\n",
    "    #    print(\"i = \",i)\n",
    "    #    print(sn[i])\n",
    "    #    print()\n",
    "        \n",
    "print(\"c = \",c)'''"
   ]
  },
  {
   "cell_type": "code",
   "execution_count": null,
   "metadata": {
    "collapsed": false
   },
   "outputs": [],
   "source": [
    "snpsReduced = reduceFeatures(X,0.3,0.6,c = 10,method = 'Cosine_Similarity')"
   ]
  },
  {
   "cell_type": "code",
   "execution_count": null,
   "metadata": {
    "collapsed": false
   },
   "outputs": [],
   "source": [
    "XX = createNewTable(snpsRed,X)"
   ]
  },
  {
   "cell_type": "code",
   "execution_count": null,
   "metadata": {
    "collapsed": false
   },
   "outputs": [],
   "source": [
    "snps1 = snpsReduced['snpsOutArea']\n",
    "snps2 = snpsReduced['snpsRandom']\n",
    "snps3 = snpsReduced['snpsInArea']\n",
    "\n",
    "count = 0\n",
    "for i in snps2:\n",
    "    if i in snps1:\n",
    "        count += 1\n",
    "        \n",
    "print(\"random - outArea = \",count)\n",
    "\n",
    "count = 0\n",
    "for i in snps2:\n",
    "    if i in snps3:\n",
    "        count += 1\n",
    "        \n",
    "print(\"random - inArea = \",count)\n",
    "\n",
    "count = 0\n",
    "for i in snps1:\n",
    "    if i in snps3:\n",
    "        count += 1\n",
    "        \n",
    "print(\"outArea - inArea = \",count)"
   ]
  },
  {
   "cell_type": "code",
   "execution_count": null,
   "metadata": {
    "collapsed": false
   },
   "outputs": [],
   "source": [
    "from sklearn.feature_selection import VarianceThreshold\n",
    "\n",
    "sel = VarianceThreshold(threshold=(.4 * (1 - .9)))\n",
    "xTraining = sel.fit_transform(X)\n"
   ]
  },
  {
   "cell_type": "code",
   "execution_count": null,
   "metadata": {
    "collapsed": false
   },
   "outputs": [],
   "source": [
    "from sklearn.feature_selection import SelectKBest\n",
    "from sklearn.feature_selection import chi2\n",
    "\n",
    "xTraining = SelectKBest(chi2, k=2500).fit_transform(X, Y)\n"
   ]
  },
  {
   "cell_type": "code",
   "execution_count": null,
   "metadata": {
    "collapsed": false
   },
   "outputs": [],
   "source": []
  },
  {
   "cell_type": "code",
   "execution_count": null,
   "metadata": {
    "collapsed": false,
    "scrolled": true
   },
   "outputs": [],
   "source": [
    "rfr = RandomForestRegressor(n_estimators = 100, random_state = 2016, verbose = 10,max_depth = None,n_jobs=1)\n",
    "rfr.fit(X, Y)\n",
    "xTraining = rfr.transform(X)\n",
    "print(xTraining.shape)"
   ]
  },
  {
   "cell_type": "code",
   "execution_count": null,
   "metadata": {
    "collapsed": true
   },
   "outputs": [],
   "source": []
  },
  {
   "cell_type": "code",
   "execution_count": null,
   "metadata": {
    "collapsed": false
   },
   "outputs": [],
   "source": [
    "'''enc = OneHotEncoder(n_values =3)\n",
    "#enc.fit(xTraining) \n",
    "enc.fit(XX) \n",
    "#XX = enc.fit_transform(xTraining)\n",
    "XX = enc.fit_transform(XX)\n",
    "print(XX.toarray())\n",
    "XX = XX.toarray()'''\n"
   ]
  },
  {
   "cell_type": "code",
   "execution_count": null,
   "metadata": {
    "collapsed": false
   },
   "outputs": [],
   "source": [
    "'''xTraining1, xTest1, yTraining1, yTest = train_test_split(XX, Y, test_size=0.1, random_state=0)\n",
    "print(\"mergex = \",XX.shape)\n",
    "print(\"xTrain = \",xTraining1.shape)\n",
    "print(\"xTest = \",xTest1.shape)\n",
    "print(\"yTrain = \",yTraining1.shape)\n",
    "print(\"yTest = \",yTest.shape)'''"
   ]
  },
  {
   "cell_type": "markdown",
   "metadata": {},
   "source": [
    "# # RF"
   ]
  },
  {
   "cell_type": "code",
   "execution_count": null,
   "metadata": {
    "collapsed": false
   },
   "outputs": [],
   "source": [
    "rfr = RandomForestRegressor(n_estimators = 100, random_state = 2017, verbose = 10,\n",
    "                            max_depth = None,n_jobs=-1)\n",
    "rfr.fit(xTraining1, yTraining1)\n",
    "yPredict3 = rfr.predict(xTest1)\n",
    "\n",
    "count = 0\n",
    "for i in range(len(yPredict3)):\n",
    "    count += yPredict3[i]\n",
    "\n",
    "mo3 = count / len(yPredict3)\n",
    "\n",
    "for i in range(len(yPredict3)):\n",
    "    #if yPredict3[i] < mo3:\n",
    "    if (abs(0 - yPredict3[i]) - abs(1- yPredict3[i])) < 1e-10 :\n",
    "        yPredict3[i] = 0\n",
    "    else:\n",
    "        yPredict3[i] = 1\n",
    "        \n",
    "print(metrics.accuracy_score(yTest,yPredict3))\n",
    "print(metrics.confusion_matrix(yTest,yPredict3))\n",
    "error3 = mean_squared_error(yTest, yPredict3)\n",
    "print(\"error 3 = \",error3)\n",
    "RMSE3 = mean_squared_error(yTest,yPredict3)**0.5\n",
    "print(\"RMSE3 = \",RMSE3)\n",
    "\n",
    "#print(\"cros validation = \",crossValidiation(mergeXtable, mergeYtable, k = 10, classifier = rfr))\n",
    "fpr, tpr, thresholds = metrics.roc_curve(yTest,yPredict3)\n",
    "print(\"AUC = \", metrics.auc(fpr,tpr))\n",
    "print(\"recal = \",metrics.recall_score(yTest,yPredict3))\n",
    "print(\"precision = \",metrics.precision_score(yTest,yPredict3))\n",
    "print(\"f1Score = \",f1_score(yTest, yPredict3, average='binary'))\n",
    "print()\n",
    "results = crossValidiation(XX,Y, k = 10, classifier = rfr)\n",
    "print(\"accuracy = \",results['accuracy'])\n",
    "print(\"AUC = \", results['auc'])\n",
    "print(\"recal = \",results['recall'])\n",
    "print(\"precision = \",results['precision'])\n",
    "print(\"f1 = \",results['f1'])"
   ]
  },
  {
   "cell_type": "code",
   "execution_count": null,
   "metadata": {
    "collapsed": false
   },
   "outputs": [],
   "source": []
  },
  {
   "cell_type": "markdown",
   "metadata": {},
   "source": [
    "# SVM"
   ]
  },
  {
   "cell_type": "code",
   "execution_count": null,
   "metadata": {
    "collapsed": false,
    "scrolled": true
   },
   "outputs": [],
   "source": [
    "'''\n",
    "#SVC(C=1.0, cache_size=200, class_weight=None, coef0=0.0, degree=3, gamma=0.0,\n",
    " # kernel='rbf', max_iter=-1, probability=False, shrinking=True, tol=0.001,\n",
    " # verbose=False)\n",
    "\n",
    "\n",
    "clf = SVC()\n",
    "clf.fit(xTraining1, yTraining1)\n",
    "yPredict2 = clf.predict(xTest1)\n",
    "print(metrics.accuracy_score(yTest,yPredict2))\n",
    "print(metrics.confusion_matrix(yTest,yPredict2))\n",
    "error2 = mean_squared_error(yTest, yPredict2)\n",
    "print(\"error 2 = \",error2)\n",
    "RMSE2 = mean_squared_error(yTest,yPredict2)**0.5\n",
    "print(\"RMSE2 = \",RMSE2)\n",
    "\n",
    "#print(\"cros validation = \",crossValidiation(mergeXtable, mergeYtable, k = 10, classifier = clf))\n",
    "fpr, tpr, thresholds = metrics.roc_curve(yTest,yPredict2)\n",
    "print(\"AUC = \", metrics.auc(fpr,tpr))\n",
    "print(\"recal = \",metrics.recall_score(yTest,yPredict2))\n",
    "print(\"precision = \",metrics.precision_score(yTest,yPredict2))\n",
    "print(\"f1Score = \",f1_score(yTest, yPredict2, average='binary'))\n",
    "print()\n",
    "\n",
    "results = crossValidiation(XX, Y, k = 10, classifier = clf,continious = False)\n",
    "#results = crossValidiation1(mergeXtable, mergeYtable, k = 10, classifier = 'svm',area = 'snpsOutArea',continious = False)\n",
    "print(\"accuracy = \",results['accuracy'])\n",
    "print(\"AUC = \", results['auc'])\n",
    "print(\"recal = \",results['recall'])\n",
    "print(\"precision = \",results['precision'])\n",
    "print(\"f1 = \",results['f1'])'''"
   ]
  },
  {
   "cell_type": "code",
   "execution_count": null,
   "metadata": {
    "collapsed": false
   },
   "outputs": [],
   "source": [
    "'''clf = SVC(kernel ='poly')\n",
    "clf.fit(xTraining1, yTraining1)\n",
    "yPredict2 = clf.predict(xTest1)\n",
    "print(metrics.accuracy_score(yTest,yPredict2))\n",
    "print(metrics.confusion_matrix(yTest,yPredict2))\n",
    "error2 = mean_squared_error(yTest, yPredict2)\n",
    "print(\"error 2 = \",error2)\n",
    "RMSE2 = mean_squared_error(yTest,yPredict2)**0.5\n",
    "print(\"RMSE2 = \",RMSE2)\n",
    "\n",
    "#print(\"cros validation = \",crossValidiation(mergeXtable, mergeYtable, k = 10, classifier = clf))\n",
    "fpr, tpr, thresholds = metrics.roc_curve(yTest,yPredict2)\n",
    "print(\"AUC = \", metrics.auc(fpr,tpr))\n",
    "print(\"recal = \",metrics.recall_score(yTest,yPredict2))\n",
    "print(\"precision = \",metrics.precision_score(yTest,yPredict2))\n",
    "print(\"f1Score = \",f1_score(yTest, yPredict2, average='binary'))\n",
    "print()\n",
    "\n",
    "results = crossValidiation(XX, Y, k = 10, classifier = clf,continious = False)\n",
    "#results = crossValidiation1(mergeXtable, mergeYtable, k = 10, classifier = 'svm',area = 'snpsOutArea',continious = False)\n",
    "print(\"accuracy = \",results['accuracy'])\n",
    "print(\"AUC = \", results['auc'])\n",
    "print(\"recal = \",results['recall'])\n",
    "print(\"precision = \",results['precision'])\n",
    "print(\"f1 = \",results['f1'])'''"
   ]
  },
  {
   "cell_type": "markdown",
   "metadata": {},
   "source": [
    "# SVM KERNEL"
   ]
  },
  {
   "cell_type": "code",
   "execution_count": null,
   "metadata": {
    "collapsed": false
   },
   "outputs": [],
   "source": [
    "\n",
    "clf = SVC(kernel='linear')\n",
    "clf.fit(xTraining1, yTraining1)\n",
    "yPredict2 = clf.predict(xTest1)\n",
    "print(metrics.accuracy_score(yTest,yPredict2))\n",
    "print(metrics.confusion_matrix(yTest,yPredict2))\n",
    "error2 = mean_squared_error(yTest, yPredict2)\n",
    "print(\"error 2 = \",error2)\n",
    "RMSE2 = mean_squared_error(yTest,yPredict2)**0.5\n",
    "print(\"RMSE2 = \",RMSE2)\n",
    "\n",
    "\n",
    "fpr, tpr, thresholds = metrics.roc_curve(yTest,yPredict2)\n",
    "print(\"AUC = \", metrics.auc(fpr,tpr))\n",
    "print(\"recal = \",metrics.recall_score(yTest,yPredict2))\n",
    "print(\"precision = \",metrics.precision_score(yTest,yPredict2))\n",
    "print(\"f1Score = \",f1_score(yTest, yPredict2, average='binary'))\n",
    "print()\n",
    "\n",
    "results = crossValidiation(XX, Y, k = 10, classifier = clf, continious = False)\n",
    "print(\"accuracy = \",results['accuracy'])\n",
    "print(\"AUC = \", results['auc'])\n",
    "print(\"recal = \",results['recall'])\n",
    "print(\"precision = \",results['precision'])\n",
    "print(\"f1 = \",results['f1'])"
   ]
  },
  {
   "cell_type": "code",
   "execution_count": null,
   "metadata": {
    "collapsed": false
   },
   "outputs": [],
   "source": [
    "#re = cross_val_score(clf, XX, Y, cv=10)\n",
    "#print(sum(re)/10)"
   ]
  },
  {
   "cell_type": "markdown",
   "metadata": {},
   "source": [
    "# LINEAR LOGISTIC REGRESSION "
   ]
  },
  {
   "cell_type": "code",
   "execution_count": null,
   "metadata": {
    "collapsed": false
   },
   "outputs": [],
   "source": [
    "lr_clf = linear_model.LogisticRegression()  \n",
    "lr_clf.fit(xTraining1, yTraining1)\n",
    "yPredict4 = lr_clf.predict(xTest1)\n",
    "\n",
    "print(metrics.accuracy_score(yTest,yPredict4))\n",
    "print(metrics.confusion_matrix(yTest,yPredict4))\n",
    "error4 = mean_squared_error(yTest, yPredict4)\n",
    "print(\"error 4 = \",error4)\n",
    "RMSE4 = mean_squared_error(yTest,yPredict4)**0.5\n",
    "print(\"RMSE4 = \",RMSE4)\n",
    "\n",
    "\n",
    "fpr, tpr, thresholds = metrics.roc_curve(yTest,yPredict4)\n",
    "print(\"AUC = \", metrics.auc(fpr,tpr))\n",
    "print(\"recal = \",metrics.recall_score(yTest,yPredict4))\n",
    "print(\"precision = \",metrics.precision_score(yTest,yPredict4))\n",
    "print(\"f1Score = \",f1_score(yTest, yPredict4, average='binary'))\n",
    "print()\n",
    "\n",
    "results = crossValidiation(XX, Y, k = 10, classifier = lr_clf, continious = False)\n",
    "#results = crossValidiation1(mergeXtable, mergeYtable, k = 10, classifier = 'llr',area = 'snpsOutArea',continious = False)\n",
    "print(\"accuracy = \",results['accuracy'])\n",
    "print(\"AUC = \", results['auc'])\n",
    "print(\"recal = \",results['recall'])\n",
    "print(\"precision = \",results['precision'])\n",
    "print(\"f1 = \",results['f1'])"
   ]
  },
  {
   "cell_type": "code",
   "execution_count": null,
   "metadata": {
    "collapsed": false
   },
   "outputs": [],
   "source": [
    "#re = cross_val_score(lr_clf, XX, Y, cv=10)\n",
    "#print(sum(re)/10)"
   ]
  },
  {
   "cell_type": "markdown",
   "metadata": {},
   "source": [
    "# Linear Perceptron"
   ]
  },
  {
   "cell_type": "code",
   "execution_count": null,
   "metadata": {
    "collapsed": false
   },
   "outputs": [],
   "source": [
    "perceptron = linear_model.Perceptron(penalty='l1', alpha=0.00000001, fit_intercept=True,\n",
    "              n_iter=100, shuffle=True, verbose=2016, eta0=0.00000001, n_jobs=-1, random_state=2016, warm_start=True)\n",
    "\n",
    "perceptron.fit(xTraining1, yTraining1)\n",
    "yPredict4 = perceptron.predict(xTest1)\n",
    "\n",
    "print(metrics.accuracy_score(yTest,yPredict4))\n",
    "print(metrics.confusion_matrix(yTest,yPredict4))\n",
    "error4 = mean_squared_error(yTest, yPredict4)\n",
    "print(\"error 4 = \",error4)\n",
    "RMSE4 = mean_squared_error(yTest,yPredict4)**0.5\n",
    "print(\"RMSE4 = \",RMSE4)\n",
    "\n",
    "fpr, tpr, thresholds = metrics.roc_curve(yTest,yPredict4)\n",
    "print(\"AUC = \", metrics.auc(fpr,tpr))\n",
    "print(\"recal = \",metrics.recall_score(yTest,yPredict4))\n",
    "print(\"precision = \",metrics.precision_score(yTest,yPredict4))\n",
    "print(\"f1Score = \",f1_score(yTest, yPredict4, average='binary'))\n",
    "print()\n",
    "\n",
    "results = crossValidiation(XX, Y, k = 10, classifier = perceptron, continious = False)\n",
    "\n",
    "print(\"accuracy = \",results['accuracy'])\n",
    "print(\"AUC = \", results['auc'])\n",
    "print(\"recal = \",results['recall'])\n",
    "print(\"precision = \",results['precision'])\n",
    "print(\"f1 = \",results['f1'])"
   ]
  },
  {
   "cell_type": "code",
   "execution_count": null,
   "metadata": {
    "collapsed": false
   },
   "outputs": [],
   "source": [
    "#re = cross_val_score(perceptron, XX, Y, cv=10)\n",
    "#print(sum(re)/10)"
   ]
  },
  {
   "cell_type": "code",
   "execution_count": null,
   "metadata": {
    "collapsed": false,
    "scrolled": true
   },
   "outputs": [],
   "source": [
    "from sklearn.naive_bayes import GaussianNB\n",
    "gnb = GaussianNB()\n",
    "gnb.fit(xTraining1, yTraining1)\n",
    "yPredict6 = gnb.predict(xTest1)\n",
    "print(metrics.accuracy_score(yTest,yPredict6))\n",
    "print(metrics.confusion_matrix(yTest,yPredict6))\n",
    "error6 = mean_squared_error(yTest, yPredict6)\n",
    "print(\"error 6 = \",error6)\n",
    "RMSE6 = mean_squared_error(yTest,yPredict6)**0.5\n",
    "print(\"RMSE6 = \",RMSE6)\n",
    "\n",
    "fpr, tpr, thresholds = metrics.roc_curve(yTest,yPredict6)\n",
    "print(\"AUC = \", metrics.auc(fpr,tpr))\n",
    "print(\"recal = \",metrics.recall_score(yTest,yPredict6))\n",
    "print(\"precision = \",metrics.precision_score(yTest,yPredict6))\n",
    "print(\"f1Score = \",f1_score(yTest, yPredict6, average='binary'))\n",
    "print()\n",
    "\n",
    "results = crossValidiation(XX, Y, k = 10,classifier = gnb, continious = False)\n",
    "#results = crossValidiation1(mergeXtable, mergeYtable, k = 10, classifier = 'gnb',area = 'snpsOutArea',continious = False)\n",
    "print(\"accuracy = \",results['accuracy'])\n",
    "print(\"AUC = \", results['auc'])\n",
    "print(\"recal = \",results['recall'])\n",
    "print(\"precision = \",results['precision'])\n",
    "print(\"f1 = \",results['f1'])"
   ]
  },
  {
   "cell_type": "code",
   "execution_count": null,
   "metadata": {
    "collapsed": false
   },
   "outputs": [],
   "source": [
    "#re = cross_val_score(gnb, XX, Y, cv=10)\n",
    "#print(sum(re)/10)"
   ]
  },
  {
   "cell_type": "markdown",
   "metadata": {
    "collapsed": true
   },
   "source": [
    "# Decision Tree"
   ]
  },
  {
   "cell_type": "code",
   "execution_count": null,
   "metadata": {
    "collapsed": false,
    "scrolled": true
   },
   "outputs": [],
   "source": [
    "'''\n",
    "dt = tree.DecisionTreeClassifier()\n",
    "dt = dt.fit(xTraining1, yTraining1)\n",
    "\n",
    "yPredict7 = dt.predict(xTest1)\n",
    "print(metrics.accuracy_score(yTest,yPredict7))\n",
    "print(metrics.confusion_matrix(yTest,yPredict7))\n",
    "error6 = mean_squared_error(yTest, yPredict7)\n",
    "print(\"error 6 = \",error6)\n",
    "RMSE6 = mean_squared_error(yTest,yPredict7)**0.5\n",
    "print(\"RMSE6 = \",RMSE6)\n",
    "\n",
    "results = crossValidiation(XX,Y, k = 10, classifier = dt, continious = False)\n",
    "#results = crossValidiation1(mergeXtable, mergeYtable, k = 10, classifier = 'dt',area = 'snpsOutArea',continious = False)\n",
    "print(\"accuracy = \",results['accuracy'])\n",
    "print(\"AUC = \", results['auc'])\n",
    "print(\"recal = \",results['recall'])\n",
    "print(\"precision = \",results['precision'])\n",
    "print(\"f1 = \",results['f1'])'''"
   ]
  },
  {
   "cell_type": "code",
   "execution_count": null,
   "metadata": {
    "collapsed": true
   },
   "outputs": [],
   "source": []
  },
  {
   "cell_type": "code",
   "execution_count": null,
   "metadata": {
    "collapsed": true
   },
   "outputs": [],
   "source": []
  },
  {
   "cell_type": "code",
   "execution_count": null,
   "metadata": {
    "collapsed": true
   },
   "outputs": [],
   "source": []
  }
 ],
 "metadata": {
  "anaconda-cloud": {},
  "kernelspec": {
   "display_name": "Python [default]",
   "language": "python",
   "name": "python3"
  },
  "language_info": {
   "codemirror_mode": {
    "name": "ipython",
    "version": 3
   },
   "file_extension": ".py",
   "mimetype": "text/x-python",
   "name": "python",
   "nbconvert_exporter": "python",
   "pygments_lexer": "ipython3",
   "version": "3.5.2"
  }
 },
 "nbformat": 4,
 "nbformat_minor": 0
}
