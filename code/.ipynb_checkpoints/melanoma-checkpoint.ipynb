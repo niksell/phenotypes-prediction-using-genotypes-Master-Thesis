{
 "cells": [
  {
   "cell_type": "code",
   "execution_count": 1,
   "metadata": {
    "collapsed": false
   },
   "outputs": [
    {
     "name": "stderr",
     "output_type": "stream",
     "text": [
      "C:\\Users\\ANTONIS\\Anaconda3\\lib\\site-packages\\sklearn\\cross_validation.py:44: DeprecationWarning: This module was deprecated in version 0.18 in favor of the model_selection module into which all the refactored classes and functions are moved. Also note that the interface of the new CV iterators are different from that of this module. This module will be removed in 0.20.\n",
      "  \"This module will be removed in 0.20.\", DeprecationWarning)\n",
      "C:\\Users\\ANTONIS\\Anaconda3\\lib\\site-packages\\sklearn\\grid_search.py:43: DeprecationWarning: This module was deprecated in version 0.18 in favor of the model_selection module into which all the refactored classes and functions are moved. This module will be removed in 0.20.\n",
      "  DeprecationWarning)\n"
     ]
    }
   ],
   "source": [
    "from sklearn import linear_model\n",
    "from sklearn.model_selection import cross_val_score\n",
    "from sklearn.metrics import mean_squared_error\n",
    "import matplotlib.pyplot as plt\n",
    "import numpy as np\n",
    "import os.path\n",
    "import csv\n",
    "from sklearn.svm import SVC\n",
    "from sklearn.tree import DecisionTreeRegressor\n",
    "from sklearn.ensemble import RandomForestRegressor\n",
    "from sklearn.ensemble import RandomForestClassifier\n",
    "from sklearn import grid_search\n",
    "import sklearn.linear_model as linear_model\n",
    "import sklearn.metrics as metrics\n",
    "from sklearn import preprocessing\n",
    "import statsmodels.api as sm\n",
    "import statsmodels.formula.api as smf\n",
    "from sklearn.model_selection import GridSearchCV\n",
    "from sklearn.metrics import mean_squared_error, make_scorer\n",
    "\n",
    "\n",
    "\n",
    "class PatientPhenotype:\n",
    "    \n",
    "    def __init__(self, eid, case, sex, yearBirth):\n",
    "        \n",
    "        self.eid = eid.strip()\n",
    "        self.case = int (case.strip())\n",
    "        self.sex = sex.strip()\n",
    "        self.yearBirth = yearBirth.strip()\n",
    "        self.snps = {}\n",
    "        \n",
    "    def getEid(self):\n",
    "        return self.eid\n",
    "     \n",
    "    def getCase(self):\n",
    "        return self.case\n",
    "    \n",
    "    def getSex(self):\n",
    "        return self.sex\n",
    "    \n",
    "    def getYearBirth(self):\n",
    "        return self.yearBirth\n",
    "        \n",
    "    def addSnps(self, snpId, allele1,allele2):\n",
    "        self.snps[snpId] = Snp(snpId,allele1,allele2)\n",
    "        \n",
    "    def snpCode(self,chromosomes = {}, snp = '', code = -1):\n",
    "    \n",
    "        if len(chromosomes.keys()) > 0:\n",
    "    \n",
    "             for i in range(len(chromosomes.keys())):\n",
    "    \n",
    "                chro = 'chr'+str(i+1)\n",
    "            \n",
    "                for snp in chromosomes[chro].keys():\n",
    "                \n",
    "                    allele1 = chromosomes[chro][snp][0].strip()\n",
    "                    allele2 = chromosomes[chro][snp][1].strip()\n",
    "    \n",
    "                    self.snps[snp.strip()].setSnpCode(allele1,allele2)\n",
    "        else:\n",
    "            \n",
    "            self.snps[snp.strip()].setCode(code)\n",
    "            \n",
    "    def getSnpCode(self,snpId):\n",
    "        return self.snps[snpId].getSnpCode()\n",
    "    \n",
    "    def getAllele1(self,snpId):\n",
    "        return self.snps[snpId].getAllele1()\n",
    "    \n",
    "    def getAllele2(self,snpId):\n",
    "        return self.snps[snpId].getAllele2()\n",
    "        \n",
    "    def getSize(self):\n",
    "        return len(self.snps)\n",
    "        \n",
    "        \n",
    "class Snp:\n",
    "    \n",
    "    def __init__(self,snpId,allele1,allele2):\n",
    "        \n",
    "        self.snpId = snpId\n",
    "        self.allele1 = allele1\n",
    "        self.allele2 = allele2\n",
    "        self.snpCode = -1\n",
    "        \n",
    "    def getId(self):\n",
    "        \n",
    "        return self.snpId\n",
    "        \n",
    "    def getAllele1(self):\n",
    "        \n",
    "        return self.allele1\n",
    "        \n",
    "    def getAllele2(self):\n",
    "        \n",
    "        return self.allele2\n",
    "        \n",
    "    def setSnpCode(self,allele1,allele2):\n",
    "      \n",
    "        if self.allele1.strip() == allele1.strip() and self.allele2.strip() == allele1.strip():\n",
    "            code = 2\n",
    "           \n",
    "        elif self.allele1.strip() == allele1.strip() and self.allele2.strip() != allele1.strip():\n",
    "            code = 1\n",
    "           \n",
    "        elif self.allele1.strip() != allele1.strip() and self.allele2.strip() == allele1.strip():\n",
    "            code = 1\n",
    "            \n",
    "        elif self.allele1.strip() != allele1.strip() and self.allele2.strip() != allele1.strip():\n",
    "            code = 0\n",
    "            \n",
    "        self.snpCode = code\n",
    "        \n",
    "    def setCode(self,aCode):\n",
    "        \n",
    "        self.snpCode = aCode\n",
    "        \n",
    "    def getSnpCode(self):\n",
    "        \n",
    "        return self.snpCode\n",
    "    \n",
    "class Read:\n",
    "    def __init__(self,path,numberOfChromosomes):\n",
    "        \n",
    "        self.chromosomes = {}\n",
    "        self.numberOfSnps = 0\n",
    "        self.path = path\n",
    "        self.numberOfChromosomes = numberOfChromosomes\n",
    "        \n",
    "    def readPatients(self,kind):\n",
    "        patients = {}\n",
    "        f = open(self.path + kind,'r')\n",
    "        f.readline()\n",
    "\n",
    "        for line in f:\n",
    "            patients[line.split()[0].strip()] = PatientPhenotype(line.split()[0],line.split()[3],line.split()[1],line.split()[2])\n",
    "        \n",
    "        f.close()\n",
    "        \n",
    "        return patients\n",
    "    \n",
    "    def readSnps(self,fileKind):\n",
    "        \n",
    "        for i in range(self.numberOfChromosomes):\n",
    "    \n",
    "            chro = 'chr'+str(i+1)\n",
    "            path = self.path + chro + fileKind\n",
    "            f = open(path,'r')\n",
    "            f.readline()\n",
    "    \n",
    "            self.chromosomes[chro] = self.__readSnpsOfChromosome(f)\n",
    "        \n",
    "            f.close()\n",
    "        \n",
    "        return self.chromosomes\n",
    "    \n",
    "    def __readSnpsOfChromosome(self,file):\n",
    "        \n",
    "        snps = {} \n",
    "       \n",
    "        for line in file:\n",
    "            \n",
    "            alleles = []\n",
    "            alleles.append(line.split()[3].strip())\n",
    "            alleles.append(line.split()[6].strip())\n",
    "            \n",
    "            if line.split()[1].strip() != '.':\n",
    "                snps[line.split()[1].strip()] = alleles\n",
    "                self.numberOfSnps += 1\n",
    "                \n",
    "        return snps\n",
    "        \n",
    "    def readLgen(self,patients,kind = ''):\n",
    "        \n",
    "        \n",
    "        for i in range(self.numberOfChromosomes):\n",
    "            \n",
    "            chro = 'chr'+str(i+1)\n",
    "            path = self.path + chro + kind +'.lgen'\n",
    "    \n",
    "            if os.path.exists(path):\n",
    "                \n",
    "                f = open(path,'r')\n",
    "              \n",
    "                for line in f:\n",
    "                    \n",
    "                    if line.split()[0].strip() in patients.keys():\n",
    "                        \n",
    "                        patients[line.split()[0].strip()].addSnps(line.split()[2].strip(),line.split()[3].strip(),\n",
    "                                                                                              line.split()[4].strip())\n",
    "                f.close()\n",
    "       \n",
    "        return patients\n",
    "    \n",
    "    def getListOfSnps(self):\n",
    "        snps = []\n",
    "        for i in range(self.numberOfChromosomes):\n",
    "            chro = 'chr'+str(i+1)\n",
    "            for snp in self.chromosomes[chro].keys():\n",
    "                snps.append(snp)\n",
    "        \n",
    "        return snps\n",
    "        \n",
    "    def getNumberOfSnps(self):\n",
    "        \n",
    "        return self.numberOfSnps\n",
    "    \n",
    "    def readIds(self,kind):\n",
    "        \n",
    "        ids = {}\n",
    "        \n",
    "       # ids['patients'] = self.__readPatientsId(kind)\n",
    "        #ids['snps'] = self.__readSnpsId()\n",
    "        \n",
    "        return ids\n",
    "    \n",
    "    def __readPatientsId(self,kind):\n",
    "        \n",
    "        ids = {}\n",
    "        idToName = {}\n",
    "        nameToId = {}\n",
    "        \n",
    "        read = open(self.path + kind + 'Ids.txt','r')    \n",
    "        read.readline()\n",
    "        \n",
    "        for line in read:\n",
    "            \n",
    "            name = line.split('\\t')[0].strip()\n",
    "            idi = int (line.split('\\t')[1].strip())\n",
    "            \n",
    "            nameToId[name] = idi\n",
    "            idToName[idi] = name\n",
    "            \n",
    "        ids['nameToId'] = nameToId\n",
    "        ids['idToName'] = idToName\n",
    "        \n",
    "        read.close()\n",
    "                      \n",
    "        return ids  \n",
    "    \n",
    "    \n",
    "    def __readSnpsId(self):\n",
    "        \n",
    "        ids = {}\n",
    "        idToName = {}\n",
    "        nameToId = {}\n",
    "        \n",
    "        read = open(self.path + 'SnpsIds.txt','r')    \n",
    "        read.readline()\n",
    "        \n",
    "        for line in read:\n",
    "            \n",
    "            name = line.split('\\t')[0].strip()\n",
    "            idi = int (line.split('\\t')[1].strip())\n",
    "            \n",
    "            nameToId[name] = idi\n",
    "            idToName[idi] = name \n",
    "                      \n",
    "        ids['nameToId'] = nameToId\n",
    "        ids['idToName'] = idToName\n",
    "\n",
    "        read.close()\n",
    "                      \n",
    "        return ids  \n",
    "    \n",
    "    def readSnpsCode(self,patients,kind = ''):\n",
    "        \n",
    "        read = open(self.path + kind + 'SnpCode.txt','r')\n",
    "        read.readline()\n",
    "        read.readline()\n",
    "       \n",
    "        for line in read:   \n",
    "        \n",
    "            patient = line.split('\\t')[0].strip()\n",
    "            snp = line.split('\\t')[1].strip()\n",
    "            code = int (line.split('\\t')[2].strip())\n",
    "            allele1 = line.split('\\t')[3].strip()\n",
    "            allele2 = line.split('\\t')[4].strip()\n",
    "            if patient in patients.keys() and snp != '.':\n",
    "                patients[patient].addSnps(snp,allele1,allele2)\n",
    "                patients[patient].snpCode(snp = snp,code = code)\n",
    "         \n",
    "        read.close()\n",
    "            \n",
    "        return patients\n",
    "            \n",
    "        \n",
    "    \n",
    "class Write:\n",
    "    \n",
    "    def __init__(self,path,numberOfChromosomes):\n",
    "        \n",
    "        self.path = path\n",
    "        self.numberOfChromosomes = numberOfChromosomes\n",
    "        \n",
    "    def writePatientsList(self,patients,kind):\n",
    "        \n",
    "        path = self.path + kind\n",
    "        write = open(path,'w')\n",
    "        for patient in patients.keys():\n",
    "            write.write(patient.strip() + '\\n')\n",
    "            \n",
    "        write.close()\n",
    "        \n",
    "        \n",
    "    def writeSnpsList(self,chromosomes):\n",
    "        \n",
    "        for i in range(self.numberOfChromosomes):\n",
    "    \n",
    "            chro = 'chr'+str(i+1)\n",
    "            path = self.path + chro + 'snpList.txt'\n",
    "            write = open(path,'w')\n",
    "            \n",
    "            for snp in chromosomes[chro].keys():\n",
    "                write.write(snp.strip() + '\\n')\n",
    "            \n",
    "            write.close()\n",
    "            \n",
    "    def saveData(self,ids,patients,patientKind,data,chroms = {}):\n",
    "        \n",
    "        #self.__patientsLogFile(ids['patients'],patientKind)\n",
    "        #self.__snpsLogFile(ids['snps'],chroms)\n",
    "        self.__snpCodeLog(ids['patients']['idToName'],ids['snps']['idToName'],patients,data,patientKind)\n",
    "        \n",
    "    def __patientsLogFile(self,ids,patientKind):\n",
    "        \n",
    "        write = open(self.path + patientKind + 'Ids.txt','w')\n",
    "        \n",
    "        write.write(str(len(ids['nameToId'])) + '\\n')\n",
    "        \n",
    "        for patient in ids['nameToId'].keys():\n",
    "            \n",
    "            write.write(patient.strip() + '\\t' + str(ids['nameToId'][patient]).strip() + '\\n')\n",
    "            \n",
    "        write.close()\n",
    "        \n",
    "    def __snpsLogFile(self,ids,chroms):\n",
    "        \n",
    "        if len(chroms.keys()) > 0:\n",
    "        \n",
    "            write = open(self.path + 'SnpsIds.txt','w')\n",
    "        \n",
    "            write.write(str(len(ids['nameToId'])) + '\\n')\n",
    "        \n",
    "            for chro in chroms.keys():\n",
    "              \n",
    "                for snp in chroms[chro].keys():\n",
    "                    write.write(snp.strip() + '\\t' + str(ids['nameToId'][snp.strip()]).strip() + '\\n')\n",
    "            \n",
    "            write.close()\n",
    "            \n",
    "    def __snpCodeLog(self,patientsIds,snpsIds,patients,data,patientKind):\n",
    "        \n",
    "        write = open(self.path + patientKind + 'SnpCode.txt','w')\n",
    "        \n",
    "        write.write(str(len(patientsIds)) + '\\n')\n",
    "        write.write(str(len(snpsIds)) + '\\n')\n",
    "        \n",
    "        for i in range(len(data)):\n",
    "            for j in range(len(data.T)):\n",
    "                allele1 = patients[patientsIds[i]].getAllele1(snpsIds[j])\n",
    "                allele2 = patients[patientsIds[i]].getAllele2(snpsIds[j])\n",
    "                write.write(patientsIds[i].strip() + '\\t' + snpsIds[j].strip() + '\\t' + str(data[i,j]).strip() + '\\t' \n",
    "                                                                            + allele1.strip() + '\\t' + allele2.strip() + '\\n')\n",
    "                \n",
    "        write.close()\n",
    "        \n",
    "        \n",
    "            \n",
    "class DataSet:\n",
    "    \n",
    "    def __init__(self,patients,ids):\n",
    "        \n",
    "        self.n = len(ids['patients']['nameToId'].keys())\n",
    "        self.m =len(ids['snps']['nameToId'].keys()) \n",
    "        self.patients = patients\n",
    "        self.ids = ids\n",
    "                     \n",
    "        self.xTable = np.zeros((self.n,self.m),dtype = int)\n",
    "        self.yTable = np.zeros((self.n,),dtype = int)\n",
    "        \n",
    "        for i in range(self.n):\n",
    "            for j in range(self.m):\n",
    "                self.xTable[i,j] = -1\n",
    "                     \n",
    "        self.__fillXTable()\n",
    "        self.__fillYTable()\n",
    "                     \n",
    "                     \n",
    "    def __fillXTable(self):\n",
    "    \n",
    "        for i in range(self.n):\n",
    "            for j in range(self.m):\n",
    "        \n",
    "                patient = self.ids['patients']['idToName'][i]\n",
    "                snp = self.ids['snps']['idToName'][j]\n",
    "        \n",
    "                self.xTable[i,j] = self.patients[patient].getSnpCode(snp)\n",
    "                     \n",
    "    def __fillYTable(self):\n",
    "    \n",
    "        for i in range(self.n):\n",
    "    \n",
    "            patient = self.ids['patients']['idToName'][i]\n",
    "            self.yTable[i] = self.patients[patient].getCase()\n",
    "        \n",
    "    def getXTable(self):\n",
    "                     \n",
    "        return self.xTable\n",
    "                     \n",
    "    def getYTable(self):\n",
    "                     \n",
    "        return self.yTable\n",
    "    \n",
    "\n",
    "def setIdToName(aList):\n",
    "    \n",
    "    ids = {}\n",
    "    nameToId = {}\n",
    "    idToName = {}\n",
    "    count = 0\n",
    "    \n",
    "    for i in aList:\n",
    "        \n",
    "        nameToId[i] = count\n",
    "        idToName[count] = i\n",
    "        count += 1\n",
    "        \n",
    "    ids['nameToId'] = nameToId\n",
    "    ids['idToName'] = idToName\n",
    "    \n",
    "    return ids\n",
    "\n",
    "\n",
    "def setSnpsCode(patients,chromosomes):\n",
    "    \n",
    "    for i in patients.keys():\n",
    "        patients[i].snpCode(chromosomes)\n",
    "        \n",
    "    return patients\n",
    "    \n",
    "    \n",
    "def mergeXTrainXTestTable(test,train):\n",
    "    \n",
    "    n = len(test) + len(train)\n",
    "    m = len(test.T)\n",
    "    count = 0\n",
    "    \n",
    "    mergeTable = np.zeros((n,m),dtype = int)\n",
    "    \n",
    "    for i in range(len(train)):\n",
    "        for j in range(len(train.T)):\n",
    "            mergeTable[count,j] = train[i,j]\n",
    "        count += 1\n",
    "    \n",
    "    \n",
    "    for i in range(len(test)):\n",
    "        for j in range(len(test.T)):\n",
    "            mergeTable[count,j] = test[i,j]\n",
    "        count += 1\n",
    "\n",
    "        \n",
    "    return mergeTable\n",
    "\n",
    "\n",
    "def mergeYTrainYTestTable(test,train):\n",
    "    \n",
    "    n = len(test) + len(train)\n",
    "   \n",
    "    count = 0\n",
    "    \n",
    "    mergeTable = np.zeros((n,1),dtype = int)\n",
    "    \n",
    "    for i in range(len(train)):\n",
    "        mergeTable[count] = train[i]\n",
    "        count += 1\n",
    "    \n",
    "    for i in range(len(test)):\n",
    "        mergeTable[count] = test[i]\n",
    "        count += 1\n",
    "        \n",
    "    return mergeTable\n",
    "\n",
    "def createAllPatientsStructure(patients,patientsTest,patientsTrain,snps):\n",
    "    \n",
    "    for i in patientsTest.keys():\n",
    "        patients[i]=patientsTest[i]\n",
    "        \n",
    "    for i in patientsTrain.keys():\n",
    "        patients[i]=patientsTrain[i]\n",
    "        \n",
    "    return patients\n",
    "\n",
    "def seperatePatients(patients,allPatients):\n",
    "    \n",
    "    for patient in patients.keys():\n",
    "        \n",
    "        patients[patient] = allPatients[patient]\n",
    "        \n",
    "    return patients\n",
    "\n",
    "\n",
    "def fmean_squared_error(ground_truth, predictions):\n",
    "    fmean_squared_error_ = mean_squared_error(ground_truth, predictions)**0.5\n",
    "    return fmean_squared_error_\n"
   ]
  },
  {
   "cell_type": "code",
   "execution_count": 81,
   "metadata": {
    "collapsed": false
   },
   "outputs": [],
   "source": [
    "path = 'C:\\\\Users\\\\ANTONIS\\\\Desktop\\\\test1\\\\' #bake ton fakelo pou 8a epe3ergas8eis \n",
    "numberOfChromosomes = 14#'ari8mos twn xromoswmatwn'\n",
    "patientsTrain = {}\n",
    "patientsTest = {}\n",
    "allPatients = {}\n",
    "\n",
    "chromosomes = {}\n",
    "\n",
    "read = Read(path,numberOfChromosomes)\n",
    "write = Write(path,numberOfChromosomes)\n",
    "\n",
    "patientsTrain = read.readPatients('phenotype_euro_balanced_train3.txt')\n",
    "patientsTest = read.readPatients('phenotype_euro_balanced_test3.txt')\n",
    "\n",
    "chromosomes = read.readSnps(\".assoc.fisher\")\n",
    "\n",
    "write.writePatientsList(patientsTrain,'trainPatient.txt')\n",
    "write.writePatientsList(patientsTest,'testPatient.txt')\n",
    "write.writeSnpsList(chromosomes)\n"
   ]
  },
  {
   "cell_type": "markdown",
   "metadata": {},
   "source": [
    "# run train_lgen bat and test_leg bat"
   ]
  },
  {
   "cell_type": "code",
   "execution_count": 82,
   "metadata": {
    "collapsed": false
   },
   "outputs": [],
   "source": [
    "\n",
    "snps = read.getListOfSnps()\n",
    "ids = {} \n",
    "idsTest = {}\n",
    "\n",
    "allPatients = createAllPatientsStructure(allPatients,patientsTest,patientsTrain,snps)\n",
    "\n",
    "if os.path.exists(path + 'snpCode.txt'):\n",
    "    \n",
    "    allPatients = read.readSnpsCode(allPatients)\n",
    "    \n",
    "    patientsTrain = seperatePatients(patientsTrain,allPatients)\n",
    "    patientsTest = seperatePatients(patientsTest,allPatients)\n",
    "    \n",
    "else:\n",
    "    allPatients = read.readLgen(allPatients)\n",
    "    \n",
    "    patientsTrain = seperatePatients(patientsTrain,allPatients)\n",
    "    patientsTest = seperatePatients(patientsTest,allPatients)\n",
    "    \n",
    "    patientsTrain = setSnpsCode(patientsTrain,chromosomes)\n",
    "    patientsTest = setSnpsCode(patientsTest,chromosomes)\n",
    "    \n",
    "\n",
    "\n",
    "ids['patients'] = setIdToName(list(patientsTrain.keys()))\n",
    "ids['snps'] = setIdToName(snps)\n",
    "\n",
    "idsTest['patients'] = setIdToName(list(patientsTest.keys()))\n",
    "idsTest['snps'] = ids['snps']\n",
    "\n",
    "\n"
   ]
  },
  {
   "cell_type": "code",
   "execution_count": 83,
   "metadata": {
    "collapsed": false
   },
   "outputs": [],
   "source": [
    "trainSet = DataSet(patientsTrain,ids)\n",
    "testSet = DataSet(patientsTest,idsTest)\n",
    "\n",
    "xTraining = trainSet.getXTable()\n",
    "yTraining = trainSet.getYTable()\n",
    "        \n",
    "xTest = testSet.getXTable()\n",
    "yTest = testSet.getYTable()\n",
    "\n",
    "\n",
    "mergeXtable = mergeXTrainXTestTable(xTraining,xTest)\n",
    "mergeYtable = mergeYTrainYTestTable(yTraining,yTest)\n",
    "    \n",
    "write.saveData(ids,patientsTrain,'Train',xTraining,chromosomes)\n",
    "write.saveData(idsTest,patientsTest,'Test',xTest)"
   ]
  },
  {
   "cell_type": "code",
   "execution_count": 84,
   "metadata": {
    "collapsed": false
   },
   "outputs": [
    {
     "name": "stdout",
     "output_type": "stream",
     "text": [
      "countTrain is  1780\n",
      "patientsTrain is  1780\n",
      "snps is Train 333\n",
      "shape id  (1780, 333)\n",
      "xTraining =  1780\n",
      "xTraining.T =  333\n",
      "yTraining =  1780\n",
      "\n",
      "count is Test 3200\n",
      "patientsTest is  1780\n",
      "snps is Test 333\n",
      "shape id Test (3200, 333)\n",
      "xtest =  3200\n",
      "xtest.T =  333\n",
      "ytest =  3200\n",
      "\n",
      "mergeXtable =  4980\n",
      "mergeXtable.T =  333\n",
      "mergeYtable =  4980\n",
      "shape id  (4980, 333)\n",
      "\n",
      "id to name patients 1780\n",
      "name to id patients 1780\n",
      "\n",
      "id to name snps 333\n",
      "name to id snps 333\n",
      "\n",
      "xTraining\n",
      "count =  0\n",
      "count0 =  227137\n",
      "count1 =  248011\n",
      "coun2 =  117592\n",
      "\n",
      "xTest\n",
      "count =  0\n",
      "count0 =  402434\n",
      "count1 =  466149\n",
      "coun2 =  197017\n",
      "\n",
      "mergeXtable\n",
      "count =  0\n",
      "count0 =  629571\n",
      "count1 =  714160\n",
      "coun2 =  314609\n"
     ]
    }
   ],
   "source": [
    "count = 0\n",
    "\n",
    "for patient in patientsTrain.keys():\n",
    "            \n",
    "    if patientsTrain[patient].getSize() == read.getNumberOfSnps():\n",
    "        \n",
    "        count += 1\n",
    "        \n",
    "print(\"countTrain is \",count)\n",
    "print(\"patientsTrain is \",len(patientsTrain.keys())) \n",
    "print(\"snps is Train\",read.getNumberOfSnps())\n",
    "print(\"shape id \",xTraining.shape)\n",
    "print(\"xTraining = \",len(xTraining))\n",
    "print(\"xTraining.T = \",len(xTraining.T))\n",
    "print(\"yTraining = \",len(yTraining))\n",
    "\n",
    "print()\n",
    "\n",
    "count = 0\n",
    "\n",
    "for patient in patientsTest.keys():\n",
    "            \n",
    "    if patientsTest[patient].getSize() == read.getNumberOfSnps():\n",
    "        \n",
    "        count += 1\n",
    "        \n",
    "print(\"count is Test\",count)\n",
    "print(\"patientsTest is \",len(patientsTrain.keys()))\n",
    "print(\"snps is Test\",read.getNumberOfSnps())\n",
    "print(\"shape id Test\",xTest.shape)\n",
    "print(\"xtest = \",len(xTest))\n",
    "print(\"xtest.T = \",len(xTest.T))\n",
    "print(\"ytest = \",len(yTest))\n",
    "\n",
    "print()\n",
    "print(\"mergeXtable = \",len(mergeXtable))\n",
    "print(\"mergeXtable.T = \",len(mergeXtable.T))\n",
    "print(\"mergeYtable = \",len(mergeYtable))\n",
    "print(\"shape id \",mergeXtable.shape)\n",
    "\n",
    "print()\n",
    "\n",
    "\n",
    "print(\"id to name patients\",len(ids['patients']['idToName'].keys()))\n",
    "print(\"name to id patients\",len(ids['patients']['nameToId'].keys()))\n",
    "print()\n",
    "print(\"id to name snps\",len(ids['snps']['idToName'].keys()))\n",
    "print(\"name to id snps\",len(ids['snps']['nameToId'].keys()))\n",
    "\n",
    "print()\n",
    "count0 = 0\n",
    "count1 = 0\n",
    "count2 = 0\n",
    "count = 0\n",
    "\n",
    "for i in range(len(xTraining)):\n",
    "    for j in range(len(xTraining.T)):\n",
    "        if xTraining[i,j] == 2:\n",
    "            count2 += 1\n",
    "                \n",
    "        elif xTraining[i,j] == 1:\n",
    "            count1 += 1\n",
    "                \n",
    "        elif xTraining[i,j] == 0:\n",
    "            \n",
    "            count0 +=1\n",
    "        else:\n",
    "            count += 1\n",
    "            \n",
    "print(\"xTraining\")\n",
    "print(\"count = \",count)\n",
    "print(\"count0 = \",count0)\n",
    "print(\"count1 = \",count1)\n",
    "print(\"coun2 = \",count2)\n",
    "\n",
    "print()\n",
    "\n",
    "count0 = 0\n",
    "count1 = 0\n",
    "count2 = 0\n",
    "count = 0\n",
    "\n",
    "for i in range(len(xTest)):\n",
    "    for j in range(len(xTest.T)):\n",
    "        if xTest[i,j] == 2:\n",
    "            count2 += 1\n",
    "                \n",
    "        elif xTest[i,j] == 1:\n",
    "            count1 += 1\n",
    "                \n",
    "        elif xTest[i,j] == 0:\n",
    "            \n",
    "            count0 +=1\n",
    "        else:\n",
    "            count += 1\n",
    "            \n",
    "print(\"xTest\")\n",
    "print(\"count = \",count)\n",
    "print(\"count0 = \",count0)\n",
    "print(\"count1 = \",count1)\n",
    "print(\"coun2 = \",count2)\n",
    "\n",
    "count0 = 0\n",
    "count1 = 0\n",
    "count2 = 0\n",
    "count = 0\n",
    "\n",
    "for i in range(len(mergeXtable)):\n",
    "    for j in range(len(mergeXtable.T)):\n",
    "        if mergeXtable[i,j] == 2:\n",
    "            count2 += 1\n",
    "                \n",
    "        elif mergeXtable[i,j] == 1:\n",
    "            count1 += 1\n",
    "                \n",
    "        elif mergeXtable[i,j] == 0:\n",
    "            \n",
    "            count0 +=1\n",
    "        else:\n",
    "            count += 1\n",
    "print()\n",
    "            \n",
    "print(\"mergeXtable\")\n",
    "print(\"count = \",count)\n",
    "print(\"count0 = \",count0)\n",
    "print(\"count1 = \",count1)\n",
    "print(\"coun2 = \",count2)"
   ]
  },
  {
   "cell_type": "markdown",
   "metadata": {},
   "source": [
    "# # RF"
   ]
  },
  {
   "cell_type": "code",
   "execution_count": 87,
   "metadata": {
    "collapsed": false,
    "scrolled": true
   },
   "outputs": [
    {
     "name": "stdout",
     "output_type": "stream",
     "text": [
      "building tree 1 of 500building tree 2 of 500\n",
      "building tree 3 of 500\n",
      "\n",
      "building tree 4 of 500\n",
      "building tree 5 of 500\n",
      "building tree 6 of 500\n",
      "building tree 7 of 500\n",
      "building tree 8 of 500\n",
      "building tree 9 of 500\n"
     ]
    },
    {
     "name": "stderr",
     "output_type": "stream",
     "text": [
      "[Parallel(n_jobs=-1)]: Done   1 tasks      | elapsed:    0.0s\n",
      "[Parallel(n_jobs=-1)]: Done   2 tasks      | elapsed:    0.0s\n",
      "[Parallel(n_jobs=-1)]: Done   3 tasks      | elapsed:    0.0s\n",
      "[Parallel(n_jobs=-1)]: Done   4 tasks      | elapsed:    0.0s\n",
      "[Parallel(n_jobs=-1)]: Done   5 tasks      | elapsed:    0.1s\n",
      "[Parallel(n_jobs=-1)]: Done   6 tasks      | elapsed:    0.1s\n",
      "[Parallel(n_jobs=-1)]: Done   7 tasks      | elapsed:    0.1s\n",
      "[Parallel(n_jobs=-1)]: Done   8 tasks      | elapsed:    0.1s\n"
     ]
    },
    {
     "name": "stdout",
     "output_type": "stream",
     "text": [
      "building tree 10 of 500\n",
      "building tree 11 of 500\n",
      "building tree 12 of 500\n",
      "building tree 13 of 500\n",
      "building tree 14 of 500\n",
      "building tree 15 of 500\n",
      "building tree 16 of 500\n"
     ]
    },
    {
     "name": "stderr",
     "output_type": "stream",
     "text": [
      "[Parallel(n_jobs=-1)]: Done   9 tasks      | elapsed:    0.2s\n",
      "[Parallel(n_jobs=-1)]: Done  10 tasks      | elapsed:    0.3s\n",
      "[Parallel(n_jobs=-1)]: Done  11 tasks      | elapsed:    0.3s\n",
      "[Parallel(n_jobs=-1)]: Done  12 tasks      | elapsed:    0.3s\n",
      "[Parallel(n_jobs=-1)]: Done  13 tasks      | elapsed:    0.3s\n",
      "[Parallel(n_jobs=-1)]: Done  14 tasks      | elapsed:    0.4s\n",
      "[Parallel(n_jobs=-1)]: Done  15 tasks      | elapsed:    0.4s\n"
     ]
    },
    {
     "name": "stdout",
     "output_type": "stream",
     "text": [
      "building tree 17 of 500\n",
      "building tree 18 of 500\n",
      "building tree 19 of 500\n",
      "building tree 20 of 500\n",
      "building tree 21 of 500\n",
      "building tree 22 of 500\n",
      "building tree 23 of 500\n"
     ]
    },
    {
     "name": "stderr",
     "output_type": "stream",
     "text": [
      "[Parallel(n_jobs=-1)]: Done  16 tasks      | elapsed:    0.5s\n",
      "[Parallel(n_jobs=-1)]: Done  17 tasks      | elapsed:    0.5s\n",
      "[Parallel(n_jobs=-1)]: Done  18 tasks      | elapsed:    0.5s\n",
      "[Parallel(n_jobs=-1)]: Done  19 tasks      | elapsed:    0.6s\n",
      "[Parallel(n_jobs=-1)]: Done  20 tasks      | elapsed:    0.6s\n",
      "[Parallel(n_jobs=-1)]: Done  21 tasks      | elapsed:    0.6s\n",
      "[Parallel(n_jobs=-1)]: Done  22 tasks      | elapsed:    0.6s\n",
      "[Parallel(n_jobs=-1)]: Done  23 tasks      | elapsed:    0.7s\n"
     ]
    },
    {
     "name": "stdout",
     "output_type": "stream",
     "text": [
      "building tree 24 of 500\n",
      "building tree 25 of 500\n",
      "building tree 26 of 500\n",
      "building tree 27 of 500\n",
      "building tree 28 of 500\n",
      "building tree 29 of 500\n",
      "building tree 30 of 500\n",
      "building tree 31 of 500\n"
     ]
    },
    {
     "name": "stderr",
     "output_type": "stream",
     "text": [
      "[Parallel(n_jobs=-1)]: Done  24 tasks      | elapsed:    0.7s\n",
      "[Parallel(n_jobs=-1)]: Done  25 tasks      | elapsed:    0.7s\n",
      "[Parallel(n_jobs=-1)]: Done  26 tasks      | elapsed:    0.8s\n",
      "[Parallel(n_jobs=-1)]: Done  27 tasks      | elapsed:    0.8s\n",
      "[Parallel(n_jobs=-1)]: Done  28 tasks      | elapsed:    0.8s\n",
      "[Parallel(n_jobs=-1)]: Done  29 tasks      | elapsed:    0.8s\n",
      "[Parallel(n_jobs=-1)]: Done  30 tasks      | elapsed:    0.9s\n",
      "[Parallel(n_jobs=-1)]: Done  31 tasks      | elapsed:    0.9s\n"
     ]
    },
    {
     "name": "stdout",
     "output_type": "stream",
     "text": [
      "building tree 32 of 500\n",
      "building tree 33 of 500\n",
      "building tree 34 of 500\n",
      "building tree 35 of 500\n",
      "building tree 36 of 500\n",
      "building tree 37 of 500\n",
      "building tree 38 of 500\n",
      "building tree 39 of 500\n",
      "building tree 40 of 500\n"
     ]
    },
    {
     "name": "stderr",
     "output_type": "stream",
     "text": [
      "[Parallel(n_jobs=-1)]: Done  32 tasks      | elapsed:    0.9s\n",
      "[Parallel(n_jobs=-1)]: Done  33 tasks      | elapsed:    0.9s\n",
      "[Parallel(n_jobs=-1)]: Done  34 tasks      | elapsed:    1.0s\n",
      "[Parallel(n_jobs=-1)]: Done  35 tasks      | elapsed:    1.0s\n",
      "[Parallel(n_jobs=-1)]: Done  36 tasks      | elapsed:    1.0s\n",
      "[Parallel(n_jobs=-1)]: Done  37 tasks      | elapsed:    1.0s\n",
      "[Parallel(n_jobs=-1)]: Done  38 tasks      | elapsed:    1.1s\n",
      "[Parallel(n_jobs=-1)]: Done  39 tasks      | elapsed:    1.1s\n",
      "[Parallel(n_jobs=-1)]: Done  40 tasks      | elapsed:    1.1s\n"
     ]
    },
    {
     "name": "stdout",
     "output_type": "stream",
     "text": [
      "building tree 41 of 500\n",
      "building tree 42 of 500\n",
      "building tree 43 of 500\n",
      "building tree 44 of 500\n",
      "building tree 45 of 500\n",
      "building tree 46 of 500\n",
      "building tree 47 of 500\n",
      "building tree 48 of 500\n"
     ]
    },
    {
     "name": "stderr",
     "output_type": "stream",
     "text": [
      "[Parallel(n_jobs=-1)]: Done  41 tasks      | elapsed:    1.1s\n",
      "[Parallel(n_jobs=-1)]: Done  42 tasks      | elapsed:    1.2s\n",
      "[Parallel(n_jobs=-1)]: Done  43 tasks      | elapsed:    1.2s\n",
      "[Parallel(n_jobs=-1)]: Done  44 tasks      | elapsed:    1.2s\n",
      "[Parallel(n_jobs=-1)]: Done  45 tasks      | elapsed:    1.2s\n",
      "[Parallel(n_jobs=-1)]: Done  46 tasks      | elapsed:    1.3s\n",
      "[Parallel(n_jobs=-1)]: Done  47 tasks      | elapsed:    1.3s\n",
      "[Parallel(n_jobs=-1)]: Done  48 tasks      | elapsed:    1.3s\n"
     ]
    },
    {
     "name": "stdout",
     "output_type": "stream",
     "text": [
      "building tree 49 of 500\n",
      "building tree 50 of 500\n",
      "building tree 51 of 500\n",
      "building tree 52 of 500\n",
      "building tree 53 of 500\n",
      "building tree 54 of 500\n",
      "building tree 55 of 500\n"
     ]
    },
    {
     "name": "stderr",
     "output_type": "stream",
     "text": [
      "[Parallel(n_jobs=-1)]: Done  49 tasks      | elapsed:    1.4s\n",
      "[Parallel(n_jobs=-1)]: Done  50 tasks      | elapsed:    1.4s\n",
      "[Parallel(n_jobs=-1)]: Done  51 tasks      | elapsed:    1.4s\n",
      "[Parallel(n_jobs=-1)]: Done  52 tasks      | elapsed:    1.5s\n",
      "[Parallel(n_jobs=-1)]: Done  53 tasks      | elapsed:    1.5s\n",
      "[Parallel(n_jobs=-1)]: Done  54 tasks      | elapsed:    1.5s\n",
      "[Parallel(n_jobs=-1)]: Done  55 tasks      | elapsed:    1.6s\n"
     ]
    },
    {
     "name": "stdout",
     "output_type": "stream",
     "text": [
      "building tree 56 of 500\n",
      "building tree 57 of 500\n",
      "building tree 58 of 500\n",
      "building tree 59 of 500\n",
      "building tree 60 of 500\n",
      "building tree 61 of 500\n",
      "building tree 62 of 500\n",
      "building tree 63 of 500\n"
     ]
    },
    {
     "name": "stderr",
     "output_type": "stream",
     "text": [
      "[Parallel(n_jobs=-1)]: Done  56 tasks      | elapsed:    1.6s\n",
      "[Parallel(n_jobs=-1)]: Done  57 tasks      | elapsed:    1.6s\n",
      "[Parallel(n_jobs=-1)]: Done  58 tasks      | elapsed:    1.6s\n",
      "[Parallel(n_jobs=-1)]: Done  59 tasks      | elapsed:    1.7s\n",
      "[Parallel(n_jobs=-1)]: Done  60 tasks      | elapsed:    1.7s\n",
      "[Parallel(n_jobs=-1)]: Done  61 tasks      | elapsed:    1.7s\n",
      "[Parallel(n_jobs=-1)]: Done  62 tasks      | elapsed:    1.8s\n",
      "[Parallel(n_jobs=-1)]: Done  63 tasks      | elapsed:    1.8s\n"
     ]
    },
    {
     "name": "stdout",
     "output_type": "stream",
     "text": [
      "building tree 64 of 500\n",
      "building tree 65 of 500\n",
      "building tree 66 of 500\n",
      "building tree 67 of 500\n",
      "building tree 68 of 500\n",
      "building tree 69 of 500\n",
      "building tree 70 of 500\n"
     ]
    },
    {
     "name": "stderr",
     "output_type": "stream",
     "text": [
      "[Parallel(n_jobs=-1)]: Done  64 tasks      | elapsed:    1.8s\n",
      "[Parallel(n_jobs=-1)]: Done  65 tasks      | elapsed:    1.8s\n",
      "[Parallel(n_jobs=-1)]: Done  66 tasks      | elapsed:    1.9s\n",
      "[Parallel(n_jobs=-1)]: Done  67 tasks      | elapsed:    1.9s\n",
      "[Parallel(n_jobs=-1)]: Done  68 tasks      | elapsed:    1.9s\n",
      "[Parallel(n_jobs=-1)]: Done  69 tasks      | elapsed:    1.9s\n",
      "[Parallel(n_jobs=-1)]: Done  70 tasks      | elapsed:    2.0s\n",
      "[Parallel(n_jobs=-1)]: Done  71 tasks      | elapsed:    2.0s\n"
     ]
    },
    {
     "name": "stdout",
     "output_type": "stream",
     "text": [
      "building tree 71 of 500\n",
      "building tree 72 of 500\n",
      "building tree 73 of 500\n",
      "building tree 74 of 500\n",
      "building tree 75 of 500\n",
      "building tree 76 of 500\n",
      "building tree 77 of 500\n",
      "building tree 78 of 500\n",
      "building tree 79 of 500\n"
     ]
    },
    {
     "name": "stderr",
     "output_type": "stream",
     "text": [
      "[Parallel(n_jobs=-1)]: Done  72 tasks      | elapsed:    2.0s\n",
      "[Parallel(n_jobs=-1)]: Done  73 tasks      | elapsed:    2.0s\n",
      "[Parallel(n_jobs=-1)]: Done  74 tasks      | elapsed:    2.1s\n",
      "[Parallel(n_jobs=-1)]: Done  75 tasks      | elapsed:    2.1s\n",
      "[Parallel(n_jobs=-1)]: Done  76 tasks      | elapsed:    2.1s\n",
      "[Parallel(n_jobs=-1)]: Done  77 tasks      | elapsed:    2.2s\n",
      "[Parallel(n_jobs=-1)]: Done  78 tasks      | elapsed:    2.2s\n",
      "[Parallel(n_jobs=-1)]: Done  79 tasks      | elapsed:    2.2s\n",
      "[Parallel(n_jobs=-1)]: Done  80 tasks      | elapsed:    2.3s\n"
     ]
    },
    {
     "name": "stdout",
     "output_type": "stream",
     "text": [
      "building tree 80 of 500\n",
      "building tree 81 of 500\n",
      "building tree 82 of 500\n",
      "building tree 83 of 500\n",
      "building tree 84 of 500\n",
      "building tree 85 of 500\n",
      "building tree 86 of 500\n",
      "building tree 87 of 500\n"
     ]
    },
    {
     "name": "stderr",
     "output_type": "stream",
     "text": [
      "[Parallel(n_jobs=-1)]: Done  81 tasks      | elapsed:    2.3s\n",
      "[Parallel(n_jobs=-1)]: Done  82 tasks      | elapsed:    2.3s\n",
      "[Parallel(n_jobs=-1)]: Done  83 tasks      | elapsed:    2.3s\n",
      "[Parallel(n_jobs=-1)]: Done  84 tasks      | elapsed:    2.4s\n",
      "[Parallel(n_jobs=-1)]: Done  85 tasks      | elapsed:    2.4s\n",
      "[Parallel(n_jobs=-1)]: Done  86 tasks      | elapsed:    2.4s\n",
      "[Parallel(n_jobs=-1)]: Done  87 tasks      | elapsed:    2.5s\n",
      "[Parallel(n_jobs=-1)]: Done  88 tasks      | elapsed:    2.5s\n"
     ]
    },
    {
     "name": "stdout",
     "output_type": "stream",
     "text": [
      "building tree 88 of 500\n",
      "building tree 89 of 500\n",
      "building tree 90 of 500\n",
      "building tree 91 of 500\n",
      "building tree 92 of 500\n",
      "building tree 93 of 500\n",
      "building tree 94 of 500\n"
     ]
    },
    {
     "name": "stderr",
     "output_type": "stream",
     "text": [
      "[Parallel(n_jobs=-1)]: Done  89 tasks      | elapsed:    2.5s\n",
      "[Parallel(n_jobs=-1)]: Done  90 tasks      | elapsed:    2.6s\n",
      "[Parallel(n_jobs=-1)]: Done  91 tasks      | elapsed:    2.6s\n",
      "[Parallel(n_jobs=-1)]: Done  92 tasks      | elapsed:    2.6s\n",
      "[Parallel(n_jobs=-1)]: Done  93 tasks      | elapsed:    2.6s\n",
      "[Parallel(n_jobs=-1)]: Done  94 tasks      | elapsed:    2.7s\n"
     ]
    },
    {
     "name": "stdout",
     "output_type": "stream",
     "text": [
      "building tree 95 of 500\n",
      "building tree 96 of 500\n",
      "building tree 97 of 500\n",
      "building tree 98 of 500\n",
      "building tree 99 of 500\n",
      "building tree 100 of 500\n",
      "building tree 101 of 500\n",
      "building tree 102 of 500\n"
     ]
    },
    {
     "name": "stderr",
     "output_type": "stream",
     "text": [
      "[Parallel(n_jobs=-1)]: Done  95 tasks      | elapsed:    2.7s\n",
      "[Parallel(n_jobs=-1)]: Done  96 tasks      | elapsed:    2.7s\n",
      "[Parallel(n_jobs=-1)]: Done  97 tasks      | elapsed:    2.7s\n",
      "[Parallel(n_jobs=-1)]: Done  98 tasks      | elapsed:    2.8s\n",
      "[Parallel(n_jobs=-1)]: Done  99 tasks      | elapsed:    2.8s\n",
      "[Parallel(n_jobs=-1)]: Done 100 tasks      | elapsed:    2.8s\n",
      "[Parallel(n_jobs=-1)]: Done 101 tasks      | elapsed:    2.8s\n",
      "[Parallel(n_jobs=-1)]: Done 102 tasks      | elapsed:    2.9s\n",
      "[Parallel(n_jobs=-1)]: Done 103 tasks      | elapsed:    2.9s\n"
     ]
    },
    {
     "name": "stdout",
     "output_type": "stream",
     "text": [
      "building tree 103 of 500\n",
      "building tree 104 of 500\n",
      "building tree 105 of 500\n",
      "building tree 106 of 500\n",
      "building tree 107 of 500\n",
      "building tree 108 of 500\n",
      "building tree 109 of 500\n",
      "building tree 110 of 500\n",
      "building tree 111 of 500\n"
     ]
    },
    {
     "name": "stderr",
     "output_type": "stream",
     "text": [
      "[Parallel(n_jobs=-1)]: Done 104 tasks      | elapsed:    2.9s\n",
      "[Parallel(n_jobs=-1)]: Done 105 tasks      | elapsed:    2.9s\n",
      "[Parallel(n_jobs=-1)]: Done 106 tasks      | elapsed:    3.0s\n",
      "[Parallel(n_jobs=-1)]: Done 107 tasks      | elapsed:    3.0s\n",
      "[Parallel(n_jobs=-1)]: Done 108 tasks      | elapsed:    3.0s\n",
      "[Parallel(n_jobs=-1)]: Done 109 tasks      | elapsed:    3.1s\n",
      "[Parallel(n_jobs=-1)]: Done 110 tasks      | elapsed:    3.1s\n",
      "[Parallel(n_jobs=-1)]: Done 111 tasks      | elapsed:    3.1s\n"
     ]
    },
    {
     "name": "stdout",
     "output_type": "stream",
     "text": [
      "building tree 112 of 500\n",
      "building tree 113 of 500\n",
      "building tree 114 of 500\n",
      "building tree 115 of 500\n",
      "building tree 116 of 500\n",
      "building tree 117 of 500\n",
      "building tree 118 of 500\n",
      "building tree 119 of 500\n"
     ]
    },
    {
     "name": "stderr",
     "output_type": "stream",
     "text": [
      "[Parallel(n_jobs=-1)]: Done 112 tasks      | elapsed:    3.1s\n",
      "[Parallel(n_jobs=-1)]: Done 113 tasks      | elapsed:    3.1s\n",
      "[Parallel(n_jobs=-1)]: Done 114 tasks      | elapsed:    3.2s\n",
      "[Parallel(n_jobs=-1)]: Done 115 tasks      | elapsed:    3.2s\n",
      "[Parallel(n_jobs=-1)]: Done 116 tasks      | elapsed:    3.2s\n",
      "[Parallel(n_jobs=-1)]: Done 117 tasks      | elapsed:    3.3s\n",
      "[Parallel(n_jobs=-1)]: Done 118 tasks      | elapsed:    3.3s\n",
      "[Parallel(n_jobs=-1)]: Done 119 tasks      | elapsed:    3.3s\n",
      "[Parallel(n_jobs=-1)]: Done 120 tasks      | elapsed:    3.3s\n"
     ]
    },
    {
     "name": "stdout",
     "output_type": "stream",
     "text": [
      "building tree 120 of 500\n",
      "building tree 121 of 500\n",
      "building tree 122 of 500\n",
      "building tree 123 of 500\n",
      "building tree 124 of 500\n",
      "building tree 125 of 500\n",
      "building tree 126 of 500\n",
      "building tree 127 of 500\n",
      "building tree 128 of 500\n"
     ]
    },
    {
     "name": "stderr",
     "output_type": "stream",
     "text": [
      "[Parallel(n_jobs=-1)]: Done 121 tasks      | elapsed:    3.4s\n",
      "[Parallel(n_jobs=-1)]: Done 122 tasks      | elapsed:    3.4s\n",
      "[Parallel(n_jobs=-1)]: Done 123 tasks      | elapsed:    3.4s\n",
      "[Parallel(n_jobs=-1)]: Done 124 tasks      | elapsed:    3.4s\n",
      "[Parallel(n_jobs=-1)]: Done 125 tasks      | elapsed:    3.5s\n",
      "[Parallel(n_jobs=-1)]: Done 126 tasks      | elapsed:    3.5s\n",
      "[Parallel(n_jobs=-1)]: Done 127 tasks      | elapsed:    3.5s\n",
      "[Parallel(n_jobs=-1)]: Done 128 tasks      | elapsed:    3.6s\n",
      "[Parallel(n_jobs=-1)]: Done 129 tasks      | elapsed:    3.6s\n"
     ]
    },
    {
     "name": "stdout",
     "output_type": "stream",
     "text": [
      "building tree 129 of 500\n",
      "building tree 130 of 500\n",
      "building tree 131 of 500\n",
      "building tree 132 of 500\n",
      "building tree 133 of 500\n",
      "building tree 134 of 500\n",
      "building tree 135 of 500\n",
      "building tree 136 of 500\n"
     ]
    },
    {
     "name": "stderr",
     "output_type": "stream",
     "text": [
      "[Parallel(n_jobs=-1)]: Done 130 tasks      | elapsed:    3.7s\n",
      "[Parallel(n_jobs=-1)]: Done 131 tasks      | elapsed:    3.7s\n",
      "[Parallel(n_jobs=-1)]: Done 132 tasks      | elapsed:    3.7s\n",
      "[Parallel(n_jobs=-1)]: Done 133 tasks      | elapsed:    3.7s\n",
      "[Parallel(n_jobs=-1)]: Done 134 tasks      | elapsed:    3.8s\n",
      "[Parallel(n_jobs=-1)]: Done 135 tasks      | elapsed:    3.8s\n",
      "[Parallel(n_jobs=-1)]: Done 136 tasks      | elapsed:    3.8s\n",
      "[Parallel(n_jobs=-1)]: Done 137 tasks      | elapsed:    3.8s\n"
     ]
    },
    {
     "name": "stdout",
     "output_type": "stream",
     "text": [
      "building tree 137 of 500\n",
      "building tree 138 of 500\n",
      "building tree 139 of 500\n",
      "building tree 140 of 500\n",
      "building tree 141 of 500\n",
      "building tree 142 of 500\n",
      "building tree 143 of 500\n"
     ]
    },
    {
     "name": "stderr",
     "output_type": "stream",
     "text": [
      "[Parallel(n_jobs=-1)]: Done 138 tasks      | elapsed:    3.9s\n",
      "[Parallel(n_jobs=-1)]: Done 139 tasks      | elapsed:    3.9s\n",
      "[Parallel(n_jobs=-1)]: Done 140 tasks      | elapsed:    3.9s\n",
      "[Parallel(n_jobs=-1)]: Done 141 tasks      | elapsed:    3.9s\n",
      "[Parallel(n_jobs=-1)]: Done 142 tasks      | elapsed:    4.0s\n",
      "[Parallel(n_jobs=-1)]: Done 143 tasks      | elapsed:    4.0s\n",
      "[Parallel(n_jobs=-1)]: Done 144 tasks      | elapsed:    4.0s\n",
      "[Parallel(n_jobs=-1)]: Done 145 tasks      | elapsed:    4.0s\n"
     ]
    },
    {
     "name": "stdout",
     "output_type": "stream",
     "text": [
      "building tree 144 of 500\n",
      "building tree 145 of 500\n",
      "building tree 146 of 500\n",
      "building tree 147 of 500\n",
      "building tree 148 of 500\n",
      "building tree 149 of 500\n",
      "building tree 150 of 500\n",
      "building tree 151 of 500\n",
      "building tree 152 of 500\n"
     ]
    },
    {
     "name": "stderr",
     "output_type": "stream",
     "text": [
      "[Parallel(n_jobs=-1)]: Done 146 tasks      | elapsed:    4.1s\n",
      "[Parallel(n_jobs=-1)]: Done 147 tasks      | elapsed:    4.1s\n",
      "[Parallel(n_jobs=-1)]: Done 148 tasks      | elapsed:    4.1s\n",
      "[Parallel(n_jobs=-1)]: Done 149 tasks      | elapsed:    4.2s\n",
      "[Parallel(n_jobs=-1)]: Done 150 tasks      | elapsed:    4.2s\n",
      "[Parallel(n_jobs=-1)]: Done 151 tasks      | elapsed:    4.2s\n",
      "[Parallel(n_jobs=-1)]: Done 152 tasks      | elapsed:    4.2s\n",
      "[Parallel(n_jobs=-1)]: Done 153 tasks      | elapsed:    4.3s\n"
     ]
    },
    {
     "name": "stdout",
     "output_type": "stream",
     "text": [
      "building tree 153 of 500\n",
      "building tree 154 of 500\n",
      "building tree 155 of 500\n",
      "building tree 156 of 500\n",
      "building tree 157 of 500\n",
      "building tree 158 of 500\n",
      "building tree 159 of 500\n",
      "building tree 160 of 500\n"
     ]
    },
    {
     "name": "stderr",
     "output_type": "stream",
     "text": [
      "[Parallel(n_jobs=-1)]: Done 154 tasks      | elapsed:    4.3s\n",
      "[Parallel(n_jobs=-1)]: Done 155 tasks      | elapsed:    4.4s\n",
      "[Parallel(n_jobs=-1)]: Done 156 tasks      | elapsed:    4.4s\n",
      "[Parallel(n_jobs=-1)]: Done 157 tasks      | elapsed:    4.4s\n",
      "[Parallel(n_jobs=-1)]: Done 158 tasks      | elapsed:    4.5s\n",
      "[Parallel(n_jobs=-1)]: Done 159 tasks      | elapsed:    4.5s\n",
      "[Parallel(n_jobs=-1)]: Done 160 tasks      | elapsed:    4.5s\n",
      "[Parallel(n_jobs=-1)]: Done 161 tasks      | elapsed:    4.5s\n"
     ]
    },
    {
     "name": "stdout",
     "output_type": "stream",
     "text": [
      "building tree 161 of 500\n",
      "building tree 162 of 500\n",
      "building tree 163 of 500\n",
      "building tree 164 of 500\n",
      "building tree 165 of 500\n",
      "building tree 166 of 500\n",
      "building tree 167 of 500\n",
      "building tree 168 of 500\n",
      "building tree 169 of 500\n",
      "building tree 170 of 500\n",
      "building tree 171 of 500\n",
      "building tree 172 of 500\n",
      "building tree 173 of 500\n"
     ]
    },
    {
     "name": "stderr",
     "output_type": "stream",
     "text": [
      "[Parallel(n_jobs=-1)]: Done 162 tasks      | elapsed:    4.6s\n",
      "[Parallel(n_jobs=-1)]: Done 163 tasks      | elapsed:    4.6s\n",
      "[Parallel(n_jobs=-1)]: Done 164 tasks      | elapsed:    4.6s\n",
      "[Parallel(n_jobs=-1)]: Done 165 tasks      | elapsed:    4.6s\n",
      "[Parallel(n_jobs=-1)]: Done 166 tasks      | elapsed:    4.7s\n",
      "[Parallel(n_jobs=-1)]: Done 167 tasks      | elapsed:    4.7s\n",
      "[Parallel(n_jobs=-1)]: Done 168 tasks      | elapsed:    4.7s\n",
      "[Parallel(n_jobs=-1)]: Done 169 tasks      | elapsed:    4.8s\n"
     ]
    },
    {
     "name": "stdout",
     "output_type": "stream",
     "text": [
      "building tree 174 of 500\n",
      "building tree 175 of 500\n",
      "building tree 176 of 500\n",
      "building tree 177 of 500\n",
      "building tree 178 of 500\n",
      "building tree 179 of 500\n",
      "building tree 180 of 500\n",
      "building tree 181 of 500\n"
     ]
    },
    {
     "name": "stderr",
     "output_type": "stream",
     "text": [
      "[Parallel(n_jobs=-1)]: Done 170 tasks      | elapsed:    4.8s\n",
      "[Parallel(n_jobs=-1)]: Done 171 tasks      | elapsed:    4.9s\n",
      "[Parallel(n_jobs=-1)]: Done 172 tasks      | elapsed:    4.9s\n",
      "[Parallel(n_jobs=-1)]: Done 173 tasks      | elapsed:    4.9s\n",
      "[Parallel(n_jobs=-1)]: Done 174 tasks      | elapsed:    5.0s\n",
      "[Parallel(n_jobs=-1)]: Done 175 tasks      | elapsed:    5.0s\n",
      "[Parallel(n_jobs=-1)]: Done 176 tasks      | elapsed:    5.0s\n",
      "[Parallel(n_jobs=-1)]: Done 177 tasks      | elapsed:    5.0s\n"
     ]
    },
    {
     "name": "stdout",
     "output_type": "stream",
     "text": [
      "building tree 182 of 500\n",
      "building tree 183 of 500\n",
      "building tree 184 of 500\n",
      "building tree 185 of 500\n",
      "building tree 186 of 500\n"
     ]
    },
    {
     "name": "stderr",
     "output_type": "stream",
     "text": [
      "[Parallel(n_jobs=-1)]: Done 178 tasks      | elapsed:    5.1s\n",
      "[Parallel(n_jobs=-1)]: Done 179 tasks      | elapsed:    5.1s\n",
      "[Parallel(n_jobs=-1)]: Done 180 tasks      | elapsed:    5.1s\n",
      "[Parallel(n_jobs=-1)]: Done 181 tasks      | elapsed:    5.1s\n",
      "[Parallel(n_jobs=-1)]: Done 182 tasks      | elapsed:    5.2s\n"
     ]
    },
    {
     "name": "stdout",
     "output_type": "stream",
     "text": [
      "building tree 187 of 500\n",
      "building tree 188 of 500\n",
      "building tree 189 of 500\n",
      "building tree 190 of 500\n",
      "building tree 191 of 500\n",
      "building tree 192 of 500\n",
      "building tree 193 of 500\n",
      "building tree 194 of 500\n"
     ]
    },
    {
     "name": "stderr",
     "output_type": "stream",
     "text": [
      "[Parallel(n_jobs=-1)]: Done 183 tasks      | elapsed:    5.3s\n",
      "[Parallel(n_jobs=-1)]: Done 184 tasks      | elapsed:    5.3s\n",
      "[Parallel(n_jobs=-1)]: Done 185 tasks      | elapsed:    5.4s\n",
      "[Parallel(n_jobs=-1)]: Done 186 tasks      | elapsed:    5.4s\n",
      "[Parallel(n_jobs=-1)]: Done 187 tasks      | elapsed:    5.4s\n",
      "[Parallel(n_jobs=-1)]: Done 188 tasks      | elapsed:    5.4s\n",
      "[Parallel(n_jobs=-1)]: Done 189 tasks      | elapsed:    5.5s\n",
      "[Parallel(n_jobs=-1)]: Done 190 tasks      | elapsed:    5.5s\n"
     ]
    },
    {
     "name": "stdout",
     "output_type": "stream",
     "text": [
      "building tree 195 of 500\n",
      "building tree 196 of 500\n",
      "building tree 197 of 500\n",
      "building tree 198 of 500\n",
      "building tree 199 of 500\n",
      "building tree 200 of 500\n",
      "building tree 201 of 500\n",
      "building tree 202 of 500\n",
      "building tree 203 of 500\n"
     ]
    },
    {
     "name": "stderr",
     "output_type": "stream",
     "text": [
      "[Parallel(n_jobs=-1)]: Done 191 tasks      | elapsed:    5.6s\n",
      "[Parallel(n_jobs=-1)]: Done 192 tasks      | elapsed:    5.6s\n",
      "[Parallel(n_jobs=-1)]: Done 193 tasks      | elapsed:    5.6s\n",
      "[Parallel(n_jobs=-1)]: Done 194 tasks      | elapsed:    5.6s\n",
      "[Parallel(n_jobs=-1)]: Done 195 tasks      | elapsed:    5.7s\n",
      "[Parallel(n_jobs=-1)]: Done 196 tasks      | elapsed:    5.7s\n",
      "[Parallel(n_jobs=-1)]: Done 197 tasks      | elapsed:    5.7s\n",
      "[Parallel(n_jobs=-1)]: Done 198 tasks      | elapsed:    5.7s\n",
      "[Parallel(n_jobs=-1)]: Done 199 tasks      | elapsed:    5.8s\n"
     ]
    },
    {
     "name": "stdout",
     "output_type": "stream",
     "text": [
      "building tree 204 of 500\n",
      "building tree 205 of 500\n",
      "building tree 206 of 500\n",
      "building tree 207 of 500\n",
      "building tree 208 of 500\n",
      "building tree 209 of 500\n",
      "building tree 210 of 500\n",
      "building tree 211 of 500\n"
     ]
    },
    {
     "name": "stderr",
     "output_type": "stream",
     "text": [
      "[Parallel(n_jobs=-1)]: Done 200 tasks      | elapsed:    5.8s\n",
      "[Parallel(n_jobs=-1)]: Done 201 tasks      | elapsed:    5.8s\n",
      "[Parallel(n_jobs=-1)]: Done 202 tasks      | elapsed:    5.8s\n",
      "[Parallel(n_jobs=-1)]: Done 203 tasks      | elapsed:    5.9s\n",
      "[Parallel(n_jobs=-1)]: Done 204 tasks      | elapsed:    5.9s\n",
      "[Parallel(n_jobs=-1)]: Done 205 tasks      | elapsed:    5.9s\n",
      "[Parallel(n_jobs=-1)]: Done 206 tasks      | elapsed:    5.9s\n",
      "[Parallel(n_jobs=-1)]: Done 207 tasks      | elapsed:    6.0s\n"
     ]
    },
    {
     "name": "stdout",
     "output_type": "stream",
     "text": [
      "building tree 212 of 500\n",
      "building tree 213 of 500\n",
      "building tree 214 of 500\n",
      "building tree 215 of 500\n",
      "building tree 216 of 500\n",
      "building tree 217 of 500\n",
      "building tree 218 of 500\n",
      "building tree 219 of 500\n"
     ]
    },
    {
     "name": "stderr",
     "output_type": "stream",
     "text": [
      "[Parallel(n_jobs=-1)]: Done 208 tasks      | elapsed:    6.0s\n",
      "[Parallel(n_jobs=-1)]: Done 209 tasks      | elapsed:    6.0s\n",
      "[Parallel(n_jobs=-1)]: Done 210 tasks      | elapsed:    6.0s\n",
      "[Parallel(n_jobs=-1)]: Done 211 tasks      | elapsed:    6.1s\n",
      "[Parallel(n_jobs=-1)]: Done 212 tasks      | elapsed:    6.1s\n",
      "[Parallel(n_jobs=-1)]: Done 213 tasks      | elapsed:    6.1s\n",
      "[Parallel(n_jobs=-1)]: Done 214 tasks      | elapsed:    6.2s\n",
      "[Parallel(n_jobs=-1)]: Done 215 tasks      | elapsed:    6.2s\n"
     ]
    },
    {
     "name": "stdout",
     "output_type": "stream",
     "text": [
      "building tree 220 of 500\n",
      "building tree 221 of 500\n",
      "building tree 222 of 500\n",
      "building tree 223 of 500\n",
      "building tree 224 of 500\n",
      "building tree 225 of 500\n",
      "building tree 226 of 500\n"
     ]
    },
    {
     "name": "stderr",
     "output_type": "stream",
     "text": [
      "[Parallel(n_jobs=-1)]: Done 216 tasks      | elapsed:    6.2s\n",
      "[Parallel(n_jobs=-1)]: Done 217 tasks      | elapsed:    6.2s\n",
      "[Parallel(n_jobs=-1)]: Done 218 tasks      | elapsed:    6.3s\n",
      "[Parallel(n_jobs=-1)]: Done 219 tasks      | elapsed:    6.3s\n",
      "[Parallel(n_jobs=-1)]: Done 220 tasks      | elapsed:    6.4s\n",
      "[Parallel(n_jobs=-1)]: Done 221 tasks      | elapsed:    6.4s\n",
      "[Parallel(n_jobs=-1)]: Done 222 tasks      | elapsed:    6.4s\n"
     ]
    },
    {
     "name": "stdout",
     "output_type": "stream",
     "text": [
      "building tree 227 of 500\n",
      "building tree 228 of 500\n",
      "building tree 229 of 500\n",
      "building tree 230 of 500\n",
      "building tree 231 of 500\n",
      "building tree 232 of 500\n",
      "building tree 233 of 500\n",
      "building tree 234 of 500\n"
     ]
    },
    {
     "name": "stderr",
     "output_type": "stream",
     "text": [
      "[Parallel(n_jobs=-1)]: Done 223 tasks      | elapsed:    6.4s\n",
      "[Parallel(n_jobs=-1)]: Done 224 tasks      | elapsed:    6.5s\n",
      "[Parallel(n_jobs=-1)]: Done 225 tasks      | elapsed:    6.5s\n",
      "[Parallel(n_jobs=-1)]: Done 226 tasks      | elapsed:    6.5s\n",
      "[Parallel(n_jobs=-1)]: Done 227 tasks      | elapsed:    6.6s\n",
      "[Parallel(n_jobs=-1)]: Done 228 tasks      | elapsed:    6.6s\n",
      "[Parallel(n_jobs=-1)]: Done 229 tasks      | elapsed:    6.6s\n",
      "[Parallel(n_jobs=-1)]: Done 230 tasks      | elapsed:    6.6s\n"
     ]
    },
    {
     "name": "stdout",
     "output_type": "stream",
     "text": [
      "building tree 235 of 500\n",
      "building tree 236 of 500\n",
      "building tree 237 of 500\n",
      "building tree 238 of 500\n",
      "building tree 239 of 500\n",
      "building tree 240 of 500\n",
      "building tree 241 of 500\n",
      "building tree 242 of 500\n",
      "building tree 243 of 500\n"
     ]
    },
    {
     "name": "stderr",
     "output_type": "stream",
     "text": [
      "[Parallel(n_jobs=-1)]: Done 231 tasks      | elapsed:    6.7s\n",
      "[Parallel(n_jobs=-1)]: Done 232 tasks      | elapsed:    6.7s\n",
      "[Parallel(n_jobs=-1)]: Done 233 tasks      | elapsed:    6.7s\n",
      "[Parallel(n_jobs=-1)]: Done 234 tasks      | elapsed:    6.8s\n",
      "[Parallel(n_jobs=-1)]: Done 235 tasks      | elapsed:    6.8s\n",
      "[Parallel(n_jobs=-1)]: Done 236 tasks      | elapsed:    6.8s\n",
      "[Parallel(n_jobs=-1)]: Done 237 tasks      | elapsed:    6.8s\n",
      "[Parallel(n_jobs=-1)]: Done 238 tasks      | elapsed:    6.9s\n",
      "[Parallel(n_jobs=-1)]: Done 239 tasks      | elapsed:    6.9s\n"
     ]
    },
    {
     "name": "stdout",
     "output_type": "stream",
     "text": [
      "building tree 244 of 500\n",
      "building tree 245 of 500\n",
      "building tree 246 of 500\n",
      "building tree 247 of 500\n",
      "building tree 248 of 500\n",
      "building tree 249 of 500\n",
      "building tree 250 of 500\n",
      "building tree 251 of 500\n",
      "building tree 252 of 500\n"
     ]
    },
    {
     "name": "stderr",
     "output_type": "stream",
     "text": [
      "[Parallel(n_jobs=-1)]: Done 240 tasks      | elapsed:    6.9s\n",
      "[Parallel(n_jobs=-1)]: Done 241 tasks      | elapsed:    6.9s\n",
      "[Parallel(n_jobs=-1)]: Done 242 tasks      | elapsed:    6.9s\n",
      "[Parallel(n_jobs=-1)]: Done 243 tasks      | elapsed:    7.0s\n",
      "[Parallel(n_jobs=-1)]: Done 244 tasks      | elapsed:    7.0s\n",
      "[Parallel(n_jobs=-1)]: Done 245 tasks      | elapsed:    7.0s\n",
      "[Parallel(n_jobs=-1)]: Done 246 tasks      | elapsed:    7.1s\n",
      "[Parallel(n_jobs=-1)]: Done 247 tasks      | elapsed:    7.1s\n",
      "[Parallel(n_jobs=-1)]: Done 248 tasks      | elapsed:    7.1s\n"
     ]
    },
    {
     "name": "stdout",
     "output_type": "stream",
     "text": [
      "building tree 253 of 500\n",
      "building tree 254 of 500\n",
      "building tree 255 of 500\n",
      "building tree 256 of 500\n",
      "building tree 257 of 500\n",
      "building tree 258 of 500\n",
      "building tree 259 of 500\n",
      "building tree 260 of 500\n",
      "building tree 261 of 500\n"
     ]
    },
    {
     "name": "stderr",
     "output_type": "stream",
     "text": [
      "[Parallel(n_jobs=-1)]: Done 249 tasks      | elapsed:    7.2s\n",
      "[Parallel(n_jobs=-1)]: Done 250 tasks      | elapsed:    7.2s\n",
      "[Parallel(n_jobs=-1)]: Done 251 tasks      | elapsed:    7.2s\n",
      "[Parallel(n_jobs=-1)]: Done 252 tasks      | elapsed:    7.2s\n",
      "[Parallel(n_jobs=-1)]: Done 253 tasks      | elapsed:    7.3s\n",
      "[Parallel(n_jobs=-1)]: Done 254 tasks      | elapsed:    7.3s\n",
      "[Parallel(n_jobs=-1)]: Done 255 tasks      | elapsed:    7.3s\n",
      "[Parallel(n_jobs=-1)]: Done 256 tasks      | elapsed:    7.3s\n",
      "[Parallel(n_jobs=-1)]: Done 257 tasks      | elapsed:    7.4s\n"
     ]
    },
    {
     "name": "stdout",
     "output_type": "stream",
     "text": [
      "building tree 262 of 500\n",
      "building tree 263 of 500\n",
      "building tree 264 of 500\n",
      "building tree 265 of 500\n",
      "building tree 266 of 500\n",
      "building tree 267 of 500\n",
      "building tree 268 of 500\n",
      "building tree 269 of 500\n",
      "building tree 270 of 500\n"
     ]
    },
    {
     "name": "stderr",
     "output_type": "stream",
     "text": [
      "[Parallel(n_jobs=-1)]: Done 258 tasks      | elapsed:    7.4s\n",
      "[Parallel(n_jobs=-1)]: Done 259 tasks      | elapsed:    7.4s\n",
      "[Parallel(n_jobs=-1)]: Done 260 tasks      | elapsed:    7.5s\n",
      "[Parallel(n_jobs=-1)]: Done 261 tasks      | elapsed:    7.5s\n",
      "[Parallel(n_jobs=-1)]: Done 262 tasks      | elapsed:    7.5s\n",
      "[Parallel(n_jobs=-1)]: Done 263 tasks      | elapsed:    7.5s\n",
      "[Parallel(n_jobs=-1)]: Done 264 tasks      | elapsed:    7.6s\n",
      "[Parallel(n_jobs=-1)]: Done 265 tasks      | elapsed:    7.6s\n",
      "[Parallel(n_jobs=-1)]: Done 266 tasks      | elapsed:    7.6s\n"
     ]
    },
    {
     "name": "stdout",
     "output_type": "stream",
     "text": [
      "building tree 271 of 500\n",
      "building tree 272 of 500\n",
      "building tree 273 of 500\n",
      "building tree 274 of 500\n",
      "building tree 275 of 500\n",
      "building tree 276 of 500\n",
      "building tree 277 of 500\n",
      "building tree 278 of 500\n",
      "building tree 279 of 500\n"
     ]
    },
    {
     "name": "stderr",
     "output_type": "stream",
     "text": [
      "[Parallel(n_jobs=-1)]: Done 267 tasks      | elapsed:    7.6s\n",
      "[Parallel(n_jobs=-1)]: Done 268 tasks      | elapsed:    7.7s\n",
      "[Parallel(n_jobs=-1)]: Done 269 tasks      | elapsed:    7.7s\n",
      "[Parallel(n_jobs=-1)]: Done 270 tasks      | elapsed:    7.7s\n",
      "[Parallel(n_jobs=-1)]: Done 271 tasks      | elapsed:    7.7s\n",
      "[Parallel(n_jobs=-1)]: Done 272 tasks      | elapsed:    7.8s\n",
      "[Parallel(n_jobs=-1)]: Done 273 tasks      | elapsed:    7.8s\n",
      "[Parallel(n_jobs=-1)]: Done 274 tasks      | elapsed:    7.8s\n",
      "[Parallel(n_jobs=-1)]: Done 275 tasks      | elapsed:    7.8s\n"
     ]
    },
    {
     "name": "stdout",
     "output_type": "stream",
     "text": [
      "building tree 280 of 500\n",
      "building tree 281 of 500\n",
      "building tree 282 of 500\n",
      "building tree 283 of 500\n",
      "building tree 284 of 500\n",
      "building tree 285 of 500\n",
      "building tree 286 of 500\n",
      "building tree 287 of 500\n",
      "building tree 288 of 500\n",
      "building tree 289 of 500\n"
     ]
    },
    {
     "name": "stderr",
     "output_type": "stream",
     "text": [
      "[Parallel(n_jobs=-1)]: Done 276 tasks      | elapsed:    7.9s\n",
      "[Parallel(n_jobs=-1)]: Done 277 tasks      | elapsed:    7.9s\n",
      "[Parallel(n_jobs=-1)]: Done 278 tasks      | elapsed:    7.9s\n",
      "[Parallel(n_jobs=-1)]: Done 279 tasks      | elapsed:    7.9s\n",
      "[Parallel(n_jobs=-1)]: Done 280 tasks      | elapsed:    8.0s\n",
      "[Parallel(n_jobs=-1)]: Done 281 tasks      | elapsed:    8.0s\n",
      "[Parallel(n_jobs=-1)]: Done 282 tasks      | elapsed:    8.1s\n",
      "[Parallel(n_jobs=-1)]: Done 283 tasks      | elapsed:    8.1s\n",
      "[Parallel(n_jobs=-1)]: Done 284 tasks      | elapsed:    8.1s\n",
      "[Parallel(n_jobs=-1)]: Done 285 tasks      | elapsed:    8.1s\n"
     ]
    },
    {
     "name": "stdout",
     "output_type": "stream",
     "text": [
      "building tree 290 of 500\n",
      "building tree 291 of 500\n",
      "building tree 292 of 500\n",
      "building tree 293 of 500\n",
      "building tree 294 of 500\n",
      "building tree 295 of 500\n",
      "building tree 296 of 500\n",
      "building tree 297 of 500\n"
     ]
    },
    {
     "name": "stderr",
     "output_type": "stream",
     "text": [
      "[Parallel(n_jobs=-1)]: Done 286 tasks      | elapsed:    8.2s\n",
      "[Parallel(n_jobs=-1)]: Done 287 tasks      | elapsed:    8.2s\n",
      "[Parallel(n_jobs=-1)]: Done 288 tasks      | elapsed:    8.2s\n",
      "[Parallel(n_jobs=-1)]: Done 289 tasks      | elapsed:    8.2s\n",
      "[Parallel(n_jobs=-1)]: Done 290 tasks      | elapsed:    8.3s\n",
      "[Parallel(n_jobs=-1)]: Done 291 tasks      | elapsed:    8.3s\n",
      "[Parallel(n_jobs=-1)]: Done 292 tasks      | elapsed:    8.3s\n",
      "[Parallel(n_jobs=-1)]: Done 293 tasks      | elapsed:    8.3s\n"
     ]
    },
    {
     "name": "stdout",
     "output_type": "stream",
     "text": [
      "building tree 298 of 500\n",
      "building tree 299 of 500\n",
      "building tree 300 of 500\n",
      "building tree 301 of 500\n",
      "building tree 302 of 500\n",
      "building tree 303 of 500\n",
      "building tree 304 of 500\n",
      "building tree 305 of 500\n",
      "building tree 306 of 500\n",
      "building tree 307 of 500\n"
     ]
    },
    {
     "name": "stderr",
     "output_type": "stream",
     "text": [
      "[Parallel(n_jobs=-1)]: Done 294 tasks      | elapsed:    8.4s\n",
      "[Parallel(n_jobs=-1)]: Done 295 tasks      | elapsed:    8.4s\n",
      "[Parallel(n_jobs=-1)]: Done 296 tasks      | elapsed:    8.4s\n",
      "[Parallel(n_jobs=-1)]: Done 297 tasks      | elapsed:    8.4s\n",
      "[Parallel(n_jobs=-1)]: Done 298 tasks      | elapsed:    8.5s\n",
      "[Parallel(n_jobs=-1)]: Done 299 tasks      | elapsed:    8.5s\n",
      "[Parallel(n_jobs=-1)]: Done 300 tasks      | elapsed:    8.5s\n",
      "[Parallel(n_jobs=-1)]: Done 301 tasks      | elapsed:    8.5s\n",
      "[Parallel(n_jobs=-1)]: Done 302 tasks      | elapsed:    8.6s\n",
      "[Parallel(n_jobs=-1)]: Done 303 tasks      | elapsed:    8.6s\n"
     ]
    },
    {
     "name": "stdout",
     "output_type": "stream",
     "text": [
      "building tree 308 of 500\n",
      "building tree 309 of 500\n",
      "building tree 310 of 500\n",
      "building tree 311 of 500\n",
      "building tree 312 of 500\n",
      "building tree 313 of 500\n",
      "building tree 314 of 500\n",
      "building tree 315 of 500\n"
     ]
    },
    {
     "name": "stderr",
     "output_type": "stream",
     "text": [
      "[Parallel(n_jobs=-1)]: Done 304 tasks      | elapsed:    8.6s\n",
      "[Parallel(n_jobs=-1)]: Done 305 tasks      | elapsed:    8.7s\n",
      "[Parallel(n_jobs=-1)]: Done 306 tasks      | elapsed:    8.7s\n",
      "[Parallel(n_jobs=-1)]: Done 307 tasks      | elapsed:    8.7s\n",
      "[Parallel(n_jobs=-1)]: Done 308 tasks      | elapsed:    8.8s\n",
      "[Parallel(n_jobs=-1)]: Done 309 tasks      | elapsed:    8.8s\n",
      "[Parallel(n_jobs=-1)]: Done 310 tasks      | elapsed:    8.8s\n",
      "[Parallel(n_jobs=-1)]: Done 311 tasks      | elapsed:    8.8s\n"
     ]
    },
    {
     "name": "stdout",
     "output_type": "stream",
     "text": [
      "building tree 316 of 500\n",
      "building tree 317 of 500\n",
      "building tree 318 of 500\n",
      "building tree 319 of 500\n",
      "building tree 320 of 500\n",
      "building tree 321 of 500\n",
      "building tree 322 of 500\n",
      "building tree 323 of 500\n"
     ]
    },
    {
     "name": "stderr",
     "output_type": "stream",
     "text": [
      "[Parallel(n_jobs=-1)]: Done 312 tasks      | elapsed:    8.9s\n",
      "[Parallel(n_jobs=-1)]: Done 313 tasks      | elapsed:    8.9s\n",
      "[Parallel(n_jobs=-1)]: Done 314 tasks      | elapsed:    8.9s\n",
      "[Parallel(n_jobs=-1)]: Done 315 tasks      | elapsed:    9.0s\n",
      "[Parallel(n_jobs=-1)]: Done 316 tasks      | elapsed:    9.0s\n",
      "[Parallel(n_jobs=-1)]: Done 317 tasks      | elapsed:    9.0s\n",
      "[Parallel(n_jobs=-1)]: Done 318 tasks      | elapsed:    9.0s\n",
      "[Parallel(n_jobs=-1)]: Done 319 tasks      | elapsed:    9.0s\n"
     ]
    },
    {
     "name": "stdout",
     "output_type": "stream",
     "text": [
      "building tree 324 of 500\n",
      "building tree 325 of 500\n",
      "building tree 326 of 500\n",
      "building tree 327 of 500\n",
      "building tree 328 of 500\n",
      "building tree 329 of 500\n",
      "building tree 330 of 500\n"
     ]
    },
    {
     "name": "stderr",
     "output_type": "stream",
     "text": [
      "[Parallel(n_jobs=-1)]: Done 320 tasks      | elapsed:    9.1s\n",
      "[Parallel(n_jobs=-1)]: Done 321 tasks      | elapsed:    9.1s\n",
      "[Parallel(n_jobs=-1)]: Done 322 tasks      | elapsed:    9.2s\n",
      "[Parallel(n_jobs=-1)]: Done 323 tasks      | elapsed:    9.2s\n",
      "[Parallel(n_jobs=-1)]: Done 324 tasks      | elapsed:    9.2s\n",
      "[Parallel(n_jobs=-1)]: Done 325 tasks      | elapsed:    9.2s\n",
      "[Parallel(n_jobs=-1)]: Done 326 tasks      | elapsed:    9.3s\n"
     ]
    },
    {
     "name": "stdout",
     "output_type": "stream",
     "text": [
      "building tree 331 of 500\n",
      "building tree 332 of 500\n",
      "building tree 333 of 500\n",
      "building tree 334 of 500\n",
      "building tree 335 of 500\n",
      "building tree 336 of 500\n",
      "building tree 337 of 500\n",
      "building tree 338 of 500\n",
      "building tree 339 of 500\n"
     ]
    },
    {
     "name": "stderr",
     "output_type": "stream",
     "text": [
      "[Parallel(n_jobs=-1)]: Done 327 tasks      | elapsed:    9.3s\n",
      "[Parallel(n_jobs=-1)]: Done 328 tasks      | elapsed:    9.3s\n",
      "[Parallel(n_jobs=-1)]: Done 329 tasks      | elapsed:    9.3s\n",
      "[Parallel(n_jobs=-1)]: Done 330 tasks      | elapsed:    9.4s\n",
      "[Parallel(n_jobs=-1)]: Done 331 tasks      | elapsed:    9.4s\n",
      "[Parallel(n_jobs=-1)]: Done 332 tasks      | elapsed:    9.4s\n",
      "[Parallel(n_jobs=-1)]: Done 333 tasks      | elapsed:    9.4s\n",
      "[Parallel(n_jobs=-1)]: Done 334 tasks      | elapsed:    9.5s\n",
      "[Parallel(n_jobs=-1)]: Done 335 tasks      | elapsed:    9.5s\n"
     ]
    },
    {
     "name": "stdout",
     "output_type": "stream",
     "text": [
      "building tree 340 of 500\n",
      "building tree 341 of 500\n",
      "building tree 342 of 500\n",
      "building tree 343 of 500\n",
      "building tree 344 of 500\n",
      "building tree 345 of 500\n",
      "building tree 346 of 500\n",
      "building tree 347 of 500\n",
      "building tree 348 of 500\n"
     ]
    },
    {
     "name": "stderr",
     "output_type": "stream",
     "text": [
      "[Parallel(n_jobs=-1)]: Done 336 tasks      | elapsed:    9.5s\n",
      "[Parallel(n_jobs=-1)]: Done 337 tasks      | elapsed:    9.6s\n",
      "[Parallel(n_jobs=-1)]: Done 338 tasks      | elapsed:    9.6s\n",
      "[Parallel(n_jobs=-1)]: Done 339 tasks      | elapsed:    9.6s\n",
      "[Parallel(n_jobs=-1)]: Done 340 tasks      | elapsed:    9.6s\n",
      "[Parallel(n_jobs=-1)]: Done 341 tasks      | elapsed:    9.7s\n",
      "[Parallel(n_jobs=-1)]: Done 342 tasks      | elapsed:    9.7s\n",
      "[Parallel(n_jobs=-1)]: Done 343 tasks      | elapsed:    9.7s\n",
      "[Parallel(n_jobs=-1)]: Done 344 tasks      | elapsed:    9.7s\n"
     ]
    },
    {
     "name": "stdout",
     "output_type": "stream",
     "text": [
      "building tree 349 of 500\n",
      "building tree 350 of 500\n",
      "building tree 351 of 500\n",
      "building tree 352 of 500\n",
      "building tree 353 of 500\n",
      "building tree 354 of 500\n",
      "building tree 355 of 500\n",
      "building tree 356 of 500\n",
      "building tree 357 of 500\n"
     ]
    },
    {
     "name": "stderr",
     "output_type": "stream",
     "text": [
      "[Parallel(n_jobs=-1)]: Done 345 tasks      | elapsed:    9.8s\n",
      "[Parallel(n_jobs=-1)]: Done 346 tasks      | elapsed:    9.8s\n",
      "[Parallel(n_jobs=-1)]: Done 347 tasks      | elapsed:    9.8s\n",
      "[Parallel(n_jobs=-1)]: Done 348 tasks      | elapsed:    9.8s\n",
      "[Parallel(n_jobs=-1)]: Done 349 tasks      | elapsed:    9.8s\n",
      "[Parallel(n_jobs=-1)]: Done 350 tasks      | elapsed:    9.9s\n",
      "[Parallel(n_jobs=-1)]: Done 351 tasks      | elapsed:    9.9s\n",
      "[Parallel(n_jobs=-1)]: Done 352 tasks      | elapsed:   10.0s\n",
      "[Parallel(n_jobs=-1)]: Done 353 tasks      | elapsed:   10.0s\n"
     ]
    },
    {
     "name": "stdout",
     "output_type": "stream",
     "text": [
      "building tree 358 of 500\n",
      "building tree 359 of 500\n",
      "building tree 360 of 500\n",
      "building tree 361 of 500\n",
      "building tree 362 of 500\n",
      "building tree 363 of 500\n",
      "building tree 364 of 500\n",
      "building tree 365 of 500\n",
      "building tree 366 of 500\n"
     ]
    },
    {
     "name": "stderr",
     "output_type": "stream",
     "text": [
      "[Parallel(n_jobs=-1)]: Done 354 tasks      | elapsed:   10.0s\n",
      "[Parallel(n_jobs=-1)]: Done 355 tasks      | elapsed:   10.1s\n",
      "[Parallel(n_jobs=-1)]: Done 356 tasks      | elapsed:   10.1s\n",
      "[Parallel(n_jobs=-1)]: Done 357 tasks      | elapsed:   10.1s\n",
      "[Parallel(n_jobs=-1)]: Done 358 tasks      | elapsed:   10.2s\n",
      "[Parallel(n_jobs=-1)]: Done 359 tasks      | elapsed:   10.2s\n",
      "[Parallel(n_jobs=-1)]: Done 360 tasks      | elapsed:   10.2s\n",
      "[Parallel(n_jobs=-1)]: Done 361 tasks      | elapsed:   10.2s\n",
      "[Parallel(n_jobs=-1)]: Done 362 tasks      | elapsed:   10.3s\n"
     ]
    },
    {
     "name": "stdout",
     "output_type": "stream",
     "text": [
      "building tree 367 of 500\n",
      "building tree 368 of 500\n",
      "building tree 369 of 500\n",
      "building tree 370 of 500\n",
      "building tree 371 of 500\n",
      "building tree 372 of 500\n",
      "building tree 373 of 500\n",
      "building tree 374 of 500\n",
      "building tree 375 of 500\n"
     ]
    },
    {
     "name": "stderr",
     "output_type": "stream",
     "text": [
      "[Parallel(n_jobs=-1)]: Done 363 tasks      | elapsed:   10.3s\n",
      "[Parallel(n_jobs=-1)]: Done 364 tasks      | elapsed:   10.3s\n",
      "[Parallel(n_jobs=-1)]: Done 365 tasks      | elapsed:   10.3s\n",
      "[Parallel(n_jobs=-1)]: Done 366 tasks      | elapsed:   10.4s\n",
      "[Parallel(n_jobs=-1)]: Done 367 tasks      | elapsed:   10.4s\n",
      "[Parallel(n_jobs=-1)]: Done 368 tasks      | elapsed:   10.4s\n",
      "[Parallel(n_jobs=-1)]: Done 369 tasks      | elapsed:   10.4s\n",
      "[Parallel(n_jobs=-1)]: Done 370 tasks      | elapsed:   10.5s\n",
      "[Parallel(n_jobs=-1)]: Done 371 tasks      | elapsed:   10.5s\n"
     ]
    },
    {
     "name": "stdout",
     "output_type": "stream",
     "text": [
      "building tree 376 of 500\n",
      "building tree 377 of 500\n",
      "building tree 378 of 500\n",
      "building tree 379 of 500\n",
      "building tree 380 of 500\n",
      "building tree 381 of 500\n",
      "building tree 382 of 500\n",
      "building tree 383 of 500\n",
      "building tree 384 of 500\n"
     ]
    },
    {
     "name": "stderr",
     "output_type": "stream",
     "text": [
      "[Parallel(n_jobs=-1)]: Done 372 tasks      | elapsed:   10.5s\n",
      "[Parallel(n_jobs=-1)]: Done 373 tasks      | elapsed:   10.5s\n",
      "[Parallel(n_jobs=-1)]: Done 374 tasks      | elapsed:   10.6s\n",
      "[Parallel(n_jobs=-1)]: Done 375 tasks      | elapsed:   10.6s\n",
      "[Parallel(n_jobs=-1)]: Done 376 tasks      | elapsed:   10.6s\n",
      "[Parallel(n_jobs=-1)]: Done 377 tasks      | elapsed:   10.6s\n",
      "[Parallel(n_jobs=-1)]: Done 378 tasks      | elapsed:   10.7s\n",
      "[Parallel(n_jobs=-1)]: Done 379 tasks      | elapsed:   10.7s\n",
      "[Parallel(n_jobs=-1)]: Done 380 tasks      | elapsed:   10.7s\n"
     ]
    },
    {
     "name": "stdout",
     "output_type": "stream",
     "text": [
      "building tree 385 of 500\n",
      "building tree 386 of 500\n",
      "building tree 387 of 500\n",
      "building tree 388 of 500\n",
      "building tree 389 of 500\n",
      "building tree 390 of 500\n",
      "building tree 391 of 500\n",
      "building tree 392 of 500\n"
     ]
    },
    {
     "name": "stderr",
     "output_type": "stream",
     "text": [
      "[Parallel(n_jobs=-1)]: Done 381 tasks      | elapsed:   10.7s\n",
      "[Parallel(n_jobs=-1)]: Done 382 tasks      | elapsed:   10.8s\n",
      "[Parallel(n_jobs=-1)]: Done 383 tasks      | elapsed:   10.8s\n",
      "[Parallel(n_jobs=-1)]: Done 384 tasks      | elapsed:   10.8s\n",
      "[Parallel(n_jobs=-1)]: Done 385 tasks      | elapsed:   10.9s\n",
      "[Parallel(n_jobs=-1)]: Done 386 tasks      | elapsed:   10.9s\n",
      "[Parallel(n_jobs=-1)]: Done 387 tasks      | elapsed:   10.9s\n",
      "[Parallel(n_jobs=-1)]: Done 388 tasks      | elapsed:   10.9s\n"
     ]
    },
    {
     "name": "stdout",
     "output_type": "stream",
     "text": [
      "building tree 393 of 500\n",
      "building tree 394 of 500\n",
      "building tree 395 of 500\n",
      "building tree 396 of 500\n",
      "building tree 397 of 500\n",
      "building tree 398 of 500\n",
      "building tree 399 of 500\n",
      "building tree 400 of 500\n",
      "building tree 401 of 500\n"
     ]
    },
    {
     "name": "stderr",
     "output_type": "stream",
     "text": [
      "[Parallel(n_jobs=-1)]: Done 389 tasks      | elapsed:   11.0s\n",
      "[Parallel(n_jobs=-1)]: Done 390 tasks      | elapsed:   11.0s\n",
      "[Parallel(n_jobs=-1)]: Done 391 tasks      | elapsed:   11.0s\n",
      "[Parallel(n_jobs=-1)]: Done 392 tasks      | elapsed:   11.0s\n",
      "[Parallel(n_jobs=-1)]: Done 393 tasks      | elapsed:   11.1s\n",
      "[Parallel(n_jobs=-1)]: Done 394 tasks      | elapsed:   11.1s\n",
      "[Parallel(n_jobs=-1)]: Done 395 tasks      | elapsed:   11.1s\n",
      "[Parallel(n_jobs=-1)]: Done 396 tasks      | elapsed:   11.1s\n",
      "[Parallel(n_jobs=-1)]: Done 397 tasks      | elapsed:   11.2s\n"
     ]
    },
    {
     "name": "stdout",
     "output_type": "stream",
     "text": [
      "building tree 402 of 500\n",
      "building tree 403 of 500\n",
      "building tree 404 of 500\n",
      "building tree 405 of 500\n",
      "building tree 406 of 500\n",
      "building tree 407 of 500\n",
      "building tree 408 of 500\n",
      "building tree 409 of 500\n",
      "building tree 410 of 500\n"
     ]
    },
    {
     "name": "stderr",
     "output_type": "stream",
     "text": [
      "[Parallel(n_jobs=-1)]: Done 398 tasks      | elapsed:   11.2s\n",
      "[Parallel(n_jobs=-1)]: Done 399 tasks      | elapsed:   11.3s\n",
      "[Parallel(n_jobs=-1)]: Done 400 tasks      | elapsed:   11.3s\n",
      "[Parallel(n_jobs=-1)]: Done 401 tasks      | elapsed:   11.3s\n",
      "[Parallel(n_jobs=-1)]: Done 402 tasks      | elapsed:   11.3s\n",
      "[Parallel(n_jobs=-1)]: Done 403 tasks      | elapsed:   11.4s\n",
      "[Parallel(n_jobs=-1)]: Done 404 tasks      | elapsed:   11.4s\n",
      "[Parallel(n_jobs=-1)]: Done 405 tasks      | elapsed:   11.4s\n",
      "[Parallel(n_jobs=-1)]: Done 406 tasks      | elapsed:   11.4s\n"
     ]
    },
    {
     "name": "stdout",
     "output_type": "stream",
     "text": [
      "building tree 411 of 500\n",
      "building tree 412 of 500\n",
      "building tree 413 of 500\n",
      "building tree 414 of 500\n",
      "building tree 415 of 500\n",
      "building tree 416 of 500\n",
      "building tree 417 of 500\n",
      "building tree 418 of 500\n",
      "building tree 419 of 500\n"
     ]
    },
    {
     "name": "stderr",
     "output_type": "stream",
     "text": [
      "[Parallel(n_jobs=-1)]: Done 407 tasks      | elapsed:   11.5s\n",
      "[Parallel(n_jobs=-1)]: Done 408 tasks      | elapsed:   11.5s\n",
      "[Parallel(n_jobs=-1)]: Done 409 tasks      | elapsed:   11.5s\n",
      "[Parallel(n_jobs=-1)]: Done 410 tasks      | elapsed:   11.5s\n",
      "[Parallel(n_jobs=-1)]: Done 411 tasks      | elapsed:   11.6s\n",
      "[Parallel(n_jobs=-1)]: Done 412 tasks      | elapsed:   11.6s\n",
      "[Parallel(n_jobs=-1)]: Done 413 tasks      | elapsed:   11.6s\n",
      "[Parallel(n_jobs=-1)]: Done 414 tasks      | elapsed:   11.6s\n",
      "[Parallel(n_jobs=-1)]: Done 415 tasks      | elapsed:   11.7s\n"
     ]
    },
    {
     "name": "stdout",
     "output_type": "stream",
     "text": [
      "building tree 420 of 500\n",
      "building tree 421 of 500\n",
      "building tree 422 of 500\n",
      "building tree 423 of 500\n",
      "building tree 424 of 500\n",
      "building tree 425 of 500\n",
      "building tree 426 of 500\n",
      "building tree 427 of 500\n"
     ]
    },
    {
     "name": "stderr",
     "output_type": "stream",
     "text": [
      "[Parallel(n_jobs=-1)]: Done 416 tasks      | elapsed:   11.7s\n",
      "[Parallel(n_jobs=-1)]: Done 417 tasks      | elapsed:   11.7s\n",
      "[Parallel(n_jobs=-1)]: Done 418 tasks      | elapsed:   11.7s\n",
      "[Parallel(n_jobs=-1)]: Done 419 tasks      | elapsed:   11.8s\n",
      "[Parallel(n_jobs=-1)]: Done 420 tasks      | elapsed:   11.8s\n",
      "[Parallel(n_jobs=-1)]: Done 421 tasks      | elapsed:   11.9s\n",
      "[Parallel(n_jobs=-1)]: Done 422 tasks      | elapsed:   11.9s\n",
      "[Parallel(n_jobs=-1)]: Done 423 tasks      | elapsed:   11.9s\n"
     ]
    },
    {
     "name": "stdout",
     "output_type": "stream",
     "text": [
      "building tree 428 of 500\n",
      "building tree 429 of 500\n",
      "building tree 430 of 500\n",
      "building tree 431 of 500\n",
      "building tree 432 of 500\n",
      "building tree 433 of 500\n",
      "building tree 434 of 500\n"
     ]
    },
    {
     "name": "stderr",
     "output_type": "stream",
     "text": [
      "[Parallel(n_jobs=-1)]: Done 424 tasks      | elapsed:   11.9s\n",
      "[Parallel(n_jobs=-1)]: Done 425 tasks      | elapsed:   12.0s\n",
      "[Parallel(n_jobs=-1)]: Done 426 tasks      | elapsed:   12.0s\n",
      "[Parallel(n_jobs=-1)]: Done 427 tasks      | elapsed:   12.0s\n",
      "[Parallel(n_jobs=-1)]: Done 428 tasks      | elapsed:   12.1s\n",
      "[Parallel(n_jobs=-1)]: Done 429 tasks      | elapsed:   12.1s\n",
      "[Parallel(n_jobs=-1)]: Done 430 tasks      | elapsed:   12.1s\n"
     ]
    },
    {
     "name": "stdout",
     "output_type": "stream",
     "text": [
      "building tree 435 of 500\n",
      "building tree 436 of 500\n",
      "building tree 437 of 500\n",
      "building tree 438 of 500\n",
      "building tree 439 of 500\n",
      "building tree 440 of 500\n",
      "building tree 441 of 500\n",
      "building tree 442 of 500\n"
     ]
    },
    {
     "name": "stderr",
     "output_type": "stream",
     "text": [
      "[Parallel(n_jobs=-1)]: Done 431 tasks      | elapsed:   12.2s\n",
      "[Parallel(n_jobs=-1)]: Done 432 tasks      | elapsed:   12.2s\n",
      "[Parallel(n_jobs=-1)]: Done 433 tasks      | elapsed:   12.2s\n",
      "[Parallel(n_jobs=-1)]: Done 434 tasks      | elapsed:   12.2s\n",
      "[Parallel(n_jobs=-1)]: Done 435 tasks      | elapsed:   12.3s\n",
      "[Parallel(n_jobs=-1)]: Done 436 tasks      | elapsed:   12.3s\n",
      "[Parallel(n_jobs=-1)]: Done 437 tasks      | elapsed:   12.3s\n",
      "[Parallel(n_jobs=-1)]: Done 438 tasks      | elapsed:   12.3s\n"
     ]
    },
    {
     "name": "stdout",
     "output_type": "stream",
     "text": [
      "building tree 443 of 500\n",
      "building tree 444 of 500\n",
      "building tree 445 of 500\n",
      "building tree 446 of 500\n",
      "building tree 447 of 500\n",
      "building tree 448 of 500\n",
      "building tree 449 of 500\n",
      "building tree 450 of 500\n",
      "building tree 451 of 500\n"
     ]
    },
    {
     "name": "stderr",
     "output_type": "stream",
     "text": [
      "[Parallel(n_jobs=-1)]: Done 439 tasks      | elapsed:   12.4s\n",
      "[Parallel(n_jobs=-1)]: Done 440 tasks      | elapsed:   12.4s\n",
      "[Parallel(n_jobs=-1)]: Done 441 tasks      | elapsed:   12.4s\n",
      "[Parallel(n_jobs=-1)]: Done 442 tasks      | elapsed:   12.4s\n",
      "[Parallel(n_jobs=-1)]: Done 443 tasks      | elapsed:   12.5s\n",
      "[Parallel(n_jobs=-1)]: Done 444 tasks      | elapsed:   12.5s\n",
      "[Parallel(n_jobs=-1)]: Done 445 tasks      | elapsed:   12.5s\n",
      "[Parallel(n_jobs=-1)]: Done 446 tasks      | elapsed:   12.5s\n",
      "[Parallel(n_jobs=-1)]: Done 447 tasks      | elapsed:   12.6s\n"
     ]
    },
    {
     "name": "stdout",
     "output_type": "stream",
     "text": [
      "building tree 452 of 500\n",
      "building tree 453 of 500\n",
      "building tree 454 of 500\n",
      "building tree 455 of 500\n",
      "building tree 456 of 500\n",
      "building tree 457 of 500\n",
      "building tree 458 of 500\n"
     ]
    },
    {
     "name": "stderr",
     "output_type": "stream",
     "text": [
      "[Parallel(n_jobs=-1)]: Done 448 tasks      | elapsed:   12.6s\n",
      "[Parallel(n_jobs=-1)]: Done 449 tasks      | elapsed:   12.6s\n",
      "[Parallel(n_jobs=-1)]: Done 450 tasks      | elapsed:   12.6s\n",
      "[Parallel(n_jobs=-1)]: Done 451 tasks      | elapsed:   12.7s\n",
      "[Parallel(n_jobs=-1)]: Done 452 tasks      | elapsed:   12.7s\n",
      "[Parallel(n_jobs=-1)]: Done 453 tasks      | elapsed:   12.8s\n",
      "[Parallel(n_jobs=-1)]: Done 454 tasks      | elapsed:   12.8s\n"
     ]
    },
    {
     "name": "stdout",
     "output_type": "stream",
     "text": [
      "building tree 459 of 500\n",
      "building tree 460 of 500\n",
      "building tree 461 of 500\n",
      "building tree 462 of 500\n",
      "building tree 463 of 500\n"
     ]
    },
    {
     "name": "stderr",
     "output_type": "stream",
     "text": [
      "[Parallel(n_jobs=-1)]: Done 455 tasks      | elapsed:   12.8s\n",
      "[Parallel(n_jobs=-1)]: Done 456 tasks      | elapsed:   12.9s\n",
      "[Parallel(n_jobs=-1)]: Done 457 tasks      | elapsed:   12.9s\n",
      "[Parallel(n_jobs=-1)]: Done 458 tasks      | elapsed:   12.9s\n",
      "[Parallel(n_jobs=-1)]: Done 459 tasks      | elapsed:   13.0s\n"
     ]
    },
    {
     "name": "stdout",
     "output_type": "stream",
     "text": [
      "building tree 464 of 500\n",
      "building tree 465 of 500\n",
      "building tree 466 of 500\n",
      "building tree 467 of 500\n",
      "building tree 468 of 500\n",
      "building tree 469 of 500\n",
      "building tree 470 of 500\n",
      "building tree 471 of 500\n",
      "building tree 472 of 500\n"
     ]
    },
    {
     "name": "stderr",
     "output_type": "stream",
     "text": [
      "[Parallel(n_jobs=-1)]: Done 460 tasks      | elapsed:   13.1s\n",
      "[Parallel(n_jobs=-1)]: Done 461 tasks      | elapsed:   13.1s\n",
      "[Parallel(n_jobs=-1)]: Done 462 tasks      | elapsed:   13.1s\n",
      "[Parallel(n_jobs=-1)]: Done 463 tasks      | elapsed:   13.1s\n",
      "[Parallel(n_jobs=-1)]: Done 464 tasks      | elapsed:   13.2s\n",
      "[Parallel(n_jobs=-1)]: Done 465 tasks      | elapsed:   13.2s\n",
      "[Parallel(n_jobs=-1)]: Done 466 tasks      | elapsed:   13.2s\n",
      "[Parallel(n_jobs=-1)]: Done 467 tasks      | elapsed:   13.2s\n",
      "[Parallel(n_jobs=-1)]: Done 468 tasks      | elapsed:   13.2s\n"
     ]
    },
    {
     "name": "stdout",
     "output_type": "stream",
     "text": [
      "building tree 473 of 500\n",
      "building tree 474 of 500\n",
      "building tree 475 of 500\n",
      "building tree 476 of 500\n",
      "building tree 477 of 500\n",
      "building tree 478 of 500\n",
      "building tree 479 of 500\n",
      "building tree 480 of 500\n"
     ]
    },
    {
     "name": "stderr",
     "output_type": "stream",
     "text": [
      "[Parallel(n_jobs=-1)]: Done 469 tasks      | elapsed:   13.3s\n",
      "[Parallel(n_jobs=-1)]: Done 470 tasks      | elapsed:   13.3s\n",
      "[Parallel(n_jobs=-1)]: Done 471 tasks      | elapsed:   13.3s\n",
      "[Parallel(n_jobs=-1)]: Done 472 tasks      | elapsed:   13.4s\n",
      "[Parallel(n_jobs=-1)]: Done 473 tasks      | elapsed:   13.4s\n",
      "[Parallel(n_jobs=-1)]: Done 474 tasks      | elapsed:   13.4s\n",
      "[Parallel(n_jobs=-1)]: Done 475 tasks      | elapsed:   13.4s\n",
      "[Parallel(n_jobs=-1)]: Done 476 tasks      | elapsed:   13.4s\n"
     ]
    },
    {
     "name": "stdout",
     "output_type": "stream",
     "text": [
      "building tree 481 of 500\n",
      "building tree 482 of 500\n",
      "building tree 483 of 500\n",
      "building tree 484 of 500\n",
      "building tree 485 of 500\n",
      "building tree 486 of 500\n",
      "building tree 487 of 500\n",
      "building tree 488 of 500\n"
     ]
    },
    {
     "name": "stderr",
     "output_type": "stream",
     "text": [
      "[Parallel(n_jobs=-1)]: Done 477 tasks      | elapsed:   13.5s\n",
      "[Parallel(n_jobs=-1)]: Done 478 tasks      | elapsed:   13.5s\n",
      "[Parallel(n_jobs=-1)]: Done 479 tasks      | elapsed:   13.6s\n",
      "[Parallel(n_jobs=-1)]: Done 480 tasks      | elapsed:   13.6s\n",
      "[Parallel(n_jobs=-1)]: Done 481 tasks      | elapsed:   13.6s\n",
      "[Parallel(n_jobs=-1)]: Done 482 tasks      | elapsed:   13.6s\n",
      "[Parallel(n_jobs=-1)]: Done 483 tasks      | elapsed:   13.6s\n",
      "[Parallel(n_jobs=-1)]: Done 484 tasks      | elapsed:   13.7s\n"
     ]
    },
    {
     "name": "stdout",
     "output_type": "stream",
     "text": [
      "building tree 489 of 500building tree 490 of 500\n",
      "\n",
      "building tree 491 of 500\n",
      "building tree 492 of 500\n",
      "building tree 493 of 500\n",
      "building tree 494 of 500\n",
      "building tree 495 of 500\n",
      "building tree 496 of 500\n",
      "building tree 497 of 500\n"
     ]
    },
    {
     "name": "stderr",
     "output_type": "stream",
     "text": [
      "[Parallel(n_jobs=-1)]: Done 485 tasks      | elapsed:   13.7s\n",
      "[Parallel(n_jobs=-1)]: Done 486 tasks      | elapsed:   13.7s\n",
      "[Parallel(n_jobs=-1)]: Done 487 tasks      | elapsed:   13.8s\n",
      "[Parallel(n_jobs=-1)]: Done 488 tasks      | elapsed:   13.8s\n",
      "[Parallel(n_jobs=-1)]: Done 489 tasks      | elapsed:   13.8s\n",
      "[Parallel(n_jobs=-1)]: Done 490 tasks      | elapsed:   13.8s\n",
      "[Parallel(n_jobs=-1)]: Done 491 tasks      | elapsed:   13.9s\n",
      "[Parallel(n_jobs=-1)]: Done 492 tasks      | elapsed:   13.9s\n",
      "[Parallel(n_jobs=-1)]: Done 493 tasks      | elapsed:   13.9s\n"
     ]
    },
    {
     "name": "stdout",
     "output_type": "stream",
     "text": [
      "building tree 498 of 500\n",
      "building tree 499 of 500\n",
      "building tree 500 of 500\n"
     ]
    },
    {
     "name": "stderr",
     "output_type": "stream",
     "text": [
      "[Parallel(n_jobs=-1)]: Done 500 out of 500 | elapsed:   14.1s finished\n",
      "C:\\Users\\ANTONIS\\Anaconda3\\lib\\site-packages\\sklearn\\utils\\deprecation.py:70: DeprecationWarning: Function transform is deprecated; Support to use estimators as feature selectors will be removed in version 0.19. Use SelectFromModel instead.\n",
      "  warnings.warn(msg, category=DeprecationWarning)\n",
      "C:\\Users\\ANTONIS\\Anaconda3\\lib\\site-packages\\sklearn\\utils\\deprecation.py:70: DeprecationWarning: Function transform is deprecated; Support to use estimators as feature selectors will be removed in version 0.19. Use SelectFromModel instead.\n",
      "  warnings.warn(msg, category=DeprecationWarning)\n"
     ]
    }
   ],
   "source": [
    "\n",
    "rfr = RandomForestRegressor(n_estimators = 500, random_state = 2016, verbose = 20,max_depth = None,n_jobs=-1)\n",
    "rfr.fit(xTraining, yTraining)\n",
    "xtraining = rfr.transform(xTraining)\n",
    "xtest = rfr.transform(xTest)\n",
    "\n",
    "\n"
   ]
  },
  {
   "cell_type": "code",
   "execution_count": 88,
   "metadata": {
    "collapsed": false
   },
   "outputs": [
    {
     "name": "stdout",
     "output_type": "stream",
     "text": [
      "(1780, 333)\n",
      "(4980, 333)\n",
      "(1780, 87)\n",
      "(3200, 87)\n"
     ]
    }
   ],
   "source": [
    "print(xTraining.shape)\n",
    "print(mergeXtable.shape)\n",
    "print(xtraining.shape)\n",
    "print(xtest.shape)"
   ]
  },
  {
   "cell_type": "code",
   "execution_count": 89,
   "metadata": {
    "collapsed": false
   },
   "outputs": [
    {
     "name": "stdout",
     "output_type": "stream",
     "text": [
      "building tree 1 of 500building tree 2 of 500\n",
      "building tree 3 of 500\n",
      "building tree 4 of 500\n",
      "\n",
      "building tree 5 of 500\n",
      "building tree 6 of 500\n",
      "building tree 7 of 500\n",
      "building tree 8 of 500\n"
     ]
    },
    {
     "name": "stderr",
     "output_type": "stream",
     "text": [
      "[Parallel(n_jobs=-1)]: Done   1 tasks      | elapsed:    0.0s\n",
      "[Parallel(n_jobs=-1)]: Done   2 tasks      | elapsed:    0.0s\n",
      "[Parallel(n_jobs=-1)]: Done   3 tasks      | elapsed:    0.0s\n",
      "[Parallel(n_jobs=-1)]: Done   4 tasks      | elapsed:    0.0s\n",
      "[Parallel(n_jobs=-1)]: Done   5 tasks      | elapsed:    0.1s\n",
      "[Parallel(n_jobs=-1)]: Done   6 tasks      | elapsed:    0.1s\n",
      "[Parallel(n_jobs=-1)]: Done   7 tasks      | elapsed:    0.1s\n",
      "[Parallel(n_jobs=-1)]: Done   8 tasks      | elapsed:    0.2s\n"
     ]
    },
    {
     "name": "stdout",
     "output_type": "stream",
     "text": [
      "building tree 9 of 500\n",
      "building tree 10 of 500\n",
      "building tree 11 of 500\n",
      "building tree 12 of 500\n",
      "building tree 13 of 500\n",
      "building tree 14 of 500\n",
      "building tree 15 of 500\n",
      "building tree 16 of 500\n"
     ]
    },
    {
     "name": "stderr",
     "output_type": "stream",
     "text": [
      "[Parallel(n_jobs=-1)]: Done   9 tasks      | elapsed:    0.2s\n",
      "[Parallel(n_jobs=-1)]: Done  10 tasks      | elapsed:    0.2s\n",
      "[Parallel(n_jobs=-1)]: Done  11 tasks      | elapsed:    0.3s\n",
      "[Parallel(n_jobs=-1)]: Done  12 tasks      | elapsed:    0.3s\n",
      "[Parallel(n_jobs=-1)]: Done  13 tasks      | elapsed:    0.4s\n",
      "[Parallel(n_jobs=-1)]: Done  14 tasks      | elapsed:    0.4s\n",
      "[Parallel(n_jobs=-1)]: Done  15 tasks      | elapsed:    0.4s\n",
      "[Parallel(n_jobs=-1)]: Done  16 tasks      | elapsed:    0.4s\n"
     ]
    },
    {
     "name": "stdout",
     "output_type": "stream",
     "text": [
      "building tree 17 of 500\n",
      "building tree 18 of 500\n",
      "building tree 19 of 500\n",
      "building tree 20 of 500\n",
      "building tree 21 of 500\n",
      "building tree 22 of 500\n",
      "building tree 23 of 500\n"
     ]
    },
    {
     "name": "stderr",
     "output_type": "stream",
     "text": [
      "[Parallel(n_jobs=-1)]: Done  17 tasks      | elapsed:    0.5s\n",
      "[Parallel(n_jobs=-1)]: Done  18 tasks      | elapsed:    0.5s\n",
      "[Parallel(n_jobs=-1)]: Done  19 tasks      | elapsed:    0.6s\n",
      "[Parallel(n_jobs=-1)]: Done  20 tasks      | elapsed:    0.6s\n",
      "[Parallel(n_jobs=-1)]: Done  21 tasks      | elapsed:    0.6s\n",
      "[Parallel(n_jobs=-1)]: Done  22 tasks      | elapsed:    0.7s\n",
      "[Parallel(n_jobs=-1)]: Done  23 tasks      | elapsed:    0.7s\n",
      "[Parallel(n_jobs=-1)]: Done  24 tasks      | elapsed:    0.7s\n"
     ]
    },
    {
     "name": "stdout",
     "output_type": "stream",
     "text": [
      "building tree 24 of 500\n",
      "building tree 25 of 500\n",
      "building tree 26 of 500\n",
      "building tree 27 of 500\n",
      "building tree 28 of 500\n",
      "building tree 29 of 500\n"
     ]
    },
    {
     "name": "stderr",
     "output_type": "stream",
     "text": [
      "[Parallel(n_jobs=-1)]: Done  25 tasks      | elapsed:    0.7s\n",
      "[Parallel(n_jobs=-1)]: Done  26 tasks      | elapsed:    0.8s\n",
      "[Parallel(n_jobs=-1)]: Done  27 tasks      | elapsed:    0.9s\n",
      "[Parallel(n_jobs=-1)]: Done  28 tasks      | elapsed:    0.9s\n",
      "[Parallel(n_jobs=-1)]: Done  29 tasks      | elapsed:    0.9s\n",
      "[Parallel(n_jobs=-1)]: Done  30 tasks      | elapsed:    0.9s\n"
     ]
    },
    {
     "name": "stdout",
     "output_type": "stream",
     "text": [
      "building tree 30 of 500\n",
      "building tree 31 of 500\n",
      "building tree 32 of 500\n",
      "building tree 33 of 500\n",
      "building tree 34 of 500\n",
      "building tree 35 of 500\n",
      "building tree 36 of 500\n"
     ]
    },
    {
     "name": "stderr",
     "output_type": "stream",
     "text": [
      "[Parallel(n_jobs=-1)]: Done  31 tasks      | elapsed:    1.0s\n",
      "[Parallel(n_jobs=-1)]: Done  32 tasks      | elapsed:    1.0s\n",
      "[Parallel(n_jobs=-1)]: Done  33 tasks      | elapsed:    1.1s\n",
      "[Parallel(n_jobs=-1)]: Done  34 tasks      | elapsed:    1.1s\n",
      "[Parallel(n_jobs=-1)]: Done  35 tasks      | elapsed:    1.1s\n",
      "[Parallel(n_jobs=-1)]: Done  36 tasks      | elapsed:    1.1s\n"
     ]
    },
    {
     "name": "stdout",
     "output_type": "stream",
     "text": [
      "building tree 37 of 500\n",
      "building tree 38 of 500\n",
      "building tree 39 of 500\n",
      "building tree 40 of 500\n",
      "building tree 41 of 500\n",
      "building tree 42 of 500\n",
      "building tree 43 of 500\n",
      "building tree 44 of 500\n"
     ]
    },
    {
     "name": "stderr",
     "output_type": "stream",
     "text": [
      "[Parallel(n_jobs=-1)]: Done  37 tasks      | elapsed:    1.2s\n",
      "[Parallel(n_jobs=-1)]: Done  38 tasks      | elapsed:    1.2s\n",
      "[Parallel(n_jobs=-1)]: Done  39 tasks      | elapsed:    1.2s\n",
      "[Parallel(n_jobs=-1)]: Done  40 tasks      | elapsed:    1.3s\n",
      "[Parallel(n_jobs=-1)]: Done  41 tasks      | elapsed:    1.3s\n",
      "[Parallel(n_jobs=-1)]: Done  42 tasks      | elapsed:    1.3s\n",
      "[Parallel(n_jobs=-1)]: Done  43 tasks      | elapsed:    1.4s\n",
      "[Parallel(n_jobs=-1)]: Done  44 tasks      | elapsed:    1.4s\n"
     ]
    },
    {
     "name": "stdout",
     "output_type": "stream",
     "text": [
      "building tree 45 of 500\n",
      "building tree 46 of 500\n",
      "building tree 47 of 500\n",
      "building tree 48 of 500\n",
      "building tree 49 of 500\n",
      "building tree 50 of 500\n"
     ]
    },
    {
     "name": "stderr",
     "output_type": "stream",
     "text": [
      "[Parallel(n_jobs=-1)]: Done  45 tasks      | elapsed:    1.4s\n",
      "[Parallel(n_jobs=-1)]: Done  46 tasks      | elapsed:    1.5s\n",
      "[Parallel(n_jobs=-1)]: Done  47 tasks      | elapsed:    1.5s\n",
      "[Parallel(n_jobs=-1)]: Done  48 tasks      | elapsed:    1.6s\n",
      "[Parallel(n_jobs=-1)]: Done  49 tasks      | elapsed:    1.6s\n",
      "[Parallel(n_jobs=-1)]: Done  50 tasks      | elapsed:    1.6s\n"
     ]
    },
    {
     "name": "stdout",
     "output_type": "stream",
     "text": [
      "building tree 51 of 500\n",
      "building tree 52 of 500\n",
      "building tree 53 of 500\n",
      "building tree 54 of 500\n",
      "building tree 55 of 500\n",
      "building tree 56 of 500\n"
     ]
    },
    {
     "name": "stderr",
     "output_type": "stream",
     "text": [
      "[Parallel(n_jobs=-1)]: Done  51 tasks      | elapsed:    1.7s\n",
      "[Parallel(n_jobs=-1)]: Done  52 tasks      | elapsed:    1.7s\n",
      "[Parallel(n_jobs=-1)]: Done  53 tasks      | elapsed:    1.8s\n",
      "[Parallel(n_jobs=-1)]: Done  54 tasks      | elapsed:    1.8s\n",
      "[Parallel(n_jobs=-1)]: Done  55 tasks      | elapsed:    1.9s\n",
      "[Parallel(n_jobs=-1)]: Done  56 tasks      | elapsed:    1.9s\n",
      "[Parallel(n_jobs=-1)]: Done  57 tasks      | elapsed:    1.9s\n"
     ]
    },
    {
     "name": "stdout",
     "output_type": "stream",
     "text": [
      "building tree 57 of 500\n",
      "building tree 58 of 500\n",
      "building tree 59 of 500\n",
      "building tree 60 of 500\n",
      "building tree 61 of 500\n",
      "building tree 62 of 500\n",
      "building tree 63 of 500\n",
      "building tree 64 of 500\n",
      "building tree 65 of 500\n",
      "building tree 66 of 500\n",
      "building tree 67 of 500\n",
      "building tree 68 of 500\n"
     ]
    },
    {
     "name": "stderr",
     "output_type": "stream",
     "text": [
      "[Parallel(n_jobs=-1)]: Done  58 tasks      | elapsed:    2.0s\n",
      "[Parallel(n_jobs=-1)]: Done  59 tasks      | elapsed:    2.0s\n",
      "[Parallel(n_jobs=-1)]: Done  60 tasks      | elapsed:    2.0s\n",
      "[Parallel(n_jobs=-1)]: Done  61 tasks      | elapsed:    2.1s\n",
      "[Parallel(n_jobs=-1)]: Done  62 tasks      | elapsed:    2.1s\n",
      "[Parallel(n_jobs=-1)]: Done  63 tasks      | elapsed:    2.2s\n",
      "[Parallel(n_jobs=-1)]: Done  64 tasks      | elapsed:    2.2s\n"
     ]
    },
    {
     "name": "stdout",
     "output_type": "stream",
     "text": [
      "building tree 69 of 500\n",
      "building tree 70 of 500\n",
      "building tree 71 of 500\n",
      "building tree 72 of 500\n",
      "building tree 73 of 500\n",
      "building tree 74 of 500\n",
      "building tree 75 of 500\n"
     ]
    },
    {
     "name": "stderr",
     "output_type": "stream",
     "text": [
      "[Parallel(n_jobs=-1)]: Done  65 tasks      | elapsed:    2.2s\n",
      "[Parallel(n_jobs=-1)]: Done  66 tasks      | elapsed:    2.3s\n",
      "[Parallel(n_jobs=-1)]: Done  67 tasks      | elapsed:    2.3s\n",
      "[Parallel(n_jobs=-1)]: Done  68 tasks      | elapsed:    2.3s\n",
      "[Parallel(n_jobs=-1)]: Done  69 tasks      | elapsed:    2.3s\n",
      "[Parallel(n_jobs=-1)]: Done  70 tasks      | elapsed:    2.4s\n",
      "[Parallel(n_jobs=-1)]: Done  71 tasks      | elapsed:    2.4s\n"
     ]
    },
    {
     "name": "stdout",
     "output_type": "stream",
     "text": [
      "building tree 76 of 500\n",
      "building tree 77 of 500\n",
      "building tree 78 of 500\n",
      "building tree 79 of 500\n",
      "building tree 80 of 500\n",
      "building tree 81 of 500\n",
      "building tree 82 of 500\n"
     ]
    },
    {
     "name": "stderr",
     "output_type": "stream",
     "text": [
      "[Parallel(n_jobs=-1)]: Done  72 tasks      | elapsed:    2.4s\n",
      "[Parallel(n_jobs=-1)]: Done  73 tasks      | elapsed:    2.4s\n",
      "[Parallel(n_jobs=-1)]: Done  74 tasks      | elapsed:    2.5s\n",
      "[Parallel(n_jobs=-1)]: Done  75 tasks      | elapsed:    2.5s\n",
      "[Parallel(n_jobs=-1)]: Done  76 tasks      | elapsed:    2.5s\n",
      "[Parallel(n_jobs=-1)]: Done  77 tasks      | elapsed:    2.5s\n",
      "[Parallel(n_jobs=-1)]: Done  78 tasks      | elapsed:    2.6s\n"
     ]
    },
    {
     "name": "stdout",
     "output_type": "stream",
     "text": [
      "building tree 83 of 500\n",
      "building tree 84 of 500\n",
      "building tree 85 of 500\n",
      "building tree 86 of 500\n",
      "building tree 87 of 500\n"
     ]
    },
    {
     "name": "stderr",
     "output_type": "stream",
     "text": [
      "[Parallel(n_jobs=-1)]: Done  79 tasks      | elapsed:    2.6s\n",
      "[Parallel(n_jobs=-1)]: Done  80 tasks      | elapsed:    2.7s\n",
      "[Parallel(n_jobs=-1)]: Done  81 tasks      | elapsed:    2.7s\n",
      "[Parallel(n_jobs=-1)]: Done  82 tasks      | elapsed:    2.8s\n",
      "[Parallel(n_jobs=-1)]: Done  83 tasks      | elapsed:    2.8s\n"
     ]
    },
    {
     "name": "stdout",
     "output_type": "stream",
     "text": [
      "building tree 88 of 500\n",
      "building tree 89 of 500\n",
      "building tree 90 of 500\n",
      "building tree 91 of 500\n",
      "building tree 92 of 500\n"
     ]
    },
    {
     "name": "stderr",
     "output_type": "stream",
     "text": [
      "[Parallel(n_jobs=-1)]: Done  84 tasks      | elapsed:    2.9s\n",
      "[Parallel(n_jobs=-1)]: Done  85 tasks      | elapsed:    2.9s\n",
      "[Parallel(n_jobs=-1)]: Done  86 tasks      | elapsed:    2.9s\n",
      "[Parallel(n_jobs=-1)]: Done  87 tasks      | elapsed:    3.0s\n",
      "[Parallel(n_jobs=-1)]: Done  88 tasks      | elapsed:    3.0s\n"
     ]
    },
    {
     "name": "stdout",
     "output_type": "stream",
     "text": [
      "building tree 93 of 500\n",
      "building tree 94 of 500\n",
      "building tree 95 of 500\n",
      "building tree 96 of 500\n",
      "building tree 97 of 500\n",
      "building tree 98 of 500\n"
     ]
    },
    {
     "name": "stderr",
     "output_type": "stream",
     "text": [
      "[Parallel(n_jobs=-1)]: Done  89 tasks      | elapsed:    3.1s\n",
      "[Parallel(n_jobs=-1)]: Done  90 tasks      | elapsed:    3.1s\n",
      "[Parallel(n_jobs=-1)]: Done  91 tasks      | elapsed:    3.2s\n",
      "[Parallel(n_jobs=-1)]: Done  92 tasks      | elapsed:    3.2s\n",
      "[Parallel(n_jobs=-1)]: Done  93 tasks      | elapsed:    3.3s\n",
      "[Parallel(n_jobs=-1)]: Done  94 tasks      | elapsed:    3.3s\n"
     ]
    },
    {
     "name": "stdout",
     "output_type": "stream",
     "text": [
      "building tree 99 of 500\n",
      "building tree 100 of 500\n",
      "building tree 101 of 500\n",
      "building tree 102 of 500\n",
      "building tree 103 of 500\n",
      "building tree 104 of 500\n",
      "building tree 105 of 500\n"
     ]
    },
    {
     "name": "stderr",
     "output_type": "stream",
     "text": [
      "[Parallel(n_jobs=-1)]: Done  95 tasks      | elapsed:    3.3s\n",
      "[Parallel(n_jobs=-1)]: Done  96 tasks      | elapsed:    3.4s\n",
      "[Parallel(n_jobs=-1)]: Done  97 tasks      | elapsed:    3.4s\n",
      "[Parallel(n_jobs=-1)]: Done  98 tasks      | elapsed:    3.5s\n",
      "[Parallel(n_jobs=-1)]: Done  99 tasks      | elapsed:    3.5s\n",
      "[Parallel(n_jobs=-1)]: Done 100 tasks      | elapsed:    3.5s\n",
      "[Parallel(n_jobs=-1)]: Done 101 tasks      | elapsed:    3.5s\n"
     ]
    },
    {
     "name": "stdout",
     "output_type": "stream",
     "text": [
      "building tree 106 of 500\n",
      "building tree 107 of 500\n",
      "building tree 108 of 500\n",
      "building tree 109 of 500\n",
      "building tree 110 of 500\n",
      "building tree 111 of 500\n",
      "building tree 112 of 500\n",
      "building tree 113 of 500\n",
      "building tree 114 of 500\n"
     ]
    },
    {
     "name": "stderr",
     "output_type": "stream",
     "text": [
      "[Parallel(n_jobs=-1)]: Done 102 tasks      | elapsed:    3.6s\n",
      "[Parallel(n_jobs=-1)]: Done 103 tasks      | elapsed:    3.7s\n",
      "[Parallel(n_jobs=-1)]: Done 104 tasks      | elapsed:    3.7s\n",
      "[Parallel(n_jobs=-1)]: Done 105 tasks      | elapsed:    3.7s\n",
      "[Parallel(n_jobs=-1)]: Done 106 tasks      | elapsed:    3.7s\n",
      "[Parallel(n_jobs=-1)]: Done 107 tasks      | elapsed:    3.8s\n",
      "[Parallel(n_jobs=-1)]: Done 108 tasks      | elapsed:    3.8s\n",
      "[Parallel(n_jobs=-1)]: Done 109 tasks      | elapsed:    3.8s\n",
      "[Parallel(n_jobs=-1)]: Done 110 tasks      | elapsed:    3.8s\n"
     ]
    },
    {
     "name": "stdout",
     "output_type": "stream",
     "text": [
      "building tree 115 of 500\n",
      "building tree 116 of 500\n",
      "building tree 117 of 500\n",
      "building tree 118 of 500\n",
      "building tree 119 of 500\n",
      "building tree 120 of 500\n",
      "building tree 121 of 500\n",
      "building tree 122 of 500\n",
      "building tree 123 of 500\n"
     ]
    },
    {
     "name": "stderr",
     "output_type": "stream",
     "text": [
      "[Parallel(n_jobs=-1)]: Done 111 tasks      | elapsed:    3.9s\n",
      "[Parallel(n_jobs=-1)]: Done 112 tasks      | elapsed:    3.9s\n",
      "[Parallel(n_jobs=-1)]: Done 113 tasks      | elapsed:    3.9s\n",
      "[Parallel(n_jobs=-1)]: Done 114 tasks      | elapsed:    3.9s\n",
      "[Parallel(n_jobs=-1)]: Done 115 tasks      | elapsed:    4.0s\n",
      "[Parallel(n_jobs=-1)]: Done 116 tasks      | elapsed:    4.0s\n",
      "[Parallel(n_jobs=-1)]: Done 117 tasks      | elapsed:    4.0s\n",
      "[Parallel(n_jobs=-1)]: Done 118 tasks      | elapsed:    4.0s\n",
      "[Parallel(n_jobs=-1)]: Done 119 tasks      | elapsed:    4.1s\n"
     ]
    },
    {
     "name": "stdout",
     "output_type": "stream",
     "text": [
      "building tree 124 of 500\n",
      "building tree 125 of 500\n",
      "building tree 126 of 500\n",
      "building tree 127 of 500\n",
      "building tree 128 of 500\n",
      "building tree 129 of 500\n",
      "building tree 130 of 500\n"
     ]
    },
    {
     "name": "stderr",
     "output_type": "stream",
     "text": [
      "[Parallel(n_jobs=-1)]: Done 120 tasks      | elapsed:    4.1s\n",
      "[Parallel(n_jobs=-1)]: Done 121 tasks      | elapsed:    4.2s\n",
      "[Parallel(n_jobs=-1)]: Done 122 tasks      | elapsed:    4.2s\n",
      "[Parallel(n_jobs=-1)]: Done 123 tasks      | elapsed:    4.2s\n",
      "[Parallel(n_jobs=-1)]: Done 124 tasks      | elapsed:    4.2s\n",
      "[Parallel(n_jobs=-1)]: Done 125 tasks      | elapsed:    4.3s\n",
      "[Parallel(n_jobs=-1)]: Done 126 tasks      | elapsed:    4.3s\n"
     ]
    },
    {
     "name": "stdout",
     "output_type": "stream",
     "text": [
      "building tree 131 of 500\n",
      "building tree 132 of 500\n",
      "building tree 133 of 500\n",
      "building tree 134 of 500\n",
      "building tree 135 of 500\n",
      "building tree 136 of 500\n",
      "building tree 137 of 500\n"
     ]
    },
    {
     "name": "stderr",
     "output_type": "stream",
     "text": [
      "[Parallel(n_jobs=-1)]: Done 127 tasks      | elapsed:    4.3s\n",
      "[Parallel(n_jobs=-1)]: Done 128 tasks      | elapsed:    4.3s\n",
      "[Parallel(n_jobs=-1)]: Done 129 tasks      | elapsed:    4.3s\n",
      "[Parallel(n_jobs=-1)]: Done 130 tasks      | elapsed:    4.4s\n",
      "[Parallel(n_jobs=-1)]: Done 131 tasks      | elapsed:    4.4s\n",
      "[Parallel(n_jobs=-1)]: Done 132 tasks      | elapsed:    4.4s\n",
      "[Parallel(n_jobs=-1)]: Done 133 tasks      | elapsed:    4.4s\n"
     ]
    },
    {
     "name": "stdout",
     "output_type": "stream",
     "text": [
      "building tree 138 of 500\n",
      "building tree 139 of 500\n",
      "building tree 140 of 500\n",
      "building tree 141 of 500\n",
      "building tree 142 of 500\n",
      "building tree 143 of 500\n",
      "building tree 144 of 500\n",
      "building tree 145 of 500\n"
     ]
    },
    {
     "name": "stderr",
     "output_type": "stream",
     "text": [
      "[Parallel(n_jobs=-1)]: Done 134 tasks      | elapsed:    4.5s\n",
      "[Parallel(n_jobs=-1)]: Done 135 tasks      | elapsed:    4.5s\n",
      "[Parallel(n_jobs=-1)]: Done 136 tasks      | elapsed:    4.6s\n",
      "[Parallel(n_jobs=-1)]: Done 137 tasks      | elapsed:    4.6s\n",
      "[Parallel(n_jobs=-1)]: Done 138 tasks      | elapsed:    4.6s\n",
      "[Parallel(n_jobs=-1)]: Done 139 tasks      | elapsed:    4.6s\n",
      "[Parallel(n_jobs=-1)]: Done 140 tasks      | elapsed:    4.7s\n",
      "[Parallel(n_jobs=-1)]: Done 141 tasks      | elapsed:    4.7s\n"
     ]
    },
    {
     "name": "stdout",
     "output_type": "stream",
     "text": [
      "building tree 146 of 500\n",
      "building tree 147 of 500\n",
      "building tree 148 of 500\n",
      "building tree 149 of 500\n",
      "building tree 150 of 500\n",
      "building tree 151 of 500\n",
      "building tree 152 of 500\n",
      "building tree 153 of 500\n"
     ]
    },
    {
     "name": "stderr",
     "output_type": "stream",
     "text": [
      "[Parallel(n_jobs=-1)]: Done 142 tasks      | elapsed:    4.7s\n",
      "[Parallel(n_jobs=-1)]: Done 143 tasks      | elapsed:    4.7s\n",
      "[Parallel(n_jobs=-1)]: Done 144 tasks      | elapsed:    4.8s\n",
      "[Parallel(n_jobs=-1)]: Done 145 tasks      | elapsed:    4.8s\n",
      "[Parallel(n_jobs=-1)]: Done 146 tasks      | elapsed:    4.9s\n",
      "[Parallel(n_jobs=-1)]: Done 147 tasks      | elapsed:    4.9s\n",
      "[Parallel(n_jobs=-1)]: Done 148 tasks      | elapsed:    4.9s\n",
      "[Parallel(n_jobs=-1)]: Done 149 tasks      | elapsed:    4.9s\n"
     ]
    },
    {
     "name": "stdout",
     "output_type": "stream",
     "text": [
      "building tree 154 of 500\n",
      "building tree 155 of 500\n",
      "building tree 156 of 500\n",
      "building tree 157 of 500\n",
      "building tree 158 of 500\n",
      "building tree 159 of 500\n",
      "building tree 160 of 500\n"
     ]
    },
    {
     "name": "stderr",
     "output_type": "stream",
     "text": [
      "[Parallel(n_jobs=-1)]: Done 150 tasks      | elapsed:    4.9s\n",
      "[Parallel(n_jobs=-1)]: Done 151 tasks      | elapsed:    5.0s\n",
      "[Parallel(n_jobs=-1)]: Done 152 tasks      | elapsed:    5.0s\n",
      "[Parallel(n_jobs=-1)]: Done 153 tasks      | elapsed:    5.1s\n",
      "[Parallel(n_jobs=-1)]: Done 154 tasks      | elapsed:    5.1s\n",
      "[Parallel(n_jobs=-1)]: Done 155 tasks      | elapsed:    5.1s\n",
      "[Parallel(n_jobs=-1)]: Done 156 tasks      | elapsed:    5.1s\n"
     ]
    },
    {
     "name": "stdout",
     "output_type": "stream",
     "text": [
      "building tree 161 of 500\n",
      "building tree 162 of 500\n",
      "building tree 163 of 500\n",
      "building tree 164 of 500\n",
      "building tree 165 of 500\n",
      "building tree 166 of 500\n",
      "building tree 167 of 500\n",
      "building tree 168 of 500\n",
      "building tree 169 of 500\n"
     ]
    },
    {
     "name": "stderr",
     "output_type": "stream",
     "text": [
      "[Parallel(n_jobs=-1)]: Done 157 tasks      | elapsed:    5.2s\n",
      "[Parallel(n_jobs=-1)]: Done 158 tasks      | elapsed:    5.2s\n",
      "[Parallel(n_jobs=-1)]: Done 159 tasks      | elapsed:    5.2s\n",
      "[Parallel(n_jobs=-1)]: Done 160 tasks      | elapsed:    5.2s\n",
      "[Parallel(n_jobs=-1)]: Done 161 tasks      | elapsed:    5.3s\n",
      "[Parallel(n_jobs=-1)]: Done 162 tasks      | elapsed:    5.3s\n",
      "[Parallel(n_jobs=-1)]: Done 163 tasks      | elapsed:    5.3s\n",
      "[Parallel(n_jobs=-1)]: Done 164 tasks      | elapsed:    5.3s\n",
      "[Parallel(n_jobs=-1)]: Done 165 tasks      | elapsed:    5.4s\n"
     ]
    },
    {
     "name": "stdout",
     "output_type": "stream",
     "text": [
      "building tree 170 of 500\n",
      "building tree 171 of 500\n",
      "building tree 172 of 500\n",
      "building tree 173 of 500\n",
      "building tree 174 of 500\n",
      "building tree 175 of 500\n",
      "building tree 176 of 500\n",
      "building tree 177 of 500\n"
     ]
    },
    {
     "name": "stderr",
     "output_type": "stream",
     "text": [
      "[Parallel(n_jobs=-1)]: Done 166 tasks      | elapsed:    5.4s\n",
      "[Parallel(n_jobs=-1)]: Done 167 tasks      | elapsed:    5.4s\n",
      "[Parallel(n_jobs=-1)]: Done 168 tasks      | elapsed:    5.5s\n",
      "[Parallel(n_jobs=-1)]: Done 169 tasks      | elapsed:    5.5s\n",
      "[Parallel(n_jobs=-1)]: Done 170 tasks      | elapsed:    5.5s\n",
      "[Parallel(n_jobs=-1)]: Done 171 tasks      | elapsed:    5.5s\n",
      "[Parallel(n_jobs=-1)]: Done 172 tasks      | elapsed:    5.6s\n",
      "[Parallel(n_jobs=-1)]: Done 173 tasks      | elapsed:    5.6s\n"
     ]
    },
    {
     "name": "stdout",
     "output_type": "stream",
     "text": [
      "building tree 178 of 500\n",
      "building tree 179 of 500\n",
      "building tree 180 of 500\n",
      "building tree 181 of 500\n",
      "building tree 182 of 500\n",
      "building tree 183 of 500\n",
      "building tree 184 of 500\n",
      "building tree 185 of 500\n",
      "building tree 186 of 500\n",
      "building tree 187 of 500\n"
     ]
    },
    {
     "name": "stderr",
     "output_type": "stream",
     "text": [
      "[Parallel(n_jobs=-1)]: Done 174 tasks      | elapsed:    5.7s\n",
      "[Parallel(n_jobs=-1)]: Done 175 tasks      | elapsed:    5.7s\n",
      "[Parallel(n_jobs=-1)]: Done 176 tasks      | elapsed:    5.7s\n",
      "[Parallel(n_jobs=-1)]: Done 177 tasks      | elapsed:    5.7s\n",
      "[Parallel(n_jobs=-1)]: Done 178 tasks      | elapsed:    5.7s\n",
      "[Parallel(n_jobs=-1)]: Done 179 tasks      | elapsed:    5.8s\n",
      "[Parallel(n_jobs=-1)]: Done 180 tasks      | elapsed:    5.8s\n",
      "[Parallel(n_jobs=-1)]: Done 181 tasks      | elapsed:    5.8s\n",
      "[Parallel(n_jobs=-1)]: Done 182 tasks      | elapsed:    5.8s\n",
      "[Parallel(n_jobs=-1)]: Done 183 tasks      | elapsed:    5.9s\n"
     ]
    },
    {
     "name": "stdout",
     "output_type": "stream",
     "text": [
      "building tree 188 of 500\n",
      "building tree 189 of 500\n",
      "building tree 190 of 500\n",
      "building tree 191 of 500\n",
      "building tree 192 of 500\n",
      "building tree 193 of 500\n",
      "building tree 194 of 500\n"
     ]
    },
    {
     "name": "stderr",
     "output_type": "stream",
     "text": [
      "[Parallel(n_jobs=-1)]: Done 184 tasks      | elapsed:    5.9s\n",
      "[Parallel(n_jobs=-1)]: Done 185 tasks      | elapsed:    5.9s\n",
      "[Parallel(n_jobs=-1)]: Done 186 tasks      | elapsed:    6.0s\n",
      "[Parallel(n_jobs=-1)]: Done 187 tasks      | elapsed:    6.0s\n",
      "[Parallel(n_jobs=-1)]: Done 188 tasks      | elapsed:    6.0s\n",
      "[Parallel(n_jobs=-1)]: Done 189 tasks      | elapsed:    6.0s\n",
      "[Parallel(n_jobs=-1)]: Done 190 tasks      | elapsed:    6.1s\n"
     ]
    },
    {
     "name": "stdout",
     "output_type": "stream",
     "text": [
      "building tree 195 of 500\n",
      "building tree 196 of 500\n",
      "building tree 197 of 500\n",
      "building tree 198 of 500\n",
      "building tree 199 of 500\n",
      "building tree 200 of 500\n",
      "building tree 201 of 500\n",
      "building tree 202 of 500\n",
      "building tree 203 of 500\n"
     ]
    },
    {
     "name": "stderr",
     "output_type": "stream",
     "text": [
      "[Parallel(n_jobs=-1)]: Done 191 tasks      | elapsed:    6.1s\n",
      "[Parallel(n_jobs=-1)]: Done 192 tasks      | elapsed:    6.1s\n",
      "[Parallel(n_jobs=-1)]: Done 193 tasks      | elapsed:    6.1s\n",
      "[Parallel(n_jobs=-1)]: Done 194 tasks      | elapsed:    6.2s\n",
      "[Parallel(n_jobs=-1)]: Done 195 tasks      | elapsed:    6.2s\n",
      "[Parallel(n_jobs=-1)]: Done 196 tasks      | elapsed:    6.2s\n",
      "[Parallel(n_jobs=-1)]: Done 197 tasks      | elapsed:    6.2s\n",
      "[Parallel(n_jobs=-1)]: Done 198 tasks      | elapsed:    6.3s\n",
      "[Parallel(n_jobs=-1)]: Done 199 tasks      | elapsed:    6.3s\n"
     ]
    },
    {
     "name": "stdout",
     "output_type": "stream",
     "text": [
      "building tree 204 of 500\n",
      "building tree 205 of 500\n",
      "building tree 206 of 500\n",
      "building tree 207 of 500\n",
      "building tree 208 of 500\n",
      "building tree 209 of 500\n",
      "building tree 210 of 500\n",
      "building tree 211 of 500\n"
     ]
    },
    {
     "name": "stderr",
     "output_type": "stream",
     "text": [
      "[Parallel(n_jobs=-1)]: Done 200 tasks      | elapsed:    6.4s\n",
      "[Parallel(n_jobs=-1)]: Done 201 tasks      | elapsed:    6.4s\n",
      "[Parallel(n_jobs=-1)]: Done 202 tasks      | elapsed:    6.4s\n",
      "[Parallel(n_jobs=-1)]: Done 203 tasks      | elapsed:    6.4s\n",
      "[Parallel(n_jobs=-1)]: Done 204 tasks      | elapsed:    6.5s\n",
      "[Parallel(n_jobs=-1)]: Done 205 tasks      | elapsed:    6.5s\n",
      "[Parallel(n_jobs=-1)]: Done 206 tasks      | elapsed:    6.5s\n",
      "[Parallel(n_jobs=-1)]: Done 207 tasks      | elapsed:    6.5s\n"
     ]
    },
    {
     "name": "stdout",
     "output_type": "stream",
     "text": [
      "building tree 212 of 500\n",
      "building tree 213 of 500\n",
      "building tree 214 of 500\n",
      "building tree 215 of 500\n",
      "building tree 216 of 500\n",
      "building tree 217 of 500\n",
      "building tree 218 of 500\n"
     ]
    },
    {
     "name": "stderr",
     "output_type": "stream",
     "text": [
      "[Parallel(n_jobs=-1)]: Done 208 tasks      | elapsed:    6.6s\n",
      "[Parallel(n_jobs=-1)]: Done 209 tasks      | elapsed:    6.6s\n",
      "[Parallel(n_jobs=-1)]: Done 210 tasks      | elapsed:    6.6s\n",
      "[Parallel(n_jobs=-1)]: Done 211 tasks      | elapsed:    6.6s\n",
      "[Parallel(n_jobs=-1)]: Done 212 tasks      | elapsed:    6.7s\n",
      "[Parallel(n_jobs=-1)]: Done 213 tasks      | elapsed:    6.7s\n",
      "[Parallel(n_jobs=-1)]: Done 214 tasks      | elapsed:    6.8s\n"
     ]
    },
    {
     "name": "stdout",
     "output_type": "stream",
     "text": [
      "building tree 219 of 500\n",
      "building tree 220 of 500\n",
      "building tree 221 of 500\n",
      "building tree 222 of 500\n",
      "building tree 223 of 500\n",
      "building tree 224 of 500\n"
     ]
    },
    {
     "name": "stderr",
     "output_type": "stream",
     "text": [
      "[Parallel(n_jobs=-1)]: Done 215 tasks      | elapsed:    6.8s\n",
      "[Parallel(n_jobs=-1)]: Done 216 tasks      | elapsed:    6.9s\n",
      "[Parallel(n_jobs=-1)]: Done 217 tasks      | elapsed:    6.9s\n",
      "[Parallel(n_jobs=-1)]: Done 218 tasks      | elapsed:    6.9s\n",
      "[Parallel(n_jobs=-1)]: Done 219 tasks      | elapsed:    7.0s\n",
      "[Parallel(n_jobs=-1)]: Done 220 tasks      | elapsed:    7.0s\n"
     ]
    },
    {
     "name": "stdout",
     "output_type": "stream",
     "text": [
      "building tree 225 of 500\n",
      "building tree 226 of 500\n",
      "building tree 227 of 500\n",
      "building tree 228 of 500\n",
      "building tree 229 of 500\n",
      "building tree 230 of 500\n",
      "building tree 231 of 500\n",
      "building tree 232 of 500\n",
      "building tree 233 of 500\n"
     ]
    },
    {
     "name": "stderr",
     "output_type": "stream",
     "text": [
      "[Parallel(n_jobs=-1)]: Done 221 tasks      | elapsed:    7.1s\n",
      "[Parallel(n_jobs=-1)]: Done 222 tasks      | elapsed:    7.1s\n",
      "[Parallel(n_jobs=-1)]: Done 223 tasks      | elapsed:    7.1s\n",
      "[Parallel(n_jobs=-1)]: Done 224 tasks      | elapsed:    7.1s\n",
      "[Parallel(n_jobs=-1)]: Done 225 tasks      | elapsed:    7.1s\n",
      "[Parallel(n_jobs=-1)]: Done 226 tasks      | elapsed:    7.2s\n",
      "[Parallel(n_jobs=-1)]: Done 227 tasks      | elapsed:    7.2s\n",
      "[Parallel(n_jobs=-1)]: Done 228 tasks      | elapsed:    7.2s\n",
      "[Parallel(n_jobs=-1)]: Done 229 tasks      | elapsed:    7.2s\n"
     ]
    },
    {
     "name": "stdout",
     "output_type": "stream",
     "text": [
      "building tree 234 of 500\n",
      "building tree 235 of 500\n",
      "building tree 236 of 500\n",
      "building tree 237 of 500\n",
      "building tree 238 of 500\n",
      "building tree 239 of 500\n",
      "building tree 240 of 500\n",
      "building tree 241 of 500\n"
     ]
    },
    {
     "name": "stderr",
     "output_type": "stream",
     "text": [
      "[Parallel(n_jobs=-1)]: Done 230 tasks      | elapsed:    7.3s\n",
      "[Parallel(n_jobs=-1)]: Done 231 tasks      | elapsed:    7.3s\n",
      "[Parallel(n_jobs=-1)]: Done 232 tasks      | elapsed:    7.3s\n",
      "[Parallel(n_jobs=-1)]: Done 233 tasks      | elapsed:    7.4s\n",
      "[Parallel(n_jobs=-1)]: Done 234 tasks      | elapsed:    7.4s\n",
      "[Parallel(n_jobs=-1)]: Done 235 tasks      | elapsed:    7.4s\n",
      "[Parallel(n_jobs=-1)]: Done 236 tasks      | elapsed:    7.4s\n",
      "[Parallel(n_jobs=-1)]: Done 237 tasks      | elapsed:    7.5s\n"
     ]
    },
    {
     "name": "stdout",
     "output_type": "stream",
     "text": [
      "building tree 242 of 500building tree 243 of 500\n",
      "\n",
      "building tree 244 of 500\n",
      "building tree 245 of 500\n",
      "building tree 246 of 500\n",
      "building tree 247 of 500\n",
      "building tree 248 of 500\n",
      "building tree 249 of 500\n"
     ]
    },
    {
     "name": "stderr",
     "output_type": "stream",
     "text": [
      "[Parallel(n_jobs=-1)]: Done 238 tasks      | elapsed:    7.5s\n",
      "[Parallel(n_jobs=-1)]: Done 239 tasks      | elapsed:    7.5s\n",
      "[Parallel(n_jobs=-1)]: Done 240 tasks      | elapsed:    7.5s\n",
      "[Parallel(n_jobs=-1)]: Done 241 tasks      | elapsed:    7.6s\n",
      "[Parallel(n_jobs=-1)]: Done 242 tasks      | elapsed:    7.6s\n",
      "[Parallel(n_jobs=-1)]: Done 243 tasks      | elapsed:    7.6s\n",
      "[Parallel(n_jobs=-1)]: Done 244 tasks      | elapsed:    7.6s\n",
      "[Parallel(n_jobs=-1)]: Done 245 tasks      | elapsed:    7.7s\n"
     ]
    },
    {
     "name": "stdout",
     "output_type": "stream",
     "text": [
      "building tree 250 of 500\n",
      "building tree 251 of 500\n",
      "building tree 252 of 500\n",
      "building tree 253 of 500\n",
      "building tree 254 of 500\n",
      "building tree 255 of 500\n",
      "building tree 256 of 500\n"
     ]
    },
    {
     "name": "stderr",
     "output_type": "stream",
     "text": [
      "[Parallel(n_jobs=-1)]: Done 246 tasks      | elapsed:    7.7s\n",
      "[Parallel(n_jobs=-1)]: Done 247 tasks      | elapsed:    7.7s\n",
      "[Parallel(n_jobs=-1)]: Done 248 tasks      | elapsed:    7.7s\n",
      "[Parallel(n_jobs=-1)]: Done 249 tasks      | elapsed:    7.8s\n",
      "[Parallel(n_jobs=-1)]: Done 250 tasks      | elapsed:    7.9s\n",
      "[Parallel(n_jobs=-1)]: Done 251 tasks      | elapsed:    7.9s\n",
      "[Parallel(n_jobs=-1)]: Done 252 tasks      | elapsed:    7.9s\n"
     ]
    },
    {
     "name": "stdout",
     "output_type": "stream",
     "text": [
      "building tree 257 of 500\n",
      "building tree 258 of 500\n",
      "building tree 259 of 500\n",
      "building tree 260 of 500\n",
      "building tree 261 of 500\n",
      "building tree 262 of 500\n",
      "building tree 263 of 500\n"
     ]
    },
    {
     "name": "stderr",
     "output_type": "stream",
     "text": [
      "[Parallel(n_jobs=-1)]: Done 253 tasks      | elapsed:    7.9s\n",
      "[Parallel(n_jobs=-1)]: Done 254 tasks      | elapsed:    8.0s\n",
      "[Parallel(n_jobs=-1)]: Done 255 tasks      | elapsed:    8.0s\n",
      "[Parallel(n_jobs=-1)]: Done 256 tasks      | elapsed:    8.0s\n",
      "[Parallel(n_jobs=-1)]: Done 257 tasks      | elapsed:    8.0s\n",
      "[Parallel(n_jobs=-1)]: Done 258 tasks      | elapsed:    8.1s\n",
      "[Parallel(n_jobs=-1)]: Done 259 tasks      | elapsed:    8.1s\n"
     ]
    },
    {
     "name": "stdout",
     "output_type": "stream",
     "text": [
      "building tree 264 of 500\n",
      "building tree 265 of 500\n",
      "building tree 266 of 500\n",
      "building tree 267 of 500\n",
      "building tree 268 of 500\n",
      "building tree 269 of 500\n"
     ]
    },
    {
     "name": "stderr",
     "output_type": "stream",
     "text": [
      "[Parallel(n_jobs=-1)]: Done 260 tasks      | elapsed:    8.1s\n",
      "[Parallel(n_jobs=-1)]: Done 261 tasks      | elapsed:    8.2s\n",
      "[Parallel(n_jobs=-1)]: Done 262 tasks      | elapsed:    8.3s\n",
      "[Parallel(n_jobs=-1)]: Done 263 tasks      | elapsed:    8.3s\n",
      "[Parallel(n_jobs=-1)]: Done 264 tasks      | elapsed:    8.3s\n",
      "[Parallel(n_jobs=-1)]: Done 265 tasks      | elapsed:    8.3s\n"
     ]
    },
    {
     "name": "stdout",
     "output_type": "stream",
     "text": [
      "building tree 270 of 500\n",
      "building tree 271 of 500\n",
      "building tree 272 of 500\n",
      "building tree 273 of 500\n",
      "building tree 274 of 500\n",
      "building tree 275 of 500\n",
      "building tree 276 of 500\n",
      "building tree 277 of 500\n"
     ]
    },
    {
     "name": "stderr",
     "output_type": "stream",
     "text": [
      "[Parallel(n_jobs=-1)]: Done 266 tasks      | elapsed:    8.4s\n",
      "[Parallel(n_jobs=-1)]: Done 267 tasks      | elapsed:    8.4s\n",
      "[Parallel(n_jobs=-1)]: Done 268 tasks      | elapsed:    8.4s\n",
      "[Parallel(n_jobs=-1)]: Done 269 tasks      | elapsed:    8.4s\n",
      "[Parallel(n_jobs=-1)]: Done 270 tasks      | elapsed:    8.5s\n",
      "[Parallel(n_jobs=-1)]: Done 271 tasks      | elapsed:    8.5s\n",
      "[Parallel(n_jobs=-1)]: Done 272 tasks      | elapsed:    8.5s\n",
      "[Parallel(n_jobs=-1)]: Done 273 tasks      | elapsed:    8.5s\n"
     ]
    },
    {
     "name": "stdout",
     "output_type": "stream",
     "text": [
      "building tree 278 of 500\n",
      "building tree 279 of 500\n",
      "building tree 280 of 500\n",
      "building tree 281 of 500\n",
      "building tree 282 of 500\n",
      "building tree 283 of 500\n",
      "building tree 284 of 500\n",
      "building tree 285 of 500\n"
     ]
    },
    {
     "name": "stderr",
     "output_type": "stream",
     "text": [
      "[Parallel(n_jobs=-1)]: Done 274 tasks      | elapsed:    8.6s\n",
      "[Parallel(n_jobs=-1)]: Done 275 tasks      | elapsed:    8.6s\n",
      "[Parallel(n_jobs=-1)]: Done 276 tasks      | elapsed:    8.6s\n",
      "[Parallel(n_jobs=-1)]: Done 277 tasks      | elapsed:    8.7s\n",
      "[Parallel(n_jobs=-1)]: Done 278 tasks      | elapsed:    8.7s\n",
      "[Parallel(n_jobs=-1)]: Done 279 tasks      | elapsed:    8.7s\n",
      "[Parallel(n_jobs=-1)]: Done 280 tasks      | elapsed:    8.7s\n",
      "[Parallel(n_jobs=-1)]: Done 281 tasks      | elapsed:    8.8s\n"
     ]
    },
    {
     "name": "stdout",
     "output_type": "stream",
     "text": [
      "building tree 286 of 500\n",
      "building tree 287 of 500\n",
      "building tree 288 of 500\n",
      "building tree 289 of 500\n",
      "building tree 290 of 500\n",
      "building tree 291 of 500\n",
      "building tree 292 of 500\n",
      "building tree 293 of 500\n"
     ]
    },
    {
     "name": "stderr",
     "output_type": "stream",
     "text": [
      "[Parallel(n_jobs=-1)]: Done 282 tasks      | elapsed:    8.8s\n",
      "[Parallel(n_jobs=-1)]: Done 283 tasks      | elapsed:    8.8s\n",
      "[Parallel(n_jobs=-1)]: Done 284 tasks      | elapsed:    8.9s\n",
      "[Parallel(n_jobs=-1)]: Done 285 tasks      | elapsed:    8.9s\n",
      "[Parallel(n_jobs=-1)]: Done 286 tasks      | elapsed:    8.9s\n",
      "[Parallel(n_jobs=-1)]: Done 287 tasks      | elapsed:    9.0s\n",
      "[Parallel(n_jobs=-1)]: Done 288 tasks      | elapsed:    9.0s\n",
      "[Parallel(n_jobs=-1)]: Done 289 tasks      | elapsed:    9.0s\n"
     ]
    },
    {
     "name": "stdout",
     "output_type": "stream",
     "text": [
      "building tree 294 of 500\n",
      "building tree 295 of 500\n",
      "building tree 296 of 500\n",
      "building tree 297 of 500\n",
      "building tree 298 of 500\n",
      "building tree 299 of 500\n",
      "building tree 300 of 500\n",
      "building tree 301 of 500\n"
     ]
    },
    {
     "name": "stderr",
     "output_type": "stream",
     "text": [
      "[Parallel(n_jobs=-1)]: Done 290 tasks      | elapsed:    9.1s\n",
      "[Parallel(n_jobs=-1)]: Done 291 tasks      | elapsed:    9.1s\n",
      "[Parallel(n_jobs=-1)]: Done 292 tasks      | elapsed:    9.1s\n",
      "[Parallel(n_jobs=-1)]: Done 293 tasks      | elapsed:    9.1s\n",
      "[Parallel(n_jobs=-1)]: Done 294 tasks      | elapsed:    9.2s\n",
      "[Parallel(n_jobs=-1)]: Done 295 tasks      | elapsed:    9.2s\n",
      "[Parallel(n_jobs=-1)]: Done 296 tasks      | elapsed:    9.2s\n",
      "[Parallel(n_jobs=-1)]: Done 297 tasks      | elapsed:    9.2s\n"
     ]
    },
    {
     "name": "stdout",
     "output_type": "stream",
     "text": [
      "building tree 302 of 500\n",
      "building tree 303 of 500\n",
      "building tree 304 of 500\n",
      "building tree 305 of 500\n",
      "building tree 306 of 500\n",
      "building tree 307 of 500\n",
      "building tree 308 of 500\n",
      "building tree 309 of 500\n",
      "building tree 310 of 500\n"
     ]
    },
    {
     "name": "stderr",
     "output_type": "stream",
     "text": [
      "[Parallel(n_jobs=-1)]: Done 298 tasks      | elapsed:    9.3s\n",
      "[Parallel(n_jobs=-1)]: Done 299 tasks      | elapsed:    9.3s\n",
      "[Parallel(n_jobs=-1)]: Done 300 tasks      | elapsed:    9.3s\n",
      "[Parallel(n_jobs=-1)]: Done 301 tasks      | elapsed:    9.3s\n",
      "[Parallel(n_jobs=-1)]: Done 302 tasks      | elapsed:    9.4s\n",
      "[Parallel(n_jobs=-1)]: Done 303 tasks      | elapsed:    9.4s\n",
      "[Parallel(n_jobs=-1)]: Done 304 tasks      | elapsed:    9.4s\n",
      "[Parallel(n_jobs=-1)]: Done 305 tasks      | elapsed:    9.4s\n",
      "[Parallel(n_jobs=-1)]: Done 306 tasks      | elapsed:    9.5s\n"
     ]
    },
    {
     "name": "stdout",
     "output_type": "stream",
     "text": [
      "building tree 311 of 500\n",
      "building tree 312 of 500\n",
      "building tree 313 of 500\n",
      "building tree 314 of 500\n",
      "building tree 315 of 500\n",
      "building tree 316 of 500\n",
      "building tree 317 of 500\n"
     ]
    },
    {
     "name": "stderr",
     "output_type": "stream",
     "text": [
      "[Parallel(n_jobs=-1)]: Done 307 tasks      | elapsed:    9.5s\n",
      "[Parallel(n_jobs=-1)]: Done 308 tasks      | elapsed:    9.6s\n",
      "[Parallel(n_jobs=-1)]: Done 309 tasks      | elapsed:    9.6s\n",
      "[Parallel(n_jobs=-1)]: Done 310 tasks      | elapsed:    9.6s\n",
      "[Parallel(n_jobs=-1)]: Done 311 tasks      | elapsed:    9.6s\n",
      "[Parallel(n_jobs=-1)]: Done 312 tasks      | elapsed:    9.7s\n",
      "[Parallel(n_jobs=-1)]: Done 313 tasks      | elapsed:    9.7s\n"
     ]
    },
    {
     "name": "stdout",
     "output_type": "stream",
     "text": [
      "building tree 318 of 500\n",
      "building tree 319 of 500\n",
      "building tree 320 of 500\n",
      "building tree 321 of 500\n",
      "building tree 322 of 500\n",
      "building tree 323 of 500\n",
      "building tree 324 of 500\n",
      "building tree 325 of 500\n"
     ]
    },
    {
     "name": "stderr",
     "output_type": "stream",
     "text": [
      "[Parallel(n_jobs=-1)]: Done 314 tasks      | elapsed:    9.7s\n",
      "[Parallel(n_jobs=-1)]: Done 315 tasks      | elapsed:    9.8s\n",
      "[Parallel(n_jobs=-1)]: Done 316 tasks      | elapsed:    9.8s\n",
      "[Parallel(n_jobs=-1)]: Done 317 tasks      | elapsed:    9.8s\n",
      "[Parallel(n_jobs=-1)]: Done 318 tasks      | elapsed:    9.9s\n",
      "[Parallel(n_jobs=-1)]: Done 319 tasks      | elapsed:    9.9s\n",
      "[Parallel(n_jobs=-1)]: Done 320 tasks      | elapsed:    9.9s\n",
      "[Parallel(n_jobs=-1)]: Done 321 tasks      | elapsed:    9.9s\n"
     ]
    },
    {
     "name": "stdout",
     "output_type": "stream",
     "text": [
      "building tree 326 of 500\n",
      "building tree 327 of 500\n",
      "building tree 328 of 500\n",
      "building tree 329 of 500\n",
      "building tree 330 of 500\n",
      "building tree 331 of 500\n",
      "building tree 332 of 500\n",
      "building tree 333 of 500\n"
     ]
    },
    {
     "name": "stderr",
     "output_type": "stream",
     "text": [
      "[Parallel(n_jobs=-1)]: Done 322 tasks      | elapsed:   10.0s\n",
      "[Parallel(n_jobs=-1)]: Done 323 tasks      | elapsed:   10.0s\n",
      "[Parallel(n_jobs=-1)]: Done 324 tasks      | elapsed:   10.0s\n",
      "[Parallel(n_jobs=-1)]: Done 325 tasks      | elapsed:   10.0s\n",
      "[Parallel(n_jobs=-1)]: Done 326 tasks      | elapsed:   10.1s\n",
      "[Parallel(n_jobs=-1)]: Done 327 tasks      | elapsed:   10.1s\n",
      "[Parallel(n_jobs=-1)]: Done 328 tasks      | elapsed:   10.1s\n",
      "[Parallel(n_jobs=-1)]: Done 329 tasks      | elapsed:   10.1s\n"
     ]
    },
    {
     "name": "stdout",
     "output_type": "stream",
     "text": [
      "building tree 334 of 500\n",
      "building tree 335 of 500\n",
      "building tree 336 of 500\n",
      "building tree 337 of 500\n",
      "building tree 338 of 500\n",
      "building tree 339 of 500\n",
      "building tree 340 of 500\n",
      "building tree 341 of 500\n",
      "building tree 342 of 500\n"
     ]
    },
    {
     "name": "stderr",
     "output_type": "stream",
     "text": [
      "[Parallel(n_jobs=-1)]: Done 330 tasks      | elapsed:   10.2s\n",
      "[Parallel(n_jobs=-1)]: Done 331 tasks      | elapsed:   10.2s\n",
      "[Parallel(n_jobs=-1)]: Done 332 tasks      | elapsed:   10.2s\n",
      "[Parallel(n_jobs=-1)]: Done 333 tasks      | elapsed:   10.3s\n",
      "[Parallel(n_jobs=-1)]: Done 334 tasks      | elapsed:   10.3s\n",
      "[Parallel(n_jobs=-1)]: Done 335 tasks      | elapsed:   10.3s\n",
      "[Parallel(n_jobs=-1)]: Done 336 tasks      | elapsed:   10.3s\n",
      "[Parallel(n_jobs=-1)]: Done 337 tasks      | elapsed:   10.4s\n",
      "[Parallel(n_jobs=-1)]: Done 338 tasks      | elapsed:   10.4s\n"
     ]
    },
    {
     "name": "stdout",
     "output_type": "stream",
     "text": [
      "building tree 343 of 500\n",
      "building tree 344 of 500\n",
      "building tree 345 of 500\n",
      "building tree 346 of 500\n",
      "building tree 347 of 500\n",
      "building tree 348 of 500\n",
      "building tree 349 of 500\n",
      "building tree 350 of 500\n"
     ]
    },
    {
     "name": "stderr",
     "output_type": "stream",
     "text": [
      "[Parallel(n_jobs=-1)]: Done 339 tasks      | elapsed:   10.4s\n",
      "[Parallel(n_jobs=-1)]: Done 340 tasks      | elapsed:   10.4s\n",
      "[Parallel(n_jobs=-1)]: Done 341 tasks      | elapsed:   10.5s\n",
      "[Parallel(n_jobs=-1)]: Done 342 tasks      | elapsed:   10.5s\n",
      "[Parallel(n_jobs=-1)]: Done 343 tasks      | elapsed:   10.5s\n",
      "[Parallel(n_jobs=-1)]: Done 344 tasks      | elapsed:   10.6s\n",
      "[Parallel(n_jobs=-1)]: Done 345 tasks      | elapsed:   10.6s\n",
      "[Parallel(n_jobs=-1)]: Done 346 tasks      | elapsed:   10.6s\n"
     ]
    },
    {
     "name": "stdout",
     "output_type": "stream",
     "text": [
      "building tree 351 of 500\n",
      "building tree 352 of 500\n",
      "building tree 353 of 500\n",
      "building tree 354 of 500\n",
      "building tree 355 of 500\n",
      "building tree 356 of 500\n",
      "building tree 357 of 500\n",
      "building tree 358 of 500\n"
     ]
    },
    {
     "name": "stderr",
     "output_type": "stream",
     "text": [
      "[Parallel(n_jobs=-1)]: Done 347 tasks      | elapsed:   10.7s\n",
      "[Parallel(n_jobs=-1)]: Done 348 tasks      | elapsed:   10.7s\n",
      "[Parallel(n_jobs=-1)]: Done 349 tasks      | elapsed:   10.7s\n",
      "[Parallel(n_jobs=-1)]: Done 350 tasks      | elapsed:   10.7s\n",
      "[Parallel(n_jobs=-1)]: Done 351 tasks      | elapsed:   10.8s\n",
      "[Parallel(n_jobs=-1)]: Done 352 tasks      | elapsed:   10.8s\n",
      "[Parallel(n_jobs=-1)]: Done 353 tasks      | elapsed:   10.8s\n",
      "[Parallel(n_jobs=-1)]: Done 354 tasks      | elapsed:   10.8s\n"
     ]
    },
    {
     "name": "stdout",
     "output_type": "stream",
     "text": [
      "building tree 359 of 500\n",
      "building tree 360 of 500\n",
      "building tree 361 of 500\n",
      "building tree 362 of 500\n",
      "building tree 363 of 500\n",
      "building tree 364 of 500\n",
      "building tree 365 of 500\n",
      "building tree 366 of 500\n",
      "building tree 367 of 500\n"
     ]
    },
    {
     "name": "stderr",
     "output_type": "stream",
     "text": [
      "[Parallel(n_jobs=-1)]: Done 355 tasks      | elapsed:   10.9s\n",
      "[Parallel(n_jobs=-1)]: Done 356 tasks      | elapsed:   10.9s\n",
      "[Parallel(n_jobs=-1)]: Done 357 tasks      | elapsed:   11.0s\n",
      "[Parallel(n_jobs=-1)]: Done 358 tasks      | elapsed:   11.0s\n",
      "[Parallel(n_jobs=-1)]: Done 359 tasks      | elapsed:   11.0s\n",
      "[Parallel(n_jobs=-1)]: Done 360 tasks      | elapsed:   11.0s\n",
      "[Parallel(n_jobs=-1)]: Done 361 tasks      | elapsed:   11.1s\n",
      "[Parallel(n_jobs=-1)]: Done 362 tasks      | elapsed:   11.1s\n",
      "[Parallel(n_jobs=-1)]: Done 363 tasks      | elapsed:   11.1s\n"
     ]
    },
    {
     "name": "stdout",
     "output_type": "stream",
     "text": [
      "building tree 368 of 500\n",
      "building tree 369 of 500\n",
      "building tree 370 of 500\n",
      "building tree 371 of 500\n",
      "building tree 372 of 500\n",
      "building tree 373 of 500\n",
      "building tree 374 of 500\n",
      "building tree 375 of 500\n",
      "building tree 376 of 500\n",
      "building tree 377 of 500\n"
     ]
    },
    {
     "name": "stderr",
     "output_type": "stream",
     "text": [
      "[Parallel(n_jobs=-1)]: Done 364 tasks      | elapsed:   11.1s\n",
      "[Parallel(n_jobs=-1)]: Done 365 tasks      | elapsed:   11.1s\n",
      "[Parallel(n_jobs=-1)]: Done 366 tasks      | elapsed:   11.1s\n",
      "[Parallel(n_jobs=-1)]: Done 367 tasks      | elapsed:   11.2s\n",
      "[Parallel(n_jobs=-1)]: Done 368 tasks      | elapsed:   11.2s\n",
      "[Parallel(n_jobs=-1)]: Done 369 tasks      | elapsed:   11.2s\n",
      "[Parallel(n_jobs=-1)]: Done 370 tasks      | elapsed:   11.2s\n",
      "[Parallel(n_jobs=-1)]: Done 371 tasks      | elapsed:   11.3s\n",
      "[Parallel(n_jobs=-1)]: Done 372 tasks      | elapsed:   11.3s\n",
      "[Parallel(n_jobs=-1)]: Done 373 tasks      | elapsed:   11.3s\n"
     ]
    },
    {
     "name": "stdout",
     "output_type": "stream",
     "text": [
      "building tree 378 of 500\n",
      "building tree 379 of 500\n",
      "building tree 380 of 500\n",
      "building tree 381 of 500\n",
      "building tree 382 of 500\n",
      "building tree 383 of 500\n",
      "building tree 384 of 500\n"
     ]
    },
    {
     "name": "stderr",
     "output_type": "stream",
     "text": [
      "[Parallel(n_jobs=-1)]: Done 374 tasks      | elapsed:   11.3s\n",
      "[Parallel(n_jobs=-1)]: Done 375 tasks      | elapsed:   11.4s\n",
      "[Parallel(n_jobs=-1)]: Done 376 tasks      | elapsed:   11.4s\n",
      "[Parallel(n_jobs=-1)]: Done 377 tasks      | elapsed:   11.5s\n",
      "[Parallel(n_jobs=-1)]: Done 378 tasks      | elapsed:   11.5s\n",
      "[Parallel(n_jobs=-1)]: Done 379 tasks      | elapsed:   11.5s\n",
      "[Parallel(n_jobs=-1)]: Done 380 tasks      | elapsed:   11.5s\n"
     ]
    },
    {
     "name": "stdout",
     "output_type": "stream",
     "text": [
      "building tree 385 of 500\n",
      "building tree 386 of 500\n",
      "building tree 387 of 500\n",
      "building tree 388 of 500\n",
      "building tree 389 of 500\n",
      "building tree 390 of 500\n",
      "building tree 391 of 500\n",
      "building tree 392 of 500\n"
     ]
    },
    {
     "name": "stderr",
     "output_type": "stream",
     "text": [
      "[Parallel(n_jobs=-1)]: Done 381 tasks      | elapsed:   11.6s\n",
      "[Parallel(n_jobs=-1)]: Done 382 tasks      | elapsed:   11.6s\n",
      "[Parallel(n_jobs=-1)]: Done 383 tasks      | elapsed:   11.6s\n",
      "[Parallel(n_jobs=-1)]: Done 384 tasks      | elapsed:   11.6s\n",
      "[Parallel(n_jobs=-1)]: Done 385 tasks      | elapsed:   11.7s\n",
      "[Parallel(n_jobs=-1)]: Done 386 tasks      | elapsed:   11.7s\n",
      "[Parallel(n_jobs=-1)]: Done 387 tasks      | elapsed:   11.7s\n",
      "[Parallel(n_jobs=-1)]: Done 388 tasks      | elapsed:   11.7s\n"
     ]
    },
    {
     "name": "stdout",
     "output_type": "stream",
     "text": [
      "building tree 393 of 500\n",
      "building tree 394 of 500\n",
      "building tree 395 of 500\n",
      "building tree 396 of 500\n",
      "building tree 397 of 500\n",
      "building tree 398 of 500\n",
      "building tree 399 of 500\n"
     ]
    },
    {
     "name": "stderr",
     "output_type": "stream",
     "text": [
      "[Parallel(n_jobs=-1)]: Done 389 tasks      | elapsed:   11.8s\n",
      "[Parallel(n_jobs=-1)]: Done 390 tasks      | elapsed:   11.8s\n",
      "[Parallel(n_jobs=-1)]: Done 391 tasks      | elapsed:   11.9s\n",
      "[Parallel(n_jobs=-1)]: Done 392 tasks      | elapsed:   11.9s\n",
      "[Parallel(n_jobs=-1)]: Done 393 tasks      | elapsed:   11.9s\n",
      "[Parallel(n_jobs=-1)]: Done 394 tasks      | elapsed:   11.9s\n",
      "[Parallel(n_jobs=-1)]: Done 395 tasks      | elapsed:   12.0s\n"
     ]
    },
    {
     "name": "stdout",
     "output_type": "stream",
     "text": [
      "building tree 400 of 500\n",
      "building tree 401 of 500\n",
      "building tree 402 of 500\n",
      "building tree 403 of 500\n",
      "building tree 404 of 500\n",
      "building tree 405 of 500\n",
      "building tree 406 of 500\n"
     ]
    },
    {
     "name": "stderr",
     "output_type": "stream",
     "text": [
      "[Parallel(n_jobs=-1)]: Done 396 tasks      | elapsed:   12.0s\n",
      "[Parallel(n_jobs=-1)]: Done 397 tasks      | elapsed:   12.0s\n",
      "[Parallel(n_jobs=-1)]: Done 398 tasks      | elapsed:   12.0s\n",
      "[Parallel(n_jobs=-1)]: Done 399 tasks      | elapsed:   12.1s\n",
      "[Parallel(n_jobs=-1)]: Done 400 tasks      | elapsed:   12.1s\n",
      "[Parallel(n_jobs=-1)]: Done 401 tasks      | elapsed:   12.1s\n",
      "[Parallel(n_jobs=-1)]: Done 402 tasks      | elapsed:   12.1s\n"
     ]
    },
    {
     "name": "stdout",
     "output_type": "stream",
     "text": [
      "building tree 407 of 500building tree 408 of 500\n",
      "\n",
      "building tree 409 of 500\n",
      "building tree 410 of 500\n",
      "building tree 411 of 500\n",
      "building tree 412 of 500\n",
      "building tree 413 of 500\n",
      "building tree 414 of 500\n",
      "building tree 415 of 500\n"
     ]
    },
    {
     "name": "stderr",
     "output_type": "stream",
     "text": [
      "[Parallel(n_jobs=-1)]: Done 403 tasks      | elapsed:   12.2s\n",
      "[Parallel(n_jobs=-1)]: Done 404 tasks      | elapsed:   12.2s\n",
      "[Parallel(n_jobs=-1)]: Done 405 tasks      | elapsed:   12.2s\n",
      "[Parallel(n_jobs=-1)]: Done 406 tasks      | elapsed:   12.3s\n",
      "[Parallel(n_jobs=-1)]: Done 407 tasks      | elapsed:   12.3s\n",
      "[Parallel(n_jobs=-1)]: Done 408 tasks      | elapsed:   12.3s\n",
      "[Parallel(n_jobs=-1)]: Done 409 tasks      | elapsed:   12.3s\n",
      "[Parallel(n_jobs=-1)]: Done 410 tasks      | elapsed:   12.4s\n",
      "[Parallel(n_jobs=-1)]: Done 411 tasks      | elapsed:   12.4s\n"
     ]
    },
    {
     "name": "stdout",
     "output_type": "stream",
     "text": [
      "building tree 416 of 500\n",
      "building tree 417 of 500\n",
      "building tree 418 of 500\n",
      "building tree 419 of 500\n",
      "building tree 420 of 500\n",
      "building tree 421 of 500\n",
      "building tree 422 of 500\n"
     ]
    },
    {
     "name": "stderr",
     "output_type": "stream",
     "text": [
      "[Parallel(n_jobs=-1)]: Done 412 tasks      | elapsed:   12.5s\n",
      "[Parallel(n_jobs=-1)]: Done 413 tasks      | elapsed:   12.5s\n",
      "[Parallel(n_jobs=-1)]: Done 414 tasks      | elapsed:   12.5s\n",
      "[Parallel(n_jobs=-1)]: Done 415 tasks      | elapsed:   12.5s\n",
      "[Parallel(n_jobs=-1)]: Done 416 tasks      | elapsed:   12.6s\n",
      "[Parallel(n_jobs=-1)]: Done 417 tasks      | elapsed:   12.6s\n",
      "[Parallel(n_jobs=-1)]: Done 418 tasks      | elapsed:   12.6s\n"
     ]
    },
    {
     "name": "stdout",
     "output_type": "stream",
     "text": [
      "building tree 423 of 500\n",
      "building tree 424 of 500\n",
      "building tree 425 of 500\n",
      "building tree 426 of 500\n",
      "building tree 427 of 500\n",
      "building tree 428 of 500\n",
      "building tree 429 of 500\n"
     ]
    },
    {
     "name": "stderr",
     "output_type": "stream",
     "text": [
      "[Parallel(n_jobs=-1)]: Done 419 tasks      | elapsed:   12.7s\n",
      "[Parallel(n_jobs=-1)]: Done 420 tasks      | elapsed:   12.7s\n",
      "[Parallel(n_jobs=-1)]: Done 421 tasks      | elapsed:   12.7s\n",
      "[Parallel(n_jobs=-1)]: Done 422 tasks      | elapsed:   12.7s\n",
      "[Parallel(n_jobs=-1)]: Done 423 tasks      | elapsed:   12.8s\n",
      "[Parallel(n_jobs=-1)]: Done 424 tasks      | elapsed:   12.9s\n",
      "[Parallel(n_jobs=-1)]: Done 425 tasks      | elapsed:   12.9s\n"
     ]
    },
    {
     "name": "stdout",
     "output_type": "stream",
     "text": [
      "building tree 430 of 500\n",
      "building tree 431 of 500\n",
      "building tree 432 of 500\n",
      "building tree 433 of 500\n",
      "building tree 434 of 500\n"
     ]
    },
    {
     "name": "stderr",
     "output_type": "stream",
     "text": [
      "[Parallel(n_jobs=-1)]: Done 426 tasks      | elapsed:   12.9s\n",
      "[Parallel(n_jobs=-1)]: Done 427 tasks      | elapsed:   13.0s\n",
      "[Parallel(n_jobs=-1)]: Done 428 tasks      | elapsed:   13.0s\n",
      "[Parallel(n_jobs=-1)]: Done 429 tasks      | elapsed:   13.0s\n",
      "[Parallel(n_jobs=-1)]: Done 430 tasks      | elapsed:   13.1s\n"
     ]
    },
    {
     "name": "stdout",
     "output_type": "stream",
     "text": [
      "building tree 435 of 500\n",
      "building tree 436 of 500\n",
      "building tree 437 of 500\n",
      "building tree 438 of 500\n",
      "building tree 439 of 500\n",
      "building tree 440 of 500\n"
     ]
    },
    {
     "name": "stderr",
     "output_type": "stream",
     "text": [
      "[Parallel(n_jobs=-1)]: Done 431 tasks      | elapsed:   13.1s\n",
      "[Parallel(n_jobs=-1)]: Done 432 tasks      | elapsed:   13.1s\n",
      "[Parallel(n_jobs=-1)]: Done 433 tasks      | elapsed:   13.2s\n",
      "[Parallel(n_jobs=-1)]: Done 434 tasks      | elapsed:   13.2s\n",
      "[Parallel(n_jobs=-1)]: Done 435 tasks      | elapsed:   13.3s\n",
      "[Parallel(n_jobs=-1)]: Done 436 tasks      | elapsed:   13.3s\n"
     ]
    },
    {
     "name": "stdout",
     "output_type": "stream",
     "text": [
      "building tree 441 of 500\n",
      "building tree 442 of 500\n",
      "building tree 443 of 500\n",
      "building tree 444 of 500\n",
      "building tree 445 of 500\n",
      "building tree 446 of 500\n",
      "building tree 447 of 500\n",
      "building tree 448 of 500\n"
     ]
    },
    {
     "name": "stderr",
     "output_type": "stream",
     "text": [
      "[Parallel(n_jobs=-1)]: Done 437 tasks      | elapsed:   13.3s\n",
      "[Parallel(n_jobs=-1)]: Done 438 tasks      | elapsed:   13.4s\n",
      "[Parallel(n_jobs=-1)]: Done 439 tasks      | elapsed:   13.4s\n",
      "[Parallel(n_jobs=-1)]: Done 440 tasks      | elapsed:   13.4s\n",
      "[Parallel(n_jobs=-1)]: Done 441 tasks      | elapsed:   13.4s\n",
      "[Parallel(n_jobs=-1)]: Done 442 tasks      | elapsed:   13.5s\n",
      "[Parallel(n_jobs=-1)]: Done 443 tasks      | elapsed:   13.5s\n",
      "[Parallel(n_jobs=-1)]: Done 444 tasks      | elapsed:   13.5s\n"
     ]
    },
    {
     "name": "stdout",
     "output_type": "stream",
     "text": [
      "building tree 449 of 500\n",
      "building tree 450 of 500\n",
      "building tree 451 of 500\n",
      "building tree 452 of 500\n",
      "building tree 453 of 500\n",
      "building tree 454 of 500\n",
      "building tree 455 of 500\n",
      "building tree 456 of 500\n",
      "building tree 457 of 500\n",
      "building tree 458 of 500\n"
     ]
    },
    {
     "name": "stderr",
     "output_type": "stream",
     "text": [
      "[Parallel(n_jobs=-1)]: Done 445 tasks      | elapsed:   13.6s\n",
      "[Parallel(n_jobs=-1)]: Done 446 tasks      | elapsed:   13.6s\n",
      "[Parallel(n_jobs=-1)]: Done 447 tasks      | elapsed:   13.6s\n",
      "[Parallel(n_jobs=-1)]: Done 448 tasks      | elapsed:   13.6s\n",
      "[Parallel(n_jobs=-1)]: Done 449 tasks      | elapsed:   13.7s\n",
      "[Parallel(n_jobs=-1)]: Done 450 tasks      | elapsed:   13.7s\n",
      "[Parallel(n_jobs=-1)]: Done 451 tasks      | elapsed:   13.7s\n",
      "[Parallel(n_jobs=-1)]: Done 452 tasks      | elapsed:   13.8s\n",
      "[Parallel(n_jobs=-1)]: Done 453 tasks      | elapsed:   13.8s\n",
      "[Parallel(n_jobs=-1)]: Done 454 tasks      | elapsed:   13.8s\n"
     ]
    },
    {
     "name": "stdout",
     "output_type": "stream",
     "text": [
      "building tree 459 of 500\n",
      "building tree 460 of 500\n",
      "building tree 461 of 500\n",
      "building tree 462 of 500\n",
      "building tree 463 of 500\n",
      "building tree 464 of 500\n",
      "building tree 465 of 500\n",
      "building tree 466 of 500\n"
     ]
    },
    {
     "name": "stderr",
     "output_type": "stream",
     "text": [
      "[Parallel(n_jobs=-1)]: Done 455 tasks      | elapsed:   13.8s\n",
      "[Parallel(n_jobs=-1)]: Done 456 tasks      | elapsed:   13.9s\n",
      "[Parallel(n_jobs=-1)]: Done 457 tasks      | elapsed:   13.9s\n",
      "[Parallel(n_jobs=-1)]: Done 458 tasks      | elapsed:   13.9s\n",
      "[Parallel(n_jobs=-1)]: Done 459 tasks      | elapsed:   14.0s\n",
      "[Parallel(n_jobs=-1)]: Done 460 tasks      | elapsed:   14.0s\n",
      "[Parallel(n_jobs=-1)]: Done 461 tasks      | elapsed:   14.0s\n",
      "[Parallel(n_jobs=-1)]: Done 462 tasks      | elapsed:   14.0s\n"
     ]
    },
    {
     "name": "stdout",
     "output_type": "stream",
     "text": [
      "building tree 467 of 500\n",
      "building tree 468 of 500\n",
      "building tree 469 of 500\n",
      "building tree 470 of 500\n",
      "building tree 471 of 500\n",
      "building tree 472 of 500\n",
      "building tree 473 of 500\n",
      "building tree 474 of 500\n",
      "building tree 475 of 500\n"
     ]
    },
    {
     "name": "stderr",
     "output_type": "stream",
     "text": [
      "[Parallel(n_jobs=-1)]: Done 463 tasks      | elapsed:   14.1s\n",
      "[Parallel(n_jobs=-1)]: Done 464 tasks      | elapsed:   14.1s\n",
      "[Parallel(n_jobs=-1)]: Done 465 tasks      | elapsed:   14.1s\n",
      "[Parallel(n_jobs=-1)]: Done 466 tasks      | elapsed:   14.1s\n",
      "[Parallel(n_jobs=-1)]: Done 467 tasks      | elapsed:   14.1s\n",
      "[Parallel(n_jobs=-1)]: Done 468 tasks      | elapsed:   14.2s\n",
      "[Parallel(n_jobs=-1)]: Done 469 tasks      | elapsed:   14.2s\n",
      "[Parallel(n_jobs=-1)]: Done 470 tasks      | elapsed:   14.2s\n",
      "[Parallel(n_jobs=-1)]: Done 471 tasks      | elapsed:   14.3s\n"
     ]
    },
    {
     "name": "stdout",
     "output_type": "stream",
     "text": [
      "building tree 476 of 500\n",
      "building tree 477 of 500\n",
      "building tree 478 of 500\n",
      "building tree 479 of 500\n",
      "building tree 480 of 500\n",
      "building tree 481 of 500\n",
      "building tree 482 of 500\n",
      "building tree 483 of 500\n",
      "building tree 484 of 500\n"
     ]
    },
    {
     "name": "stderr",
     "output_type": "stream",
     "text": [
      "[Parallel(n_jobs=-1)]: Done 472 tasks      | elapsed:   14.3s\n",
      "[Parallel(n_jobs=-1)]: Done 473 tasks      | elapsed:   14.3s\n",
      "[Parallel(n_jobs=-1)]: Done 474 tasks      | elapsed:   14.4s\n",
      "[Parallel(n_jobs=-1)]: Done 475 tasks      | elapsed:   14.4s\n",
      "[Parallel(n_jobs=-1)]: Done 476 tasks      | elapsed:   14.4s\n",
      "[Parallel(n_jobs=-1)]: Done 477 tasks      | elapsed:   14.5s\n",
      "[Parallel(n_jobs=-1)]: Done 478 tasks      | elapsed:   14.5s\n",
      "[Parallel(n_jobs=-1)]: Done 479 tasks      | elapsed:   14.5s\n",
      "[Parallel(n_jobs=-1)]: Done 480 tasks      | elapsed:   14.5s\n"
     ]
    },
    {
     "name": "stdout",
     "output_type": "stream",
     "text": [
      "building tree 485 of 500\n",
      "building tree 486 of 500\n",
      "building tree 487 of 500\n",
      "building tree 488 of 500\n",
      "building tree 489 of 500\n",
      "building tree 490 of 500\n",
      "building tree 491 of 500\n",
      "building tree 492 of 500\n",
      "building tree 493 of 500\n",
      "building tree 494 of 500\n"
     ]
    },
    {
     "name": "stderr",
     "output_type": "stream",
     "text": [
      "[Parallel(n_jobs=-1)]: Done 481 tasks      | elapsed:   14.6s\n",
      "[Parallel(n_jobs=-1)]: Done 482 tasks      | elapsed:   14.6s\n",
      "[Parallel(n_jobs=-1)]: Done 483 tasks      | elapsed:   14.6s\n",
      "[Parallel(n_jobs=-1)]: Done 484 tasks      | elapsed:   14.6s\n",
      "[Parallel(n_jobs=-1)]: Done 485 tasks      | elapsed:   14.6s\n",
      "[Parallel(n_jobs=-1)]: Done 486 tasks      | elapsed:   14.7s\n",
      "[Parallel(n_jobs=-1)]: Done 487 tasks      | elapsed:   14.7s\n",
      "[Parallel(n_jobs=-1)]: Done 488 tasks      | elapsed:   14.7s\n",
      "[Parallel(n_jobs=-1)]: Done 489 tasks      | elapsed:   14.8s\n",
      "[Parallel(n_jobs=-1)]: Done 490 tasks      | elapsed:   14.8s\n"
     ]
    },
    {
     "name": "stdout",
     "output_type": "stream",
     "text": [
      "building tree 495 of 500\n",
      "building tree 496 of 500\n",
      "building tree 497 of 500\n",
      "building tree 498 of 500\n",
      "building tree 499 of 500\n",
      "building tree 500 of 500\n"
     ]
    },
    {
     "name": "stderr",
     "output_type": "stream",
     "text": [
      "[Parallel(n_jobs=-1)]: Done 491 tasks      | elapsed:   14.8s\n",
      "[Parallel(n_jobs=-1)]: Done 492 tasks      | elapsed:   14.8s\n",
      "[Parallel(n_jobs=-1)]: Done 493 tasks      | elapsed:   14.8s\n",
      "[Parallel(n_jobs=-1)]: Done 500 out of 500 | elapsed:   15.0s finished\n",
      "[Parallel(n_jobs=4)]: Done   1 tasks      | elapsed:    0.0s\n",
      "[Parallel(n_jobs=4)]: Done   2 tasks      | elapsed:    0.0s\n",
      "[Parallel(n_jobs=4)]: Done   3 tasks      | elapsed:    0.0s\n",
      "[Parallel(n_jobs=4)]: Done   4 tasks      | elapsed:    0.0s\n",
      "[Parallel(n_jobs=4)]: Done   5 tasks      | elapsed:    0.0s\n",
      "[Parallel(n_jobs=4)]: Done   6 tasks      | elapsed:    0.0s\n",
      "[Parallel(n_jobs=4)]: Done   7 tasks      | elapsed:    0.0s\n",
      "[Parallel(n_jobs=4)]: Done   8 tasks      | elapsed:    0.0s\n",
      "[Parallel(n_jobs=4)]: Done   9 tasks      | elapsed:    0.0s\n",
      "[Parallel(n_jobs=4)]: Done  10 tasks      | elapsed:    0.0s\n",
      "[Parallel(n_jobs=4)]: Done  11 tasks      | elapsed:    0.0s\n",
      "[Parallel(n_jobs=4)]: Done  12 tasks      | elapsed:    0.0s\n",
      "[Parallel(n_jobs=4)]: Done  13 tasks      | elapsed:    0.0s\n",
      "[Parallel(n_jobs=4)]: Done  14 tasks      | elapsed:    0.0s\n",
      "[Parallel(n_jobs=4)]: Done  15 tasks      | elapsed:    0.0s\n",
      "[Parallel(n_jobs=4)]: Done  16 tasks      | elapsed:    0.0s\n",
      "[Parallel(n_jobs=4)]: Done  17 tasks      | elapsed:    0.0s\n",
      "[Parallel(n_jobs=4)]: Done  18 tasks      | elapsed:    0.0s\n",
      "[Parallel(n_jobs=4)]: Done  19 tasks      | elapsed:    0.0s\n",
      "[Parallel(n_jobs=4)]: Done  20 tasks      | elapsed:    0.0s\n",
      "[Parallel(n_jobs=4)]: Done  21 tasks      | elapsed:    0.0s\n",
      "[Parallel(n_jobs=4)]: Done  22 tasks      | elapsed:    0.0s\n",
      "[Parallel(n_jobs=4)]: Done  23 tasks      | elapsed:    0.0s\n",
      "[Parallel(n_jobs=4)]: Done  24 tasks      | elapsed:    0.0s\n",
      "[Parallel(n_jobs=4)]: Done  25 tasks      | elapsed:    0.0s\n",
      "[Parallel(n_jobs=4)]: Done  26 tasks      | elapsed:    0.0s\n",
      "[Parallel(n_jobs=4)]: Done  27 tasks      | elapsed:    0.0s\n",
      "[Parallel(n_jobs=4)]: Done  28 tasks      | elapsed:    0.0s\n",
      "[Parallel(n_jobs=4)]: Done  29 tasks      | elapsed:    0.0s\n",
      "[Parallel(n_jobs=4)]: Done  30 tasks      | elapsed:    0.0s\n",
      "[Parallel(n_jobs=4)]: Done  31 tasks      | elapsed:    0.0s\n",
      "[Parallel(n_jobs=4)]: Done  32 tasks      | elapsed:    0.0s\n",
      "[Parallel(n_jobs=4)]: Done  33 tasks      | elapsed:    0.0s\n",
      "[Parallel(n_jobs=4)]: Done  34 tasks      | elapsed:    0.0s\n",
      "[Parallel(n_jobs=4)]: Done  35 tasks      | elapsed:    0.0s\n",
      "[Parallel(n_jobs=4)]: Done  36 tasks      | elapsed:    0.0s\n",
      "[Parallel(n_jobs=4)]: Done  37 tasks      | elapsed:    0.0s\n",
      "[Parallel(n_jobs=4)]: Done  38 tasks      | elapsed:    0.0s\n",
      "[Parallel(n_jobs=4)]: Done  39 tasks      | elapsed:    0.0s\n",
      "[Parallel(n_jobs=4)]: Done  40 tasks      | elapsed:    0.0s\n",
      "[Parallel(n_jobs=4)]: Done  41 tasks      | elapsed:    0.0s\n",
      "[Parallel(n_jobs=4)]: Done  42 tasks      | elapsed:    0.0s\n",
      "[Parallel(n_jobs=4)]: Done  43 tasks      | elapsed:    0.0s\n",
      "[Parallel(n_jobs=4)]: Done  44 tasks      | elapsed:    0.0s\n",
      "[Parallel(n_jobs=4)]: Done  45 tasks      | elapsed:    0.0s\n",
      "[Parallel(n_jobs=4)]: Done  46 tasks      | elapsed:    0.0s\n",
      "[Parallel(n_jobs=4)]: Done  47 tasks      | elapsed:    0.0s\n",
      "[Parallel(n_jobs=4)]: Done  48 tasks      | elapsed:    0.0s\n",
      "[Parallel(n_jobs=4)]: Done  49 tasks      | elapsed:    0.0s\n",
      "[Parallel(n_jobs=4)]: Done  50 tasks      | elapsed:    0.0s\n",
      "[Parallel(n_jobs=4)]: Done  51 tasks      | elapsed:    0.0s\n",
      "[Parallel(n_jobs=4)]: Done  52 tasks      | elapsed:    0.0s\n",
      "[Parallel(n_jobs=4)]: Done  53 tasks      | elapsed:    0.0s\n",
      "[Parallel(n_jobs=4)]: Done  54 tasks      | elapsed:    0.0s\n",
      "[Parallel(n_jobs=4)]: Done  55 tasks      | elapsed:    0.0s\n",
      "[Parallel(n_jobs=4)]: Done  56 tasks      | elapsed:    0.0s\n",
      "[Parallel(n_jobs=4)]: Done  57 tasks      | elapsed:    0.0s\n",
      "[Parallel(n_jobs=4)]: Done  58 tasks      | elapsed:    0.0s\n",
      "[Parallel(n_jobs=4)]: Done  59 tasks      | elapsed:    0.0s\n",
      "[Parallel(n_jobs=4)]: Done  60 tasks      | elapsed:    0.0s\n",
      "[Parallel(n_jobs=4)]: Done  61 tasks      | elapsed:    0.0s\n",
      "[Parallel(n_jobs=4)]: Done  62 tasks      | elapsed:    0.0s\n",
      "[Parallel(n_jobs=4)]: Done  63 tasks      | elapsed:    0.0s\n",
      "[Parallel(n_jobs=4)]: Done  64 tasks      | elapsed:    0.0s\n",
      "[Parallel(n_jobs=4)]: Done  65 tasks      | elapsed:    0.0s\n",
      "[Parallel(n_jobs=4)]: Done  66 tasks      | elapsed:    0.0s\n",
      "[Parallel(n_jobs=4)]: Done  67 tasks      | elapsed:    0.0s\n",
      "[Parallel(n_jobs=4)]: Done  68 tasks      | elapsed:    0.0s\n",
      "[Parallel(n_jobs=4)]: Done  69 tasks      | elapsed:    0.0s\n",
      "[Parallel(n_jobs=4)]: Done  70 tasks      | elapsed:    0.0s\n",
      "[Parallel(n_jobs=4)]: Done  71 tasks      | elapsed:    0.0s\n",
      "[Parallel(n_jobs=4)]: Done  72 tasks      | elapsed:    0.0s\n",
      "[Parallel(n_jobs=4)]: Done  73 tasks      | elapsed:    0.0s\n",
      "[Parallel(n_jobs=4)]: Done  74 tasks      | elapsed:    0.0s\n",
      "[Parallel(n_jobs=4)]: Done  75 tasks      | elapsed:    0.0s\n",
      "[Parallel(n_jobs=4)]: Done  76 tasks      | elapsed:    0.0s\n",
      "[Parallel(n_jobs=4)]: Done  77 tasks      | elapsed:    0.0s\n",
      "[Parallel(n_jobs=4)]: Done  78 tasks      | elapsed:    0.0s\n",
      "[Parallel(n_jobs=4)]: Done  79 tasks      | elapsed:    0.0s\n",
      "[Parallel(n_jobs=4)]: Done  80 tasks      | elapsed:    0.0s\n",
      "[Parallel(n_jobs=4)]: Done  81 tasks      | elapsed:    0.0s\n",
      "[Parallel(n_jobs=4)]: Done  82 tasks      | elapsed:    0.0s\n",
      "[Parallel(n_jobs=4)]: Done  83 tasks      | elapsed:    0.0s\n",
      "[Parallel(n_jobs=4)]: Done  84 tasks      | elapsed:    0.0s\n",
      "[Parallel(n_jobs=4)]: Done  85 tasks      | elapsed:    0.0s\n",
      "[Parallel(n_jobs=4)]: Done  86 tasks      | elapsed:    0.0s\n",
      "[Parallel(n_jobs=4)]: Done  87 tasks      | elapsed:    0.0s\n",
      "[Parallel(n_jobs=4)]: Done  88 tasks      | elapsed:    0.0s\n",
      "[Parallel(n_jobs=4)]: Done  89 tasks      | elapsed:    0.0s\n",
      "[Parallel(n_jobs=4)]: Done  90 tasks      | elapsed:    0.0s\n",
      "[Parallel(n_jobs=4)]: Done  91 tasks      | elapsed:    0.0s\n",
      "[Parallel(n_jobs=4)]: Done  92 tasks      | elapsed:    0.0s\n",
      "[Parallel(n_jobs=4)]: Done  93 tasks      | elapsed:    0.0s\n",
      "[Parallel(n_jobs=4)]: Done  94 tasks      | elapsed:    0.0s\n",
      "[Parallel(n_jobs=4)]: Done  95 tasks      | elapsed:    0.0s\n",
      "[Parallel(n_jobs=4)]: Done  96 tasks      | elapsed:    0.0s\n",
      "[Parallel(n_jobs=4)]: Done  97 tasks      | elapsed:    0.0s\n",
      "[Parallel(n_jobs=4)]: Done  98 tasks      | elapsed:    0.0s\n",
      "[Parallel(n_jobs=4)]: Done  99 tasks      | elapsed:    0.0s\n",
      "[Parallel(n_jobs=4)]: Done 100 tasks      | elapsed:    0.0s\n",
      "[Parallel(n_jobs=4)]: Done 101 tasks      | elapsed:    0.0s\n",
      "[Parallel(n_jobs=4)]: Done 102 tasks      | elapsed:    0.0s\n",
      "[Parallel(n_jobs=4)]: Done 103 tasks      | elapsed:    0.0s\n",
      "[Parallel(n_jobs=4)]: Done 104 tasks      | elapsed:    0.0s\n",
      "[Parallel(n_jobs=4)]: Done 105 tasks      | elapsed:    0.0s\n",
      "[Parallel(n_jobs=4)]: Done 106 tasks      | elapsed:    0.0s\n",
      "[Parallel(n_jobs=4)]: Done 107 tasks      | elapsed:    0.0s\n",
      "[Parallel(n_jobs=4)]: Done 108 tasks      | elapsed:    0.0s\n",
      "[Parallel(n_jobs=4)]: Done 109 tasks      | elapsed:    0.0s\n",
      "[Parallel(n_jobs=4)]: Done 110 tasks      | elapsed:    0.0s\n",
      "[Parallel(n_jobs=4)]: Done 111 tasks      | elapsed:    0.0s\n",
      "[Parallel(n_jobs=4)]: Done 112 tasks      | elapsed:    0.0s\n",
      "[Parallel(n_jobs=4)]: Done 113 tasks      | elapsed:    0.0s\n",
      "[Parallel(n_jobs=4)]: Done 114 tasks      | elapsed:    0.0s\n",
      "[Parallel(n_jobs=4)]: Done 115 tasks      | elapsed:    0.0s\n",
      "[Parallel(n_jobs=4)]: Done 116 tasks      | elapsed:    0.0s\n",
      "[Parallel(n_jobs=4)]: Done 117 tasks      | elapsed:    0.0s\n",
      "[Parallel(n_jobs=4)]: Done 118 tasks      | elapsed:    0.0s\n",
      "[Parallel(n_jobs=4)]: Done 119 tasks      | elapsed:    0.0s\n",
      "[Parallel(n_jobs=4)]: Done 120 tasks      | elapsed:    0.0s\n",
      "[Parallel(n_jobs=4)]: Done 121 tasks      | elapsed:    0.0s\n",
      "[Parallel(n_jobs=4)]: Done 122 tasks      | elapsed:    0.0s\n",
      "[Parallel(n_jobs=4)]: Done 123 tasks      | elapsed:    0.0s\n",
      "[Parallel(n_jobs=4)]: Done 124 tasks      | elapsed:    0.0s\n",
      "[Parallel(n_jobs=4)]: Done 125 tasks      | elapsed:    0.0s\n",
      "[Parallel(n_jobs=4)]: Done 126 tasks      | elapsed:    0.0s\n",
      "[Parallel(n_jobs=4)]: Done 127 tasks      | elapsed:    0.0s\n",
      "[Parallel(n_jobs=4)]: Done 128 tasks      | elapsed:    0.0s\n",
      "[Parallel(n_jobs=4)]: Done 129 tasks      | elapsed:    0.0s\n",
      "[Parallel(n_jobs=4)]: Done 130 tasks      | elapsed:    0.0s\n",
      "[Parallel(n_jobs=4)]: Done 131 tasks      | elapsed:    0.0s\n",
      "[Parallel(n_jobs=4)]: Done 132 tasks      | elapsed:    0.0s\n",
      "[Parallel(n_jobs=4)]: Done 133 tasks      | elapsed:    0.0s\n",
      "[Parallel(n_jobs=4)]: Done 134 tasks      | elapsed:    0.0s\n",
      "[Parallel(n_jobs=4)]: Done 135 tasks      | elapsed:    0.0s\n",
      "[Parallel(n_jobs=4)]: Done 136 tasks      | elapsed:    0.0s\n",
      "[Parallel(n_jobs=4)]: Done 137 tasks      | elapsed:    0.0s\n",
      "[Parallel(n_jobs=4)]: Done 138 tasks      | elapsed:    0.0s\n",
      "[Parallel(n_jobs=4)]: Done 139 tasks      | elapsed:    0.0s\n",
      "[Parallel(n_jobs=4)]: Done 140 tasks      | elapsed:    0.0s\n",
      "[Parallel(n_jobs=4)]: Done 141 tasks      | elapsed:    0.0s\n",
      "[Parallel(n_jobs=4)]: Done 142 tasks      | elapsed:    0.0s\n",
      "[Parallel(n_jobs=4)]: Done 143 tasks      | elapsed:    0.0s\n",
      "[Parallel(n_jobs=4)]: Done 144 tasks      | elapsed:    0.0s\n",
      "[Parallel(n_jobs=4)]: Done 145 tasks      | elapsed:    0.0s\n",
      "[Parallel(n_jobs=4)]: Done 146 tasks      | elapsed:    0.0s\n",
      "[Parallel(n_jobs=4)]: Done 147 tasks      | elapsed:    0.0s\n",
      "[Parallel(n_jobs=4)]: Done 148 tasks      | elapsed:    0.0s\n",
      "[Parallel(n_jobs=4)]: Done 149 tasks      | elapsed:    0.0s\n",
      "[Parallel(n_jobs=4)]: Done 150 tasks      | elapsed:    0.0s\n",
      "[Parallel(n_jobs=4)]: Done 151 tasks      | elapsed:    0.0s\n",
      "[Parallel(n_jobs=4)]: Done 152 tasks      | elapsed:    0.0s\n",
      "[Parallel(n_jobs=4)]: Done 153 tasks      | elapsed:    0.0s\n",
      "[Parallel(n_jobs=4)]: Done 154 tasks      | elapsed:    0.0s\n",
      "[Parallel(n_jobs=4)]: Done 155 tasks      | elapsed:    0.0s\n",
      "[Parallel(n_jobs=4)]: Done 156 tasks      | elapsed:    0.0s\n",
      "[Parallel(n_jobs=4)]: Done 157 tasks      | elapsed:    0.0s\n",
      "[Parallel(n_jobs=4)]: Done 158 tasks      | elapsed:    0.0s\n",
      "[Parallel(n_jobs=4)]: Done 159 tasks      | elapsed:    0.0s\n",
      "[Parallel(n_jobs=4)]: Done 160 tasks      | elapsed:    0.0s\n",
      "[Parallel(n_jobs=4)]: Done 161 tasks      | elapsed:    0.0s\n",
      "[Parallel(n_jobs=4)]: Done 162 tasks      | elapsed:    0.0s\n",
      "[Parallel(n_jobs=4)]: Done 163 tasks      | elapsed:    0.0s\n",
      "[Parallel(n_jobs=4)]: Done 164 tasks      | elapsed:    0.0s\n",
      "[Parallel(n_jobs=4)]: Done 165 tasks      | elapsed:    0.0s\n",
      "[Parallel(n_jobs=4)]: Done 166 tasks      | elapsed:    0.0s\n",
      "[Parallel(n_jobs=4)]: Done 167 tasks      | elapsed:    0.0s\n",
      "[Parallel(n_jobs=4)]: Done 168 tasks      | elapsed:    0.0s\n",
      "[Parallel(n_jobs=4)]: Done 169 tasks      | elapsed:    0.0s\n",
      "[Parallel(n_jobs=4)]: Done 170 tasks      | elapsed:    0.0s\n",
      "[Parallel(n_jobs=4)]: Done 171 tasks      | elapsed:    0.0s\n",
      "[Parallel(n_jobs=4)]: Done 172 tasks      | elapsed:    0.0s\n",
      "[Parallel(n_jobs=4)]: Done 173 tasks      | elapsed:    0.0s\n",
      "[Parallel(n_jobs=4)]: Done 174 tasks      | elapsed:    0.0s\n",
      "[Parallel(n_jobs=4)]: Done 175 tasks      | elapsed:    0.0s\n",
      "[Parallel(n_jobs=4)]: Done 176 tasks      | elapsed:    0.0s\n",
      "[Parallel(n_jobs=4)]: Done 177 tasks      | elapsed:    0.0s\n",
      "[Parallel(n_jobs=4)]: Done 178 tasks      | elapsed:    0.0s\n",
      "[Parallel(n_jobs=4)]: Done 179 tasks      | elapsed:    0.0s\n",
      "[Parallel(n_jobs=4)]: Done 180 tasks      | elapsed:    0.0s\n",
      "[Parallel(n_jobs=4)]: Done 181 tasks      | elapsed:    0.0s\n",
      "[Parallel(n_jobs=4)]: Done 182 tasks      | elapsed:    0.0s\n",
      "[Parallel(n_jobs=4)]: Done 183 tasks      | elapsed:    0.0s\n",
      "[Parallel(n_jobs=4)]: Done 184 tasks      | elapsed:    0.0s\n",
      "[Parallel(n_jobs=4)]: Done 185 tasks      | elapsed:    0.0s\n",
      "[Parallel(n_jobs=4)]: Done 186 tasks      | elapsed:    0.0s\n",
      "[Parallel(n_jobs=4)]: Done 187 tasks      | elapsed:    0.0s\n",
      "[Parallel(n_jobs=4)]: Done 188 tasks      | elapsed:    0.0s\n",
      "[Parallel(n_jobs=4)]: Done 189 tasks      | elapsed:    0.0s\n",
      "[Parallel(n_jobs=4)]: Done 190 tasks      | elapsed:    0.0s\n",
      "[Parallel(n_jobs=4)]: Done 191 tasks      | elapsed:    0.0s\n",
      "[Parallel(n_jobs=4)]: Done 192 tasks      | elapsed:    0.0s\n",
      "[Parallel(n_jobs=4)]: Done 193 tasks      | elapsed:    0.0s\n",
      "[Parallel(n_jobs=4)]: Done 194 tasks      | elapsed:    0.0s\n",
      "[Parallel(n_jobs=4)]: Done 195 tasks      | elapsed:    0.0s\n",
      "[Parallel(n_jobs=4)]: Done 196 tasks      | elapsed:    0.0s\n",
      "[Parallel(n_jobs=4)]: Done 197 tasks      | elapsed:    0.0s\n",
      "[Parallel(n_jobs=4)]: Done 198 tasks      | elapsed:    0.0s\n",
      "[Parallel(n_jobs=4)]: Done 199 tasks      | elapsed:    0.0s\n",
      "[Parallel(n_jobs=4)]: Done 200 tasks      | elapsed:    0.0s\n",
      "[Parallel(n_jobs=4)]: Done 201 tasks      | elapsed:    0.0s\n",
      "[Parallel(n_jobs=4)]: Done 202 tasks      | elapsed:    0.0s\n",
      "[Parallel(n_jobs=4)]: Done 203 tasks      | elapsed:    0.0s\n",
      "[Parallel(n_jobs=4)]: Done 204 tasks      | elapsed:    0.0s\n",
      "[Parallel(n_jobs=4)]: Done 205 tasks      | elapsed:    0.0s\n",
      "[Parallel(n_jobs=4)]: Done 206 tasks      | elapsed:    0.0s\n",
      "[Parallel(n_jobs=4)]: Done 207 tasks      | elapsed:    0.0s\n",
      "[Parallel(n_jobs=4)]: Done 208 tasks      | elapsed:    0.0s\n",
      "[Parallel(n_jobs=4)]: Done 209 tasks      | elapsed:    0.0s\n",
      "[Parallel(n_jobs=4)]: Done 210 tasks      | elapsed:    0.0s\n",
      "[Parallel(n_jobs=4)]: Done 211 tasks      | elapsed:    0.0s\n",
      "[Parallel(n_jobs=4)]: Done 212 tasks      | elapsed:    0.0s\n",
      "[Parallel(n_jobs=4)]: Done 213 tasks      | elapsed:    0.0s\n",
      "[Parallel(n_jobs=4)]: Done 214 tasks      | elapsed:    0.0s\n",
      "[Parallel(n_jobs=4)]: Done 215 tasks      | elapsed:    0.0s\n",
      "[Parallel(n_jobs=4)]: Done 216 tasks      | elapsed:    0.0s\n",
      "[Parallel(n_jobs=4)]: Done 217 tasks      | elapsed:    0.0s\n",
      "[Parallel(n_jobs=4)]: Done 218 tasks      | elapsed:    0.0s\n",
      "[Parallel(n_jobs=4)]: Done 219 tasks      | elapsed:    0.0s\n",
      "[Parallel(n_jobs=4)]: Done 220 tasks      | elapsed:    0.0s\n",
      "[Parallel(n_jobs=4)]: Done 221 tasks      | elapsed:    0.0s\n",
      "[Parallel(n_jobs=4)]: Done 222 tasks      | elapsed:    0.0s\n",
      "[Parallel(n_jobs=4)]: Done 223 tasks      | elapsed:    0.0s\n",
      "[Parallel(n_jobs=4)]: Done 224 tasks      | elapsed:    0.0s\n",
      "[Parallel(n_jobs=4)]: Done 225 tasks      | elapsed:    0.0s\n",
      "[Parallel(n_jobs=4)]: Done 226 tasks      | elapsed:    0.0s\n",
      "[Parallel(n_jobs=4)]: Done 227 tasks      | elapsed:    0.0s\n",
      "[Parallel(n_jobs=4)]: Done 228 tasks      | elapsed:    0.0s\n",
      "[Parallel(n_jobs=4)]: Done 229 tasks      | elapsed:    0.0s\n",
      "[Parallel(n_jobs=4)]: Done 230 tasks      | elapsed:    0.0s\n",
      "[Parallel(n_jobs=4)]: Done 231 tasks      | elapsed:    0.0s\n",
      "[Parallel(n_jobs=4)]: Done 232 tasks      | elapsed:    0.0s\n",
      "[Parallel(n_jobs=4)]: Done 233 tasks      | elapsed:    0.0s\n",
      "[Parallel(n_jobs=4)]: Done 234 tasks      | elapsed:    0.0s\n",
      "[Parallel(n_jobs=4)]: Done 235 tasks      | elapsed:    0.0s\n",
      "[Parallel(n_jobs=4)]: Done 236 tasks      | elapsed:    0.0s\n",
      "[Parallel(n_jobs=4)]: Done 237 tasks      | elapsed:    0.0s\n",
      "[Parallel(n_jobs=4)]: Done 238 tasks      | elapsed:    0.0s\n",
      "[Parallel(n_jobs=4)]: Done 239 tasks      | elapsed:    0.0s\n",
      "[Parallel(n_jobs=4)]: Done 240 tasks      | elapsed:    0.0s\n",
      "[Parallel(n_jobs=4)]: Done 241 tasks      | elapsed:    0.0s\n",
      "[Parallel(n_jobs=4)]: Done 242 tasks      | elapsed:    0.0s\n",
      "[Parallel(n_jobs=4)]: Done 243 tasks      | elapsed:    0.0s\n",
      "[Parallel(n_jobs=4)]: Done 244 tasks      | elapsed:    0.0s\n",
      "[Parallel(n_jobs=4)]: Done 245 tasks      | elapsed:    0.0s\n",
      "[Parallel(n_jobs=4)]: Done 246 tasks      | elapsed:    0.0s\n",
      "[Parallel(n_jobs=4)]: Done 247 tasks      | elapsed:    0.0s\n",
      "[Parallel(n_jobs=4)]: Done 248 tasks      | elapsed:    0.0s\n",
      "[Parallel(n_jobs=4)]: Done 249 tasks      | elapsed:    0.0s\n",
      "[Parallel(n_jobs=4)]: Done 250 tasks      | elapsed:    0.0s\n",
      "[Parallel(n_jobs=4)]: Done 251 tasks      | elapsed:    0.0s\n",
      "[Parallel(n_jobs=4)]: Done 252 tasks      | elapsed:    0.0s\n",
      "[Parallel(n_jobs=4)]: Done 253 tasks      | elapsed:    0.0s\n",
      "[Parallel(n_jobs=4)]: Done 254 tasks      | elapsed:    0.0s\n",
      "[Parallel(n_jobs=4)]: Done 255 tasks      | elapsed:    0.0s\n",
      "[Parallel(n_jobs=4)]: Done 256 tasks      | elapsed:    0.0s\n",
      "[Parallel(n_jobs=4)]: Done 257 tasks      | elapsed:    0.0s\n",
      "[Parallel(n_jobs=4)]: Done 258 tasks      | elapsed:    0.1s\n",
      "[Parallel(n_jobs=4)]: Done 259 tasks      | elapsed:    0.1s\n",
      "[Parallel(n_jobs=4)]: Done 260 tasks      | elapsed:    0.1s\n",
      "[Parallel(n_jobs=4)]: Done 261 tasks      | elapsed:    0.1s\n",
      "[Parallel(n_jobs=4)]: Done 262 tasks      | elapsed:    0.1s\n",
      "[Parallel(n_jobs=4)]: Done 263 tasks      | elapsed:    0.1s\n",
      "[Parallel(n_jobs=4)]: Done 264 tasks      | elapsed:    0.1s\n",
      "[Parallel(n_jobs=4)]: Done 265 tasks      | elapsed:    0.1s\n",
      "[Parallel(n_jobs=4)]: Done 266 tasks      | elapsed:    0.1s\n",
      "[Parallel(n_jobs=4)]: Done 267 tasks      | elapsed:    0.1s\n",
      "[Parallel(n_jobs=4)]: Done 268 tasks      | elapsed:    0.1s\n",
      "[Parallel(n_jobs=4)]: Done 269 tasks      | elapsed:    0.1s\n",
      "[Parallel(n_jobs=4)]: Done 270 tasks      | elapsed:    0.1s\n",
      "[Parallel(n_jobs=4)]: Done 271 tasks      | elapsed:    0.1s\n",
      "[Parallel(n_jobs=4)]: Done 272 tasks      | elapsed:    0.1s\n",
      "[Parallel(n_jobs=4)]: Done 273 tasks      | elapsed:    0.1s\n",
      "[Parallel(n_jobs=4)]: Done 274 tasks      | elapsed:    0.1s\n",
      "[Parallel(n_jobs=4)]: Done 275 tasks      | elapsed:    0.1s\n",
      "[Parallel(n_jobs=4)]: Done 276 tasks      | elapsed:    0.1s\n",
      "[Parallel(n_jobs=4)]: Done 277 tasks      | elapsed:    0.1s\n",
      "[Parallel(n_jobs=4)]: Done 278 tasks      | elapsed:    0.1s\n",
      "[Parallel(n_jobs=4)]: Done 279 tasks      | elapsed:    0.1s\n",
      "[Parallel(n_jobs=4)]: Done 280 tasks      | elapsed:    0.1s\n",
      "[Parallel(n_jobs=4)]: Done 281 tasks      | elapsed:    0.1s\n",
      "[Parallel(n_jobs=4)]: Done 282 tasks      | elapsed:    0.1s\n",
      "[Parallel(n_jobs=4)]: Done 283 tasks      | elapsed:    0.1s\n",
      "[Parallel(n_jobs=4)]: Done 284 tasks      | elapsed:    0.1s\n",
      "[Parallel(n_jobs=4)]: Done 285 tasks      | elapsed:    0.1s\n",
      "[Parallel(n_jobs=4)]: Done 286 tasks      | elapsed:    0.1s\n",
      "[Parallel(n_jobs=4)]: Done 287 tasks      | elapsed:    0.1s\n",
      "[Parallel(n_jobs=4)]: Done 288 tasks      | elapsed:    0.1s\n",
      "[Parallel(n_jobs=4)]: Done 289 tasks      | elapsed:    0.1s\n",
      "[Parallel(n_jobs=4)]: Done 290 tasks      | elapsed:    0.1s\n",
      "[Parallel(n_jobs=4)]: Done 291 tasks      | elapsed:    0.1s\n",
      "[Parallel(n_jobs=4)]: Done 292 tasks      | elapsed:    0.1s\n",
      "[Parallel(n_jobs=4)]: Done 293 tasks      | elapsed:    0.1s\n",
      "[Parallel(n_jobs=4)]: Done 294 tasks      | elapsed:    0.1s\n",
      "[Parallel(n_jobs=4)]: Done 295 tasks      | elapsed:    0.1s\n",
      "[Parallel(n_jobs=4)]: Done 296 tasks      | elapsed:    0.1s\n",
      "[Parallel(n_jobs=4)]: Done 297 tasks      | elapsed:    0.1s\n",
      "[Parallel(n_jobs=4)]: Done 298 tasks      | elapsed:    0.1s\n",
      "[Parallel(n_jobs=4)]: Done 299 tasks      | elapsed:    0.1s\n",
      "[Parallel(n_jobs=4)]: Done 300 tasks      | elapsed:    0.1s\n",
      "[Parallel(n_jobs=4)]: Done 301 tasks      | elapsed:    0.1s\n",
      "[Parallel(n_jobs=4)]: Done 302 tasks      | elapsed:    0.1s\n",
      "[Parallel(n_jobs=4)]: Done 303 tasks      | elapsed:    0.1s\n",
      "[Parallel(n_jobs=4)]: Done 304 tasks      | elapsed:    0.1s\n",
      "[Parallel(n_jobs=4)]: Done 305 tasks      | elapsed:    0.1s\n",
      "[Parallel(n_jobs=4)]: Done 306 tasks      | elapsed:    0.1s\n",
      "[Parallel(n_jobs=4)]: Done 307 tasks      | elapsed:    0.1s\n",
      "[Parallel(n_jobs=4)]: Done 308 tasks      | elapsed:    0.1s\n",
      "[Parallel(n_jobs=4)]: Done 309 tasks      | elapsed:    0.1s\n",
      "[Parallel(n_jobs=4)]: Done 310 tasks      | elapsed:    0.1s\n",
      "[Parallel(n_jobs=4)]: Done 311 tasks      | elapsed:    0.1s\n",
      "[Parallel(n_jobs=4)]: Done 312 tasks      | elapsed:    0.1s\n",
      "[Parallel(n_jobs=4)]: Done 313 tasks      | elapsed:    0.1s\n",
      "[Parallel(n_jobs=4)]: Done 314 tasks      | elapsed:    0.1s\n",
      "[Parallel(n_jobs=4)]: Done 315 tasks      | elapsed:    0.1s\n",
      "[Parallel(n_jobs=4)]: Done 316 tasks      | elapsed:    0.1s\n",
      "[Parallel(n_jobs=4)]: Done 317 tasks      | elapsed:    0.1s\n",
      "[Parallel(n_jobs=4)]: Done 318 tasks      | elapsed:    0.1s\n",
      "[Parallel(n_jobs=4)]: Done 319 tasks      | elapsed:    0.1s\n",
      "[Parallel(n_jobs=4)]: Done 320 tasks      | elapsed:    0.1s\n",
      "[Parallel(n_jobs=4)]: Done 321 tasks      | elapsed:    0.1s\n",
      "[Parallel(n_jobs=4)]: Done 322 tasks      | elapsed:    0.1s\n",
      "[Parallel(n_jobs=4)]: Done 323 tasks      | elapsed:    0.1s\n",
      "[Parallel(n_jobs=4)]: Done 324 tasks      | elapsed:    0.1s\n",
      "[Parallel(n_jobs=4)]: Done 325 tasks      | elapsed:    0.1s\n",
      "[Parallel(n_jobs=4)]: Done 326 tasks      | elapsed:    0.1s\n",
      "[Parallel(n_jobs=4)]: Done 327 tasks      | elapsed:    0.1s\n",
      "[Parallel(n_jobs=4)]: Done 328 tasks      | elapsed:    0.1s\n",
      "[Parallel(n_jobs=4)]: Done 329 tasks      | elapsed:    0.1s\n",
      "[Parallel(n_jobs=4)]: Done 330 tasks      | elapsed:    0.1s\n",
      "[Parallel(n_jobs=4)]: Done 331 tasks      | elapsed:    0.1s\n",
      "[Parallel(n_jobs=4)]: Done 332 tasks      | elapsed:    0.1s\n",
      "[Parallel(n_jobs=4)]: Done 333 tasks      | elapsed:    0.1s\n",
      "[Parallel(n_jobs=4)]: Done 334 tasks      | elapsed:    0.1s\n",
      "[Parallel(n_jobs=4)]: Done 335 tasks      | elapsed:    0.1s\n",
      "[Parallel(n_jobs=4)]: Done 336 tasks      | elapsed:    0.1s\n",
      "[Parallel(n_jobs=4)]: Done 337 tasks      | elapsed:    0.1s\n",
      "[Parallel(n_jobs=4)]: Done 338 tasks      | elapsed:    0.1s\n",
      "[Parallel(n_jobs=4)]: Done 339 tasks      | elapsed:    0.1s\n",
      "[Parallel(n_jobs=4)]: Done 340 tasks      | elapsed:    0.1s\n",
      "[Parallel(n_jobs=4)]: Done 341 tasks      | elapsed:    0.1s\n",
      "[Parallel(n_jobs=4)]: Done 342 tasks      | elapsed:    0.1s\n",
      "[Parallel(n_jobs=4)]: Done 343 tasks      | elapsed:    0.1s\n",
      "[Parallel(n_jobs=4)]: Done 344 tasks      | elapsed:    0.1s\n",
      "[Parallel(n_jobs=4)]: Done 345 tasks      | elapsed:    0.1s\n",
      "[Parallel(n_jobs=4)]: Done 346 tasks      | elapsed:    0.1s\n",
      "[Parallel(n_jobs=4)]: Done 347 tasks      | elapsed:    0.1s\n",
      "[Parallel(n_jobs=4)]: Done 348 tasks      | elapsed:    0.1s\n",
      "[Parallel(n_jobs=4)]: Done 349 tasks      | elapsed:    0.1s\n",
      "[Parallel(n_jobs=4)]: Done 350 tasks      | elapsed:    0.1s\n",
      "[Parallel(n_jobs=4)]: Done 351 tasks      | elapsed:    0.1s\n",
      "[Parallel(n_jobs=4)]: Done 352 tasks      | elapsed:    0.1s\n",
      "[Parallel(n_jobs=4)]: Done 353 tasks      | elapsed:    0.1s\n",
      "[Parallel(n_jobs=4)]: Done 354 tasks      | elapsed:    0.1s\n",
      "[Parallel(n_jobs=4)]: Done 355 tasks      | elapsed:    0.1s\n",
      "[Parallel(n_jobs=4)]: Done 356 tasks      | elapsed:    0.1s\n",
      "[Parallel(n_jobs=4)]: Done 357 tasks      | elapsed:    0.1s\n",
      "[Parallel(n_jobs=4)]: Done 358 tasks      | elapsed:    0.1s\n",
      "[Parallel(n_jobs=4)]: Done 359 tasks      | elapsed:    0.1s\n",
      "[Parallel(n_jobs=4)]: Done 360 tasks      | elapsed:    0.1s\n",
      "[Parallel(n_jobs=4)]: Done 361 tasks      | elapsed:    0.1s\n",
      "[Parallel(n_jobs=4)]: Done 362 tasks      | elapsed:    0.1s\n",
      "[Parallel(n_jobs=4)]: Done 363 tasks      | elapsed:    0.1s\n",
      "[Parallel(n_jobs=4)]: Done 364 tasks      | elapsed:    0.1s\n",
      "[Parallel(n_jobs=4)]: Done 365 tasks      | elapsed:    0.1s\n",
      "[Parallel(n_jobs=4)]: Done 366 tasks      | elapsed:    0.1s\n",
      "[Parallel(n_jobs=4)]: Done 367 tasks      | elapsed:    0.1s\n",
      "[Parallel(n_jobs=4)]: Done 368 tasks      | elapsed:    0.1s\n",
      "[Parallel(n_jobs=4)]: Done 369 tasks      | elapsed:    0.1s\n",
      "[Parallel(n_jobs=4)]: Done 370 tasks      | elapsed:    0.1s\n",
      "[Parallel(n_jobs=4)]: Done 371 tasks      | elapsed:    0.1s\n",
      "[Parallel(n_jobs=4)]: Done 372 tasks      | elapsed:    0.1s\n",
      "[Parallel(n_jobs=4)]: Done 373 tasks      | elapsed:    0.1s\n",
      "[Parallel(n_jobs=4)]: Done 374 tasks      | elapsed:    0.1s\n",
      "[Parallel(n_jobs=4)]: Done 375 tasks      | elapsed:    0.1s\n",
      "[Parallel(n_jobs=4)]: Done 376 tasks      | elapsed:    0.1s\n",
      "[Parallel(n_jobs=4)]: Done 377 tasks      | elapsed:    0.1s\n",
      "[Parallel(n_jobs=4)]: Done 378 tasks      | elapsed:    0.1s\n",
      "[Parallel(n_jobs=4)]: Done 379 tasks      | elapsed:    0.1s\n",
      "[Parallel(n_jobs=4)]: Done 380 tasks      | elapsed:    0.1s\n",
      "[Parallel(n_jobs=4)]: Done 381 tasks      | elapsed:    0.1s\n",
      "[Parallel(n_jobs=4)]: Done 382 tasks      | elapsed:    0.1s\n",
      "[Parallel(n_jobs=4)]: Done 383 tasks      | elapsed:    0.1s\n",
      "[Parallel(n_jobs=4)]: Done 384 tasks      | elapsed:    0.1s\n",
      "[Parallel(n_jobs=4)]: Done 385 tasks      | elapsed:    0.1s\n",
      "[Parallel(n_jobs=4)]: Done 386 tasks      | elapsed:    0.1s\n",
      "[Parallel(n_jobs=4)]: Done 387 tasks      | elapsed:    0.1s\n",
      "[Parallel(n_jobs=4)]: Done 388 tasks      | elapsed:    0.1s\n",
      "[Parallel(n_jobs=4)]: Done 389 tasks      | elapsed:    0.1s\n",
      "[Parallel(n_jobs=4)]: Done 390 tasks      | elapsed:    0.1s\n",
      "[Parallel(n_jobs=4)]: Done 391 tasks      | elapsed:    0.1s\n",
      "[Parallel(n_jobs=4)]: Done 392 tasks      | elapsed:    0.1s\n",
      "[Parallel(n_jobs=4)]: Done 393 tasks      | elapsed:    0.1s\n",
      "[Parallel(n_jobs=4)]: Done 394 tasks      | elapsed:    0.1s\n",
      "[Parallel(n_jobs=4)]: Done 395 tasks      | elapsed:    0.1s\n",
      "[Parallel(n_jobs=4)]: Done 396 tasks      | elapsed:    0.1s\n",
      "[Parallel(n_jobs=4)]: Done 397 tasks      | elapsed:    0.1s\n",
      "[Parallel(n_jobs=4)]: Done 398 tasks      | elapsed:    0.1s\n",
      "[Parallel(n_jobs=4)]: Done 399 tasks      | elapsed:    0.1s\n",
      "[Parallel(n_jobs=4)]: Done 400 tasks      | elapsed:    0.1s\n",
      "[Parallel(n_jobs=4)]: Done 401 tasks      | elapsed:    0.1s\n",
      "[Parallel(n_jobs=4)]: Done 402 tasks      | elapsed:    0.1s\n",
      "[Parallel(n_jobs=4)]: Done 403 tasks      | elapsed:    0.1s\n",
      "[Parallel(n_jobs=4)]: Done 404 tasks      | elapsed:    0.1s\n",
      "[Parallel(n_jobs=4)]: Done 405 tasks      | elapsed:    0.1s\n",
      "[Parallel(n_jobs=4)]: Done 406 tasks      | elapsed:    0.1s\n",
      "[Parallel(n_jobs=4)]: Done 407 tasks      | elapsed:    0.1s\n",
      "[Parallel(n_jobs=4)]: Done 408 tasks      | elapsed:    0.1s\n",
      "[Parallel(n_jobs=4)]: Done 409 tasks      | elapsed:    0.1s\n",
      "[Parallel(n_jobs=4)]: Done 410 tasks      | elapsed:    0.1s\n",
      "[Parallel(n_jobs=4)]: Done 411 tasks      | elapsed:    0.1s\n",
      "[Parallel(n_jobs=4)]: Done 412 tasks      | elapsed:    0.1s\n",
      "[Parallel(n_jobs=4)]: Done 413 tasks      | elapsed:    0.1s\n",
      "[Parallel(n_jobs=4)]: Done 414 tasks      | elapsed:    0.1s\n",
      "[Parallel(n_jobs=4)]: Done 415 tasks      | elapsed:    0.1s\n",
      "[Parallel(n_jobs=4)]: Done 416 tasks      | elapsed:    0.1s\n",
      "[Parallel(n_jobs=4)]: Done 417 tasks      | elapsed:    0.1s\n",
      "[Parallel(n_jobs=4)]: Done 418 tasks      | elapsed:    0.1s\n",
      "[Parallel(n_jobs=4)]: Done 419 tasks      | elapsed:    0.1s\n",
      "[Parallel(n_jobs=4)]: Done 420 tasks      | elapsed:    0.1s\n",
      "[Parallel(n_jobs=4)]: Done 421 tasks      | elapsed:    0.1s\n",
      "[Parallel(n_jobs=4)]: Done 422 tasks      | elapsed:    0.1s\n",
      "[Parallel(n_jobs=4)]: Done 423 tasks      | elapsed:    0.1s\n",
      "[Parallel(n_jobs=4)]: Done 424 tasks      | elapsed:    0.1s\n",
      "[Parallel(n_jobs=4)]: Done 425 tasks      | elapsed:    0.1s\n",
      "[Parallel(n_jobs=4)]: Done 426 tasks      | elapsed:    0.1s\n",
      "[Parallel(n_jobs=4)]: Done 427 tasks      | elapsed:    0.1s\n",
      "[Parallel(n_jobs=4)]: Done 428 tasks      | elapsed:    0.1s\n",
      "[Parallel(n_jobs=4)]: Done 429 tasks      | elapsed:    0.1s\n",
      "[Parallel(n_jobs=4)]: Done 430 tasks      | elapsed:    0.1s\n",
      "[Parallel(n_jobs=4)]: Done 431 tasks      | elapsed:    0.1s\n",
      "[Parallel(n_jobs=4)]: Done 432 tasks      | elapsed:    0.1s\n",
      "[Parallel(n_jobs=4)]: Done 433 tasks      | elapsed:    0.1s\n",
      "[Parallel(n_jobs=4)]: Done 434 tasks      | elapsed:    0.1s\n",
      "[Parallel(n_jobs=4)]: Done 435 tasks      | elapsed:    0.1s\n",
      "[Parallel(n_jobs=4)]: Done 436 tasks      | elapsed:    0.1s\n",
      "[Parallel(n_jobs=4)]: Done 437 tasks      | elapsed:    0.1s\n",
      "[Parallel(n_jobs=4)]: Done 438 tasks      | elapsed:    0.2s\n",
      "[Parallel(n_jobs=4)]: Done 439 tasks      | elapsed:    0.2s\n",
      "[Parallel(n_jobs=4)]: Done 440 tasks      | elapsed:    0.2s\n",
      "[Parallel(n_jobs=4)]: Done 441 tasks      | elapsed:    0.2s\n",
      "[Parallel(n_jobs=4)]: Done 442 tasks      | elapsed:    0.2s\n",
      "[Parallel(n_jobs=4)]: Done 443 tasks      | elapsed:    0.2s\n",
      "[Parallel(n_jobs=4)]: Done 444 tasks      | elapsed:    0.2s\n",
      "[Parallel(n_jobs=4)]: Done 445 tasks      | elapsed:    0.2s\n",
      "[Parallel(n_jobs=4)]: Done 446 tasks      | elapsed:    0.2s\n",
      "[Parallel(n_jobs=4)]: Done 447 tasks      | elapsed:    0.2s\n",
      "[Parallel(n_jobs=4)]: Done 448 tasks      | elapsed:    0.2s\n",
      "[Parallel(n_jobs=4)]: Done 449 tasks      | elapsed:    0.2s\n",
      "[Parallel(n_jobs=4)]: Done 450 tasks      | elapsed:    0.2s\n",
      "[Parallel(n_jobs=4)]: Done 451 tasks      | elapsed:    0.2s\n",
      "[Parallel(n_jobs=4)]: Done 452 tasks      | elapsed:    0.2s\n",
      "[Parallel(n_jobs=4)]: Done 453 tasks      | elapsed:    0.2s\n",
      "[Parallel(n_jobs=4)]: Done 454 tasks      | elapsed:    0.2s\n",
      "[Parallel(n_jobs=4)]: Done 455 tasks      | elapsed:    0.2s\n",
      "[Parallel(n_jobs=4)]: Done 456 tasks      | elapsed:    0.2s\n",
      "[Parallel(n_jobs=4)]: Done 457 tasks      | elapsed:    0.2s\n",
      "[Parallel(n_jobs=4)]: Done 458 tasks      | elapsed:    0.2s\n",
      "[Parallel(n_jobs=4)]: Done 459 tasks      | elapsed:    0.2s\n",
      "[Parallel(n_jobs=4)]: Done 460 tasks      | elapsed:    0.2s\n",
      "[Parallel(n_jobs=4)]: Done 461 tasks      | elapsed:    0.2s\n",
      "[Parallel(n_jobs=4)]: Done 462 tasks      | elapsed:    0.2s\n",
      "[Parallel(n_jobs=4)]: Done 463 tasks      | elapsed:    0.2s\n",
      "[Parallel(n_jobs=4)]: Done 464 tasks      | elapsed:    0.2s\n",
      "[Parallel(n_jobs=4)]: Done 465 tasks      | elapsed:    0.2s\n",
      "[Parallel(n_jobs=4)]: Done 466 tasks      | elapsed:    0.2s\n",
      "[Parallel(n_jobs=4)]: Done 467 tasks      | elapsed:    0.2s\n",
      "[Parallel(n_jobs=4)]: Done 468 tasks      | elapsed:    0.2s\n",
      "[Parallel(n_jobs=4)]: Done 469 tasks      | elapsed:    0.2s\n",
      "[Parallel(n_jobs=4)]: Done 470 tasks      | elapsed:    0.2s\n",
      "[Parallel(n_jobs=4)]: Done 471 tasks      | elapsed:    0.2s\n",
      "[Parallel(n_jobs=4)]: Done 472 tasks      | elapsed:    0.2s\n",
      "[Parallel(n_jobs=4)]: Done 473 tasks      | elapsed:    0.2s\n",
      "[Parallel(n_jobs=4)]: Done 474 tasks      | elapsed:    0.2s\n",
      "[Parallel(n_jobs=4)]: Done 475 tasks      | elapsed:    0.2s\n",
      "[Parallel(n_jobs=4)]: Done 476 tasks      | elapsed:    0.2s\n",
      "[Parallel(n_jobs=4)]: Done 477 tasks      | elapsed:    0.2s\n",
      "[Parallel(n_jobs=4)]: Done 478 tasks      | elapsed:    0.2s\n",
      "[Parallel(n_jobs=4)]: Done 479 tasks      | elapsed:    0.2s\n",
      "[Parallel(n_jobs=4)]: Done 480 tasks      | elapsed:    0.2s\n",
      "[Parallel(n_jobs=4)]: Done 481 tasks      | elapsed:    0.2s\n",
      "[Parallel(n_jobs=4)]: Done 482 tasks      | elapsed:    0.2s\n",
      "[Parallel(n_jobs=4)]: Done 483 tasks      | elapsed:    0.2s\n",
      "[Parallel(n_jobs=4)]: Done 484 tasks      | elapsed:    0.2s\n",
      "[Parallel(n_jobs=4)]: Done 485 tasks      | elapsed:    0.2s\n",
      "[Parallel(n_jobs=4)]: Done 486 tasks      | elapsed:    0.2s\n",
      "[Parallel(n_jobs=4)]: Done 487 tasks      | elapsed:    0.2s\n",
      "[Parallel(n_jobs=4)]: Done 488 tasks      | elapsed:    0.2s\n",
      "[Parallel(n_jobs=4)]: Done 489 tasks      | elapsed:    0.2s\n",
      "[Parallel(n_jobs=4)]: Done 490 tasks      | elapsed:    0.2s\n",
      "[Parallel(n_jobs=4)]: Done 491 tasks      | elapsed:    0.2s\n",
      "[Parallel(n_jobs=4)]: Done 492 tasks      | elapsed:    0.2s\n",
      "[Parallel(n_jobs=4)]: Done 493 tasks      | elapsed:    0.2s\n",
      "[Parallel(n_jobs=4)]: Done 500 out of 500 | elapsed:    0.2s finished\n"
     ]
    },
    {
     "name": "stdout",
     "output_type": "stream",
     "text": [
      "0.769375\n",
      "[[2345  549]\n",
      " [ 189  117]]\n",
      "error 3 =  0.230625\n",
      "RMSE3 =  0.480234317807\n"
     ]
    }
   ],
   "source": [
    "rfr.fit(xTraining, yTraining)\n",
    "yPredict3 = rfr.predict(xTest)\n",
    "\n",
    "\n",
    "\n",
    "for i in range(len(yPredict3)):\n",
    "    \n",
    "    if yPredict3[i] < 0.5:\n",
    "        yPredict3[i]=0\n",
    "    else:\n",
    "        yPredict3[i]=1\n",
    "        \n",
    "print(metrics.accuracy_score(yTest,yPredict3))\n",
    "print(metrics.confusion_matrix(yTest,yPredict3))\n",
    "error3 = mean_squared_error(yTest, yPredict3)\n",
    "print(\"error 3 = \",error3)\n",
    "RMSE3 = mean_squared_error(yTest,yPredict3)**0.5\n",
    "print(\"RMSE3 = \",RMSE3)\n",
    "\n",
    "#print(\"cros validation = \",cross_val_score(rfr, mergeXtable, mergeYtable, cv=10))"
   ]
  },
  {
   "cell_type": "markdown",
   "metadata": {},
   "source": [
    "# Linear Regression"
   ]
  },
  {
   "cell_type": "code",
   "execution_count": 93,
   "metadata": {
    "collapsed": false
   },
   "outputs": [],
   "source": [
    "\n",
    "\n",
    "regr = linear_model.LinearRegression()\n",
    "regr.fit(xTraining, yTraining)\n",
    "yPredict1 = regr.predict(xTest)\n",
    "\n"
   ]
  },
  {
   "cell_type": "code",
   "execution_count": 94,
   "metadata": {
    "collapsed": false
   },
   "outputs": [
    {
     "name": "stdout",
     "output_type": "stream",
     "text": [
      "error 1 =  0.5284375\n",
      "0.4715625\n",
      "[[1272 1622]\n",
      " [  69  237]]\n",
      "RMSE1 =  0.726937067427\n",
      "cros validation =  [ -3.15333092e-01  -2.70069327e+16  -5.55323951e+19  -9.30941755e+17\n",
      "  -1.00603556e-02  -2.25192351e+20  -1.12006340e+19  -2.41456712e+18\n",
      "  -1.51777479e+20  -8.59669217e-02]\n"
     ]
    }
   ],
   "source": [
    "count = 0\n",
    "for i in range(len(yPredict1)):\n",
    "    count += yPredict1[i]\n",
    "\n",
    "mo = count / len(yPredict1)\n",
    "\n",
    "for i in range(len(yPredict1)):\n",
    "    if yPredict1[i] < 0.3:\n",
    "        yPredict1[i] = 0\n",
    "    else:\n",
    "        yPredict1[i] = 1\n",
    "\n",
    "error1 = mean_squared_error(yTest, yPredict1)\n",
    "print(\"error 1 = \",error1)\n",
    "print(metrics.accuracy_score(yTest,yPredict1))\n",
    "print(metrics.confusion_matrix(yTest,yPredict1))\n",
    "RMSE1 = mean_squared_error(yTest,yPredict1)**0.5\n",
    "print(\"RMSE1 = \",RMSE1)\n",
    "\n",
    "print(\"cros validation = \",cross_val_score(regr, mergeXtable, mergeYtable, cv=10))"
   ]
  },
  {
   "cell_type": "markdown",
   "metadata": {},
   "source": [
    "# SVM"
   ]
  },
  {
   "cell_type": "code",
   "execution_count": 95,
   "metadata": {
    "collapsed": false
   },
   "outputs": [
    {
     "name": "stdout",
     "output_type": "stream",
     "text": [
      "0.8621875\n",
      "[[2724  170]\n",
      " [ 271   35]]\n",
      "error 2 =  0.1378125\n",
      "RMSE2 =  0.371231060123\n"
     ]
    }
   ],
   "source": [
    "\n",
    "clf = SVC()\n",
    "clf.fit(xTraining, yTraining)\n",
    "yPredict2 = clf.predict(xTest)\n",
    "print(metrics.accuracy_score(yTest,yPredict2))\n",
    "print(metrics.confusion_matrix(yTest,yPredict2))\n",
    "error2 = mean_squared_error(yTest, yPredict2)\n",
    "print(\"error 2 = \",error2)\n",
    "RMSE2 = mean_squared_error(yTest,yPredict2)**0.5\n",
    "print(\"RMSE2 = \",RMSE2)\n",
    "\n",
    "#print(\"cros validation = \",cross_val_score(clf, mergeXtable, mergeYtable, cv=5))"
   ]
  },
  {
   "cell_type": "markdown",
   "metadata": {},
   "source": [
    "# LINEAR LOGISTIC REGRESSION "
   ]
  },
  {
   "cell_type": "code",
   "execution_count": 96,
   "metadata": {
    "collapsed": false
   },
   "outputs": [
    {
     "name": "stdout",
     "output_type": "stream",
     "text": [
      "0.7784375\n",
      "[[2353  541]\n",
      " [ 168  138]]\n",
      "error 4 =  0.2215625\n",
      "RMSE4 =  0.470704259594\n"
     ]
    }
   ],
   "source": [
    "lr_clf = linear_model.LogisticRegressionCV()\n",
    "lr_clf.fit(xtraining, yTraining)\n",
    "\n",
    "yPredict4 = lr_clf.predict(xtest)\n",
    "\n",
    "count = 0\n",
    "for i in range(len(yPredict4)):\n",
    "    count += yPredict4[i]\n",
    "\n",
    "mo = count / len(yPredict4)\n",
    "\n",
    "for i in range(len(yPredict4)):\n",
    "    if yPredict4[i] < mo:\n",
    "        yPredict4[i] = 0\n",
    "    else:\n",
    "        yPredict4[i] = 1\n",
    "\n",
    "print(metrics.accuracy_score(yTest,yPredict4))\n",
    "print(metrics.confusion_matrix(yTest,yPredict4))\n",
    "error4 = mean_squared_error(yTest, yPredict4)\n",
    "print(\"error 4 = \",error4)\n",
    "RMSE4 = mean_squared_error(yTest,yPredict4)**0.5\n",
    "print(\"RMSE4 = \",RMSE4)\n",
    "#print(\"cros validation = \",cross_val_score(lr_clf, mergeXtable, mergeYtable, cv=5))"
   ]
  },
  {
   "cell_type": "markdown",
   "metadata": {},
   "source": [
    "# OLS"
   ]
  },
  {
   "cell_type": "code",
   "execution_count": 97,
   "metadata": {
    "collapsed": false
   },
   "outputs": [],
   "source": [
    "ols = sm.OLS(yTraining,xtraining)\n",
    "yPredict5 = ols.fit().predict(xtest)\n",
    "\n",
    "mo5 = 0\n",
    "s5 = 0\n",
    "for i in yPredict5:\n",
    "    s5 += i\n",
    "    \n",
    "mo5 = s5 / len(yPredict5)"
   ]
  },
  {
   "cell_type": "code",
   "execution_count": 98,
   "metadata": {
    "collapsed": false
   },
   "outputs": [
    {
     "name": "stdout",
     "output_type": "stream",
     "text": [
      "0.553125\n",
      "[[1550 1344]\n",
      " [  86  220]]\n",
      "error 5 =  0.446875\n",
      "RMSE5 =  0.668487097856\n"
     ]
    }
   ],
   "source": [
    "for i in range(len(yPredict5)):\n",
    "    \n",
    "    if yPredict5[i] <mo5:\n",
    "        yPredict5[i]=0\n",
    "    else:\n",
    "        yPredict5[i]=1\n",
    "\n",
    "print(metrics.accuracy_score(yTest,yPredict5))\n",
    "print(metrics.confusion_matrix(yTest,yPredict5))\n",
    "error5 = mean_squared_error(yTest, yPredict5)\n",
    "print(\"error 5 = \",error5)\n",
    "RMSE5 = mean_squared_error(yTest,yPredict5)**0.5\n",
    "print(\"RMSE5 = \",RMSE5)\n",
    "#print(\"cros validation = \",cross_val_score(ols, mergeXtable, mergeYtable, cv=5))\n"
   ]
  },
  {
   "cell_type": "code",
   "execution_count": null,
   "metadata": {
    "collapsed": true
   },
   "outputs": [],
   "source": []
  },
  {
   "cell_type": "code",
   "execution_count": 100,
   "metadata": {
    "collapsed": false
   },
   "outputs": [
    {
     "name": "stdout",
     "output_type": "stream",
     "text": [
      "0.7090625\n",
      "[[2137  757]\n",
      " [ 174  132]]\n",
      "error 5 =  0.2909375\n",
      "RMSE5 =  0.53938622526\n"
     ]
    }
   ],
   "source": [
    "from sklearn.naive_bayes import GaussianNB\n",
    "gnb = GaussianNB()\n",
    "yPredict5 = gnb.fit(xTraining, yTraining).predict(xTest)\n",
    "print(metrics.accuracy_score(yTest,yPredict5))\n",
    "print(metrics.confusion_matrix(yTest,yPredict5))\n",
    "error5 = mean_squared_error(yTest, yPredict5)\n",
    "print(\"error 5 = \",error5)\n",
    "RMSE5 = mean_squared_error(yTest,yPredict5)**0.5\n",
    "print(\"RMSE5 = \",RMSE5)"
   ]
  },
  {
   "cell_type": "code",
   "execution_count": null,
   "metadata": {
    "collapsed": false
   },
   "outputs": [],
   "source": []
  },
  {
   "cell_type": "code",
   "execution_count": 103,
   "metadata": {
    "collapsed": false
   },
   "outputs": [
    {
     "name": "stdout",
     "output_type": "stream",
     "text": [
      "Fitting 10 folds for each of 4 candidates, totalling 40 fits\n",
      "[CV] bootstrap=True, criterion=gini ..................................\n",
      "building tree 1 of 500building tree 2 of 500\n",
      "building tree 3 of 500\n",
      "\n",
      "building tree 4 of 500\n",
      "building tree 5 of 500\n",
      "building tree 6 of 500\n",
      "building tree 7 of 500\n",
      "building tree 8 of 500\n"
     ]
    },
    {
     "ename": "JoblibKeyError",
     "evalue": "JoblibKeyError\n___________________________________________________________________________\nMultiprocessing exception:\n...........................................................................\nC:\\Users\\ANTONIS\\Anaconda3\\lib\\runpy.py in _run_module_as_main(mod_name='ipykernel.__main__', alter_argv=1)\n    179         sys.exit(msg)\n    180     main_globals = sys.modules[\"__main__\"].__dict__\n    181     if alter_argv:\n    182         sys.argv[0] = mod_spec.origin\n    183     return _run_code(code, main_globals, None,\n--> 184                      \"__main__\", mod_spec)\n        mod_spec = ModuleSpec(name='ipykernel.__main__', loader=<_f...da3\\\\lib\\\\site-packages\\\\ipykernel\\\\__main__.py')\n    185 \n    186 def run_module(mod_name, init_globals=None,\n    187                run_name=None, alter_sys=False):\n    188     \"\"\"Execute a module's code without importing it\n\n...........................................................................\nC:\\Users\\ANTONIS\\Anaconda3\\lib\\runpy.py in _run_code(code=<code object <module> at 0x0000018D61B4C9C0, fil...lib\\site-packages\\ipykernel\\__main__.py\", line 1>, run_globals={'__builtins__': <module 'builtins' (built-in)>, '__cached__': r'C:\\Users\\ANTONIS\\Anaconda3\\lib\\site-packages\\ipykernel\\__pycache__\\__main__.cpython-35.pyc', '__doc__': None, '__file__': r'C:\\Users\\ANTONIS\\Anaconda3\\lib\\site-packages\\ipykernel\\__main__.py', '__loader__': <_frozen_importlib_external.SourceFileLoader object>, '__name__': '__main__', '__package__': 'ipykernel', '__spec__': ModuleSpec(name='ipykernel.__main__', loader=<_f...da3\\\\lib\\\\site-packages\\\\ipykernel\\\\__main__.py'), 'app': <module 'ipykernel.kernelapp' from 'C:\\\\Users\\\\A...a3\\\\lib\\\\site-packages\\\\ipykernel\\\\kernelapp.py'>}, init_globals=None, mod_name='__main__', mod_spec=ModuleSpec(name='ipykernel.__main__', loader=<_f...da3\\\\lib\\\\site-packages\\\\ipykernel\\\\__main__.py'), pkg_name='ipykernel', script_name=None)\n     80                        __cached__ = cached,\n     81                        __doc__ = None,\n     82                        __loader__ = loader,\n     83                        __package__ = pkg_name,\n     84                        __spec__ = mod_spec)\n---> 85     exec(code, run_globals)\n        code = <code object <module> at 0x0000018D61B4C9C0, fil...lib\\site-packages\\ipykernel\\__main__.py\", line 1>\n        run_globals = {'__builtins__': <module 'builtins' (built-in)>, '__cached__': r'C:\\Users\\ANTONIS\\Anaconda3\\lib\\site-packages\\ipykernel\\__pycache__\\__main__.cpython-35.pyc', '__doc__': None, '__file__': r'C:\\Users\\ANTONIS\\Anaconda3\\lib\\site-packages\\ipykernel\\__main__.py', '__loader__': <_frozen_importlib_external.SourceFileLoader object>, '__name__': '__main__', '__package__': 'ipykernel', '__spec__': ModuleSpec(name='ipykernel.__main__', loader=<_f...da3\\\\lib\\\\site-packages\\\\ipykernel\\\\__main__.py'), 'app': <module 'ipykernel.kernelapp' from 'C:\\\\Users\\\\A...a3\\\\lib\\\\site-packages\\\\ipykernel\\\\kernelapp.py'>}\n     86     return run_globals\n     87 \n     88 def _run_module_code(code, init_globals=None,\n     89                     mod_name=None, mod_spec=None,\n\n...........................................................................\nC:\\Users\\ANTONIS\\Anaconda3\\lib\\site-packages\\ipykernel\\__main__.py in <module>()\n      1 \n      2 \n----> 3 \n      4 if __name__ == '__main__':\n      5     from ipykernel import kernelapp as app\n      6     app.launch_new_instance()\n      7 \n      8 \n      9 \n     10 \n\n...........................................................................\nC:\\Users\\ANTONIS\\Anaconda3\\lib\\site-packages\\traitlets\\config\\application.py in launch_instance(cls=<class 'ipykernel.kernelapp.IPKernelApp'>, argv=None, **kwargs={})\n    648 \n    649         If a global instance already exists, this reinitializes and starts it\n    650         \"\"\"\n    651         app = cls.instance(**kwargs)\n    652         app.initialize(argv)\n--> 653         app.start()\n        app.start = <bound method IPKernelApp.start of <ipykernel.kernelapp.IPKernelApp object>>\n    654 \n    655 #-----------------------------------------------------------------------------\n    656 # utility functions, for convenience\n    657 #-----------------------------------------------------------------------------\n\n...........................................................................\nC:\\Users\\ANTONIS\\Anaconda3\\lib\\site-packages\\ipykernel\\kernelapp.py in start(self=<ipykernel.kernelapp.IPKernelApp object>)\n    469             return self.subapp.start()\n    470         if self.poller is not None:\n    471             self.poller.start()\n    472         self.kernel.start()\n    473         try:\n--> 474             ioloop.IOLoop.instance().start()\n    475         except KeyboardInterrupt:\n    476             pass\n    477 \n    478 launch_new_instance = IPKernelApp.launch_instance\n\n...........................................................................\nC:\\Users\\ANTONIS\\Anaconda3\\lib\\site-packages\\zmq\\eventloop\\ioloop.py in start(self=<zmq.eventloop.ioloop.ZMQIOLoop object>)\n    157             PollIOLoop.configure(ZMQIOLoop)\n    158         return PollIOLoop.current(*args, **kwargs)\n    159     \n    160     def start(self):\n    161         try:\n--> 162             super(ZMQIOLoop, self).start()\n        self.start = <bound method ZMQIOLoop.start of <zmq.eventloop.ioloop.ZMQIOLoop object>>\n    163         except ZMQError as e:\n    164             if e.errno == ETERM:\n    165                 # quietly return on ETERM\n    166                 pass\n\n...........................................................................\nC:\\Users\\ANTONIS\\Anaconda3\\lib\\site-packages\\tornado\\ioloop.py in start(self=<zmq.eventloop.ioloop.ZMQIOLoop object>)\n    882                 self._events.update(event_pairs)\n    883                 while self._events:\n    884                     fd, events = self._events.popitem()\n    885                     try:\n    886                         fd_obj, handler_func = self._handlers[fd]\n--> 887                         handler_func(fd_obj, events)\n        handler_func = <function wrap.<locals>.null_wrapper>\n        fd_obj = <zmq.sugar.socket.Socket object>\n        events = 1\n    888                     except (OSError, IOError) as e:\n    889                         if errno_from_exception(e) == errno.EPIPE:\n    890                             # Happens when the client closes the connection\n    891                             pass\n\n...........................................................................\nC:\\Users\\ANTONIS\\Anaconda3\\lib\\site-packages\\tornado\\stack_context.py in null_wrapper(*args=(<zmq.sugar.socket.Socket object>, 1), **kwargs={})\n    270         # Fast path when there are no active contexts.\n    271         def null_wrapper(*args, **kwargs):\n    272             try:\n    273                 current_state = _state.contexts\n    274                 _state.contexts = cap_contexts[0]\n--> 275                 return fn(*args, **kwargs)\n        args = (<zmq.sugar.socket.Socket object>, 1)\n        kwargs = {}\n    276             finally:\n    277                 _state.contexts = current_state\n    278         null_wrapper._wrapped = True\n    279         return null_wrapper\n\n...........................................................................\nC:\\Users\\ANTONIS\\Anaconda3\\lib\\site-packages\\zmq\\eventloop\\zmqstream.py in _handle_events(self=<zmq.eventloop.zmqstream.ZMQStream object>, fd=<zmq.sugar.socket.Socket object>, events=1)\n    435             # dispatch events:\n    436             if events & IOLoop.ERROR:\n    437                 gen_log.error(\"got POLLERR event on ZMQStream, which doesn't make sense\")\n    438                 return\n    439             if events & IOLoop.READ:\n--> 440                 self._handle_recv()\n        self._handle_recv = <bound method ZMQStream._handle_recv of <zmq.eventloop.zmqstream.ZMQStream object>>\n    441                 if not self.socket:\n    442                     return\n    443             if events & IOLoop.WRITE:\n    444                 self._handle_send()\n\n...........................................................................\nC:\\Users\\ANTONIS\\Anaconda3\\lib\\site-packages\\zmq\\eventloop\\zmqstream.py in _handle_recv(self=<zmq.eventloop.zmqstream.ZMQStream object>)\n    467                 gen_log.error(\"RECV Error: %s\"%zmq.strerror(e.errno))\n    468         else:\n    469             if self._recv_callback:\n    470                 callback = self._recv_callback\n    471                 # self._recv_callback = None\n--> 472                 self._run_callback(callback, msg)\n        self._run_callback = <bound method ZMQStream._run_callback of <zmq.eventloop.zmqstream.ZMQStream object>>\n        callback = <function wrap.<locals>.null_wrapper>\n        msg = [<zmq.sugar.frame.Frame object>, <zmq.sugar.frame.Frame object>, <zmq.sugar.frame.Frame object>, <zmq.sugar.frame.Frame object>, <zmq.sugar.frame.Frame object>, <zmq.sugar.frame.Frame object>, <zmq.sugar.frame.Frame object>]\n    473                 \n    474         # self.update_state()\n    475         \n    476 \n\n...........................................................................\nC:\\Users\\ANTONIS\\Anaconda3\\lib\\site-packages\\zmq\\eventloop\\zmqstream.py in _run_callback(self=<zmq.eventloop.zmqstream.ZMQStream object>, callback=<function wrap.<locals>.null_wrapper>, *args=([<zmq.sugar.frame.Frame object>, <zmq.sugar.frame.Frame object>, <zmq.sugar.frame.Frame object>, <zmq.sugar.frame.Frame object>, <zmq.sugar.frame.Frame object>, <zmq.sugar.frame.Frame object>, <zmq.sugar.frame.Frame object>],), **kwargs={})\n    409         close our socket.\"\"\"\n    410         try:\n    411             # Use a NullContext to ensure that all StackContexts are run\n    412             # inside our blanket exception handler rather than outside.\n    413             with stack_context.NullContext():\n--> 414                 callback(*args, **kwargs)\n        callback = <function wrap.<locals>.null_wrapper>\n        args = ([<zmq.sugar.frame.Frame object>, <zmq.sugar.frame.Frame object>, <zmq.sugar.frame.Frame object>, <zmq.sugar.frame.Frame object>, <zmq.sugar.frame.Frame object>, <zmq.sugar.frame.Frame object>, <zmq.sugar.frame.Frame object>],)\n        kwargs = {}\n    415         except:\n    416             gen_log.error(\"Uncaught exception, closing connection.\",\n    417                           exc_info=True)\n    418             # Close the socket on an uncaught exception from a user callback\n\n...........................................................................\nC:\\Users\\ANTONIS\\Anaconda3\\lib\\site-packages\\tornado\\stack_context.py in null_wrapper(*args=([<zmq.sugar.frame.Frame object>, <zmq.sugar.frame.Frame object>, <zmq.sugar.frame.Frame object>, <zmq.sugar.frame.Frame object>, <zmq.sugar.frame.Frame object>, <zmq.sugar.frame.Frame object>, <zmq.sugar.frame.Frame object>],), **kwargs={})\n    270         # Fast path when there are no active contexts.\n    271         def null_wrapper(*args, **kwargs):\n    272             try:\n    273                 current_state = _state.contexts\n    274                 _state.contexts = cap_contexts[0]\n--> 275                 return fn(*args, **kwargs)\n        args = ([<zmq.sugar.frame.Frame object>, <zmq.sugar.frame.Frame object>, <zmq.sugar.frame.Frame object>, <zmq.sugar.frame.Frame object>, <zmq.sugar.frame.Frame object>, <zmq.sugar.frame.Frame object>, <zmq.sugar.frame.Frame object>],)\n        kwargs = {}\n    276             finally:\n    277                 _state.contexts = current_state\n    278         null_wrapper._wrapped = True\n    279         return null_wrapper\n\n...........................................................................\nC:\\Users\\ANTONIS\\Anaconda3\\lib\\site-packages\\ipykernel\\kernelbase.py in dispatcher(msg=[<zmq.sugar.frame.Frame object>, <zmq.sugar.frame.Frame object>, <zmq.sugar.frame.Frame object>, <zmq.sugar.frame.Frame object>, <zmq.sugar.frame.Frame object>, <zmq.sugar.frame.Frame object>, <zmq.sugar.frame.Frame object>])\n    271         if self.control_stream:\n    272             self.control_stream.on_recv(self.dispatch_control, copy=False)\n    273 \n    274         def make_dispatcher(stream):\n    275             def dispatcher(msg):\n--> 276                 return self.dispatch_shell(stream, msg)\n        msg = [<zmq.sugar.frame.Frame object>, <zmq.sugar.frame.Frame object>, <zmq.sugar.frame.Frame object>, <zmq.sugar.frame.Frame object>, <zmq.sugar.frame.Frame object>, <zmq.sugar.frame.Frame object>, <zmq.sugar.frame.Frame object>]\n    277             return dispatcher\n    278 \n    279         for s in self.shell_streams:\n    280             s.on_recv(make_dispatcher(s), copy=False)\n\n...........................................................................\nC:\\Users\\ANTONIS\\Anaconda3\\lib\\site-packages\\ipykernel\\kernelbase.py in dispatch_shell(self=<ipykernel.ipkernel.IPythonKernel object>, stream=<zmq.eventloop.zmqstream.ZMQStream object>, msg={'buffers': [], 'content': {'allow_stdin': True, 'code': 'RMSE  = make_scorer(fmean_squared_error, greater...ning, yTraining)\\n\\nyPredict6 = gsv.predict(xtest)\\n', 'silent': False, 'stop_on_error': True, 'store_history': True, 'user_expressions': {}}, 'header': {'date': '2017-03-20T09:50:56.683786', 'msg_id': 'FB62D5AC24BA49AA8F660210605CE675', 'msg_type': 'execute_request', 'session': 'ED02A19CD76648828E0088B093DA9F82', 'username': 'username', 'version': '5.0'}, 'metadata': {}, 'msg_id': 'FB62D5AC24BA49AA8F660210605CE675', 'msg_type': 'execute_request', 'parent_header': {}})\n    223             self.log.error(\"UNKNOWN MESSAGE TYPE: %r\", msg_type)\n    224         else:\n    225             self.log.debug(\"%s: %s\", msg_type, msg)\n    226             self.pre_handler_hook()\n    227             try:\n--> 228                 handler(stream, idents, msg)\n        handler = <bound method Kernel.execute_request of <ipykernel.ipkernel.IPythonKernel object>>\n        stream = <zmq.eventloop.zmqstream.ZMQStream object>\n        idents = [b'ED02A19CD76648828E0088B093DA9F82']\n        msg = {'buffers': [], 'content': {'allow_stdin': True, 'code': 'RMSE  = make_scorer(fmean_squared_error, greater...ning, yTraining)\\n\\nyPredict6 = gsv.predict(xtest)\\n', 'silent': False, 'stop_on_error': True, 'store_history': True, 'user_expressions': {}}, 'header': {'date': '2017-03-20T09:50:56.683786', 'msg_id': 'FB62D5AC24BA49AA8F660210605CE675', 'msg_type': 'execute_request', 'session': 'ED02A19CD76648828E0088B093DA9F82', 'username': 'username', 'version': '5.0'}, 'metadata': {}, 'msg_id': 'FB62D5AC24BA49AA8F660210605CE675', 'msg_type': 'execute_request', 'parent_header': {}}\n    229             except Exception:\n    230                 self.log.error(\"Exception in message handler:\", exc_info=True)\n    231             finally:\n    232                 self.post_handler_hook()\n\n...........................................................................\nC:\\Users\\ANTONIS\\Anaconda3\\lib\\site-packages\\ipykernel\\kernelbase.py in execute_request(self=<ipykernel.ipkernel.IPythonKernel object>, stream=<zmq.eventloop.zmqstream.ZMQStream object>, ident=[b'ED02A19CD76648828E0088B093DA9F82'], parent={'buffers': [], 'content': {'allow_stdin': True, 'code': 'RMSE  = make_scorer(fmean_squared_error, greater...ning, yTraining)\\n\\nyPredict6 = gsv.predict(xtest)\\n', 'silent': False, 'stop_on_error': True, 'store_history': True, 'user_expressions': {}}, 'header': {'date': '2017-03-20T09:50:56.683786', 'msg_id': 'FB62D5AC24BA49AA8F660210605CE675', 'msg_type': 'execute_request', 'session': 'ED02A19CD76648828E0088B093DA9F82', 'username': 'username', 'version': '5.0'}, 'metadata': {}, 'msg_id': 'FB62D5AC24BA49AA8F660210605CE675', 'msg_type': 'execute_request', 'parent_header': {}})\n    385         if not silent:\n    386             self.execution_count += 1\n    387             self._publish_execute_input(code, parent, self.execution_count)\n    388 \n    389         reply_content = self.do_execute(code, silent, store_history,\n--> 390                                         user_expressions, allow_stdin)\n        user_expressions = {}\n        allow_stdin = True\n    391 \n    392         # Flush output before sending the reply.\n    393         sys.stdout.flush()\n    394         sys.stderr.flush()\n\n...........................................................................\nC:\\Users\\ANTONIS\\Anaconda3\\lib\\site-packages\\ipykernel\\ipkernel.py in do_execute(self=<ipykernel.ipkernel.IPythonKernel object>, code='RMSE  = make_scorer(fmean_squared_error, greater...ning, yTraining)\\n\\nyPredict6 = gsv.predict(xtest)\\n', silent=False, store_history=True, user_expressions={}, allow_stdin=True)\n    191 \n    192         self._forward_input(allow_stdin)\n    193 \n    194         reply_content = {}\n    195         try:\n--> 196             res = shell.run_cell(code, store_history=store_history, silent=silent)\n        res = undefined\n        shell.run_cell = <bound method ZMQInteractiveShell.run_cell of <ipykernel.zmqshell.ZMQInteractiveShell object>>\n        code = 'RMSE  = make_scorer(fmean_squared_error, greater...ning, yTraining)\\n\\nyPredict6 = gsv.predict(xtest)\\n'\n        store_history = True\n        silent = False\n    197         finally:\n    198             self._restore_input()\n    199 \n    200         if res.error_before_exec is not None:\n\n...........................................................................\nC:\\Users\\ANTONIS\\Anaconda3\\lib\\site-packages\\ipykernel\\zmqshell.py in run_cell(self=<ipykernel.zmqshell.ZMQInteractiveShell object>, *args=('RMSE  = make_scorer(fmean_squared_error, greater...ning, yTraining)\\n\\nyPredict6 = gsv.predict(xtest)\\n',), **kwargs={'silent': False, 'store_history': True})\n    496             )\n    497         self.payload_manager.write_payload(payload)\n    498 \n    499     def run_cell(self, *args, **kwargs):\n    500         self._last_traceback = None\n--> 501         return super(ZMQInteractiveShell, self).run_cell(*args, **kwargs)\n        self.run_cell = <bound method ZMQInteractiveShell.run_cell of <ipykernel.zmqshell.ZMQInteractiveShell object>>\n        args = ('RMSE  = make_scorer(fmean_squared_error, greater...ning, yTraining)\\n\\nyPredict6 = gsv.predict(xtest)\\n',)\n        kwargs = {'silent': False, 'store_history': True}\n    502 \n    503     def _showtraceback(self, etype, evalue, stb):\n    504         # try to preserve ordering of tracebacks and print statements\n    505         sys.stdout.flush()\n\n...........................................................................\nC:\\Users\\ANTONIS\\Anaconda3\\lib\\site-packages\\IPython\\core\\interactiveshell.py in run_cell(self=<ipykernel.zmqshell.ZMQInteractiveShell object>, raw_cell='RMSE  = make_scorer(fmean_squared_error, greater...ning, yTraining)\\n\\nyPredict6 = gsv.predict(xtest)\\n', store_history=True, silent=False, shell_futures=True)\n   2712                 self.displayhook.exec_result = result\n   2713 \n   2714                 # Execute the user code\n   2715                 interactivity = \"none\" if silent else self.ast_node_interactivity\n   2716                 has_raised = self.run_ast_nodes(code_ast.body, cell_name,\n-> 2717                    interactivity=interactivity, compiler=compiler, result=result)\n        interactivity = 'last_expr'\n        compiler = <IPython.core.compilerop.CachingCompiler object>\n   2718                 \n   2719                 self.last_execution_succeeded = not has_raised\n   2720 \n   2721                 # Reset this so later displayed values do not modify the\n\n...........................................................................\nC:\\Users\\ANTONIS\\Anaconda3\\lib\\site-packages\\IPython\\core\\interactiveshell.py in run_ast_nodes(self=<ipykernel.zmqshell.ZMQInteractiveShell object>, nodelist=[<_ast.Assign object>, <_ast.Assign object>, <_ast.Assign object>, <_ast.Assign object>, <_ast.Expr object>, <_ast.Assign object>], cell_name='<ipython-input-103-fe9b6601246a>', interactivity='none', compiler=<IPython.core.compilerop.CachingCompiler object>, result=<ExecutionResult object at 18d6a2f9ac8, executio..._before_exec=None error_in_exec=None result=None>)\n   2816 \n   2817         try:\n   2818             for i, node in enumerate(to_run_exec):\n   2819                 mod = ast.Module([node])\n   2820                 code = compiler(mod, cell_name, \"exec\")\n-> 2821                 if self.run_code(code, result):\n        self.run_code = <bound method InteractiveShell.run_code of <ipykernel.zmqshell.ZMQInteractiveShell object>>\n        code = <code object <module> at 0x0000018D7A3D9660, file \"<ipython-input-103-fe9b6601246a>\", line 12>\n        result = <ExecutionResult object at 18d6a2f9ac8, executio..._before_exec=None error_in_exec=None result=None>\n   2822                     return True\n   2823 \n   2824             for i, node in enumerate(to_run_interactive):\n   2825                 mod = ast.Interactive([node])\n\n...........................................................................\nC:\\Users\\ANTONIS\\Anaconda3\\lib\\site-packages\\IPython\\core\\interactiveshell.py in run_code(self=<ipykernel.zmqshell.ZMQInteractiveShell object>, code_obj=<code object <module> at 0x0000018D7A3D9660, file \"<ipython-input-103-fe9b6601246a>\", line 12>, result=<ExecutionResult object at 18d6a2f9ac8, executio..._before_exec=None error_in_exec=None result=None>)\n   2876         outflag = 1  # happens in more places, so it's easier as default\n   2877         try:\n   2878             try:\n   2879                 self.hooks.pre_run_code_hook()\n   2880                 #rprint('Running code', repr(code_obj)) # dbg\n-> 2881                 exec(code_obj, self.user_global_ns, self.user_ns)\n        code_obj = <code object <module> at 0x0000018D7A3D9660, file \"<ipython-input-103-fe9b6601246a>\", line 12>\n        self.user_global_ns = {'DataSet': <class '__main__.DataSet'>, 'DecisionTreeRegressor': <class 'sklearn.tree.tree.DecisionTreeRegressor'>, 'GaussianNB': <class 'sklearn.naive_bayes.GaussianNB'>, 'GridSearchCV': <class 'sklearn.model_selection._search.GridSearchCV'>, 'In': ['', 'from sklearn import linear_model\\nfrom sklearn.mo...predictions)**0.5\\n    return fmean_squared_error_', \"path = 'C:\\\\\\\\Users\\\\\\\\ANTONIS\\\\\\\\Desktop\\\\\\\\test1\\\\\\\\' #b...estPatient.txt')\\nwrite.writeSnpsList(chromosomes)\", \"\\nsnps = read.getListOfSnps()\\nids = {} \\nidsTest =...tientsTest.keys()))\\nidsTest['snps'] = ids['snps']\", \"trainSet = DataSet(patientsTrain,ids)\\ntestSet = ...write.saveData(idsTest,patientsTest,'Test',xTest)\", 'count = 0\\n\\nfor patient in patientsTrain.keys():\\n...rint(\"count1 = \",count1)\\nprint(\"coun2 = \",count2)', '\\nrfr = RandomForestRegressor(n_estimators = 500,...transform(xTraining)\\nxtest = rfr.transform(xTest)', 'print(xTraining.shape)\\nprint(mergeXtable.shape)\\nprint(xtraining.shape)\\nprint(xtest.shape)', 'rfr.fit(xTraining, yTraining)\\nyPredict3 = rfr.pr..._val_score(rfr, mergeXtable, mergeYtable, cv=10))', 'rfr.fit(xTraining, yTraining)\\nyPredict3 = rfr.pr..._val_score(rfr, mergeXtable, mergeYtable, cv=10))', 'rfr.fit(xtraining, yTraining)\\nyPredict3 = rfr.pr..._val_score(rfr, mergeXtable, mergeYtable, cv=10))', '\\n\\nregr = linear_model.LinearRegression()\\nregr.fi...ining, yTraining)\\nyPredict1 = regr.predict(xTest)', 'count = 0\\nfor i in range(len(yPredict1)):\\n    co...val_score(regr, mergeXtable, mergeYtable, cv=10))', '\\n\\nregr = linear_model.LinearRegression()\\nregr.fi...ining, yTraining)\\nyPredict1 = regr.predict(xTest)', 'count = 0\\nfor i in range(len(yPredict1)):\\n    co...val_score(regr, mergeXtable, mergeYtable, cv=10))', '\\n\\nregr = linear_model.LinearRegression()\\nregr.fi...ining, yTraining)\\nyPredict1 = regr.predict(xTest)', 'sd = np.std(yPredict1)', 'count = 0\\nfor i in range(len(yPredict1)):\\n    co...val_score(regr, mergeXtable, mergeYtable, cv=10))', 'print(mo)\\nprint(sd)', '\\n\\nregr = linear_model.LinearRegression()\\nregr.fi...ining, yTraining)\\nyPredict1 = regr.predict(xTest)', ...], 'Out': {54: 0.48275862068965519}, 'PatientPhenotype': <class '__main__.PatientPhenotype'>, 'RMSE': make_scorer(fmean_squared_error, greater_is_better=False), 'RMSE1': 0.72693706742743558, 'RMSE2': 0.37123106012293744, ...}\n        self.user_ns = {'DataSet': <class '__main__.DataSet'>, 'DecisionTreeRegressor': <class 'sklearn.tree.tree.DecisionTreeRegressor'>, 'GaussianNB': <class 'sklearn.naive_bayes.GaussianNB'>, 'GridSearchCV': <class 'sklearn.model_selection._search.GridSearchCV'>, 'In': ['', 'from sklearn import linear_model\\nfrom sklearn.mo...predictions)**0.5\\n    return fmean_squared_error_', \"path = 'C:\\\\\\\\Users\\\\\\\\ANTONIS\\\\\\\\Desktop\\\\\\\\test1\\\\\\\\' #b...estPatient.txt')\\nwrite.writeSnpsList(chromosomes)\", \"\\nsnps = read.getListOfSnps()\\nids = {} \\nidsTest =...tientsTest.keys()))\\nidsTest['snps'] = ids['snps']\", \"trainSet = DataSet(patientsTrain,ids)\\ntestSet = ...write.saveData(idsTest,patientsTest,'Test',xTest)\", 'count = 0\\n\\nfor patient in patientsTrain.keys():\\n...rint(\"count1 = \",count1)\\nprint(\"coun2 = \",count2)', '\\nrfr = RandomForestRegressor(n_estimators = 500,...transform(xTraining)\\nxtest = rfr.transform(xTest)', 'print(xTraining.shape)\\nprint(mergeXtable.shape)\\nprint(xtraining.shape)\\nprint(xtest.shape)', 'rfr.fit(xTraining, yTraining)\\nyPredict3 = rfr.pr..._val_score(rfr, mergeXtable, mergeYtable, cv=10))', 'rfr.fit(xTraining, yTraining)\\nyPredict3 = rfr.pr..._val_score(rfr, mergeXtable, mergeYtable, cv=10))', 'rfr.fit(xtraining, yTraining)\\nyPredict3 = rfr.pr..._val_score(rfr, mergeXtable, mergeYtable, cv=10))', '\\n\\nregr = linear_model.LinearRegression()\\nregr.fi...ining, yTraining)\\nyPredict1 = regr.predict(xTest)', 'count = 0\\nfor i in range(len(yPredict1)):\\n    co...val_score(regr, mergeXtable, mergeYtable, cv=10))', '\\n\\nregr = linear_model.LinearRegression()\\nregr.fi...ining, yTraining)\\nyPredict1 = regr.predict(xTest)', 'count = 0\\nfor i in range(len(yPredict1)):\\n    co...val_score(regr, mergeXtable, mergeYtable, cv=10))', '\\n\\nregr = linear_model.LinearRegression()\\nregr.fi...ining, yTraining)\\nyPredict1 = regr.predict(xTest)', 'sd = np.std(yPredict1)', 'count = 0\\nfor i in range(len(yPredict1)):\\n    co...val_score(regr, mergeXtable, mergeYtable, cv=10))', 'print(mo)\\nprint(sd)', '\\n\\nregr = linear_model.LinearRegression()\\nregr.fi...ining, yTraining)\\nyPredict1 = regr.predict(xTest)', ...], 'Out': {54: 0.48275862068965519}, 'PatientPhenotype': <class '__main__.PatientPhenotype'>, 'RMSE': make_scorer(fmean_squared_error, greater_is_better=False), 'RMSE1': 0.72693706742743558, 'RMSE2': 0.37123106012293744, ...}\n   2882             finally:\n   2883                 # Reset our crash handler in place\n   2884                 sys.excepthook = old_excepthook\n   2885         except SystemExit as e:\n\n...........................................................................\nC:\\Users\\ANTONIS\\Documents\\GitHub\\diplwmatikh\\code\\<ipython-input-103-fe9b6601246a> in <module>()\n      7              # \"min_samples_leaf\": [1, 3, 10],\n      8               \"bootstrap\": [True, False],\n      9               \"criterion\": [\"gini\", \"entropy\"]}\n     10     \n     11 gsv = GridSearchCV(estimator = rfr, param_grid = parameters, cv = 10, verbose = 2016, scoring=RMSE)\n---> 12 gsv.fit(xtraining, yTraining)\n     13 \n     14 yPredict6 = gsv.predict(xtest)\n     15 \n     16 \n\n...........................................................................\nC:\\Users\\ANTONIS\\Anaconda3\\lib\\site-packages\\sklearn\\model_selection\\_search.py in fit(self=GridSearchCV(cv=10, error_score='raise',\n       ...r, greater_is_better=False),\n       verbose=2016), X=array([[0, 0, 0, ..., 0, 0, 0],\n       [0, 0, 2,..., ..., 0, 0, 0],\n       [0, 0, 0, ..., 0, 0, 0]]), y=array([0, 0, 0, ..., 0, 0, 0]), groups=None)\n    940 \n    941         groups : array-like, with shape (n_samples,), optional\n    942             Group labels for the samples used while splitting the dataset into\n    943             train/test set.\n    944         \"\"\"\n--> 945         return self._fit(X, y, groups, ParameterGrid(self.param_grid))\n        self._fit = <bound method BaseSearchCV._fit of GridSearchCV(..., greater_is_better=False),\n       verbose=2016)>\n        X = array([[0, 0, 0, ..., 0, 0, 0],\n       [0, 0, 2,..., ..., 0, 0, 0],\n       [0, 0, 0, ..., 0, 0, 0]])\n        y = array([0, 0, 0, ..., 0, 0, 0])\n        groups = None\n        self.param_grid = {'bootstrap': [True, False], 'criterion': ['gini', 'entropy']}\n    946 \n    947 \n    948 class RandomizedSearchCV(BaseSearchCV):\n    949     \"\"\"Randomized search on hyper parameters.\n\n...........................................................................\nC:\\Users\\ANTONIS\\Anaconda3\\lib\\site-packages\\sklearn\\model_selection\\_search.py in _fit(self=GridSearchCV(cv=10, error_score='raise',\n       ...r, greater_is_better=False),\n       verbose=2016), X=array([[0, 0, 0, ..., 0, 0, 0],\n       [0, 0, 2,..., ..., 0, 0, 0],\n       [0, 0, 0, ..., 0, 0, 0]]), y=array([0, 0, 0, ..., 0, 0, 0]), groups=None, parameter_iterable=<sklearn.model_selection._search.ParameterGrid object>)\n    559                                   fit_params=self.fit_params,\n    560                                   return_train_score=self.return_train_score,\n    561                                   return_n_test_samples=True,\n    562                                   return_times=True, return_parameters=True,\n    563                                   error_score=self.error_score)\n--> 564           for parameters in parameter_iterable\n        parameters = undefined\n        parameter_iterable = <sklearn.model_selection._search.ParameterGrid object>\n    565           for train, test in cv_iter)\n    566 \n    567         # if one choose to see train score, \"out\" will contain train score info\n    568         if self.return_train_score:\n\n...........................................................................\nC:\\Users\\ANTONIS\\Anaconda3\\lib\\site-packages\\sklearn\\externals\\joblib\\parallel.py in __call__(self=Parallel(n_jobs=1), iterable=<generator object BaseSearchCV._fit.<locals>.<genexpr>>)\n    753         self.n_completed_tasks = 0\n    754         try:\n    755             # Only set self._iterating to True if at least a batch\n    756             # was dispatched. In particular this covers the edge\n    757             # case of Parallel used with an exhausted iterator.\n--> 758             while self.dispatch_one_batch(iterator):\n        self.dispatch_one_batch = <bound method Parallel.dispatch_one_batch of Parallel(n_jobs=1)>\n        iterator = <generator object BaseSearchCV._fit.<locals>.<genexpr>>\n    759                 self._iterating = True\n    760             else:\n    761                 self._iterating = False\n    762 \n\n...........................................................................\nC:\\Users\\ANTONIS\\Anaconda3\\lib\\site-packages\\sklearn\\externals\\joblib\\parallel.py in dispatch_one_batch(self=Parallel(n_jobs=1), iterator=<generator object BaseSearchCV._fit.<locals>.<genexpr>>)\n    603             tasks = BatchedCalls(itertools.islice(iterator, batch_size))\n    604             if len(tasks) == 0:\n    605                 # No more tasks available in the iterator: tell caller to stop.\n    606                 return False\n    607             else:\n--> 608                 self._dispatch(tasks)\n        self._dispatch = <bound method Parallel._dispatch of Parallel(n_jobs=1)>\n        tasks = <sklearn.externals.joblib.parallel.BatchedCalls object>\n    609                 return True\n    610 \n    611     def _print(self, msg, msg_args):\n    612         \"\"\"Display the message on stout or stderr depending on verbosity\"\"\"\n\n...........................................................................\nC:\\Users\\ANTONIS\\Anaconda3\\lib\\site-packages\\sklearn\\externals\\joblib\\parallel.py in _dispatch(self=Parallel(n_jobs=1), batch=<sklearn.externals.joblib.parallel.BatchedCalls object>)\n    566         self.n_dispatched_tasks += len(batch)\n    567         self.n_dispatched_batches += 1\n    568 \n    569         dispatch_timestamp = time.time()\n    570         cb = BatchCompletionCallBack(dispatch_timestamp, len(batch), self)\n--> 571         job = self._backend.apply_async(batch, callback=cb)\n        job = undefined\n        self._backend.apply_async = <bound method SequentialBackend.apply_async of <...lib._parallel_backends.SequentialBackend object>>\n        batch = <sklearn.externals.joblib.parallel.BatchedCalls object>\n        cb = <sklearn.externals.joblib.parallel.BatchCompletionCallBack object>\n    572         self._jobs.append(job)\n    573 \n    574     def dispatch_next(self):\n    575         \"\"\"Dispatch more data for parallel processing\n\n...........................................................................\nC:\\Users\\ANTONIS\\Anaconda3\\lib\\site-packages\\sklearn\\externals\\joblib\\_parallel_backends.py in apply_async(self=<sklearn.externals.joblib._parallel_backends.SequentialBackend object>, func=<sklearn.externals.joblib.parallel.BatchedCalls object>, callback=<sklearn.externals.joblib.parallel.BatchCompletionCallBack object>)\n    104             raise ValueError('n_jobs == 0 in Parallel has no meaning')\n    105         return 1\n    106 \n    107     def apply_async(self, func, callback=None):\n    108         \"\"\"Schedule a func to be run\"\"\"\n--> 109         result = ImmediateResult(func)\n        result = undefined\n        func = <sklearn.externals.joblib.parallel.BatchedCalls object>\n    110         if callback:\n    111             callback(result)\n    112         return result\n    113 \n\n...........................................................................\nC:\\Users\\ANTONIS\\Anaconda3\\lib\\site-packages\\sklearn\\externals\\joblib\\_parallel_backends.py in __init__(self=<sklearn.externals.joblib._parallel_backends.ImmediateResult object>, batch=<sklearn.externals.joblib.parallel.BatchedCalls object>)\n    321 \n    322 class ImmediateResult(object):\n    323     def __init__(self, batch):\n    324         # Don't delay the application, to avoid keeping the input\n    325         # arguments in memory\n--> 326         self.results = batch()\n        self.results = undefined\n        batch = <sklearn.externals.joblib.parallel.BatchedCalls object>\n    327 \n    328     def get(self):\n    329         return self.results\n    330 \n\n...........................................................................\nC:\\Users\\ANTONIS\\Anaconda3\\lib\\site-packages\\sklearn\\externals\\joblib\\parallel.py in __call__(self=<sklearn.externals.joblib.parallel.BatchedCalls object>)\n    126     def __init__(self, iterator_slice):\n    127         self.items = list(iterator_slice)\n    128         self._size = len(self.items)\n    129 \n    130     def __call__(self):\n--> 131         return [func(*args, **kwargs) for func, args, kwargs in self.items]\n        self.items = [(<function _fit_and_score>, (RandomForestRegressor(bootstrap=True, criterion=...te=2016,\n           verbose=20, warm_start=False), array([[0, 0, 0, ..., 0, 0, 0],\n       [0, 0, 2,..., ..., 0, 0, 0],\n       [0, 0, 0, ..., 0, 0, 0]]), array([0, 0, 0, ..., 0, 0, 0]), make_scorer(fmean_squared_error, greater_is_better=False), array([ 178,  179,  180, ..., 1777, 1778, 1779]), array([  0,   1,   2,   3,   4,   5,   6,   7,  ...    169, 170, 171, 172, 173, 174, 175, 176, 177]), 2016, {'bootstrap': True, 'criterion': 'gini'}), {'error_score': 'raise', 'fit_params': {}, 'return_n_test_samples': True, 'return_parameters': True, 'return_times': True, 'return_train_score': True})]\n    132 \n    133     def __len__(self):\n    134         return self._size\n    135 \n\n...........................................................................\nC:\\Users\\ANTONIS\\Anaconda3\\lib\\site-packages\\sklearn\\externals\\joblib\\parallel.py in <listcomp>(.0=<list_iterator object>)\n    126     def __init__(self, iterator_slice):\n    127         self.items = list(iterator_slice)\n    128         self._size = len(self.items)\n    129 \n    130     def __call__(self):\n--> 131         return [func(*args, **kwargs) for func, args, kwargs in self.items]\n        func = <function _fit_and_score>\n        args = (RandomForestRegressor(bootstrap=True, criterion=...te=2016,\n           verbose=20, warm_start=False), array([[0, 0, 0, ..., 0, 0, 0],\n       [0, 0, 2,..., ..., 0, 0, 0],\n       [0, 0, 0, ..., 0, 0, 0]]), array([0, 0, 0, ..., 0, 0, 0]), make_scorer(fmean_squared_error, greater_is_better=False), array([ 178,  179,  180, ..., 1777, 1778, 1779]), array([  0,   1,   2,   3,   4,   5,   6,   7,  ...    169, 170, 171, 172, 173, 174, 175, 176, 177]), 2016, {'bootstrap': True, 'criterion': 'gini'})\n        kwargs = {'error_score': 'raise', 'fit_params': {}, 'return_n_test_samples': True, 'return_parameters': True, 'return_times': True, 'return_train_score': True}\n    132 \n    133     def __len__(self):\n    134         return self._size\n    135 \n\n...........................................................................\nC:\\Users\\ANTONIS\\Anaconda3\\lib\\site-packages\\sklearn\\model_selection\\_validation.py in _fit_and_score(estimator=RandomForestRegressor(bootstrap=True, criterion=...te=2016,\n           verbose=20, warm_start=False), X=array([[0, 0, 0, ..., 0, 0, 0],\n       [0, 0, 2,..., ..., 0, 0, 0],\n       [0, 0, 0, ..., 0, 0, 0]]), y=array([0, 0, 0, ..., 0, 0, 0]), scorer=make_scorer(fmean_squared_error, greater_is_better=False), train=array([ 178,  179,  180, ..., 1777, 1778, 1779]), test=array([  0,   1,   2,   3,   4,   5,   6,   7,  ...    169, 170, 171, 172, 173, 174, 175, 176, 177]), verbose=2016, parameters={'bootstrap': True, 'criterion': 'gini'}, fit_params={}, return_train_score=True, return_parameters=True, return_n_test_samples=True, return_times=True, error_score='raise')\n    233 \n    234     try:\n    235         if y_train is None:\n    236             estimator.fit(X_train, **fit_params)\n    237         else:\n--> 238             estimator.fit(X_train, y_train, **fit_params)\n        estimator.fit = <bound method BaseForest.fit of RandomForestRegr...e=2016,\n           verbose=20, warm_start=False)>\n        X_train = array([[0, 0, 0, ..., 0, 1, 0],\n       [0, 0, 1,..., ..., 0, 0, 0],\n       [0, 0, 0, ..., 0, 0, 0]])\n        y_train = array([1, 0, 1, ..., 0, 0, 0])\n        fit_params = {}\n    239 \n    240     except Exception as e:\n    241         # Note fit time as time until error\n    242         fit_time = time.time() - start_time\n\n...........................................................................\nC:\\Users\\ANTONIS\\Anaconda3\\lib\\site-packages\\sklearn\\ensemble\\forest.py in fit(self=RandomForestRegressor(bootstrap=True, criterion=...te=2016,\n           verbose=20, warm_start=False), X=array([[ 0.,  0.,  0., ...,  0.,  1.,  0.],\n    ....,  0.,  0., ...,  0.,  0.,  0.]], dtype=float32), y=array([[ 1.],\n       [ 0.],\n       [ 1.],\n       ..., \n       [ 0.],\n       [ 0.],\n       [ 0.]]), sample_weight=None)\n    321             trees = Parallel(n_jobs=self.n_jobs, verbose=self.verbose,\n    322                              backend=\"threading\")(\n    323                 delayed(_parallel_build_trees)(\n    324                     t, self, X, y, sample_weight, i, len(trees),\n    325                     verbose=self.verbose, class_weight=self.class_weight)\n--> 326                 for i, t in enumerate(trees))\n        i = 499\n    327 \n    328             # Collect newly grown trees\n    329             self.estimators_.extend(trees)\n    330 \n\n...........................................................................\nC:\\Users\\ANTONIS\\Anaconda3\\lib\\site-packages\\sklearn\\externals\\joblib\\parallel.py in __call__(self=Parallel(n_jobs=-1), iterable=<generator object BaseForest.fit.<locals>.<genexpr>>)\n    763             if pre_dispatch == \"all\" or n_jobs == 1:\n    764                 # The iterable was consumed all at once by the above for loop.\n    765                 # No need to wait for async callbacks to trigger to\n    766                 # consumption.\n    767                 self._iterating = False\n--> 768             self.retrieve()\n        self.retrieve = <bound method Parallel.retrieve of Parallel(n_jobs=-1)>\n    769             # Make sure that we get a last message telling us we are done\n    770             elapsed_time = time.time() - self._start_time\n    771             self._print('Done %3i out of %3i | elapsed: %s finished',\n    772                         (len(self._output), len(self._output),\n\n---------------------------------------------------------------------------\nSub-process traceback:\n---------------------------------------------------------------------------\nKeyError                                           Mon Mar 20 09:50:57 2017\nPID: 5848               Python 3.5.2: C:\\Users\\ANTONIS\\Anaconda3\\python.exe\n...........................................................................\nC:\\Users\\ANTONIS\\Anaconda3\\lib\\site-packages\\sklearn\\externals\\joblib\\parallel.py in __call__(self=<sklearn.externals.joblib.parallel.BatchedCalls object>)\n    126     def __init__(self, iterator_slice):\n    127         self.items = list(iterator_slice)\n    128         self._size = len(self.items)\n    129 \n    130     def __call__(self):\n--> 131         return [func(*args, **kwargs) for func, args, kwargs in self.items]\n        self.items = [(<function _parallel_build_trees>, (DecisionTreeRegressor(criterion='gini', max_dept...        random_state=1703836523, splitter='best'), RandomForestRegressor(bootstrap=True, criterion=...te=2016,\n           verbose=20, warm_start=False), array([[ 0.,  0.,  0., ...,  0.,  1.,  0.],\n    ....,  0.,  0., ...,  0.,  0.,  0.]], dtype=float32), array([[ 1.],\n       [ 0.],\n       [ 1.],\n       ..., \n       [ 0.],\n       [ 0.],\n       [ 0.]]), None, 0, 500), {'class_weight': None, 'verbose': 20})]\n    132 \n    133     def __len__(self):\n    134         return self._size\n    135 \n\n...........................................................................\nC:\\Users\\ANTONIS\\Anaconda3\\lib\\site-packages\\sklearn\\externals\\joblib\\parallel.py in <listcomp>(.0=<list_iterator object>)\n    126     def __init__(self, iterator_slice):\n    127         self.items = list(iterator_slice)\n    128         self._size = len(self.items)\n    129 \n    130     def __call__(self):\n--> 131         return [func(*args, **kwargs) for func, args, kwargs in self.items]\n        func = <function _parallel_build_trees>\n        args = (DecisionTreeRegressor(criterion='gini', max_dept...        random_state=1703836523, splitter='best'), RandomForestRegressor(bootstrap=True, criterion=...te=2016,\n           verbose=20, warm_start=False), array([[ 0.,  0.,  0., ...,  0.,  1.,  0.],\n    ....,  0.,  0., ...,  0.,  0.,  0.]], dtype=float32), array([[ 1.],\n       [ 0.],\n       [ 1.],\n       ..., \n       [ 0.],\n       [ 0.],\n       [ 0.]]), None, 0, 500)\n        kwargs = {'class_weight': None, 'verbose': 20}\n    132 \n    133     def __len__(self):\n    134         return self._size\n    135 \n\n...........................................................................\nC:\\Users\\ANTONIS\\Anaconda3\\lib\\site-packages\\sklearn\\ensemble\\forest.py in _parallel_build_trees(tree=DecisionTreeRegressor(criterion='gini', max_dept...        random_state=1703836523, splitter='best'), forest=RandomForestRegressor(bootstrap=True, criterion=...te=2016,\n           verbose=20, warm_start=False), X=array([[ 0.,  0.,  0., ...,  0.,  1.,  0.],\n    ....,  0.,  0., ...,  0.,  0.,  0.]], dtype=float32), y=array([[ 1.],\n       [ 0.],\n       [ 1.],\n       ..., \n       [ 0.],\n       [ 0.],\n       [ 0.]]), sample_weight=None, tree_idx=0, n_trees=500, verbose=20, class_weight=None)\n    115                 warnings.simplefilter('ignore', DeprecationWarning)\n    116                 curr_sample_weight *= compute_sample_weight('auto', y, indices)\n    117         elif class_weight == 'balanced_subsample':\n    118             curr_sample_weight *= compute_sample_weight('balanced', y, indices)\n    119 \n--> 120         tree.fit(X, y, sample_weight=curr_sample_weight, check_input=False)\n        tree.fit = <bound method DecisionTreeRegressor.fit of Decis...       random_state=1703836523, splitter='best')>\n        X = array([[ 0.,  0.,  0., ...,  0.,  1.,  0.],\n    ....,  0.,  0., ...,  0.,  0.,  0.]], dtype=float32)\n        y = array([[ 1.],\n       [ 0.],\n       [ 1.],\n       ..., \n       [ 0.],\n       [ 0.],\n       [ 0.]])\n        sample_weight = None\n        curr_sample_weight = array([ 1.,  0.,  1., ...,  1.,  1.,  2.])\n    121     else:\n    122         tree.fit(X, y, sample_weight=sample_weight, check_input=False)\n    123 \n    124     return tree\n\n...........................................................................\nC:\\Users\\ANTONIS\\Anaconda3\\lib\\site-packages\\sklearn\\tree\\tree.py in fit(self=DecisionTreeRegressor(criterion='gini', max_dept...        random_state=1703836523, splitter='best'), X=array([[ 0.,  0.,  0., ...,  0.,  1.,  0.],\n    ....,  0.,  0., ...,  0.,  0.,  0.]], dtype=float32), y=array([[ 1.],\n       [ 0.],\n       [ 1.],\n       ..., \n       [ 0.],\n       [ 0.],\n       [ 0.]]), sample_weight=array([ 1.,  0.,  1., ...,  1.,  1.,  2.]), check_input=False, X_idx_sorted=None)\n   1024 \n   1025         super(DecisionTreeRegressor, self).fit(\n   1026             X, y,\n   1027             sample_weight=sample_weight,\n   1028             check_input=check_input,\n-> 1029             X_idx_sorted=X_idx_sorted)\n        X_idx_sorted = None\n   1030         return self\n   1031 \n   1032 \n   1033 class ExtraTreeClassifier(DecisionTreeClassifier):\n\n...........................................................................\nC:\\Users\\ANTONIS\\Anaconda3\\lib\\site-packages\\sklearn\\tree\\tree.py in fit(self=DecisionTreeRegressor(criterion='gini', max_dept...        random_state=1703836523, splitter='best'), X=array([[ 0.,  0.,  0., ...,  0.,  1.,  0.],\n    ....,  0.,  0., ...,  0.,  0.,  0.]], dtype=float32), y=array([[ 1.],\n       [ 0.],\n       [ 1.],\n       ..., \n       [ 0.],\n       [ 0.],\n       [ 0.]]), sample_weight=array([ 1.,  0.,  1., ...,  1.,  1.,  2.]), check_input=False, X_idx_sorted=None)\n    315         if not isinstance(criterion, Criterion):\n    316             if is_classification:\n    317                 criterion = CRITERIA_CLF[self.criterion](self.n_outputs_,\n    318                                                          self.n_classes_)\n    319             else:\n--> 320                 criterion = CRITERIA_REG[self.criterion](self.n_outputs_,\n        criterion = 'gini'\n        self.criterion = 'gini'\n        self.n_outputs_ = 1\n        n_samples = 1602\n    321                                                          n_samples)\n    322 \n    323         SPLITTERS = SPARSE_SPLITTERS if issparse(X) else DENSE_SPLITTERS\n    324 \n\nKeyError: 'gini'\n___________________________________________________________________________",
     "output_type": "error",
     "traceback": [
      "\u001b[0;31m---------------------------------------------------------------------------\u001b[0m",
      "\u001b[0;31mKeyError\u001b[0m                                  Traceback (most recent call last)",
      "\u001b[0;32mC:\\Users\\ANTONIS\\Anaconda3\\lib\\site-packages\\sklearn\\externals\\joblib\\_parallel_backends.py\u001b[0m in \u001b[0;36m__call__\u001b[0;34m(self, *args, **kwargs)\u001b[0m\n\u001b[1;32m    343\u001b[0m         \u001b[1;32mtry\u001b[0m\u001b[1;33m:\u001b[0m\u001b[1;33m\u001b[0m\u001b[0m\n\u001b[0;32m--> 344\u001b[0;31m             \u001b[1;32mreturn\u001b[0m \u001b[0mself\u001b[0m\u001b[1;33m.\u001b[0m\u001b[0mfunc\u001b[0m\u001b[1;33m(\u001b[0m\u001b[1;33m*\u001b[0m\u001b[0margs\u001b[0m\u001b[1;33m,\u001b[0m \u001b[1;33m**\u001b[0m\u001b[0mkwargs\u001b[0m\u001b[1;33m)\u001b[0m\u001b[1;33m\u001b[0m\u001b[0m\n\u001b[0m\u001b[1;32m    345\u001b[0m         \u001b[1;32mexcept\u001b[0m \u001b[0mKeyboardInterrupt\u001b[0m\u001b[1;33m:\u001b[0m\u001b[1;33m\u001b[0m\u001b[0m\n",
      "\u001b[0;32mC:\\Users\\ANTONIS\\Anaconda3\\lib\\site-packages\\sklearn\\externals\\joblib\\parallel.py\u001b[0m in \u001b[0;36m__call__\u001b[0;34m(self)\u001b[0m\n\u001b[1;32m    130\u001b[0m     \u001b[1;32mdef\u001b[0m \u001b[0m__call__\u001b[0m\u001b[1;33m(\u001b[0m\u001b[0mself\u001b[0m\u001b[1;33m)\u001b[0m\u001b[1;33m:\u001b[0m\u001b[1;33m\u001b[0m\u001b[0m\n\u001b[0;32m--> 131\u001b[0;31m         \u001b[1;32mreturn\u001b[0m \u001b[1;33m[\u001b[0m\u001b[0mfunc\u001b[0m\u001b[1;33m(\u001b[0m\u001b[1;33m*\u001b[0m\u001b[0margs\u001b[0m\u001b[1;33m,\u001b[0m \u001b[1;33m**\u001b[0m\u001b[0mkwargs\u001b[0m\u001b[1;33m)\u001b[0m \u001b[1;32mfor\u001b[0m \u001b[0mfunc\u001b[0m\u001b[1;33m,\u001b[0m \u001b[0margs\u001b[0m\u001b[1;33m,\u001b[0m \u001b[0mkwargs\u001b[0m \u001b[1;32min\u001b[0m \u001b[0mself\u001b[0m\u001b[1;33m.\u001b[0m\u001b[0mitems\u001b[0m\u001b[1;33m]\u001b[0m\u001b[1;33m\u001b[0m\u001b[0m\n\u001b[0m\u001b[1;32m    132\u001b[0m \u001b[1;33m\u001b[0m\u001b[0m\n",
      "\u001b[0;32mC:\\Users\\ANTONIS\\Anaconda3\\lib\\site-packages\\sklearn\\externals\\joblib\\parallel.py\u001b[0m in \u001b[0;36m<listcomp>\u001b[0;34m(.0)\u001b[0m\n\u001b[1;32m    130\u001b[0m     \u001b[1;32mdef\u001b[0m \u001b[0m__call__\u001b[0m\u001b[1;33m(\u001b[0m\u001b[0mself\u001b[0m\u001b[1;33m)\u001b[0m\u001b[1;33m:\u001b[0m\u001b[1;33m\u001b[0m\u001b[0m\n\u001b[0;32m--> 131\u001b[0;31m         \u001b[1;32mreturn\u001b[0m \u001b[1;33m[\u001b[0m\u001b[0mfunc\u001b[0m\u001b[1;33m(\u001b[0m\u001b[1;33m*\u001b[0m\u001b[0margs\u001b[0m\u001b[1;33m,\u001b[0m \u001b[1;33m**\u001b[0m\u001b[0mkwargs\u001b[0m\u001b[1;33m)\u001b[0m \u001b[1;32mfor\u001b[0m \u001b[0mfunc\u001b[0m\u001b[1;33m,\u001b[0m \u001b[0margs\u001b[0m\u001b[1;33m,\u001b[0m \u001b[0mkwargs\u001b[0m \u001b[1;32min\u001b[0m \u001b[0mself\u001b[0m\u001b[1;33m.\u001b[0m\u001b[0mitems\u001b[0m\u001b[1;33m]\u001b[0m\u001b[1;33m\u001b[0m\u001b[0m\n\u001b[0m\u001b[1;32m    132\u001b[0m \u001b[1;33m\u001b[0m\u001b[0m\n",
      "\u001b[0;32mC:\\Users\\ANTONIS\\Anaconda3\\lib\\site-packages\\sklearn\\ensemble\\forest.py\u001b[0m in \u001b[0;36m_parallel_build_trees\u001b[0;34m(tree, forest, X, y, sample_weight, tree_idx, n_trees, verbose, class_weight)\u001b[0m\n\u001b[1;32m    119\u001b[0m \u001b[1;33m\u001b[0m\u001b[0m\n\u001b[0;32m--> 120\u001b[0;31m         \u001b[0mtree\u001b[0m\u001b[1;33m.\u001b[0m\u001b[0mfit\u001b[0m\u001b[1;33m(\u001b[0m\u001b[0mX\u001b[0m\u001b[1;33m,\u001b[0m \u001b[0my\u001b[0m\u001b[1;33m,\u001b[0m \u001b[0msample_weight\u001b[0m\u001b[1;33m=\u001b[0m\u001b[0mcurr_sample_weight\u001b[0m\u001b[1;33m,\u001b[0m \u001b[0mcheck_input\u001b[0m\u001b[1;33m=\u001b[0m\u001b[1;32mFalse\u001b[0m\u001b[1;33m)\u001b[0m\u001b[1;33m\u001b[0m\u001b[0m\n\u001b[0m\u001b[1;32m    121\u001b[0m     \u001b[1;32melse\u001b[0m\u001b[1;33m:\u001b[0m\u001b[1;33m\u001b[0m\u001b[0m\n",
      "\u001b[0;32mC:\\Users\\ANTONIS\\Anaconda3\\lib\\site-packages\\sklearn\\tree\\tree.py\u001b[0m in \u001b[0;36mfit\u001b[0;34m(self, X, y, sample_weight, check_input, X_idx_sorted)\u001b[0m\n\u001b[1;32m   1028\u001b[0m             \u001b[0mcheck_input\u001b[0m\u001b[1;33m=\u001b[0m\u001b[0mcheck_input\u001b[0m\u001b[1;33m,\u001b[0m\u001b[1;33m\u001b[0m\u001b[0m\n\u001b[0;32m-> 1029\u001b[0;31m             X_idx_sorted=X_idx_sorted)\n\u001b[0m\u001b[1;32m   1030\u001b[0m         \u001b[1;32mreturn\u001b[0m \u001b[0mself\u001b[0m\u001b[1;33m\u001b[0m\u001b[0m\n",
      "\u001b[0;32mC:\\Users\\ANTONIS\\Anaconda3\\lib\\site-packages\\sklearn\\tree\\tree.py\u001b[0m in \u001b[0;36mfit\u001b[0;34m(self, X, y, sample_weight, check_input, X_idx_sorted)\u001b[0m\n\u001b[1;32m    319\u001b[0m             \u001b[1;32melse\u001b[0m\u001b[1;33m:\u001b[0m\u001b[1;33m\u001b[0m\u001b[0m\n\u001b[0;32m--> 320\u001b[0;31m                 criterion = CRITERIA_REG[self.criterion](self.n_outputs_,\n\u001b[0m\u001b[1;32m    321\u001b[0m                                                          n_samples)\n",
      "\u001b[0;31mKeyError\u001b[0m: 'gini'",
      "\nDuring handling of the above exception, another exception occurred:\n",
      "\u001b[0;31mTransportableException\u001b[0m                    Traceback (most recent call last)",
      "\u001b[0;32mC:\\Users\\ANTONIS\\Anaconda3\\lib\\site-packages\\sklearn\\externals\\joblib\\parallel.py\u001b[0m in \u001b[0;36mretrieve\u001b[0;34m(self)\u001b[0m\n\u001b[1;32m    681\u001b[0m                 \u001b[1;32mif\u001b[0m \u001b[1;34m'timeout'\u001b[0m \u001b[1;32min\u001b[0m \u001b[0mgetfullargspec\u001b[0m\u001b[1;33m(\u001b[0m\u001b[0mjob\u001b[0m\u001b[1;33m.\u001b[0m\u001b[0mget\u001b[0m\u001b[1;33m)\u001b[0m\u001b[1;33m.\u001b[0m\u001b[0margs\u001b[0m\u001b[1;33m:\u001b[0m\u001b[1;33m\u001b[0m\u001b[0m\n\u001b[0;32m--> 682\u001b[0;31m                     \u001b[0mself\u001b[0m\u001b[1;33m.\u001b[0m\u001b[0m_output\u001b[0m\u001b[1;33m.\u001b[0m\u001b[0mextend\u001b[0m\u001b[1;33m(\u001b[0m\u001b[0mjob\u001b[0m\u001b[1;33m.\u001b[0m\u001b[0mget\u001b[0m\u001b[1;33m(\u001b[0m\u001b[0mtimeout\u001b[0m\u001b[1;33m=\u001b[0m\u001b[0mself\u001b[0m\u001b[1;33m.\u001b[0m\u001b[0mtimeout\u001b[0m\u001b[1;33m)\u001b[0m\u001b[1;33m)\u001b[0m\u001b[1;33m\u001b[0m\u001b[0m\n\u001b[0m\u001b[1;32m    683\u001b[0m                 \u001b[1;32melse\u001b[0m\u001b[1;33m:\u001b[0m\u001b[1;33m\u001b[0m\u001b[0m\n",
      "\u001b[0;32mC:\\Users\\ANTONIS\\Anaconda3\\lib\\multiprocessing\\pool.py\u001b[0m in \u001b[0;36mget\u001b[0;34m(self, timeout)\u001b[0m\n\u001b[1;32m    607\u001b[0m         \u001b[1;32melse\u001b[0m\u001b[1;33m:\u001b[0m\u001b[1;33m\u001b[0m\u001b[0m\n\u001b[0;32m--> 608\u001b[0;31m             \u001b[1;32mraise\u001b[0m \u001b[0mself\u001b[0m\u001b[1;33m.\u001b[0m\u001b[0m_value\u001b[0m\u001b[1;33m\u001b[0m\u001b[0m\n\u001b[0m\u001b[1;32m    609\u001b[0m \u001b[1;33m\u001b[0m\u001b[0m\n",
      "\u001b[0;32mC:\\Users\\ANTONIS\\Anaconda3\\lib\\multiprocessing\\pool.py\u001b[0m in \u001b[0;36mworker\u001b[0;34m(inqueue, outqueue, initializer, initargs, maxtasks, wrap_exception)\u001b[0m\n\u001b[1;32m    118\u001b[0m         \u001b[1;32mtry\u001b[0m\u001b[1;33m:\u001b[0m\u001b[1;33m\u001b[0m\u001b[0m\n\u001b[0;32m--> 119\u001b[0;31m             \u001b[0mresult\u001b[0m \u001b[1;33m=\u001b[0m \u001b[1;33m(\u001b[0m\u001b[1;32mTrue\u001b[0m\u001b[1;33m,\u001b[0m \u001b[0mfunc\u001b[0m\u001b[1;33m(\u001b[0m\u001b[1;33m*\u001b[0m\u001b[0margs\u001b[0m\u001b[1;33m,\u001b[0m \u001b[1;33m**\u001b[0m\u001b[0mkwds\u001b[0m\u001b[1;33m)\u001b[0m\u001b[1;33m)\u001b[0m\u001b[1;33m\u001b[0m\u001b[0m\n\u001b[0m\u001b[1;32m    120\u001b[0m         \u001b[1;32mexcept\u001b[0m \u001b[0mException\u001b[0m \u001b[1;32mas\u001b[0m \u001b[0me\u001b[0m\u001b[1;33m:\u001b[0m\u001b[1;33m\u001b[0m\u001b[0m\n",
      "\u001b[0;32mC:\\Users\\ANTONIS\\Anaconda3\\lib\\site-packages\\sklearn\\externals\\joblib\\_parallel_backends.py\u001b[0m in \u001b[0;36m__call__\u001b[0;34m(self, *args, **kwargs)\u001b[0m\n\u001b[1;32m    352\u001b[0m             \u001b[0mtext\u001b[0m \u001b[1;33m=\u001b[0m \u001b[0mformat_exc\u001b[0m\u001b[1;33m(\u001b[0m\u001b[0me_type\u001b[0m\u001b[1;33m,\u001b[0m \u001b[0me_value\u001b[0m\u001b[1;33m,\u001b[0m \u001b[0me_tb\u001b[0m\u001b[1;33m,\u001b[0m \u001b[0mcontext\u001b[0m\u001b[1;33m=\u001b[0m\u001b[1;36m10\u001b[0m\u001b[1;33m,\u001b[0m \u001b[0mtb_offset\u001b[0m\u001b[1;33m=\u001b[0m\u001b[1;36m1\u001b[0m\u001b[1;33m)\u001b[0m\u001b[1;33m\u001b[0m\u001b[0m\n\u001b[0;32m--> 353\u001b[0;31m             \u001b[1;32mraise\u001b[0m \u001b[0mTransportableException\u001b[0m\u001b[1;33m(\u001b[0m\u001b[0mtext\u001b[0m\u001b[1;33m,\u001b[0m \u001b[0me_type\u001b[0m\u001b[1;33m)\u001b[0m\u001b[1;33m\u001b[0m\u001b[0m\n\u001b[0m\u001b[1;32m    354\u001b[0m \u001b[1;33m\u001b[0m\u001b[0m\n",
      "\u001b[0;31mTransportableException\u001b[0m: TransportableException\n___________________________________________________________________________\nKeyError                                           Mon Mar 20 09:50:57 2017\nPID: 5848               Python 3.5.2: C:\\Users\\ANTONIS\\Anaconda3\\python.exe\n...........................................................................\nC:\\Users\\ANTONIS\\Anaconda3\\lib\\site-packages\\sklearn\\externals\\joblib\\parallel.py in __call__(self=<sklearn.externals.joblib.parallel.BatchedCalls object>)\n    126     def __init__(self, iterator_slice):\n    127         self.items = list(iterator_slice)\n    128         self._size = len(self.items)\n    129 \n    130     def __call__(self):\n--> 131         return [func(*args, **kwargs) for func, args, kwargs in self.items]\n        self.items = [(<function _parallel_build_trees>, (DecisionTreeRegressor(criterion='gini', max_dept...        random_state=1703836523, splitter='best'), RandomForestRegressor(bootstrap=True, criterion=...te=2016,\n           verbose=20, warm_start=False), array([[ 0.,  0.,  0., ...,  0.,  1.,  0.],\n    ....,  0.,  0., ...,  0.,  0.,  0.]], dtype=float32), array([[ 1.],\n       [ 0.],\n       [ 1.],\n       ..., \n       [ 0.],\n       [ 0.],\n       [ 0.]]), None, 0, 500), {'class_weight': None, 'verbose': 20})]\n    132 \n    133     def __len__(self):\n    134         return self._size\n    135 \n\n...........................................................................\nC:\\Users\\ANTONIS\\Anaconda3\\lib\\site-packages\\sklearn\\externals\\joblib\\parallel.py in <listcomp>(.0=<list_iterator object>)\n    126     def __init__(self, iterator_slice):\n    127         self.items = list(iterator_slice)\n    128         self._size = len(self.items)\n    129 \n    130     def __call__(self):\n--> 131         return [func(*args, **kwargs) for func, args, kwargs in self.items]\n        func = <function _parallel_build_trees>\n        args = (DecisionTreeRegressor(criterion='gini', max_dept...        random_state=1703836523, splitter='best'), RandomForestRegressor(bootstrap=True, criterion=...te=2016,\n           verbose=20, warm_start=False), array([[ 0.,  0.,  0., ...,  0.,  1.,  0.],\n    ....,  0.,  0., ...,  0.,  0.,  0.]], dtype=float32), array([[ 1.],\n       [ 0.],\n       [ 1.],\n       ..., \n       [ 0.],\n       [ 0.],\n       [ 0.]]), None, 0, 500)\n        kwargs = {'class_weight': None, 'verbose': 20}\n    132 \n    133     def __len__(self):\n    134         return self._size\n    135 \n\n...........................................................................\nC:\\Users\\ANTONIS\\Anaconda3\\lib\\site-packages\\sklearn\\ensemble\\forest.py in _parallel_build_trees(tree=DecisionTreeRegressor(criterion='gini', max_dept...        random_state=1703836523, splitter='best'), forest=RandomForestRegressor(bootstrap=True, criterion=...te=2016,\n           verbose=20, warm_start=False), X=array([[ 0.,  0.,  0., ...,  0.,  1.,  0.],\n    ....,  0.,  0., ...,  0.,  0.,  0.]], dtype=float32), y=array([[ 1.],\n       [ 0.],\n       [ 1.],\n       ..., \n       [ 0.],\n       [ 0.],\n       [ 0.]]), sample_weight=None, tree_idx=0, n_trees=500, verbose=20, class_weight=None)\n    115                 warnings.simplefilter('ignore', DeprecationWarning)\n    116                 curr_sample_weight *= compute_sample_weight('auto', y, indices)\n    117         elif class_weight == 'balanced_subsample':\n    118             curr_sample_weight *= compute_sample_weight('balanced', y, indices)\n    119 \n--> 120         tree.fit(X, y, sample_weight=curr_sample_weight, check_input=False)\n        tree.fit = <bound method DecisionTreeRegressor.fit of Decis...       random_state=1703836523, splitter='best')>\n        X = array([[ 0.,  0.,  0., ...,  0.,  1.,  0.],\n    ....,  0.,  0., ...,  0.,  0.,  0.]], dtype=float32)\n        y = array([[ 1.],\n       [ 0.],\n       [ 1.],\n       ..., \n       [ 0.],\n       [ 0.],\n       [ 0.]])\n        sample_weight = None\n        curr_sample_weight = array([ 1.,  0.,  1., ...,  1.,  1.,  2.])\n    121     else:\n    122         tree.fit(X, y, sample_weight=sample_weight, check_input=False)\n    123 \n    124     return tree\n\n...........................................................................\nC:\\Users\\ANTONIS\\Anaconda3\\lib\\site-packages\\sklearn\\tree\\tree.py in fit(self=DecisionTreeRegressor(criterion='gini', max_dept...        random_state=1703836523, splitter='best'), X=array([[ 0.,  0.,  0., ...,  0.,  1.,  0.],\n    ....,  0.,  0., ...,  0.,  0.,  0.]], dtype=float32), y=array([[ 1.],\n       [ 0.],\n       [ 1.],\n       ..., \n       [ 0.],\n       [ 0.],\n       [ 0.]]), sample_weight=array([ 1.,  0.,  1., ...,  1.,  1.,  2.]), check_input=False, X_idx_sorted=None)\n   1024 \n   1025         super(DecisionTreeRegressor, self).fit(\n   1026             X, y,\n   1027             sample_weight=sample_weight,\n   1028             check_input=check_input,\n-> 1029             X_idx_sorted=X_idx_sorted)\n        X_idx_sorted = None\n   1030         return self\n   1031 \n   1032 \n   1033 class ExtraTreeClassifier(DecisionTreeClassifier):\n\n...........................................................................\nC:\\Users\\ANTONIS\\Anaconda3\\lib\\site-packages\\sklearn\\tree\\tree.py in fit(self=DecisionTreeRegressor(criterion='gini', max_dept...        random_state=1703836523, splitter='best'), X=array([[ 0.,  0.,  0., ...,  0.,  1.,  0.],\n    ....,  0.,  0., ...,  0.,  0.,  0.]], dtype=float32), y=array([[ 1.],\n       [ 0.],\n       [ 1.],\n       ..., \n       [ 0.],\n       [ 0.],\n       [ 0.]]), sample_weight=array([ 1.,  0.,  1., ...,  1.,  1.,  2.]), check_input=False, X_idx_sorted=None)\n    315         if not isinstance(criterion, Criterion):\n    316             if is_classification:\n    317                 criterion = CRITERIA_CLF[self.criterion](self.n_outputs_,\n    318                                                          self.n_classes_)\n    319             else:\n--> 320                 criterion = CRITERIA_REG[self.criterion](self.n_outputs_,\n        criterion = 'gini'\n        self.criterion = 'gini'\n        self.n_outputs_ = 1\n        n_samples = 1602\n    321                                                          n_samples)\n    322 \n    323         SPLITTERS = SPARSE_SPLITTERS if issparse(X) else DENSE_SPLITTERS\n    324 \n\nKeyError: 'gini'\n___________________________________________________________________________",
      "\nDuring handling of the above exception, another exception occurred:\n",
      "\u001b[0;31mJoblibKeyError\u001b[0m                            Traceback (most recent call last)",
      "\u001b[0;32m<ipython-input-103-fe9b6601246a>\u001b[0m in \u001b[0;36m<module>\u001b[0;34m()\u001b[0m\n\u001b[1;32m     10\u001b[0m \u001b[1;33m\u001b[0m\u001b[0m\n\u001b[1;32m     11\u001b[0m \u001b[0mgsv\u001b[0m \u001b[1;33m=\u001b[0m \u001b[0mGridSearchCV\u001b[0m\u001b[1;33m(\u001b[0m\u001b[0mestimator\u001b[0m \u001b[1;33m=\u001b[0m \u001b[0mrfr\u001b[0m\u001b[1;33m,\u001b[0m \u001b[0mparam_grid\u001b[0m \u001b[1;33m=\u001b[0m \u001b[0mparameters\u001b[0m\u001b[1;33m,\u001b[0m \u001b[0mcv\u001b[0m \u001b[1;33m=\u001b[0m \u001b[1;36m10\u001b[0m\u001b[1;33m,\u001b[0m \u001b[0mverbose\u001b[0m \u001b[1;33m=\u001b[0m \u001b[1;36m2016\u001b[0m\u001b[1;33m,\u001b[0m \u001b[0mscoring\u001b[0m\u001b[1;33m=\u001b[0m\u001b[0mRMSE\u001b[0m\u001b[1;33m)\u001b[0m\u001b[1;33m\u001b[0m\u001b[0m\n\u001b[0;32m---> 12\u001b[0;31m \u001b[0mgsv\u001b[0m\u001b[1;33m.\u001b[0m\u001b[0mfit\u001b[0m\u001b[1;33m(\u001b[0m\u001b[0mxtraining\u001b[0m\u001b[1;33m,\u001b[0m \u001b[0myTraining\u001b[0m\u001b[1;33m)\u001b[0m\u001b[1;33m\u001b[0m\u001b[0m\n\u001b[0m\u001b[1;32m     13\u001b[0m \u001b[1;33m\u001b[0m\u001b[0m\n\u001b[1;32m     14\u001b[0m \u001b[0myPredict6\u001b[0m \u001b[1;33m=\u001b[0m \u001b[0mgsv\u001b[0m\u001b[1;33m.\u001b[0m\u001b[0mpredict\u001b[0m\u001b[1;33m(\u001b[0m\u001b[0mxtest\u001b[0m\u001b[1;33m)\u001b[0m\u001b[1;33m\u001b[0m\u001b[0m\n",
      "\u001b[0;32mC:\\Users\\ANTONIS\\Anaconda3\\lib\\site-packages\\sklearn\\model_selection\\_search.py\u001b[0m in \u001b[0;36mfit\u001b[0;34m(self, X, y, groups)\u001b[0m\n\u001b[1;32m    943\u001b[0m             \u001b[0mtrain\u001b[0m\u001b[1;33m/\u001b[0m\u001b[0mtest\u001b[0m \u001b[0mset\u001b[0m\u001b[1;33m.\u001b[0m\u001b[1;33m\u001b[0m\u001b[0m\n\u001b[1;32m    944\u001b[0m         \"\"\"\n\u001b[0;32m--> 945\u001b[0;31m         \u001b[1;32mreturn\u001b[0m \u001b[0mself\u001b[0m\u001b[1;33m.\u001b[0m\u001b[0m_fit\u001b[0m\u001b[1;33m(\u001b[0m\u001b[0mX\u001b[0m\u001b[1;33m,\u001b[0m \u001b[0my\u001b[0m\u001b[1;33m,\u001b[0m \u001b[0mgroups\u001b[0m\u001b[1;33m,\u001b[0m \u001b[0mParameterGrid\u001b[0m\u001b[1;33m(\u001b[0m\u001b[0mself\u001b[0m\u001b[1;33m.\u001b[0m\u001b[0mparam_grid\u001b[0m\u001b[1;33m)\u001b[0m\u001b[1;33m)\u001b[0m\u001b[1;33m\u001b[0m\u001b[0m\n\u001b[0m\u001b[1;32m    946\u001b[0m \u001b[1;33m\u001b[0m\u001b[0m\n\u001b[1;32m    947\u001b[0m \u001b[1;33m\u001b[0m\u001b[0m\n",
      "\u001b[0;32mC:\\Users\\ANTONIS\\Anaconda3\\lib\\site-packages\\sklearn\\model_selection\\_search.py\u001b[0m in \u001b[0;36m_fit\u001b[0;34m(self, X, y, groups, parameter_iterable)\u001b[0m\n\u001b[1;32m    562\u001b[0m                                   \u001b[0mreturn_times\u001b[0m\u001b[1;33m=\u001b[0m\u001b[1;32mTrue\u001b[0m\u001b[1;33m,\u001b[0m \u001b[0mreturn_parameters\u001b[0m\u001b[1;33m=\u001b[0m\u001b[1;32mTrue\u001b[0m\u001b[1;33m,\u001b[0m\u001b[1;33m\u001b[0m\u001b[0m\n\u001b[1;32m    563\u001b[0m                                   error_score=self.error_score)\n\u001b[0;32m--> 564\u001b[0;31m           \u001b[1;32mfor\u001b[0m \u001b[0mparameters\u001b[0m \u001b[1;32min\u001b[0m \u001b[0mparameter_iterable\u001b[0m\u001b[1;33m\u001b[0m\u001b[0m\n\u001b[0m\u001b[1;32m    565\u001b[0m           for train, test in cv_iter)\n\u001b[1;32m    566\u001b[0m \u001b[1;33m\u001b[0m\u001b[0m\n",
      "\u001b[0;32mC:\\Users\\ANTONIS\\Anaconda3\\lib\\site-packages\\sklearn\\externals\\joblib\\parallel.py\u001b[0m in \u001b[0;36m__call__\u001b[0;34m(self, iterable)\u001b[0m\n\u001b[1;32m    756\u001b[0m             \u001b[1;31m# was dispatched. In particular this covers the edge\u001b[0m\u001b[1;33m\u001b[0m\u001b[1;33m\u001b[0m\u001b[0m\n\u001b[1;32m    757\u001b[0m             \u001b[1;31m# case of Parallel used with an exhausted iterator.\u001b[0m\u001b[1;33m\u001b[0m\u001b[1;33m\u001b[0m\u001b[0m\n\u001b[0;32m--> 758\u001b[0;31m             \u001b[1;32mwhile\u001b[0m \u001b[0mself\u001b[0m\u001b[1;33m.\u001b[0m\u001b[0mdispatch_one_batch\u001b[0m\u001b[1;33m(\u001b[0m\u001b[0miterator\u001b[0m\u001b[1;33m)\u001b[0m\u001b[1;33m:\u001b[0m\u001b[1;33m\u001b[0m\u001b[0m\n\u001b[0m\u001b[1;32m    759\u001b[0m                 \u001b[0mself\u001b[0m\u001b[1;33m.\u001b[0m\u001b[0m_iterating\u001b[0m \u001b[1;33m=\u001b[0m \u001b[1;32mTrue\u001b[0m\u001b[1;33m\u001b[0m\u001b[0m\n\u001b[1;32m    760\u001b[0m             \u001b[1;32melse\u001b[0m\u001b[1;33m:\u001b[0m\u001b[1;33m\u001b[0m\u001b[0m\n",
      "\u001b[0;32mC:\\Users\\ANTONIS\\Anaconda3\\lib\\site-packages\\sklearn\\externals\\joblib\\parallel.py\u001b[0m in \u001b[0;36mdispatch_one_batch\u001b[0;34m(self, iterator)\u001b[0m\n\u001b[1;32m    606\u001b[0m                 \u001b[1;32mreturn\u001b[0m \u001b[1;32mFalse\u001b[0m\u001b[1;33m\u001b[0m\u001b[0m\n\u001b[1;32m    607\u001b[0m             \u001b[1;32melse\u001b[0m\u001b[1;33m:\u001b[0m\u001b[1;33m\u001b[0m\u001b[0m\n\u001b[0;32m--> 608\u001b[0;31m                 \u001b[0mself\u001b[0m\u001b[1;33m.\u001b[0m\u001b[0m_dispatch\u001b[0m\u001b[1;33m(\u001b[0m\u001b[0mtasks\u001b[0m\u001b[1;33m)\u001b[0m\u001b[1;33m\u001b[0m\u001b[0m\n\u001b[0m\u001b[1;32m    609\u001b[0m                 \u001b[1;32mreturn\u001b[0m \u001b[1;32mTrue\u001b[0m\u001b[1;33m\u001b[0m\u001b[0m\n\u001b[1;32m    610\u001b[0m \u001b[1;33m\u001b[0m\u001b[0m\n",
      "\u001b[0;32mC:\\Users\\ANTONIS\\Anaconda3\\lib\\site-packages\\sklearn\\externals\\joblib\\parallel.py\u001b[0m in \u001b[0;36m_dispatch\u001b[0;34m(self, batch)\u001b[0m\n\u001b[1;32m    569\u001b[0m         \u001b[0mdispatch_timestamp\u001b[0m \u001b[1;33m=\u001b[0m \u001b[0mtime\u001b[0m\u001b[1;33m.\u001b[0m\u001b[0mtime\u001b[0m\u001b[1;33m(\u001b[0m\u001b[1;33m)\u001b[0m\u001b[1;33m\u001b[0m\u001b[0m\n\u001b[1;32m    570\u001b[0m         \u001b[0mcb\u001b[0m \u001b[1;33m=\u001b[0m \u001b[0mBatchCompletionCallBack\u001b[0m\u001b[1;33m(\u001b[0m\u001b[0mdispatch_timestamp\u001b[0m\u001b[1;33m,\u001b[0m \u001b[0mlen\u001b[0m\u001b[1;33m(\u001b[0m\u001b[0mbatch\u001b[0m\u001b[1;33m)\u001b[0m\u001b[1;33m,\u001b[0m \u001b[0mself\u001b[0m\u001b[1;33m)\u001b[0m\u001b[1;33m\u001b[0m\u001b[0m\n\u001b[0;32m--> 571\u001b[0;31m         \u001b[0mjob\u001b[0m \u001b[1;33m=\u001b[0m \u001b[0mself\u001b[0m\u001b[1;33m.\u001b[0m\u001b[0m_backend\u001b[0m\u001b[1;33m.\u001b[0m\u001b[0mapply_async\u001b[0m\u001b[1;33m(\u001b[0m\u001b[0mbatch\u001b[0m\u001b[1;33m,\u001b[0m \u001b[0mcallback\u001b[0m\u001b[1;33m=\u001b[0m\u001b[0mcb\u001b[0m\u001b[1;33m)\u001b[0m\u001b[1;33m\u001b[0m\u001b[0m\n\u001b[0m\u001b[1;32m    572\u001b[0m         \u001b[0mself\u001b[0m\u001b[1;33m.\u001b[0m\u001b[0m_jobs\u001b[0m\u001b[1;33m.\u001b[0m\u001b[0mappend\u001b[0m\u001b[1;33m(\u001b[0m\u001b[0mjob\u001b[0m\u001b[1;33m)\u001b[0m\u001b[1;33m\u001b[0m\u001b[0m\n\u001b[1;32m    573\u001b[0m \u001b[1;33m\u001b[0m\u001b[0m\n",
      "\u001b[0;32mC:\\Users\\ANTONIS\\Anaconda3\\lib\\site-packages\\sklearn\\externals\\joblib\\_parallel_backends.py\u001b[0m in \u001b[0;36mapply_async\u001b[0;34m(self, func, callback)\u001b[0m\n\u001b[1;32m    107\u001b[0m     \u001b[1;32mdef\u001b[0m \u001b[0mapply_async\u001b[0m\u001b[1;33m(\u001b[0m\u001b[0mself\u001b[0m\u001b[1;33m,\u001b[0m \u001b[0mfunc\u001b[0m\u001b[1;33m,\u001b[0m \u001b[0mcallback\u001b[0m\u001b[1;33m=\u001b[0m\u001b[1;32mNone\u001b[0m\u001b[1;33m)\u001b[0m\u001b[1;33m:\u001b[0m\u001b[1;33m\u001b[0m\u001b[0m\n\u001b[1;32m    108\u001b[0m         \u001b[1;34m\"\"\"Schedule a func to be run\"\"\"\u001b[0m\u001b[1;33m\u001b[0m\u001b[0m\n\u001b[0;32m--> 109\u001b[0;31m         \u001b[0mresult\u001b[0m \u001b[1;33m=\u001b[0m \u001b[0mImmediateResult\u001b[0m\u001b[1;33m(\u001b[0m\u001b[0mfunc\u001b[0m\u001b[1;33m)\u001b[0m\u001b[1;33m\u001b[0m\u001b[0m\n\u001b[0m\u001b[1;32m    110\u001b[0m         \u001b[1;32mif\u001b[0m \u001b[0mcallback\u001b[0m\u001b[1;33m:\u001b[0m\u001b[1;33m\u001b[0m\u001b[0m\n\u001b[1;32m    111\u001b[0m             \u001b[0mcallback\u001b[0m\u001b[1;33m(\u001b[0m\u001b[0mresult\u001b[0m\u001b[1;33m)\u001b[0m\u001b[1;33m\u001b[0m\u001b[0m\n",
      "\u001b[0;32mC:\\Users\\ANTONIS\\Anaconda3\\lib\\site-packages\\sklearn\\externals\\joblib\\_parallel_backends.py\u001b[0m in \u001b[0;36m__init__\u001b[0;34m(self, batch)\u001b[0m\n\u001b[1;32m    324\u001b[0m         \u001b[1;31m# Don't delay the application, to avoid keeping the input\u001b[0m\u001b[1;33m\u001b[0m\u001b[1;33m\u001b[0m\u001b[0m\n\u001b[1;32m    325\u001b[0m         \u001b[1;31m# arguments in memory\u001b[0m\u001b[1;33m\u001b[0m\u001b[1;33m\u001b[0m\u001b[0m\n\u001b[0;32m--> 326\u001b[0;31m         \u001b[0mself\u001b[0m\u001b[1;33m.\u001b[0m\u001b[0mresults\u001b[0m \u001b[1;33m=\u001b[0m \u001b[0mbatch\u001b[0m\u001b[1;33m(\u001b[0m\u001b[1;33m)\u001b[0m\u001b[1;33m\u001b[0m\u001b[0m\n\u001b[0m\u001b[1;32m    327\u001b[0m \u001b[1;33m\u001b[0m\u001b[0m\n\u001b[1;32m    328\u001b[0m     \u001b[1;32mdef\u001b[0m \u001b[0mget\u001b[0m\u001b[1;33m(\u001b[0m\u001b[0mself\u001b[0m\u001b[1;33m)\u001b[0m\u001b[1;33m:\u001b[0m\u001b[1;33m\u001b[0m\u001b[0m\n",
      "\u001b[0;32mC:\\Users\\ANTONIS\\Anaconda3\\lib\\site-packages\\sklearn\\externals\\joblib\\parallel.py\u001b[0m in \u001b[0;36m__call__\u001b[0;34m(self)\u001b[0m\n\u001b[1;32m    129\u001b[0m \u001b[1;33m\u001b[0m\u001b[0m\n\u001b[1;32m    130\u001b[0m     \u001b[1;32mdef\u001b[0m \u001b[0m__call__\u001b[0m\u001b[1;33m(\u001b[0m\u001b[0mself\u001b[0m\u001b[1;33m)\u001b[0m\u001b[1;33m:\u001b[0m\u001b[1;33m\u001b[0m\u001b[0m\n\u001b[0;32m--> 131\u001b[0;31m         \u001b[1;32mreturn\u001b[0m \u001b[1;33m[\u001b[0m\u001b[0mfunc\u001b[0m\u001b[1;33m(\u001b[0m\u001b[1;33m*\u001b[0m\u001b[0margs\u001b[0m\u001b[1;33m,\u001b[0m \u001b[1;33m**\u001b[0m\u001b[0mkwargs\u001b[0m\u001b[1;33m)\u001b[0m \u001b[1;32mfor\u001b[0m \u001b[0mfunc\u001b[0m\u001b[1;33m,\u001b[0m \u001b[0margs\u001b[0m\u001b[1;33m,\u001b[0m \u001b[0mkwargs\u001b[0m \u001b[1;32min\u001b[0m \u001b[0mself\u001b[0m\u001b[1;33m.\u001b[0m\u001b[0mitems\u001b[0m\u001b[1;33m]\u001b[0m\u001b[1;33m\u001b[0m\u001b[0m\n\u001b[0m\u001b[1;32m    132\u001b[0m \u001b[1;33m\u001b[0m\u001b[0m\n\u001b[1;32m    133\u001b[0m     \u001b[1;32mdef\u001b[0m \u001b[0m__len__\u001b[0m\u001b[1;33m(\u001b[0m\u001b[0mself\u001b[0m\u001b[1;33m)\u001b[0m\u001b[1;33m:\u001b[0m\u001b[1;33m\u001b[0m\u001b[0m\n",
      "\u001b[0;32mC:\\Users\\ANTONIS\\Anaconda3\\lib\\site-packages\\sklearn\\externals\\joblib\\parallel.py\u001b[0m in \u001b[0;36m<listcomp>\u001b[0;34m(.0)\u001b[0m\n\u001b[1;32m    129\u001b[0m \u001b[1;33m\u001b[0m\u001b[0m\n\u001b[1;32m    130\u001b[0m     \u001b[1;32mdef\u001b[0m \u001b[0m__call__\u001b[0m\u001b[1;33m(\u001b[0m\u001b[0mself\u001b[0m\u001b[1;33m)\u001b[0m\u001b[1;33m:\u001b[0m\u001b[1;33m\u001b[0m\u001b[0m\n\u001b[0;32m--> 131\u001b[0;31m         \u001b[1;32mreturn\u001b[0m \u001b[1;33m[\u001b[0m\u001b[0mfunc\u001b[0m\u001b[1;33m(\u001b[0m\u001b[1;33m*\u001b[0m\u001b[0margs\u001b[0m\u001b[1;33m,\u001b[0m \u001b[1;33m**\u001b[0m\u001b[0mkwargs\u001b[0m\u001b[1;33m)\u001b[0m \u001b[1;32mfor\u001b[0m \u001b[0mfunc\u001b[0m\u001b[1;33m,\u001b[0m \u001b[0margs\u001b[0m\u001b[1;33m,\u001b[0m \u001b[0mkwargs\u001b[0m \u001b[1;32min\u001b[0m \u001b[0mself\u001b[0m\u001b[1;33m.\u001b[0m\u001b[0mitems\u001b[0m\u001b[1;33m]\u001b[0m\u001b[1;33m\u001b[0m\u001b[0m\n\u001b[0m\u001b[1;32m    132\u001b[0m \u001b[1;33m\u001b[0m\u001b[0m\n\u001b[1;32m    133\u001b[0m     \u001b[1;32mdef\u001b[0m \u001b[0m__len__\u001b[0m\u001b[1;33m(\u001b[0m\u001b[0mself\u001b[0m\u001b[1;33m)\u001b[0m\u001b[1;33m:\u001b[0m\u001b[1;33m\u001b[0m\u001b[0m\n",
      "\u001b[0;32mC:\\Users\\ANTONIS\\Anaconda3\\lib\\site-packages\\sklearn\\model_selection\\_validation.py\u001b[0m in \u001b[0;36m_fit_and_score\u001b[0;34m(estimator, X, y, scorer, train, test, verbose, parameters, fit_params, return_train_score, return_parameters, return_n_test_samples, return_times, error_score)\u001b[0m\n\u001b[1;32m    236\u001b[0m             \u001b[0mestimator\u001b[0m\u001b[1;33m.\u001b[0m\u001b[0mfit\u001b[0m\u001b[1;33m(\u001b[0m\u001b[0mX_train\u001b[0m\u001b[1;33m,\u001b[0m \u001b[1;33m**\u001b[0m\u001b[0mfit_params\u001b[0m\u001b[1;33m)\u001b[0m\u001b[1;33m\u001b[0m\u001b[0m\n\u001b[1;32m    237\u001b[0m         \u001b[1;32melse\u001b[0m\u001b[1;33m:\u001b[0m\u001b[1;33m\u001b[0m\u001b[0m\n\u001b[0;32m--> 238\u001b[0;31m             \u001b[0mestimator\u001b[0m\u001b[1;33m.\u001b[0m\u001b[0mfit\u001b[0m\u001b[1;33m(\u001b[0m\u001b[0mX_train\u001b[0m\u001b[1;33m,\u001b[0m \u001b[0my_train\u001b[0m\u001b[1;33m,\u001b[0m \u001b[1;33m**\u001b[0m\u001b[0mfit_params\u001b[0m\u001b[1;33m)\u001b[0m\u001b[1;33m\u001b[0m\u001b[0m\n\u001b[0m\u001b[1;32m    239\u001b[0m \u001b[1;33m\u001b[0m\u001b[0m\n\u001b[1;32m    240\u001b[0m     \u001b[1;32mexcept\u001b[0m \u001b[0mException\u001b[0m \u001b[1;32mas\u001b[0m \u001b[0me\u001b[0m\u001b[1;33m:\u001b[0m\u001b[1;33m\u001b[0m\u001b[0m\n",
      "\u001b[0;32mC:\\Users\\ANTONIS\\Anaconda3\\lib\\site-packages\\sklearn\\ensemble\\forest.py\u001b[0m in \u001b[0;36mfit\u001b[0;34m(self, X, y, sample_weight)\u001b[0m\n\u001b[1;32m    324\u001b[0m                     \u001b[0mt\u001b[0m\u001b[1;33m,\u001b[0m \u001b[0mself\u001b[0m\u001b[1;33m,\u001b[0m \u001b[0mX\u001b[0m\u001b[1;33m,\u001b[0m \u001b[0my\u001b[0m\u001b[1;33m,\u001b[0m \u001b[0msample_weight\u001b[0m\u001b[1;33m,\u001b[0m \u001b[0mi\u001b[0m\u001b[1;33m,\u001b[0m \u001b[0mlen\u001b[0m\u001b[1;33m(\u001b[0m\u001b[0mtrees\u001b[0m\u001b[1;33m)\u001b[0m\u001b[1;33m,\u001b[0m\u001b[1;33m\u001b[0m\u001b[0m\n\u001b[1;32m    325\u001b[0m                     verbose=self.verbose, class_weight=self.class_weight)\n\u001b[0;32m--> 326\u001b[0;31m                 for i, t in enumerate(trees))\n\u001b[0m\u001b[1;32m    327\u001b[0m \u001b[1;33m\u001b[0m\u001b[0m\n\u001b[1;32m    328\u001b[0m             \u001b[1;31m# Collect newly grown trees\u001b[0m\u001b[1;33m\u001b[0m\u001b[1;33m\u001b[0m\u001b[0m\n",
      "\u001b[0;32mC:\\Users\\ANTONIS\\Anaconda3\\lib\\site-packages\\sklearn\\externals\\joblib\\parallel.py\u001b[0m in \u001b[0;36m__call__\u001b[0;34m(self, iterable)\u001b[0m\n\u001b[1;32m    766\u001b[0m                 \u001b[1;31m# consumption.\u001b[0m\u001b[1;33m\u001b[0m\u001b[1;33m\u001b[0m\u001b[0m\n\u001b[1;32m    767\u001b[0m                 \u001b[0mself\u001b[0m\u001b[1;33m.\u001b[0m\u001b[0m_iterating\u001b[0m \u001b[1;33m=\u001b[0m \u001b[1;32mFalse\u001b[0m\u001b[1;33m\u001b[0m\u001b[0m\n\u001b[0;32m--> 768\u001b[0;31m             \u001b[0mself\u001b[0m\u001b[1;33m.\u001b[0m\u001b[0mretrieve\u001b[0m\u001b[1;33m(\u001b[0m\u001b[1;33m)\u001b[0m\u001b[1;33m\u001b[0m\u001b[0m\n\u001b[0m\u001b[1;32m    769\u001b[0m             \u001b[1;31m# Make sure that we get a last message telling us we are done\u001b[0m\u001b[1;33m\u001b[0m\u001b[1;33m\u001b[0m\u001b[0m\n\u001b[1;32m    770\u001b[0m             \u001b[0melapsed_time\u001b[0m \u001b[1;33m=\u001b[0m \u001b[0mtime\u001b[0m\u001b[1;33m.\u001b[0m\u001b[0mtime\u001b[0m\u001b[1;33m(\u001b[0m\u001b[1;33m)\u001b[0m \u001b[1;33m-\u001b[0m \u001b[0mself\u001b[0m\u001b[1;33m.\u001b[0m\u001b[0m_start_time\u001b[0m\u001b[1;33m\u001b[0m\u001b[0m\n",
      "\u001b[0;32mC:\\Users\\ANTONIS\\Anaconda3\\lib\\site-packages\\sklearn\\externals\\joblib\\parallel.py\u001b[0m in \u001b[0;36mretrieve\u001b[0;34m(self)\u001b[0m\n\u001b[1;32m    717\u001b[0m                     \u001b[0mensure_ready\u001b[0m \u001b[1;33m=\u001b[0m \u001b[0mself\u001b[0m\u001b[1;33m.\u001b[0m\u001b[0m_managed_backend\u001b[0m\u001b[1;33m\u001b[0m\u001b[0m\n\u001b[1;32m    718\u001b[0m                     \u001b[0mbackend\u001b[0m\u001b[1;33m.\u001b[0m\u001b[0mabort_everything\u001b[0m\u001b[1;33m(\u001b[0m\u001b[0mensure_ready\u001b[0m\u001b[1;33m=\u001b[0m\u001b[0mensure_ready\u001b[0m\u001b[1;33m)\u001b[0m\u001b[1;33m\u001b[0m\u001b[0m\n\u001b[0;32m--> 719\u001b[0;31m                 \u001b[1;32mraise\u001b[0m \u001b[0mexception\u001b[0m\u001b[1;33m\u001b[0m\u001b[0m\n\u001b[0m\u001b[1;32m    720\u001b[0m \u001b[1;33m\u001b[0m\u001b[0m\n\u001b[1;32m    721\u001b[0m     \u001b[1;32mdef\u001b[0m \u001b[0m__call__\u001b[0m\u001b[1;33m(\u001b[0m\u001b[0mself\u001b[0m\u001b[1;33m,\u001b[0m \u001b[0miterable\u001b[0m\u001b[1;33m)\u001b[0m\u001b[1;33m:\u001b[0m\u001b[1;33m\u001b[0m\u001b[0m\n",
      "\u001b[0;31mJoblibKeyError\u001b[0m: JoblibKeyError\n___________________________________________________________________________\nMultiprocessing exception:\n...........................................................................\nC:\\Users\\ANTONIS\\Anaconda3\\lib\\runpy.py in _run_module_as_main(mod_name='ipykernel.__main__', alter_argv=1)\n    179         sys.exit(msg)\n    180     main_globals = sys.modules[\"__main__\"].__dict__\n    181     if alter_argv:\n    182         sys.argv[0] = mod_spec.origin\n    183     return _run_code(code, main_globals, None,\n--> 184                      \"__main__\", mod_spec)\n        mod_spec = ModuleSpec(name='ipykernel.__main__', loader=<_f...da3\\\\lib\\\\site-packages\\\\ipykernel\\\\__main__.py')\n    185 \n    186 def run_module(mod_name, init_globals=None,\n    187                run_name=None, alter_sys=False):\n    188     \"\"\"Execute a module's code without importing it\n\n...........................................................................\nC:\\Users\\ANTONIS\\Anaconda3\\lib\\runpy.py in _run_code(code=<code object <module> at 0x0000018D61B4C9C0, fil...lib\\site-packages\\ipykernel\\__main__.py\", line 1>, run_globals={'__builtins__': <module 'builtins' (built-in)>, '__cached__': r'C:\\Users\\ANTONIS\\Anaconda3\\lib\\site-packages\\ipykernel\\__pycache__\\__main__.cpython-35.pyc', '__doc__': None, '__file__': r'C:\\Users\\ANTONIS\\Anaconda3\\lib\\site-packages\\ipykernel\\__main__.py', '__loader__': <_frozen_importlib_external.SourceFileLoader object>, '__name__': '__main__', '__package__': 'ipykernel', '__spec__': ModuleSpec(name='ipykernel.__main__', loader=<_f...da3\\\\lib\\\\site-packages\\\\ipykernel\\\\__main__.py'), 'app': <module 'ipykernel.kernelapp' from 'C:\\\\Users\\\\A...a3\\\\lib\\\\site-packages\\\\ipykernel\\\\kernelapp.py'>}, init_globals=None, mod_name='__main__', mod_spec=ModuleSpec(name='ipykernel.__main__', loader=<_f...da3\\\\lib\\\\site-packages\\\\ipykernel\\\\__main__.py'), pkg_name='ipykernel', script_name=None)\n     80                        __cached__ = cached,\n     81                        __doc__ = None,\n     82                        __loader__ = loader,\n     83                        __package__ = pkg_name,\n     84                        __spec__ = mod_spec)\n---> 85     exec(code, run_globals)\n        code = <code object <module> at 0x0000018D61B4C9C0, fil...lib\\site-packages\\ipykernel\\__main__.py\", line 1>\n        run_globals = {'__builtins__': <module 'builtins' (built-in)>, '__cached__': r'C:\\Users\\ANTONIS\\Anaconda3\\lib\\site-packages\\ipykernel\\__pycache__\\__main__.cpython-35.pyc', '__doc__': None, '__file__': r'C:\\Users\\ANTONIS\\Anaconda3\\lib\\site-packages\\ipykernel\\__main__.py', '__loader__': <_frozen_importlib_external.SourceFileLoader object>, '__name__': '__main__', '__package__': 'ipykernel', '__spec__': ModuleSpec(name='ipykernel.__main__', loader=<_f...da3\\\\lib\\\\site-packages\\\\ipykernel\\\\__main__.py'), 'app': <module 'ipykernel.kernelapp' from 'C:\\\\Users\\\\A...a3\\\\lib\\\\site-packages\\\\ipykernel\\\\kernelapp.py'>}\n     86     return run_globals\n     87 \n     88 def _run_module_code(code, init_globals=None,\n     89                     mod_name=None, mod_spec=None,\n\n...........................................................................\nC:\\Users\\ANTONIS\\Anaconda3\\lib\\site-packages\\ipykernel\\__main__.py in <module>()\n      1 \n      2 \n----> 3 \n      4 if __name__ == '__main__':\n      5     from ipykernel import kernelapp as app\n      6     app.launch_new_instance()\n      7 \n      8 \n      9 \n     10 \n\n...........................................................................\nC:\\Users\\ANTONIS\\Anaconda3\\lib\\site-packages\\traitlets\\config\\application.py in launch_instance(cls=<class 'ipykernel.kernelapp.IPKernelApp'>, argv=None, **kwargs={})\n    648 \n    649         If a global instance already exists, this reinitializes and starts it\n    650         \"\"\"\n    651         app = cls.instance(**kwargs)\n    652         app.initialize(argv)\n--> 653         app.start()\n        app.start = <bound method IPKernelApp.start of <ipykernel.kernelapp.IPKernelApp object>>\n    654 \n    655 #-----------------------------------------------------------------------------\n    656 # utility functions, for convenience\n    657 #-----------------------------------------------------------------------------\n\n...........................................................................\nC:\\Users\\ANTONIS\\Anaconda3\\lib\\site-packages\\ipykernel\\kernelapp.py in start(self=<ipykernel.kernelapp.IPKernelApp object>)\n    469             return self.subapp.start()\n    470         if self.poller is not None:\n    471             self.poller.start()\n    472         self.kernel.start()\n    473         try:\n--> 474             ioloop.IOLoop.instance().start()\n    475         except KeyboardInterrupt:\n    476             pass\n    477 \n    478 launch_new_instance = IPKernelApp.launch_instance\n\n...........................................................................\nC:\\Users\\ANTONIS\\Anaconda3\\lib\\site-packages\\zmq\\eventloop\\ioloop.py in start(self=<zmq.eventloop.ioloop.ZMQIOLoop object>)\n    157             PollIOLoop.configure(ZMQIOLoop)\n    158         return PollIOLoop.current(*args, **kwargs)\n    159     \n    160     def start(self):\n    161         try:\n--> 162             super(ZMQIOLoop, self).start()\n        self.start = <bound method ZMQIOLoop.start of <zmq.eventloop.ioloop.ZMQIOLoop object>>\n    163         except ZMQError as e:\n    164             if e.errno == ETERM:\n    165                 # quietly return on ETERM\n    166                 pass\n\n...........................................................................\nC:\\Users\\ANTONIS\\Anaconda3\\lib\\site-packages\\tornado\\ioloop.py in start(self=<zmq.eventloop.ioloop.ZMQIOLoop object>)\n    882                 self._events.update(event_pairs)\n    883                 while self._events:\n    884                     fd, events = self._events.popitem()\n    885                     try:\n    886                         fd_obj, handler_func = self._handlers[fd]\n--> 887                         handler_func(fd_obj, events)\n        handler_func = <function wrap.<locals>.null_wrapper>\n        fd_obj = <zmq.sugar.socket.Socket object>\n        events = 1\n    888                     except (OSError, IOError) as e:\n    889                         if errno_from_exception(e) == errno.EPIPE:\n    890                             # Happens when the client closes the connection\n    891                             pass\n\n...........................................................................\nC:\\Users\\ANTONIS\\Anaconda3\\lib\\site-packages\\tornado\\stack_context.py in null_wrapper(*args=(<zmq.sugar.socket.Socket object>, 1), **kwargs={})\n    270         # Fast path when there are no active contexts.\n    271         def null_wrapper(*args, **kwargs):\n    272             try:\n    273                 current_state = _state.contexts\n    274                 _state.contexts = cap_contexts[0]\n--> 275                 return fn(*args, **kwargs)\n        args = (<zmq.sugar.socket.Socket object>, 1)\n        kwargs = {}\n    276             finally:\n    277                 _state.contexts = current_state\n    278         null_wrapper._wrapped = True\n    279         return null_wrapper\n\n...........................................................................\nC:\\Users\\ANTONIS\\Anaconda3\\lib\\site-packages\\zmq\\eventloop\\zmqstream.py in _handle_events(self=<zmq.eventloop.zmqstream.ZMQStream object>, fd=<zmq.sugar.socket.Socket object>, events=1)\n    435             # dispatch events:\n    436             if events & IOLoop.ERROR:\n    437                 gen_log.error(\"got POLLERR event on ZMQStream, which doesn't make sense\")\n    438                 return\n    439             if events & IOLoop.READ:\n--> 440                 self._handle_recv()\n        self._handle_recv = <bound method ZMQStream._handle_recv of <zmq.eventloop.zmqstream.ZMQStream object>>\n    441                 if not self.socket:\n    442                     return\n    443             if events & IOLoop.WRITE:\n    444                 self._handle_send()\n\n...........................................................................\nC:\\Users\\ANTONIS\\Anaconda3\\lib\\site-packages\\zmq\\eventloop\\zmqstream.py in _handle_recv(self=<zmq.eventloop.zmqstream.ZMQStream object>)\n    467                 gen_log.error(\"RECV Error: %s\"%zmq.strerror(e.errno))\n    468         else:\n    469             if self._recv_callback:\n    470                 callback = self._recv_callback\n    471                 # self._recv_callback = None\n--> 472                 self._run_callback(callback, msg)\n        self._run_callback = <bound method ZMQStream._run_callback of <zmq.eventloop.zmqstream.ZMQStream object>>\n        callback = <function wrap.<locals>.null_wrapper>\n        msg = [<zmq.sugar.frame.Frame object>, <zmq.sugar.frame.Frame object>, <zmq.sugar.frame.Frame object>, <zmq.sugar.frame.Frame object>, <zmq.sugar.frame.Frame object>, <zmq.sugar.frame.Frame object>, <zmq.sugar.frame.Frame object>]\n    473                 \n    474         # self.update_state()\n    475         \n    476 \n\n...........................................................................\nC:\\Users\\ANTONIS\\Anaconda3\\lib\\site-packages\\zmq\\eventloop\\zmqstream.py in _run_callback(self=<zmq.eventloop.zmqstream.ZMQStream object>, callback=<function wrap.<locals>.null_wrapper>, *args=([<zmq.sugar.frame.Frame object>, <zmq.sugar.frame.Frame object>, <zmq.sugar.frame.Frame object>, <zmq.sugar.frame.Frame object>, <zmq.sugar.frame.Frame object>, <zmq.sugar.frame.Frame object>, <zmq.sugar.frame.Frame object>],), **kwargs={})\n    409         close our socket.\"\"\"\n    410         try:\n    411             # Use a NullContext to ensure that all StackContexts are run\n    412             # inside our blanket exception handler rather than outside.\n    413             with stack_context.NullContext():\n--> 414                 callback(*args, **kwargs)\n        callback = <function wrap.<locals>.null_wrapper>\n        args = ([<zmq.sugar.frame.Frame object>, <zmq.sugar.frame.Frame object>, <zmq.sugar.frame.Frame object>, <zmq.sugar.frame.Frame object>, <zmq.sugar.frame.Frame object>, <zmq.sugar.frame.Frame object>, <zmq.sugar.frame.Frame object>],)\n        kwargs = {}\n    415         except:\n    416             gen_log.error(\"Uncaught exception, closing connection.\",\n    417                           exc_info=True)\n    418             # Close the socket on an uncaught exception from a user callback\n\n...........................................................................\nC:\\Users\\ANTONIS\\Anaconda3\\lib\\site-packages\\tornado\\stack_context.py in null_wrapper(*args=([<zmq.sugar.frame.Frame object>, <zmq.sugar.frame.Frame object>, <zmq.sugar.frame.Frame object>, <zmq.sugar.frame.Frame object>, <zmq.sugar.frame.Frame object>, <zmq.sugar.frame.Frame object>, <zmq.sugar.frame.Frame object>],), **kwargs={})\n    270         # Fast path when there are no active contexts.\n    271         def null_wrapper(*args, **kwargs):\n    272             try:\n    273                 current_state = _state.contexts\n    274                 _state.contexts = cap_contexts[0]\n--> 275                 return fn(*args, **kwargs)\n        args = ([<zmq.sugar.frame.Frame object>, <zmq.sugar.frame.Frame object>, <zmq.sugar.frame.Frame object>, <zmq.sugar.frame.Frame object>, <zmq.sugar.frame.Frame object>, <zmq.sugar.frame.Frame object>, <zmq.sugar.frame.Frame object>],)\n        kwargs = {}\n    276             finally:\n    277                 _state.contexts = current_state\n    278         null_wrapper._wrapped = True\n    279         return null_wrapper\n\n...........................................................................\nC:\\Users\\ANTONIS\\Anaconda3\\lib\\site-packages\\ipykernel\\kernelbase.py in dispatcher(msg=[<zmq.sugar.frame.Frame object>, <zmq.sugar.frame.Frame object>, <zmq.sugar.frame.Frame object>, <zmq.sugar.frame.Frame object>, <zmq.sugar.frame.Frame object>, <zmq.sugar.frame.Frame object>, <zmq.sugar.frame.Frame object>])\n    271         if self.control_stream:\n    272             self.control_stream.on_recv(self.dispatch_control, copy=False)\n    273 \n    274         def make_dispatcher(stream):\n    275             def dispatcher(msg):\n--> 276                 return self.dispatch_shell(stream, msg)\n        msg = [<zmq.sugar.frame.Frame object>, <zmq.sugar.frame.Frame object>, <zmq.sugar.frame.Frame object>, <zmq.sugar.frame.Frame object>, <zmq.sugar.frame.Frame object>, <zmq.sugar.frame.Frame object>, <zmq.sugar.frame.Frame object>]\n    277             return dispatcher\n    278 \n    279         for s in self.shell_streams:\n    280             s.on_recv(make_dispatcher(s), copy=False)\n\n...........................................................................\nC:\\Users\\ANTONIS\\Anaconda3\\lib\\site-packages\\ipykernel\\kernelbase.py in dispatch_shell(self=<ipykernel.ipkernel.IPythonKernel object>, stream=<zmq.eventloop.zmqstream.ZMQStream object>, msg={'buffers': [], 'content': {'allow_stdin': True, 'code': 'RMSE  = make_scorer(fmean_squared_error, greater...ning, yTraining)\\n\\nyPredict6 = gsv.predict(xtest)\\n', 'silent': False, 'stop_on_error': True, 'store_history': True, 'user_expressions': {}}, 'header': {'date': '2017-03-20T09:50:56.683786', 'msg_id': 'FB62D5AC24BA49AA8F660210605CE675', 'msg_type': 'execute_request', 'session': 'ED02A19CD76648828E0088B093DA9F82', 'username': 'username', 'version': '5.0'}, 'metadata': {}, 'msg_id': 'FB62D5AC24BA49AA8F660210605CE675', 'msg_type': 'execute_request', 'parent_header': {}})\n    223             self.log.error(\"UNKNOWN MESSAGE TYPE: %r\", msg_type)\n    224         else:\n    225             self.log.debug(\"%s: %s\", msg_type, msg)\n    226             self.pre_handler_hook()\n    227             try:\n--> 228                 handler(stream, idents, msg)\n        handler = <bound method Kernel.execute_request of <ipykernel.ipkernel.IPythonKernel object>>\n        stream = <zmq.eventloop.zmqstream.ZMQStream object>\n        idents = [b'ED02A19CD76648828E0088B093DA9F82']\n        msg = {'buffers': [], 'content': {'allow_stdin': True, 'code': 'RMSE  = make_scorer(fmean_squared_error, greater...ning, yTraining)\\n\\nyPredict6 = gsv.predict(xtest)\\n', 'silent': False, 'stop_on_error': True, 'store_history': True, 'user_expressions': {}}, 'header': {'date': '2017-03-20T09:50:56.683786', 'msg_id': 'FB62D5AC24BA49AA8F660210605CE675', 'msg_type': 'execute_request', 'session': 'ED02A19CD76648828E0088B093DA9F82', 'username': 'username', 'version': '5.0'}, 'metadata': {}, 'msg_id': 'FB62D5AC24BA49AA8F660210605CE675', 'msg_type': 'execute_request', 'parent_header': {}}\n    229             except Exception:\n    230                 self.log.error(\"Exception in message handler:\", exc_info=True)\n    231             finally:\n    232                 self.post_handler_hook()\n\n...........................................................................\nC:\\Users\\ANTONIS\\Anaconda3\\lib\\site-packages\\ipykernel\\kernelbase.py in execute_request(self=<ipykernel.ipkernel.IPythonKernel object>, stream=<zmq.eventloop.zmqstream.ZMQStream object>, ident=[b'ED02A19CD76648828E0088B093DA9F82'], parent={'buffers': [], 'content': {'allow_stdin': True, 'code': 'RMSE  = make_scorer(fmean_squared_error, greater...ning, yTraining)\\n\\nyPredict6 = gsv.predict(xtest)\\n', 'silent': False, 'stop_on_error': True, 'store_history': True, 'user_expressions': {}}, 'header': {'date': '2017-03-20T09:50:56.683786', 'msg_id': 'FB62D5AC24BA49AA8F660210605CE675', 'msg_type': 'execute_request', 'session': 'ED02A19CD76648828E0088B093DA9F82', 'username': 'username', 'version': '5.0'}, 'metadata': {}, 'msg_id': 'FB62D5AC24BA49AA8F660210605CE675', 'msg_type': 'execute_request', 'parent_header': {}})\n    385         if not silent:\n    386             self.execution_count += 1\n    387             self._publish_execute_input(code, parent, self.execution_count)\n    388 \n    389         reply_content = self.do_execute(code, silent, store_history,\n--> 390                                         user_expressions, allow_stdin)\n        user_expressions = {}\n        allow_stdin = True\n    391 \n    392         # Flush output before sending the reply.\n    393         sys.stdout.flush()\n    394         sys.stderr.flush()\n\n...........................................................................\nC:\\Users\\ANTONIS\\Anaconda3\\lib\\site-packages\\ipykernel\\ipkernel.py in do_execute(self=<ipykernel.ipkernel.IPythonKernel object>, code='RMSE  = make_scorer(fmean_squared_error, greater...ning, yTraining)\\n\\nyPredict6 = gsv.predict(xtest)\\n', silent=False, store_history=True, user_expressions={}, allow_stdin=True)\n    191 \n    192         self._forward_input(allow_stdin)\n    193 \n    194         reply_content = {}\n    195         try:\n--> 196             res = shell.run_cell(code, store_history=store_history, silent=silent)\n        res = undefined\n        shell.run_cell = <bound method ZMQInteractiveShell.run_cell of <ipykernel.zmqshell.ZMQInteractiveShell object>>\n        code = 'RMSE  = make_scorer(fmean_squared_error, greater...ning, yTraining)\\n\\nyPredict6 = gsv.predict(xtest)\\n'\n        store_history = True\n        silent = False\n    197         finally:\n    198             self._restore_input()\n    199 \n    200         if res.error_before_exec is not None:\n\n...........................................................................\nC:\\Users\\ANTONIS\\Anaconda3\\lib\\site-packages\\ipykernel\\zmqshell.py in run_cell(self=<ipykernel.zmqshell.ZMQInteractiveShell object>, *args=('RMSE  = make_scorer(fmean_squared_error, greater...ning, yTraining)\\n\\nyPredict6 = gsv.predict(xtest)\\n',), **kwargs={'silent': False, 'store_history': True})\n    496             )\n    497         self.payload_manager.write_payload(payload)\n    498 \n    499     def run_cell(self, *args, **kwargs):\n    500         self._last_traceback = None\n--> 501         return super(ZMQInteractiveShell, self).run_cell(*args, **kwargs)\n        self.run_cell = <bound method ZMQInteractiveShell.run_cell of <ipykernel.zmqshell.ZMQInteractiveShell object>>\n        args = ('RMSE  = make_scorer(fmean_squared_error, greater...ning, yTraining)\\n\\nyPredict6 = gsv.predict(xtest)\\n',)\n        kwargs = {'silent': False, 'store_history': True}\n    502 \n    503     def _showtraceback(self, etype, evalue, stb):\n    504         # try to preserve ordering of tracebacks and print statements\n    505         sys.stdout.flush()\n\n...........................................................................\nC:\\Users\\ANTONIS\\Anaconda3\\lib\\site-packages\\IPython\\core\\interactiveshell.py in run_cell(self=<ipykernel.zmqshell.ZMQInteractiveShell object>, raw_cell='RMSE  = make_scorer(fmean_squared_error, greater...ning, yTraining)\\n\\nyPredict6 = gsv.predict(xtest)\\n', store_history=True, silent=False, shell_futures=True)\n   2712                 self.displayhook.exec_result = result\n   2713 \n   2714                 # Execute the user code\n   2715                 interactivity = \"none\" if silent else self.ast_node_interactivity\n   2716                 has_raised = self.run_ast_nodes(code_ast.body, cell_name,\n-> 2717                    interactivity=interactivity, compiler=compiler, result=result)\n        interactivity = 'last_expr'\n        compiler = <IPython.core.compilerop.CachingCompiler object>\n   2718                 \n   2719                 self.last_execution_succeeded = not has_raised\n   2720 \n   2721                 # Reset this so later displayed values do not modify the\n\n...........................................................................\nC:\\Users\\ANTONIS\\Anaconda3\\lib\\site-packages\\IPython\\core\\interactiveshell.py in run_ast_nodes(self=<ipykernel.zmqshell.ZMQInteractiveShell object>, nodelist=[<_ast.Assign object>, <_ast.Assign object>, <_ast.Assign object>, <_ast.Assign object>, <_ast.Expr object>, <_ast.Assign object>], cell_name='<ipython-input-103-fe9b6601246a>', interactivity='none', compiler=<IPython.core.compilerop.CachingCompiler object>, result=<ExecutionResult object at 18d6a2f9ac8, executio..._before_exec=None error_in_exec=None result=None>)\n   2816 \n   2817         try:\n   2818             for i, node in enumerate(to_run_exec):\n   2819                 mod = ast.Module([node])\n   2820                 code = compiler(mod, cell_name, \"exec\")\n-> 2821                 if self.run_code(code, result):\n        self.run_code = <bound method InteractiveShell.run_code of <ipykernel.zmqshell.ZMQInteractiveShell object>>\n        code = <code object <module> at 0x0000018D7A3D9660, file \"<ipython-input-103-fe9b6601246a>\", line 12>\n        result = <ExecutionResult object at 18d6a2f9ac8, executio..._before_exec=None error_in_exec=None result=None>\n   2822                     return True\n   2823 \n   2824             for i, node in enumerate(to_run_interactive):\n   2825                 mod = ast.Interactive([node])\n\n...........................................................................\nC:\\Users\\ANTONIS\\Anaconda3\\lib\\site-packages\\IPython\\core\\interactiveshell.py in run_code(self=<ipykernel.zmqshell.ZMQInteractiveShell object>, code_obj=<code object <module> at 0x0000018D7A3D9660, file \"<ipython-input-103-fe9b6601246a>\", line 12>, result=<ExecutionResult object at 18d6a2f9ac8, executio..._before_exec=None error_in_exec=None result=None>)\n   2876         outflag = 1  # happens in more places, so it's easier as default\n   2877         try:\n   2878             try:\n   2879                 self.hooks.pre_run_code_hook()\n   2880                 #rprint('Running code', repr(code_obj)) # dbg\n-> 2881                 exec(code_obj, self.user_global_ns, self.user_ns)\n        code_obj = <code object <module> at 0x0000018D7A3D9660, file \"<ipython-input-103-fe9b6601246a>\", line 12>\n        self.user_global_ns = {'DataSet': <class '__main__.DataSet'>, 'DecisionTreeRegressor': <class 'sklearn.tree.tree.DecisionTreeRegressor'>, 'GaussianNB': <class 'sklearn.naive_bayes.GaussianNB'>, 'GridSearchCV': <class 'sklearn.model_selection._search.GridSearchCV'>, 'In': ['', 'from sklearn import linear_model\\nfrom sklearn.mo...predictions)**0.5\\n    return fmean_squared_error_', \"path = 'C:\\\\\\\\Users\\\\\\\\ANTONIS\\\\\\\\Desktop\\\\\\\\test1\\\\\\\\' #b...estPatient.txt')\\nwrite.writeSnpsList(chromosomes)\", \"\\nsnps = read.getListOfSnps()\\nids = {} \\nidsTest =...tientsTest.keys()))\\nidsTest['snps'] = ids['snps']\", \"trainSet = DataSet(patientsTrain,ids)\\ntestSet = ...write.saveData(idsTest,patientsTest,'Test',xTest)\", 'count = 0\\n\\nfor patient in patientsTrain.keys():\\n...rint(\"count1 = \",count1)\\nprint(\"coun2 = \",count2)', '\\nrfr = RandomForestRegressor(n_estimators = 500,...transform(xTraining)\\nxtest = rfr.transform(xTest)', 'print(xTraining.shape)\\nprint(mergeXtable.shape)\\nprint(xtraining.shape)\\nprint(xtest.shape)', 'rfr.fit(xTraining, yTraining)\\nyPredict3 = rfr.pr..._val_score(rfr, mergeXtable, mergeYtable, cv=10))', 'rfr.fit(xTraining, yTraining)\\nyPredict3 = rfr.pr..._val_score(rfr, mergeXtable, mergeYtable, cv=10))', 'rfr.fit(xtraining, yTraining)\\nyPredict3 = rfr.pr..._val_score(rfr, mergeXtable, mergeYtable, cv=10))', '\\n\\nregr = linear_model.LinearRegression()\\nregr.fi...ining, yTraining)\\nyPredict1 = regr.predict(xTest)', 'count = 0\\nfor i in range(len(yPredict1)):\\n    co...val_score(regr, mergeXtable, mergeYtable, cv=10))', '\\n\\nregr = linear_model.LinearRegression()\\nregr.fi...ining, yTraining)\\nyPredict1 = regr.predict(xTest)', 'count = 0\\nfor i in range(len(yPredict1)):\\n    co...val_score(regr, mergeXtable, mergeYtable, cv=10))', '\\n\\nregr = linear_model.LinearRegression()\\nregr.fi...ining, yTraining)\\nyPredict1 = regr.predict(xTest)', 'sd = np.std(yPredict1)', 'count = 0\\nfor i in range(len(yPredict1)):\\n    co...val_score(regr, mergeXtable, mergeYtable, cv=10))', 'print(mo)\\nprint(sd)', '\\n\\nregr = linear_model.LinearRegression()\\nregr.fi...ining, yTraining)\\nyPredict1 = regr.predict(xTest)', ...], 'Out': {54: 0.48275862068965519}, 'PatientPhenotype': <class '__main__.PatientPhenotype'>, 'RMSE': make_scorer(fmean_squared_error, greater_is_better=False), 'RMSE1': 0.72693706742743558, 'RMSE2': 0.37123106012293744, ...}\n        self.user_ns = {'DataSet': <class '__main__.DataSet'>, 'DecisionTreeRegressor': <class 'sklearn.tree.tree.DecisionTreeRegressor'>, 'GaussianNB': <class 'sklearn.naive_bayes.GaussianNB'>, 'GridSearchCV': <class 'sklearn.model_selection._search.GridSearchCV'>, 'In': ['', 'from sklearn import linear_model\\nfrom sklearn.mo...predictions)**0.5\\n    return fmean_squared_error_', \"path = 'C:\\\\\\\\Users\\\\\\\\ANTONIS\\\\\\\\Desktop\\\\\\\\test1\\\\\\\\' #b...estPatient.txt')\\nwrite.writeSnpsList(chromosomes)\", \"\\nsnps = read.getListOfSnps()\\nids = {} \\nidsTest =...tientsTest.keys()))\\nidsTest['snps'] = ids['snps']\", \"trainSet = DataSet(patientsTrain,ids)\\ntestSet = ...write.saveData(idsTest,patientsTest,'Test',xTest)\", 'count = 0\\n\\nfor patient in patientsTrain.keys():\\n...rint(\"count1 = \",count1)\\nprint(\"coun2 = \",count2)', '\\nrfr = RandomForestRegressor(n_estimators = 500,...transform(xTraining)\\nxtest = rfr.transform(xTest)', 'print(xTraining.shape)\\nprint(mergeXtable.shape)\\nprint(xtraining.shape)\\nprint(xtest.shape)', 'rfr.fit(xTraining, yTraining)\\nyPredict3 = rfr.pr..._val_score(rfr, mergeXtable, mergeYtable, cv=10))', 'rfr.fit(xTraining, yTraining)\\nyPredict3 = rfr.pr..._val_score(rfr, mergeXtable, mergeYtable, cv=10))', 'rfr.fit(xtraining, yTraining)\\nyPredict3 = rfr.pr..._val_score(rfr, mergeXtable, mergeYtable, cv=10))', '\\n\\nregr = linear_model.LinearRegression()\\nregr.fi...ining, yTraining)\\nyPredict1 = regr.predict(xTest)', 'count = 0\\nfor i in range(len(yPredict1)):\\n    co...val_score(regr, mergeXtable, mergeYtable, cv=10))', '\\n\\nregr = linear_model.LinearRegression()\\nregr.fi...ining, yTraining)\\nyPredict1 = regr.predict(xTest)', 'count = 0\\nfor i in range(len(yPredict1)):\\n    co...val_score(regr, mergeXtable, mergeYtable, cv=10))', '\\n\\nregr = linear_model.LinearRegression()\\nregr.fi...ining, yTraining)\\nyPredict1 = regr.predict(xTest)', 'sd = np.std(yPredict1)', 'count = 0\\nfor i in range(len(yPredict1)):\\n    co...val_score(regr, mergeXtable, mergeYtable, cv=10))', 'print(mo)\\nprint(sd)', '\\n\\nregr = linear_model.LinearRegression()\\nregr.fi...ining, yTraining)\\nyPredict1 = regr.predict(xTest)', ...], 'Out': {54: 0.48275862068965519}, 'PatientPhenotype': <class '__main__.PatientPhenotype'>, 'RMSE': make_scorer(fmean_squared_error, greater_is_better=False), 'RMSE1': 0.72693706742743558, 'RMSE2': 0.37123106012293744, ...}\n   2882             finally:\n   2883                 # Reset our crash handler in place\n   2884                 sys.excepthook = old_excepthook\n   2885         except SystemExit as e:\n\n...........................................................................\nC:\\Users\\ANTONIS\\Documents\\GitHub\\diplwmatikh\\code\\<ipython-input-103-fe9b6601246a> in <module>()\n      7              # \"min_samples_leaf\": [1, 3, 10],\n      8               \"bootstrap\": [True, False],\n      9               \"criterion\": [\"gini\", \"entropy\"]}\n     10     \n     11 gsv = GridSearchCV(estimator = rfr, param_grid = parameters, cv = 10, verbose = 2016, scoring=RMSE)\n---> 12 gsv.fit(xtraining, yTraining)\n     13 \n     14 yPredict6 = gsv.predict(xtest)\n     15 \n     16 \n\n...........................................................................\nC:\\Users\\ANTONIS\\Anaconda3\\lib\\site-packages\\sklearn\\model_selection\\_search.py in fit(self=GridSearchCV(cv=10, error_score='raise',\n       ...r, greater_is_better=False),\n       verbose=2016), X=array([[0, 0, 0, ..., 0, 0, 0],\n       [0, 0, 2,..., ..., 0, 0, 0],\n       [0, 0, 0, ..., 0, 0, 0]]), y=array([0, 0, 0, ..., 0, 0, 0]), groups=None)\n    940 \n    941         groups : array-like, with shape (n_samples,), optional\n    942             Group labels for the samples used while splitting the dataset into\n    943             train/test set.\n    944         \"\"\"\n--> 945         return self._fit(X, y, groups, ParameterGrid(self.param_grid))\n        self._fit = <bound method BaseSearchCV._fit of GridSearchCV(..., greater_is_better=False),\n       verbose=2016)>\n        X = array([[0, 0, 0, ..., 0, 0, 0],\n       [0, 0, 2,..., ..., 0, 0, 0],\n       [0, 0, 0, ..., 0, 0, 0]])\n        y = array([0, 0, 0, ..., 0, 0, 0])\n        groups = None\n        self.param_grid = {'bootstrap': [True, False], 'criterion': ['gini', 'entropy']}\n    946 \n    947 \n    948 class RandomizedSearchCV(BaseSearchCV):\n    949     \"\"\"Randomized search on hyper parameters.\n\n...........................................................................\nC:\\Users\\ANTONIS\\Anaconda3\\lib\\site-packages\\sklearn\\model_selection\\_search.py in _fit(self=GridSearchCV(cv=10, error_score='raise',\n       ...r, greater_is_better=False),\n       verbose=2016), X=array([[0, 0, 0, ..., 0, 0, 0],\n       [0, 0, 2,..., ..., 0, 0, 0],\n       [0, 0, 0, ..., 0, 0, 0]]), y=array([0, 0, 0, ..., 0, 0, 0]), groups=None, parameter_iterable=<sklearn.model_selection._search.ParameterGrid object>)\n    559                                   fit_params=self.fit_params,\n    560                                   return_train_score=self.return_train_score,\n    561                                   return_n_test_samples=True,\n    562                                   return_times=True, return_parameters=True,\n    563                                   error_score=self.error_score)\n--> 564           for parameters in parameter_iterable\n        parameters = undefined\n        parameter_iterable = <sklearn.model_selection._search.ParameterGrid object>\n    565           for train, test in cv_iter)\n    566 \n    567         # if one choose to see train score, \"out\" will contain train score info\n    568         if self.return_train_score:\n\n...........................................................................\nC:\\Users\\ANTONIS\\Anaconda3\\lib\\site-packages\\sklearn\\externals\\joblib\\parallel.py in __call__(self=Parallel(n_jobs=1), iterable=<generator object BaseSearchCV._fit.<locals>.<genexpr>>)\n    753         self.n_completed_tasks = 0\n    754         try:\n    755             # Only set self._iterating to True if at least a batch\n    756             # was dispatched. In particular this covers the edge\n    757             # case of Parallel used with an exhausted iterator.\n--> 758             while self.dispatch_one_batch(iterator):\n        self.dispatch_one_batch = <bound method Parallel.dispatch_one_batch of Parallel(n_jobs=1)>\n        iterator = <generator object BaseSearchCV._fit.<locals>.<genexpr>>\n    759                 self._iterating = True\n    760             else:\n    761                 self._iterating = False\n    762 \n\n...........................................................................\nC:\\Users\\ANTONIS\\Anaconda3\\lib\\site-packages\\sklearn\\externals\\joblib\\parallel.py in dispatch_one_batch(self=Parallel(n_jobs=1), iterator=<generator object BaseSearchCV._fit.<locals>.<genexpr>>)\n    603             tasks = BatchedCalls(itertools.islice(iterator, batch_size))\n    604             if len(tasks) == 0:\n    605                 # No more tasks available in the iterator: tell caller to stop.\n    606                 return False\n    607             else:\n--> 608                 self._dispatch(tasks)\n        self._dispatch = <bound method Parallel._dispatch of Parallel(n_jobs=1)>\n        tasks = <sklearn.externals.joblib.parallel.BatchedCalls object>\n    609                 return True\n    610 \n    611     def _print(self, msg, msg_args):\n    612         \"\"\"Display the message on stout or stderr depending on verbosity\"\"\"\n\n...........................................................................\nC:\\Users\\ANTONIS\\Anaconda3\\lib\\site-packages\\sklearn\\externals\\joblib\\parallel.py in _dispatch(self=Parallel(n_jobs=1), batch=<sklearn.externals.joblib.parallel.BatchedCalls object>)\n    566         self.n_dispatched_tasks += len(batch)\n    567         self.n_dispatched_batches += 1\n    568 \n    569         dispatch_timestamp = time.time()\n    570         cb = BatchCompletionCallBack(dispatch_timestamp, len(batch), self)\n--> 571         job = self._backend.apply_async(batch, callback=cb)\n        job = undefined\n        self._backend.apply_async = <bound method SequentialBackend.apply_async of <...lib._parallel_backends.SequentialBackend object>>\n        batch = <sklearn.externals.joblib.parallel.BatchedCalls object>\n        cb = <sklearn.externals.joblib.parallel.BatchCompletionCallBack object>\n    572         self._jobs.append(job)\n    573 \n    574     def dispatch_next(self):\n    575         \"\"\"Dispatch more data for parallel processing\n\n...........................................................................\nC:\\Users\\ANTONIS\\Anaconda3\\lib\\site-packages\\sklearn\\externals\\joblib\\_parallel_backends.py in apply_async(self=<sklearn.externals.joblib._parallel_backends.SequentialBackend object>, func=<sklearn.externals.joblib.parallel.BatchedCalls object>, callback=<sklearn.externals.joblib.parallel.BatchCompletionCallBack object>)\n    104             raise ValueError('n_jobs == 0 in Parallel has no meaning')\n    105         return 1\n    106 \n    107     def apply_async(self, func, callback=None):\n    108         \"\"\"Schedule a func to be run\"\"\"\n--> 109         result = ImmediateResult(func)\n        result = undefined\n        func = <sklearn.externals.joblib.parallel.BatchedCalls object>\n    110         if callback:\n    111             callback(result)\n    112         return result\n    113 \n\n...........................................................................\nC:\\Users\\ANTONIS\\Anaconda3\\lib\\site-packages\\sklearn\\externals\\joblib\\_parallel_backends.py in __init__(self=<sklearn.externals.joblib._parallel_backends.ImmediateResult object>, batch=<sklearn.externals.joblib.parallel.BatchedCalls object>)\n    321 \n    322 class ImmediateResult(object):\n    323     def __init__(self, batch):\n    324         # Don't delay the application, to avoid keeping the input\n    325         # arguments in memory\n--> 326         self.results = batch()\n        self.results = undefined\n        batch = <sklearn.externals.joblib.parallel.BatchedCalls object>\n    327 \n    328     def get(self):\n    329         return self.results\n    330 \n\n...........................................................................\nC:\\Users\\ANTONIS\\Anaconda3\\lib\\site-packages\\sklearn\\externals\\joblib\\parallel.py in __call__(self=<sklearn.externals.joblib.parallel.BatchedCalls object>)\n    126     def __init__(self, iterator_slice):\n    127         self.items = list(iterator_slice)\n    128         self._size = len(self.items)\n    129 \n    130     def __call__(self):\n--> 131         return [func(*args, **kwargs) for func, args, kwargs in self.items]\n        self.items = [(<function _fit_and_score>, (RandomForestRegressor(bootstrap=True, criterion=...te=2016,\n           verbose=20, warm_start=False), array([[0, 0, 0, ..., 0, 0, 0],\n       [0, 0, 2,..., ..., 0, 0, 0],\n       [0, 0, 0, ..., 0, 0, 0]]), array([0, 0, 0, ..., 0, 0, 0]), make_scorer(fmean_squared_error, greater_is_better=False), array([ 178,  179,  180, ..., 1777, 1778, 1779]), array([  0,   1,   2,   3,   4,   5,   6,   7,  ...    169, 170, 171, 172, 173, 174, 175, 176, 177]), 2016, {'bootstrap': True, 'criterion': 'gini'}), {'error_score': 'raise', 'fit_params': {}, 'return_n_test_samples': True, 'return_parameters': True, 'return_times': True, 'return_train_score': True})]\n    132 \n    133     def __len__(self):\n    134         return self._size\n    135 \n\n...........................................................................\nC:\\Users\\ANTONIS\\Anaconda3\\lib\\site-packages\\sklearn\\externals\\joblib\\parallel.py in <listcomp>(.0=<list_iterator object>)\n    126     def __init__(self, iterator_slice):\n    127         self.items = list(iterator_slice)\n    128         self._size = len(self.items)\n    129 \n    130     def __call__(self):\n--> 131         return [func(*args, **kwargs) for func, args, kwargs in self.items]\n        func = <function _fit_and_score>\n        args = (RandomForestRegressor(bootstrap=True, criterion=...te=2016,\n           verbose=20, warm_start=False), array([[0, 0, 0, ..., 0, 0, 0],\n       [0, 0, 2,..., ..., 0, 0, 0],\n       [0, 0, 0, ..., 0, 0, 0]]), array([0, 0, 0, ..., 0, 0, 0]), make_scorer(fmean_squared_error, greater_is_better=False), array([ 178,  179,  180, ..., 1777, 1778, 1779]), array([  0,   1,   2,   3,   4,   5,   6,   7,  ...    169, 170, 171, 172, 173, 174, 175, 176, 177]), 2016, {'bootstrap': True, 'criterion': 'gini'})\n        kwargs = {'error_score': 'raise', 'fit_params': {}, 'return_n_test_samples': True, 'return_parameters': True, 'return_times': True, 'return_train_score': True}\n    132 \n    133     def __len__(self):\n    134         return self._size\n    135 \n\n...........................................................................\nC:\\Users\\ANTONIS\\Anaconda3\\lib\\site-packages\\sklearn\\model_selection\\_validation.py in _fit_and_score(estimator=RandomForestRegressor(bootstrap=True, criterion=...te=2016,\n           verbose=20, warm_start=False), X=array([[0, 0, 0, ..., 0, 0, 0],\n       [0, 0, 2,..., ..., 0, 0, 0],\n       [0, 0, 0, ..., 0, 0, 0]]), y=array([0, 0, 0, ..., 0, 0, 0]), scorer=make_scorer(fmean_squared_error, greater_is_better=False), train=array([ 178,  179,  180, ..., 1777, 1778, 1779]), test=array([  0,   1,   2,   3,   4,   5,   6,   7,  ...    169, 170, 171, 172, 173, 174, 175, 176, 177]), verbose=2016, parameters={'bootstrap': True, 'criterion': 'gini'}, fit_params={}, return_train_score=True, return_parameters=True, return_n_test_samples=True, return_times=True, error_score='raise')\n    233 \n    234     try:\n    235         if y_train is None:\n    236             estimator.fit(X_train, **fit_params)\n    237         else:\n--> 238             estimator.fit(X_train, y_train, **fit_params)\n        estimator.fit = <bound method BaseForest.fit of RandomForestRegr...e=2016,\n           verbose=20, warm_start=False)>\n        X_train = array([[0, 0, 0, ..., 0, 1, 0],\n       [0, 0, 1,..., ..., 0, 0, 0],\n       [0, 0, 0, ..., 0, 0, 0]])\n        y_train = array([1, 0, 1, ..., 0, 0, 0])\n        fit_params = {}\n    239 \n    240     except Exception as e:\n    241         # Note fit time as time until error\n    242         fit_time = time.time() - start_time\n\n...........................................................................\nC:\\Users\\ANTONIS\\Anaconda3\\lib\\site-packages\\sklearn\\ensemble\\forest.py in fit(self=RandomForestRegressor(bootstrap=True, criterion=...te=2016,\n           verbose=20, warm_start=False), X=array([[ 0.,  0.,  0., ...,  0.,  1.,  0.],\n    ....,  0.,  0., ...,  0.,  0.,  0.]], dtype=float32), y=array([[ 1.],\n       [ 0.],\n       [ 1.],\n       ..., \n       [ 0.],\n       [ 0.],\n       [ 0.]]), sample_weight=None)\n    321             trees = Parallel(n_jobs=self.n_jobs, verbose=self.verbose,\n    322                              backend=\"threading\")(\n    323                 delayed(_parallel_build_trees)(\n    324                     t, self, X, y, sample_weight, i, len(trees),\n    325                     verbose=self.verbose, class_weight=self.class_weight)\n--> 326                 for i, t in enumerate(trees))\n        i = 499\n    327 \n    328             # Collect newly grown trees\n    329             self.estimators_.extend(trees)\n    330 \n\n...........................................................................\nC:\\Users\\ANTONIS\\Anaconda3\\lib\\site-packages\\sklearn\\externals\\joblib\\parallel.py in __call__(self=Parallel(n_jobs=-1), iterable=<generator object BaseForest.fit.<locals>.<genexpr>>)\n    763             if pre_dispatch == \"all\" or n_jobs == 1:\n    764                 # The iterable was consumed all at once by the above for loop.\n    765                 # No need to wait for async callbacks to trigger to\n    766                 # consumption.\n    767                 self._iterating = False\n--> 768             self.retrieve()\n        self.retrieve = <bound method Parallel.retrieve of Parallel(n_jobs=-1)>\n    769             # Make sure that we get a last message telling us we are done\n    770             elapsed_time = time.time() - self._start_time\n    771             self._print('Done %3i out of %3i | elapsed: %s finished',\n    772                         (len(self._output), len(self._output),\n\n---------------------------------------------------------------------------\nSub-process traceback:\n---------------------------------------------------------------------------\nKeyError                                           Mon Mar 20 09:50:57 2017\nPID: 5848               Python 3.5.2: C:\\Users\\ANTONIS\\Anaconda3\\python.exe\n...........................................................................\nC:\\Users\\ANTONIS\\Anaconda3\\lib\\site-packages\\sklearn\\externals\\joblib\\parallel.py in __call__(self=<sklearn.externals.joblib.parallel.BatchedCalls object>)\n    126     def __init__(self, iterator_slice):\n    127         self.items = list(iterator_slice)\n    128         self._size = len(self.items)\n    129 \n    130     def __call__(self):\n--> 131         return [func(*args, **kwargs) for func, args, kwargs in self.items]\n        self.items = [(<function _parallel_build_trees>, (DecisionTreeRegressor(criterion='gini', max_dept...        random_state=1703836523, splitter='best'), RandomForestRegressor(bootstrap=True, criterion=...te=2016,\n           verbose=20, warm_start=False), array([[ 0.,  0.,  0., ...,  0.,  1.,  0.],\n    ....,  0.,  0., ...,  0.,  0.,  0.]], dtype=float32), array([[ 1.],\n       [ 0.],\n       [ 1.],\n       ..., \n       [ 0.],\n       [ 0.],\n       [ 0.]]), None, 0, 500), {'class_weight': None, 'verbose': 20})]\n    132 \n    133     def __len__(self):\n    134         return self._size\n    135 \n\n...........................................................................\nC:\\Users\\ANTONIS\\Anaconda3\\lib\\site-packages\\sklearn\\externals\\joblib\\parallel.py in <listcomp>(.0=<list_iterator object>)\n    126     def __init__(self, iterator_slice):\n    127         self.items = list(iterator_slice)\n    128         self._size = len(self.items)\n    129 \n    130     def __call__(self):\n--> 131         return [func(*args, **kwargs) for func, args, kwargs in self.items]\n        func = <function _parallel_build_trees>\n        args = (DecisionTreeRegressor(criterion='gini', max_dept...        random_state=1703836523, splitter='best'), RandomForestRegressor(bootstrap=True, criterion=...te=2016,\n           verbose=20, warm_start=False), array([[ 0.,  0.,  0., ...,  0.,  1.,  0.],\n    ....,  0.,  0., ...,  0.,  0.,  0.]], dtype=float32), array([[ 1.],\n       [ 0.],\n       [ 1.],\n       ..., \n       [ 0.],\n       [ 0.],\n       [ 0.]]), None, 0, 500)\n        kwargs = {'class_weight': None, 'verbose': 20}\n    132 \n    133     def __len__(self):\n    134         return self._size\n    135 \n\n...........................................................................\nC:\\Users\\ANTONIS\\Anaconda3\\lib\\site-packages\\sklearn\\ensemble\\forest.py in _parallel_build_trees(tree=DecisionTreeRegressor(criterion='gini', max_dept...        random_state=1703836523, splitter='best'), forest=RandomForestRegressor(bootstrap=True, criterion=...te=2016,\n           verbose=20, warm_start=False), X=array([[ 0.,  0.,  0., ...,  0.,  1.,  0.],\n    ....,  0.,  0., ...,  0.,  0.,  0.]], dtype=float32), y=array([[ 1.],\n       [ 0.],\n       [ 1.],\n       ..., \n       [ 0.],\n       [ 0.],\n       [ 0.]]), sample_weight=None, tree_idx=0, n_trees=500, verbose=20, class_weight=None)\n    115                 warnings.simplefilter('ignore', DeprecationWarning)\n    116                 curr_sample_weight *= compute_sample_weight('auto', y, indices)\n    117         elif class_weight == 'balanced_subsample':\n    118             curr_sample_weight *= compute_sample_weight('balanced', y, indices)\n    119 \n--> 120         tree.fit(X, y, sample_weight=curr_sample_weight, check_input=False)\n        tree.fit = <bound method DecisionTreeRegressor.fit of Decis...       random_state=1703836523, splitter='best')>\n        X = array([[ 0.,  0.,  0., ...,  0.,  1.,  0.],\n    ....,  0.,  0., ...,  0.,  0.,  0.]], dtype=float32)\n        y = array([[ 1.],\n       [ 0.],\n       [ 1.],\n       ..., \n       [ 0.],\n       [ 0.],\n       [ 0.]])\n        sample_weight = None\n        curr_sample_weight = array([ 1.,  0.,  1., ...,  1.,  1.,  2.])\n    121     else:\n    122         tree.fit(X, y, sample_weight=sample_weight, check_input=False)\n    123 \n    124     return tree\n\n...........................................................................\nC:\\Users\\ANTONIS\\Anaconda3\\lib\\site-packages\\sklearn\\tree\\tree.py in fit(self=DecisionTreeRegressor(criterion='gini', max_dept...        random_state=1703836523, splitter='best'), X=array([[ 0.,  0.,  0., ...,  0.,  1.,  0.],\n    ....,  0.,  0., ...,  0.,  0.,  0.]], dtype=float32), y=array([[ 1.],\n       [ 0.],\n       [ 1.],\n       ..., \n       [ 0.],\n       [ 0.],\n       [ 0.]]), sample_weight=array([ 1.,  0.,  1., ...,  1.,  1.,  2.]), check_input=False, X_idx_sorted=None)\n   1024 \n   1025         super(DecisionTreeRegressor, self).fit(\n   1026             X, y,\n   1027             sample_weight=sample_weight,\n   1028             check_input=check_input,\n-> 1029             X_idx_sorted=X_idx_sorted)\n        X_idx_sorted = None\n   1030         return self\n   1031 \n   1032 \n   1033 class ExtraTreeClassifier(DecisionTreeClassifier):\n\n...........................................................................\nC:\\Users\\ANTONIS\\Anaconda3\\lib\\site-packages\\sklearn\\tree\\tree.py in fit(self=DecisionTreeRegressor(criterion='gini', max_dept...        random_state=1703836523, splitter='best'), X=array([[ 0.,  0.,  0., ...,  0.,  1.,  0.],\n    ....,  0.,  0., ...,  0.,  0.,  0.]], dtype=float32), y=array([[ 1.],\n       [ 0.],\n       [ 1.],\n       ..., \n       [ 0.],\n       [ 0.],\n       [ 0.]]), sample_weight=array([ 1.,  0.,  1., ...,  1.,  1.,  2.]), check_input=False, X_idx_sorted=None)\n    315         if not isinstance(criterion, Criterion):\n    316             if is_classification:\n    317                 criterion = CRITERIA_CLF[self.criterion](self.n_outputs_,\n    318                                                          self.n_classes_)\n    319             else:\n--> 320                 criterion = CRITERIA_REG[self.criterion](self.n_outputs_,\n        criterion = 'gini'\n        self.criterion = 'gini'\n        self.n_outputs_ = 1\n        n_samples = 1602\n    321                                                          n_samples)\n    322 \n    323         SPLITTERS = SPARSE_SPLITTERS if issparse(X) else DENSE_SPLITTERS\n    324 \n\nKeyError: 'gini'\n___________________________________________________________________________"
     ]
    }
   ],
   "source": [
    "RMSE  = make_scorer(fmean_squared_error, greater_is_better=False)\n",
    "\n",
    "parameters = {}\n",
    "C_range = np.logspace(-2, 10, 13)\n",
    "gamma_range = np.logspace(-9, 3, 13)\n",
    "param_grid = dict(gamma=gamma_range, C=C_range)\n",
    "cv = StratifiedShuffleSplit(n_splits=5, test_size=0.2, random_state=42)\n",
    "    \n",
    "gsv = GridSearchCV(estimator = clf, param_grid = parameters, cv = cv, verbose = 2016, scoring=RMSE)\n",
    "gsv.fit(xtraining, yTraining)\n",
    "\n",
    "yPredict6 = gsv.predict(xtest)\n"
   ]
  },
  {
   "cell_type": "code",
   "execution_count": null,
   "metadata": {
    "collapsed": false
   },
   "outputs": [],
   "source": [
    "count = 0\n",
    "for i in range(len(yPredict6)):\n",
    "    count += yPredict6[i]\n",
    "\n",
    "mo6 = count / len(yPredict6)\n",
    "\n",
    "for i in range(len(yPredict6)):\n",
    "    if yPredict6[i] < 0.5:\n",
    "        yPredict6[i] = 0\n",
    "    else:\n",
    "        yPredict6[i] = 1\n",
    "\n",
    "print(metrics.accuracy_score(yTest,yPredict6))\n",
    "print(metrics.confusion_matrix(yTest,yPredict6))\n",
    "error6 = mean_squared_error(yTest, yPredict6)\n",
    "print(\"error 6 = \",error6)\n",
    "RMSE6 = mean_squared_error(yTest,yPredict6)**0.5\n",
    "print(\"RMSE6 = \",RMSE6)"
   ]
  },
  {
   "cell_type": "code",
   "execution_count": null,
   "metadata": {
    "collapsed": true
   },
   "outputs": [],
   "source": []
  }
 ],
 "metadata": {
  "anaconda-cloud": {},
  "kernelspec": {
   "display_name": "Python [default]",
   "language": "python",
   "name": "python3"
  },
  "language_info": {
   "codemirror_mode": {
    "name": "ipython",
    "version": 3
   },
   "file_extension": ".py",
   "mimetype": "text/x-python",
   "name": "python",
   "nbconvert_exporter": "python",
   "pygments_lexer": "ipython3",
   "version": "3.5.2"
  }
 },
 "nbformat": 4,
 "nbformat_minor": 0
}
