{
 "cells": [
  {
   "cell_type": "code",
   "execution_count": 1,
   "metadata": {
    "collapsed": false
   },
   "outputs": [],
   "source": [
    "from sklearn import linear_model\n",
    "from sklearn.model_selection import cross_val_score\n",
    "from sklearn.model_selection import cross_val_score\n",
    "from sklearn.metrics import mean_squared_error\n",
    "import matplotlib.pyplot as plt\n",
    "import numpy as np\n",
    "import os.path\n",
    "import csv\n",
    "from sklearn.svm import SVC\n",
    "\n",
    "class PatientPhenotype:\n",
    "    \n",
    "    def __init__(self, eid, case, sex, yearBirth):\n",
    "        \n",
    "        self.eid = eid\n",
    "        self.case = case\n",
    "        self.sex = sex\n",
    "        self.yearBirth = yearBirth\n",
    "        self.snps = {}\n",
    "        \n",
    "    def getEid(self):\n",
    "        return self.eid\n",
    "     \n",
    "    def getCase(self):\n",
    "        return self.case\n",
    "    \n",
    "    def getSex(self):\n",
    "        return self.sex\n",
    "    \n",
    "    def getYearBirth(self):\n",
    "        return self.yearBirth\n",
    "        \n",
    "    def addSnps(self, snpId, allele1,allele2):\n",
    "        self.snps[snpId] = Snp(snpId,allele1,allele2)\n",
    "        \n",
    "    def snpCode(self,snpId,allele1,allele2):\n",
    "       \n",
    "        self.snps[snpId].setSnpCode(allele1,allele2)\n",
    "        \n",
    "    def getSnpCode(self,snpId):\n",
    "        return self.snps[snpId].getSnpCode()\n",
    "        \n",
    "    def getSize(self):\n",
    "        return len(self.snps)\n",
    "        \n",
    "        \n",
    "class Snp:\n",
    "    \n",
    "    def __init__(self,snpId,allele1,allele2):\n",
    "        \n",
    "        self.snpId = snpId\n",
    "        self.allele1 = allele1\n",
    "        self.allele2 = allele2\n",
    "        self.snpCode = -1\n",
    "        \n",
    "    def getId(self):\n",
    "        \n",
    "        return self.snpId\n",
    "        \n",
    "    def getAllele1(self):\n",
    "        \n",
    "        return self.allele1\n",
    "        \n",
    "    def getAllele2(self):\n",
    "        \n",
    "        return self.allele2\n",
    "        \n",
    "    def setSnpCode(self,allele1,allele2):\n",
    "      \n",
    "        if self.allele1 == allele1 and self.allele2 == allele1:\n",
    "            code = 2\n",
    "           \n",
    "        elif self.allele1 == allele1 and self.allele2 != allele1:\n",
    "            code = 1\n",
    "           \n",
    "        elif self.allele1 != allele1 and self.allele2 == allele1:\n",
    "            code = 1\n",
    "            \n",
    "        elif self.allele1 != allele1 and self.allele2 != allele1:\n",
    "            code = 0\n",
    "            \n",
    "        self.snpCode = code\n",
    "        \n",
    "    def getSnpCode(self):\n",
    "        \n",
    "        return self.snpCode\n",
    "    \n",
    "    \n",
    "class SaveDataSet():\n",
    "    def __init__(self,name,ids,data):\n",
    "        \n",
    "        self.name = name\n",
    "        self.ids = ids\n",
    "        self.data = data\n",
    "        self.__writeLogFile()\n",
    "        self.__writeVariables('patients')\n",
    "        self.__writeVariables('snps')\n",
    "        self.__writeCSV()\n",
    "        \n",
    "    def __writeLogFile(self):\n",
    "        \n",
    "        write = open(self.name+'.log','w')\n",
    "        write.write(\"Log file for the Test Data Set \"+self.name+'\\n')\n",
    "        write.write(self.name + \" has \"+ str(len(self.ids['patients']['nameToId'].keys())) + \" patients \"'\\n')\n",
    "        write.write(self.name + \" has \"+ str(len(self.ids['snps']['nameToId'].keys())) + \" snps \"'\\n')\n",
    "        write.close()\n",
    "        \n",
    "    def __writeVariables(self,kind):\n",
    "        \n",
    "        write = open(self.name+'_'+kind+'.txt','w')\n",
    "        write.write(kind + '\\n')\n",
    "        \n",
    "        for i in range(len(self.ids[kind]['nameToId'].keys())):\n",
    "            name = self.ids[kind]['idToName'][i]\n",
    "            write.write(name + '\\t'+str(self.ids[kind]['nameToId'][name]) + '\\n')\n",
    "        \n",
    "        write.close()\n",
    "        \n",
    "        \n",
    "    def __writeCSV(self):\n",
    "        \n",
    "        try:\n",
    "            \n",
    "            with open(self.name+'.csv', 'w') as csvfile:\n",
    "                writer = csv.writer(csvfile, dialect='excel', quoting=csv.QUOTE_NONNUMERIC)\n",
    "            \n",
    "                line = []\n",
    "                for i in range(len(self.ids['snps']['nameToId'].keys())):\n",
    "                   # if i == 0 :\n",
    "                    #    line += self.ids['snps']['idToName'][i]\n",
    "                    #else:\n",
    "                    line.append(self.ids['snps']['idToName'][i])\n",
    "                writer.writerow(line)\n",
    "            \n",
    "                line = [] \n",
    "                for i in range(len(self.ids['snps']['nameToId'].keys())):\n",
    "                    name = self.ids['snps']['idToName'][i]\n",
    "                 #   if i == 0:\n",
    "                  #      line += str(self.ids['snps']['nameToId'][name])\n",
    "                   # else:\n",
    "                    line.append(str(self.ids['snps']['nameToId'][name]))\n",
    "                writer.writerow(line)\n",
    "            \n",
    "            \n",
    "                for i in range(len(self.ids['patients']['nameToId'].keys())):\n",
    "                    line = []\n",
    "                    for j in range(len(self.ids['snps']['nameToId'].keys())):\n",
    "                        #if j == 0:\n",
    "                        #    line += str(self.data[i,j]) \n",
    "                        #else:\n",
    "                        \n",
    "                        line.append(str(self.data[i,j]))\n",
    "                        \n",
    "                    writer.writerow(line)\n",
    "        finally:\n",
    "            pass   \n",
    "        \n",
    "\n",
    "def setIdToName(aList):\n",
    "    \n",
    "    ids = {}\n",
    "    nameToId = {}\n",
    "    idToName = {}\n",
    "    count = 0\n",
    "    \n",
    "    for i in aList:\n",
    "        \n",
    "        nameToId[i] = count\n",
    "        idToName[count] = i\n",
    "        count += 1\n",
    "        \n",
    "    ids['nameToId'] = nameToId\n",
    "    ids['idToName'] = idToName\n",
    "    \n",
    "    return ids\n",
    "\n",
    "\n",
    "def createDataSet(kind,chromos,patients):\n",
    "    \n",
    "    for i in range(len(chromos.keys())):\n",
    "    \n",
    "        chro = 'chr'+str(i+1)\n",
    "        path = 'C:\\\\Users\\\\ANTONIS\\\\Desktop\\\\test1\\\\'+chro+kind+'.lgen'\n",
    "    \n",
    "        if os.path.exists(path):\n",
    "            f = open(path,'r')\n",
    "    \n",
    "            for line in f:\n",
    "                patients[line.split()[0]].addSnps(line.split()[2], line.split()[3],line.split()[4])\n",
    "    \n",
    "\n",
    "    \n",
    "    for i in range(chromos.keys()):\n",
    "    \n",
    "        chro = 'chr'+str(i+1)\n",
    "    \n",
    "        for snp in chromos[chro].keys():\n",
    "        \n",
    "            allele1 = chromos[chro][snp][0]\n",
    "            allele2 = chromos[chro][snp][1]\n",
    "    \n",
    "            for patient in patients.keys():\n",
    "            \n",
    "                patients[patient].snpCode(snp,allele1,allele2)\n",
    "    \n",
    "    return patients"
   ]
  },
  {
   "cell_type": "code",
   "execution_count": 2,
   "metadata": {
    "collapsed": false
   },
   "outputs": [],
   "source": [
    "minorSnps = []\n",
    "chromosomes = {}\n",
    "\n",
    "for i in range(14):\n",
    "    \n",
    "    chro = 'chr'+str(i+1)\n",
    "    path = 'C:\\\\Users\\\\ANTONIS\\\\Desktop\\\\test1\\\\'+chro+'.assoc.fisher'\n",
    "    f = open(path,'r')\n",
    "    f.readline()\n",
    "    snps = {}\n",
    "    \n",
    "    for line in f:\n",
    "        alleles = []\n",
    "        minorSnps.append(line.split()[1])\n",
    "        alleles.append(line.split()[3])\n",
    "        alleles.append(line.split()[6])\n",
    "        snps[line.split()[1]] = alleles\n",
    "        \n",
    "    chromosomes[chro] = snps\n",
    "    \n",
    "for i in range(14):\n",
    "    \n",
    "    chro = 'chr'+str(i+1)\n",
    "    path = 'C:\\\\Users\\\\ANTONIS\\\\Desktop\\\\test1\\\\'+chro+'snpList.txt'\n",
    "    write = open(path,'w')\n",
    "    for snp in chromosomes[chro].keys():\n",
    "        write.write(snp + '\\n')\n",
    "            \n",
    "    write.close()\n",
    "    \n"
   ]
  },
  {
   "cell_type": "markdown",
   "metadata": {},
   "source": [
    "# TRAIN SET CREATION"
   ]
  },
  {
   "cell_type": "code",
   "execution_count": 3,
   "metadata": {
    "collapsed": true
   },
   "outputs": [],
   "source": [
    "########   TRAIN ##########\n",
    "\n",
    "patientsPhen = {}\n",
    "\n",
    "f = open('C:\\\\Users\\\\Antonis\\\\Documents\\\\GitHub\\\\diplwmatikh\\\\data\\\\phenotype_euro_train.txt','r')\n",
    "f.readline()\n",
    "\n",
    "for line in f:\n",
    "    patientsPhen[line.split()[0]] = PatientPhenotype(line.split()[0],line.split()[3],line.split()[1],line.split()[2])\n",
    "\n",
    "    \n",
    "path = 'C:\\\\Users\\\\ANTONIS\\\\Desktop\\\\test1\\\\'+'trainPatient.txt'\n",
    "write = open(path,'w')\n",
    "for patient in patientsPhen.keys():\n",
    "    write.write(patient + '\\n')\n",
    "            \n",
    "write.close()\n",
    "    \n",
    "\n",
    "\n",
    "\n"
   ]
  },
  {
   "cell_type": "markdown",
   "metadata": {},
   "source": [
    "# run train_lgen bat"
   ]
  },
  {
   "cell_type": "code",
   "execution_count": 4,
   "metadata": {
    "collapsed": false
   },
   "outputs": [
    {
     "name": "stdout",
     "output_type": "stream",
     "text": [
      "count is  4482\n",
      "snps is  334\n",
      "shape id  (4482, 334)\n",
      "xtraining =  4482\n",
      "xtraining.T =  334\n"
     ]
    }
   ],
   "source": [
    "ids = {}\n",
    "for i in range(14):\n",
    "    \n",
    "    chro = 'chr'+str(i+1)\n",
    "    path = 'C:\\\\Users\\\\ANTONIS\\\\Desktop\\\\test1\\\\'+chro+'train.lgen'\n",
    "    \n",
    "    if os.path.exists(path):\n",
    "        f = open(path,'r')\n",
    "    \n",
    "        for line in f:\n",
    "            patientsPhen[line.split()[0]].addSnps(line.split()[2], line.split()[3],line.split()[4])\n",
    "    \n",
    "\n",
    "    \n",
    "for i in range(14):\n",
    "    \n",
    "    chro = 'chr'+str(i+1)\n",
    "    \n",
    "    for snp in chromosomes[chro].keys():\n",
    "        \n",
    "        allele1 = chromosomes[chro][snp][0]\n",
    "        allele2 = chromosomes[chro][snp][1]\n",
    "    \n",
    "        for patient in patientsPhen.keys():\n",
    "            \n",
    "            patientsPhen[patient].snpCode(snp,allele1,allele2)\n",
    "            \n",
    "#patientsPhen = createDataSet('train',chromosomes,patientsPhen)\n",
    "\n",
    "count = 0\n",
    "\n",
    "for patient in patientsPhen.keys():\n",
    "            \n",
    "    if patientsPhen[patient].getSize() == len(minorSnps):\n",
    "        \n",
    "        count += 1\n",
    "        \n",
    "print(\"count is \",count)\n",
    "print(\"snps is \",len(minorSnps))\n",
    "\n",
    "\n",
    "ids['patients'] = setIdToName(list(patientsPhen.keys()))\n",
    "ids['snps'] = setIdToName(minorSnps)\n",
    "    \n",
    "xTraining = np.zeros((len(ids['patients']['nameToId'].keys()), len(ids['snps']['nameToId'].keys())),dtype = int)\n",
    "\n",
    "print(\"shape id \",xTraining.shape)\n",
    "print(\"xtraining = \",len(xTraining))\n",
    "print(\"xtraining.T = \",len(xTraining.T))\n",
    "    \n",
    "for i in range(len(xTraining)):\n",
    "    for j in range(len(xTraining.T)):\n",
    "        \n",
    "        patient = ids['patients']['idToName'][i]\n",
    "        snp = ids['snps']['idToName'][j]\n",
    "        \n",
    "        xTraining[i,j] = patientsPhen[patient].getSnpCode(snp)\n",
    "        \n",
    "        \n",
    "yTraining = []\n",
    "\n",
    "for i in range(len(ids['patients']['nameToId'].keys())):\n",
    "    \n",
    "    patient = ids['patients']['idToName'][i]\n",
    "    yTraining.append(int(patientsPhen[patient].getCase()))"
   ]
  },
  {
   "cell_type": "code",
   "execution_count": 5,
   "metadata": {
    "collapsed": false
   },
   "outputs": [],
   "source": [
    "#dok = SaveDataSet(\"dok\",ids,xTraining)"
   ]
  },
  {
   "cell_type": "markdown",
   "metadata": {},
   "source": [
    "# TEST SET CREATION"
   ]
  },
  {
   "cell_type": "code",
   "execution_count": 6,
   "metadata": {
    "collapsed": false
   },
   "outputs": [],
   "source": [
    "patientsPhenTest = {}\n",
    "\n",
    "f = open('C:\\\\Users\\\\Antonis\\\\Documents\\\\GitHub\\\\diplwmatikh\\\\data\\\\phenotype_euro_test.txt','r')\n",
    "f.readline()\n",
    "for line in f:\n",
    "    patientsPhenTest[line.split()[0]] = PatientPhenotype(line.split()[0],line.split()[3],line.split()[1],line.split()[2])  \n",
    "    \n",
    "    \n",
    "path = 'C:\\\\Users\\\\ANTONIS\\\\Desktop\\\\test1\\\\'+'testPatient.txt'\n",
    "write = open(path,'w')\n",
    "for patient in patientsPhenTest.keys():\n",
    "    write.write(patient + '\\n')\n",
    "            \n",
    "write.close()"
   ]
  },
  {
   "cell_type": "markdown",
   "metadata": {},
   "source": [
    "# run test_lgen bat"
   ]
  },
  {
   "cell_type": "code",
   "execution_count": 7,
   "metadata": {
    "collapsed": false
   },
   "outputs": [
    {
     "name": "stdout",
     "output_type": "stream",
     "text": [
      "count is Test 498\n",
      "snps is Test 334\n",
      "shape id Test (498, 334)\n",
      "xtraining =  498\n",
      "xtest.T =  334\n"
     ]
    }
   ],
   "source": [
    "idsTest = {}\n",
    "\n",
    "for i in range(14):\n",
    "    \n",
    "    chro = 'chr'+str(i+1)\n",
    "    path = 'C:\\\\Users\\\\ANTONIS\\\\Desktop\\\\test1\\\\'+chro+'test.lgen'\n",
    "    if os.path.exists(path):\n",
    "        f = open(path,'r')\n",
    "    \n",
    "        for line in f:\n",
    "            patientsPhenTest[line.split()[0]].addSnps(line.split()[2], line.split()[3],line.split()[4])\n",
    "    \n",
    "\n",
    "    \n",
    "for i in range(14):\n",
    "    \n",
    "    chro = 'chr'+str(i+1)\n",
    "    \n",
    "    for snp in chromosomes[chro].keys():\n",
    "        \n",
    "        allele1 = chromosomes[chro][snp][0]\n",
    "        allele2 = chromosomes[chro][snp][1]\n",
    "        \n",
    "        for patient in patientsPhenTest.keys():\n",
    "            \n",
    "            patientsPhenTest[patient].snpCode(snp,allele1,allele2)\n",
    "            \n",
    "#patientsPhenTest = createDataSet('test',chromosomes,patientsPhenTest)            \n",
    "\n",
    "    \n",
    "count = 0\n",
    "\n",
    "for patient in patientsPhenTest.keys():\n",
    "            \n",
    "    if patientsPhenTest[patient].getSize() == len(minorSnps):\n",
    "        \n",
    "        count += 1\n",
    "        \n",
    "print(\"count is Test\",count)\n",
    "print(\"snps is Test\",len(minorSnps))\n",
    "\n",
    "\n",
    "idsTest['patients'] = setIdToName(list(patientsPhenTest.keys()))\n",
    "idsTest['snps'] = setIdToName(minorSnps)\n",
    "    \n",
    "xTest = np.zeros((len(idsTest['patients']['nameToId'].keys()), len(idsTest['snps']['nameToId'].keys())),dtype = int)\n",
    "\n",
    "print(\"shape id Test\",xTest.shape)\n",
    "print(\"xtraining = \",len(xTest))\n",
    "print(\"xtest.T = \",len(xTest.T))\n",
    "    \n",
    "for i in range(len(xTest)):\n",
    "    for j in range(len(xTest.T)):\n",
    "        \n",
    "        patient = idsTest['patients']['idToName'][i]\n",
    "        snp = idsTest['snps']['idToName'][j]\n",
    "        \n",
    "        xTest[i,j] = patientsPhenTest[patient].getSnpCode(snp)\n",
    "        \n",
    "        \n",
    "yTest = []\n",
    "\n",
    "for i in range(len(idsTest['patients']['nameToId'].keys())):\n",
    "    patient = idsTest['patients']['idToName'][i]\n",
    "    yTest.append(int(patientsPhenTest[patient].getCase()))\n",
    "\n",
    "yTest = np.array(yTest)"
   ]
  },
  {
   "cell_type": "markdown",
   "metadata": {},
   "source": [
    "# Linear Regression"
   ]
  },
  {
   "cell_type": "code",
   "execution_count": 101,
   "metadata": {
    "collapsed": false
   },
   "outputs": [
    {
     "name": "stdout",
     "output_type": "stream",
     "text": [
      "error 1 =  0.267068273092\n",
      "0.732931726908\n",
      "[[316  74]\n",
      " [ 59  49]]\n"
     ]
    }
   ],
   "source": [
    "from sklearn import linear_model\n",
    "from sklearn.model_selection import cross_val_score\n",
    "from sklearn.metrics import mean_squared_error\n",
    "import matplotlib.pyplot as plt\n",
    "\n",
    "regr = linear_model.LinearRegression()\n",
    "regr.fit(xTraining, yTraining)\n",
    "yPredict1 = regr.predict(xTest)\n",
    "\n",
    "for i in range(len(yPredict1)):\n",
    "    if yPredict1[i] < 0.3:\n",
    "        yPredict1[i] = 0\n",
    "    else:\n",
    "        yPredict1[i] = 1\n",
    "\n",
    "error1 = mean_squared_error(yTest, yPredict1)\n",
    "print(\"error 1 = \",error1)\n",
    "print(metrics.accuracy_score(yTest,yPredict1))\n",
    "print(metrics.confusion_matrix(yTest,yPredict1))"
   ]
  },
  {
   "cell_type": "markdown",
   "metadata": {},
   "source": [
    "# SVM"
   ]
  },
  {
   "cell_type": "code",
   "execution_count": 59,
   "metadata": {
    "collapsed": false
   },
   "outputs": [
    {
     "name": "stdout",
     "output_type": "stream",
     "text": [
      "0.78313253012\n",
      "[[390   0]\n",
      " [108   0]]\n",
      "error 2 =  0.21686746988\n"
     ]
    }
   ],
   "source": [
    "from sklearn.svm import SVC\n",
    "clf = SVC()\n",
    "clf.fit(xTraining, yTraining)\n",
    "yPredict2 = clf.predict(xTest)\n",
    "print(metrics.accuracy_score(yTest,yPredict2))\n",
    "print(metrics.confusion_matrix(yTest,yPredict2))\n",
    "error2 = mean_squared_error(yTest, yPredict2)\n",
    "print(\"error 2 = \",error2)"
   ]
  },
  {
   "cell_type": "markdown",
   "metadata": {},
   "source": [
    "# RF"
   ]
  },
  {
   "cell_type": "code",
   "execution_count": null,
   "metadata": {
    "collapsed": false
   },
   "outputs": [
    {
     "name": "stdout",
     "output_type": "stream",
     "text": [
      "building tree 1 of 1500building tree 2 of 1500\n",
      "\n",
      "building tree 3 of 1500\n",
      "building tree 4 of 1500\n",
      "building tree 5 of 1500\n",
      "building tree 6 of 1500\n",
      "building tree 7 of 1500\n",
      "building tree 8 of 1500\n"
     ]
    },
    {
     "name": "stderr",
     "output_type": "stream",
     "text": [
      "[Parallel(n_jobs=-1)]: Done   1 tasks      | elapsed:    0.4s\n",
      "[Parallel(n_jobs=-1)]: Done   2 tasks      | elapsed:    0.4s\n",
      "[Parallel(n_jobs=-1)]: Done   3 tasks      | elapsed:    0.5s\n",
      "[Parallel(n_jobs=-1)]: Done   4 tasks      | elapsed:    0.5s\n"
     ]
    },
    {
     "name": "stdout",
     "output_type": "stream",
     "text": [
      "building tree 9 of 1500\n",
      "building tree 10 of 1500\n",
      "building tree 11 of 1500\n",
      "building tree 12 of 1500\n"
     ]
    },
    {
     "name": "stderr",
     "output_type": "stream",
     "text": [
      "[Parallel(n_jobs=-1)]: Done   5 tasks      | elapsed:    1.0s\n",
      "[Parallel(n_jobs=-1)]: Done   6 tasks      | elapsed:    1.0s\n",
      "[Parallel(n_jobs=-1)]: Done   7 tasks      | elapsed:    1.0s\n",
      "[Parallel(n_jobs=-1)]: Done   8 tasks      | elapsed:    1.0s\n"
     ]
    },
    {
     "name": "stdout",
     "output_type": "stream",
     "text": [
      "building tree 13 of 1500\n",
      "building tree 14 of 1500\n",
      "building tree 15 of 1500\n",
      "building tree 16 of 1500\n"
     ]
    },
    {
     "name": "stderr",
     "output_type": "stream",
     "text": [
      "[Parallel(n_jobs=-1)]: Done   9 tasks      | elapsed:    1.6s\n",
      "[Parallel(n_jobs=-1)]: Done  10 tasks      | elapsed:    1.6s\n",
      "[Parallel(n_jobs=-1)]: Done  11 tasks      | elapsed:    1.6s\n",
      "[Parallel(n_jobs=-1)]: Done  12 tasks      | elapsed:    1.6s\n"
     ]
    },
    {
     "name": "stdout",
     "output_type": "stream",
     "text": [
      "building tree 17 of 1500\n",
      "building tree 18 of 1500\n",
      "building tree 19 of 1500\n",
      "building tree 20 of 1500\n"
     ]
    },
    {
     "name": "stderr",
     "output_type": "stream",
     "text": [
      "[Parallel(n_jobs=-1)]: Done  13 tasks      | elapsed:    2.1s\n",
      "[Parallel(n_jobs=-1)]: Done  14 tasks      | elapsed:    2.1s\n",
      "[Parallel(n_jobs=-1)]: Done  15 tasks      | elapsed:    2.2s\n",
      "[Parallel(n_jobs=-1)]: Done  16 tasks      | elapsed:    2.2s\n"
     ]
    },
    {
     "name": "stdout",
     "output_type": "stream",
     "text": [
      "building tree 21 of 1500\n",
      "building tree 22 of 1500\n",
      "building tree 23 of 1500\n"
     ]
    },
    {
     "name": "stderr",
     "output_type": "stream",
     "text": [
      "[Parallel(n_jobs=-1)]: Done  17 tasks      | elapsed:    2.6s\n",
      "[Parallel(n_jobs=-1)]: Done  18 tasks      | elapsed:    2.6s\n",
      "[Parallel(n_jobs=-1)]: Done  19 tasks      | elapsed:    2.7s\n"
     ]
    },
    {
     "name": "stdout",
     "output_type": "stream",
     "text": [
      "building tree 24 of 1500\n"
     ]
    },
    {
     "name": "stderr",
     "output_type": "stream",
     "text": [
      "[Parallel(n_jobs=-1)]: Done  20 tasks      | elapsed:    2.8s\n"
     ]
    },
    {
     "name": "stdout",
     "output_type": "stream",
     "text": [
      "building tree 25 of 1500\n",
      "building tree 26 of 1500\n",
      "building tree 27 of 1500\n"
     ]
    },
    {
     "name": "stderr",
     "output_type": "stream",
     "text": [
      "[Parallel(n_jobs=-1)]: Done  21 tasks      | elapsed:    3.0s\n",
      "[Parallel(n_jobs=-1)]: Done  22 tasks      | elapsed:    3.1s\n",
      "[Parallel(n_jobs=-1)]: Done  23 tasks      | elapsed:    3.2s\n"
     ]
    },
    {
     "name": "stdout",
     "output_type": "stream",
     "text": [
      "building tree 28 of 1500\n"
     ]
    },
    {
     "name": "stderr",
     "output_type": "stream",
     "text": [
      "[Parallel(n_jobs=-1)]: Done  24 tasks      | elapsed:    3.3s\n"
     ]
    },
    {
     "name": "stdout",
     "output_type": "stream",
     "text": [
      "building tree 29 of 1500\n",
      "building tree 30 of 1500\n",
      "building tree 31 of 1500\n",
      "building tree 32 of 1500\n"
     ]
    },
    {
     "name": "stderr",
     "output_type": "stream",
     "text": [
      "[Parallel(n_jobs=-1)]: Done  25 tasks      | elapsed:    3.6s\n",
      "[Parallel(n_jobs=-1)]: Done  26 tasks      | elapsed:    3.6s\n",
      "[Parallel(n_jobs=-1)]: Done  27 tasks      | elapsed:    3.7s\n",
      "[Parallel(n_jobs=-1)]: Done  28 tasks      | elapsed:    3.8s\n"
     ]
    },
    {
     "name": "stdout",
     "output_type": "stream",
     "text": [
      "building tree 33 of 1500\n",
      "building tree 34 of 1500\n",
      "building tree 35 of 1500\n",
      "building tree 36 of 1500\n"
     ]
    },
    {
     "name": "stderr",
     "output_type": "stream",
     "text": [
      "[Parallel(n_jobs=-1)]: Done  29 tasks      | elapsed:    4.0s\n",
      "[Parallel(n_jobs=-1)]: Done  30 tasks      | elapsed:    4.1s\n",
      "[Parallel(n_jobs=-1)]: Done  31 tasks      | elapsed:    4.1s\n",
      "[Parallel(n_jobs=-1)]: Done  32 tasks      | elapsed:    4.2s\n"
     ]
    },
    {
     "name": "stdout",
     "output_type": "stream",
     "text": [
      "building tree 37 of 1500\n",
      "building tree 38 of 1500\n",
      "building tree 39 of 1500\n"
     ]
    },
    {
     "name": "stderr",
     "output_type": "stream",
     "text": [
      "[Parallel(n_jobs=-1)]: Done  33 tasks      | elapsed:    4.5s\n",
      "[Parallel(n_jobs=-1)]: Done  34 tasks      | elapsed:    4.6s\n",
      "[Parallel(n_jobs=-1)]: Done  35 tasks      | elapsed:    4.6s\n"
     ]
    },
    {
     "name": "stdout",
     "output_type": "stream",
     "text": [
      "building tree 40 of 1500\n"
     ]
    },
    {
     "name": "stderr",
     "output_type": "stream",
     "text": [
      "[Parallel(n_jobs=-1)]: Done  36 tasks      | elapsed:    4.7s\n"
     ]
    },
    {
     "name": "stdout",
     "output_type": "stream",
     "text": [
      "building tree 41 of 1500\n",
      "building tree 42 of 1500\n",
      "building tree 43 of 1500\n"
     ]
    },
    {
     "name": "stderr",
     "output_type": "stream",
     "text": [
      "[Parallel(n_jobs=-1)]: Done  37 tasks      | elapsed:    5.0s\n",
      "[Parallel(n_jobs=-1)]: Done  38 tasks      | elapsed:    5.2s\n",
      "[Parallel(n_jobs=-1)]: Done  39 tasks      | elapsed:    5.2s\n"
     ]
    },
    {
     "name": "stdout",
     "output_type": "stream",
     "text": [
      "building tree 44 of 1500\n",
      "building tree 45 of 1500\n"
     ]
    },
    {
     "name": "stderr",
     "output_type": "stream",
     "text": [
      "[Parallel(n_jobs=-1)]: Done  40 tasks      | elapsed:    5.2s\n",
      "[Parallel(n_jobs=-1)]: Done  41 tasks      | elapsed:    5.4s\n"
     ]
    },
    {
     "name": "stdout",
     "output_type": "stream",
     "text": [
      "building tree 46 of 1500\n",
      "building tree 47 of 1500\n",
      "building tree 48 of 1500\n"
     ]
    },
    {
     "name": "stderr",
     "output_type": "stream",
     "text": [
      "[Parallel(n_jobs=-1)]: Done  42 tasks      | elapsed:    5.8s\n",
      "[Parallel(n_jobs=-1)]: Done  43 tasks      | elapsed:    5.8s\n",
      "[Parallel(n_jobs=-1)]: Done  44 tasks      | elapsed:    5.8s\n"
     ]
    },
    {
     "name": "stdout",
     "output_type": "stream",
     "text": [
      "building tree 49 of 1500\n"
     ]
    },
    {
     "name": "stderr",
     "output_type": "stream",
     "text": [
      "[Parallel(n_jobs=-1)]: Done  45 tasks      | elapsed:    6.0s\n"
     ]
    },
    {
     "name": "stdout",
     "output_type": "stream",
     "text": [
      "building tree 50 of 1500\n",
      "building tree 51 of 1500\n",
      "building tree 52 of 1500\n"
     ]
    },
    {
     "name": "stderr",
     "output_type": "stream",
     "text": [
      "[Parallel(n_jobs=-1)]: Done  46 tasks      | elapsed:    6.3s\n",
      "[Parallel(n_jobs=-1)]: Done  47 tasks      | elapsed:    6.4s\n",
      "[Parallel(n_jobs=-1)]: Done  48 tasks      | elapsed:    6.4s\n"
     ]
    },
    {
     "name": "stdout",
     "output_type": "stream",
     "text": [
      "building tree 53 of 1500\n"
     ]
    },
    {
     "name": "stderr",
     "output_type": "stream",
     "text": [
      "[Parallel(n_jobs=-1)]: Done  49 tasks      | elapsed:    6.5s\n"
     ]
    },
    {
     "name": "stdout",
     "output_type": "stream",
     "text": [
      "building tree 54 of 1500\n",
      "building tree 55 of 1500\n",
      "building tree 56 of 1500\n",
      "building tree 57 of 1500\n"
     ]
    },
    {
     "name": "stderr",
     "output_type": "stream",
     "text": [
      "[Parallel(n_jobs=-1)]: Done  50 tasks      | elapsed:    6.8s\n",
      "[Parallel(n_jobs=-1)]: Done  51 tasks      | elapsed:    6.9s\n",
      "[Parallel(n_jobs=-1)]: Done  52 tasks      | elapsed:    6.9s\n",
      "[Parallel(n_jobs=-1)]: Done  53 tasks      | elapsed:    7.0s\n"
     ]
    },
    {
     "name": "stdout",
     "output_type": "stream",
     "text": [
      "building tree 58 of 1500\n",
      "building tree 59 of 1500\n",
      "building tree 60 of 1500\n"
     ]
    },
    {
     "name": "stderr",
     "output_type": "stream",
     "text": [
      "[Parallel(n_jobs=-1)]: Done  54 tasks      | elapsed:    7.3s\n",
      "[Parallel(n_jobs=-1)]: Done  55 tasks      | elapsed:    7.4s\n",
      "[Parallel(n_jobs=-1)]: Done  56 tasks      | elapsed:    7.5s\n"
     ]
    },
    {
     "name": "stdout",
     "output_type": "stream",
     "text": [
      "building tree 61 of 1500\n"
     ]
    },
    {
     "name": "stderr",
     "output_type": "stream",
     "text": [
      "[Parallel(n_jobs=-1)]: Done  57 tasks      | elapsed:    7.6s\n"
     ]
    },
    {
     "name": "stdout",
     "output_type": "stream",
     "text": [
      "building tree 62 of 1500\n",
      "building tree 63 of 1500\n",
      "building tree 64 of 1500\n",
      "building tree 65 of 1500\n"
     ]
    },
    {
     "name": "stderr",
     "output_type": "stream",
     "text": [
      "[Parallel(n_jobs=-1)]: Done  58 tasks      | elapsed:    7.8s\n",
      "[Parallel(n_jobs=-1)]: Done  59 tasks      | elapsed:    7.9s\n",
      "[Parallel(n_jobs=-1)]: Done  60 tasks      | elapsed:    7.9s\n",
      "[Parallel(n_jobs=-1)]: Done  61 tasks      | elapsed:    8.0s\n"
     ]
    },
    {
     "name": "stdout",
     "output_type": "stream",
     "text": [
      "building tree 66 of 1500\n",
      "building tree 67 of 1500\n",
      "building tree 68 of 1500\n",
      "building tree 69 of 1500\n"
     ]
    },
    {
     "name": "stderr",
     "output_type": "stream",
     "text": [
      "[Parallel(n_jobs=-1)]: Done  62 tasks      | elapsed:    8.3s\n",
      "[Parallel(n_jobs=-1)]: Done  63 tasks      | elapsed:    8.4s\n",
      "[Parallel(n_jobs=-1)]: Done  64 tasks      | elapsed:    8.4s\n",
      "[Parallel(n_jobs=-1)]: Done  65 tasks      | elapsed:    8.5s\n"
     ]
    },
    {
     "name": "stdout",
     "output_type": "stream",
     "text": [
      "building tree 70 of 1500\n",
      "building tree 71 of 1500\n",
      "building tree 72 of 1500\n",
      "building tree 73 of 1500\n"
     ]
    },
    {
     "name": "stderr",
     "output_type": "stream",
     "text": [
      "[Parallel(n_jobs=-1)]: Done  66 tasks      | elapsed:    8.8s\n",
      "[Parallel(n_jobs=-1)]: Done  67 tasks      | elapsed:    8.8s\n",
      "[Parallel(n_jobs=-1)]: Done  68 tasks      | elapsed:    8.8s\n",
      "[Parallel(n_jobs=-1)]: Done  69 tasks      | elapsed:    8.9s\n"
     ]
    },
    {
     "name": "stdout",
     "output_type": "stream",
     "text": [
      "building tree 74 of 1500\n",
      "building tree 75 of 1500\n",
      "building tree 76 of 1500\n",
      "building tree 77 of 1500\n"
     ]
    },
    {
     "name": "stderr",
     "output_type": "stream",
     "text": [
      "[Parallel(n_jobs=-1)]: Done  70 tasks      | elapsed:    9.3s\n",
      "[Parallel(n_jobs=-1)]: Done  71 tasks      | elapsed:    9.3s\n",
      "[Parallel(n_jobs=-1)]: Done  72 tasks      | elapsed:    9.3s\n",
      "[Parallel(n_jobs=-1)]: Done  73 tasks      | elapsed:    9.4s\n"
     ]
    },
    {
     "name": "stdout",
     "output_type": "stream",
     "text": [
      "building tree 78 of 1500\n",
      "building tree 79 of 1500\n",
      "building tree 80 of 1500\n",
      "building tree 81 of 1500\n"
     ]
    },
    {
     "name": "stderr",
     "output_type": "stream",
     "text": [
      "[Parallel(n_jobs=-1)]: Done  74 tasks      | elapsed:    9.7s\n",
      "[Parallel(n_jobs=-1)]: Done  75 tasks      | elapsed:    9.7s\n",
      "[Parallel(n_jobs=-1)]: Done  76 tasks      | elapsed:    9.8s\n",
      "[Parallel(n_jobs=-1)]: Done  77 tasks      | elapsed:    9.9s\n"
     ]
    },
    {
     "name": "stdout",
     "output_type": "stream",
     "text": [
      "building tree 82 of 1500\n",
      "building tree 83 of 1500\n",
      "building tree 84 of 1500\n",
      "building tree 85 of 1500\n"
     ]
    },
    {
     "name": "stderr",
     "output_type": "stream",
     "text": [
      "[Parallel(n_jobs=-1)]: Done  78 tasks      | elapsed:   10.2s\n",
      "[Parallel(n_jobs=-1)]: Done  79 tasks      | elapsed:   10.2s\n",
      "[Parallel(n_jobs=-1)]: Done  80 tasks      | elapsed:   10.2s\n",
      "[Parallel(n_jobs=-1)]: Done  81 tasks      | elapsed:   10.3s\n"
     ]
    },
    {
     "name": "stdout",
     "output_type": "stream",
     "text": [
      "building tree 86 of 1500\n",
      "building tree 87 of 1500\n",
      "building tree 88 of 1500\n",
      "building tree 89 of 1500\n"
     ]
    },
    {
     "name": "stderr",
     "output_type": "stream",
     "text": [
      "[Parallel(n_jobs=-1)]: Done  82 tasks      | elapsed:   10.6s\n",
      "[Parallel(n_jobs=-1)]: Done  83 tasks      | elapsed:   10.6s\n",
      "[Parallel(n_jobs=-1)]: Done  84 tasks      | elapsed:   10.7s\n",
      "[Parallel(n_jobs=-1)]: Done  85 tasks      | elapsed:   10.7s\n"
     ]
    },
    {
     "name": "stdout",
     "output_type": "stream",
     "text": [
      "building tree 90 of 1500\n",
      "building tree 91 of 1500\n",
      "building tree 92 of 1500\n",
      "building tree 93 of 1500\n"
     ]
    },
    {
     "name": "stderr",
     "output_type": "stream",
     "text": [
      "[Parallel(n_jobs=-1)]: Done  86 tasks      | elapsed:   11.2s\n",
      "[Parallel(n_jobs=-1)]: Done  87 tasks      | elapsed:   11.2s\n",
      "[Parallel(n_jobs=-1)]: Done  88 tasks      | elapsed:   11.3s\n",
      "[Parallel(n_jobs=-1)]: Done  89 tasks      | elapsed:   11.3s\n"
     ]
    },
    {
     "name": "stdout",
     "output_type": "stream",
     "text": [
      "building tree 94 of 1500\n",
      "building tree 95 of 1500\n"
     ]
    },
    {
     "name": "stderr",
     "output_type": "stream",
     "text": [
      "[Parallel(n_jobs=-1)]: Done  90 tasks      | elapsed:   11.5s\n",
      "[Parallel(n_jobs=-1)]: Done  91 tasks      | elapsed:   11.7s\n"
     ]
    },
    {
     "name": "stdout",
     "output_type": "stream",
     "text": [
      "building tree 96 of 1500\n",
      "building tree 97 of 1500\n",
      "building tree 98 of 1500\n"
     ]
    },
    {
     "name": "stderr",
     "output_type": "stream",
     "text": [
      "[Parallel(n_jobs=-1)]: Done  92 tasks      | elapsed:   11.8s\n",
      "[Parallel(n_jobs=-1)]: Done  93 tasks      | elapsed:   11.8s\n",
      "[Parallel(n_jobs=-1)]: Done  94 tasks      | elapsed:   12.0s\n"
     ]
    },
    {
     "name": "stdout",
     "output_type": "stream",
     "text": [
      "building tree 99 of 1500\n",
      "building tree 100 of 1500\n",
      "building tree 101 of 1500\n",
      "building tree 102 of 1500\n"
     ]
    },
    {
     "name": "stderr",
     "output_type": "stream",
     "text": [
      "[Parallel(n_jobs=-1)]: Done  95 tasks      | elapsed:   12.2s\n",
      "[Parallel(n_jobs=-1)]: Done  96 tasks      | elapsed:   12.3s\n",
      "[Parallel(n_jobs=-1)]: Done  97 tasks      | elapsed:   12.4s\n",
      "[Parallel(n_jobs=-1)]: Done  98 tasks      | elapsed:   12.4s\n"
     ]
    },
    {
     "name": "stdout",
     "output_type": "stream",
     "text": [
      "building tree 103 of 1500\n",
      "building tree 104 of 1500\n",
      "building tree 105 of 1500\n"
     ]
    },
    {
     "name": "stderr",
     "output_type": "stream",
     "text": [
      "[Parallel(n_jobs=-1)]: Done  99 tasks      | elapsed:   12.7s\n",
      "[Parallel(n_jobs=-1)]: Done 100 tasks      | elapsed:   12.8s\n",
      "[Parallel(n_jobs=-1)]: Done 101 tasks      | elapsed:   12.8s\n"
     ]
    },
    {
     "name": "stdout",
     "output_type": "stream",
     "text": [
      "building tree 106 of 1500\n",
      "building tree 107 of 1500\n"
     ]
    },
    {
     "name": "stderr",
     "output_type": "stream",
     "text": [
      "[Parallel(n_jobs=-1)]: Done 102 tasks      | elapsed:   12.9s\n",
      "[Parallel(n_jobs=-1)]: Done 103 tasks      | elapsed:   13.1s\n"
     ]
    },
    {
     "name": "stdout",
     "output_type": "stream",
     "text": [
      "building tree 108 of 1500\n",
      "building tree 109 of 1500\n",
      "building tree 110 of 1500\n"
     ]
    },
    {
     "name": "stderr",
     "output_type": "stream",
     "text": [
      "[Parallel(n_jobs=-1)]: Done 104 tasks      | elapsed:   13.3s\n",
      "[Parallel(n_jobs=-1)]: Done 105 tasks      | elapsed:   13.3s\n",
      "[Parallel(n_jobs=-1)]: Done 106 tasks      | elapsed:   13.4s\n"
     ]
    },
    {
     "name": "stdout",
     "output_type": "stream",
     "text": [
      "building tree 111 of 1500\n",
      "building tree 112 of 1500\n",
      "building tree 113 of 1500\n"
     ]
    },
    {
     "name": "stderr",
     "output_type": "stream",
     "text": [
      "[Parallel(n_jobs=-1)]: Done 107 tasks      | elapsed:   13.7s\n",
      "[Parallel(n_jobs=-1)]: Done 108 tasks      | elapsed:   13.7s\n",
      "[Parallel(n_jobs=-1)]: Done 109 tasks      | elapsed:   13.8s\n"
     ]
    },
    {
     "name": "stdout",
     "output_type": "stream",
     "text": [
      "building tree 114 of 1500\n",
      "building tree 115 of 1500\n"
     ]
    },
    {
     "name": "stderr",
     "output_type": "stream",
     "text": [
      "[Parallel(n_jobs=-1)]: Done 110 tasks      | elapsed:   14.0s\n",
      "[Parallel(n_jobs=-1)]: Done 111 tasks      | elapsed:   14.1s\n"
     ]
    },
    {
     "name": "stdout",
     "output_type": "stream",
     "text": [
      "building tree 116 of 1500\n",
      "building tree 117 of 1500\n",
      "building tree 118 of 1500\n"
     ]
    },
    {
     "name": "stderr",
     "output_type": "stream",
     "text": [
      "[Parallel(n_jobs=-1)]: Done 112 tasks      | elapsed:   14.3s\n",
      "[Parallel(n_jobs=-1)]: Done 113 tasks      | elapsed:   14.4s\n",
      "[Parallel(n_jobs=-1)]: Done 114 tasks      | elapsed:   14.4s\n"
     ]
    },
    {
     "name": "stdout",
     "output_type": "stream",
     "text": [
      "building tree 119 of 1500\n",
      "building tree 120 of 1500\n"
     ]
    },
    {
     "name": "stderr",
     "output_type": "stream",
     "text": [
      "[Parallel(n_jobs=-1)]: Done 115 tasks      | elapsed:   14.6s\n",
      "[Parallel(n_jobs=-1)]: Done 116 tasks      | elapsed:   14.8s\n"
     ]
    },
    {
     "name": "stdout",
     "output_type": "stream",
     "text": [
      "building tree 121 of 1500\n",
      "building tree 122 of 1500\n"
     ]
    },
    {
     "name": "stderr",
     "output_type": "stream",
     "text": [
      "[Parallel(n_jobs=-1)]: Done 117 tasks      | elapsed:   14.9s\n",
      "[Parallel(n_jobs=-1)]: Done 118 tasks      | elapsed:   15.0s\n"
     ]
    },
    {
     "name": "stdout",
     "output_type": "stream",
     "text": [
      "building tree 123 of 1500\n",
      "building tree 124 of 1500\n"
     ]
    },
    {
     "name": "stderr",
     "output_type": "stream",
     "text": [
      "[Parallel(n_jobs=-1)]: Done 119 tasks      | elapsed:   15.1s\n",
      "[Parallel(n_jobs=-1)]: Done 120 tasks      | elapsed:   15.3s\n"
     ]
    },
    {
     "name": "stdout",
     "output_type": "stream",
     "text": [
      "building tree 125 of 1500\n",
      "building tree 126 of 1500\n",
      "building tree 127 of 1500\n"
     ]
    },
    {
     "name": "stderr",
     "output_type": "stream",
     "text": [
      "[Parallel(n_jobs=-1)]: Done 121 tasks      | elapsed:   15.3s\n",
      "[Parallel(n_jobs=-1)]: Done 122 tasks      | elapsed:   15.5s\n",
      "[Parallel(n_jobs=-1)]: Done 123 tasks      | elapsed:   15.5s\n"
     ]
    },
    {
     "name": "stdout",
     "output_type": "stream",
     "text": [
      "building tree 128 of 1500\n",
      "building tree 129 of 1500\n",
      "building tree 130 of 1500\n",
      "building tree 131 of 1500\n"
     ]
    },
    {
     "name": "stderr",
     "output_type": "stream",
     "text": [
      "[Parallel(n_jobs=-1)]: Done 124 tasks      | elapsed:   15.8s\n",
      "[Parallel(n_jobs=-1)]: Done 125 tasks      | elapsed:   15.8s\n",
      "[Parallel(n_jobs=-1)]: Done 126 tasks      | elapsed:   16.0s\n",
      "[Parallel(n_jobs=-1)]: Done 127 tasks      | elapsed:   16.0s\n"
     ]
    },
    {
     "name": "stdout",
     "output_type": "stream",
     "text": [
      "building tree 132 of 1500\n",
      "building tree 133 of 1500\n",
      "building tree 134 of 1500\n",
      "building tree 135 of 1500\n"
     ]
    },
    {
     "name": "stderr",
     "output_type": "stream",
     "text": [
      "[Parallel(n_jobs=-1)]: Done 128 tasks      | elapsed:   16.3s\n",
      "[Parallel(n_jobs=-1)]: Done 129 tasks      | elapsed:   16.3s\n",
      "[Parallel(n_jobs=-1)]: Done 130 tasks      | elapsed:   16.4s\n",
      "[Parallel(n_jobs=-1)]: Done 131 tasks      | elapsed:   16.4s\n"
     ]
    },
    {
     "name": "stdout",
     "output_type": "stream",
     "text": [
      "building tree 136 of 1500\n",
      "building tree 137 of 1500\n"
     ]
    },
    {
     "name": "stderr",
     "output_type": "stream",
     "text": [
      "[Parallel(n_jobs=-1)]: Done 132 tasks      | elapsed:   16.8s\n",
      "[Parallel(n_jobs=-1)]: Done 133 tasks      | elapsed:   16.9s\n"
     ]
    },
    {
     "name": "stdout",
     "output_type": "stream",
     "text": [
      "building tree 138 of 1500\n",
      "building tree 139 of 1500\n"
     ]
    },
    {
     "name": "stderr",
     "output_type": "stream",
     "text": [
      "[Parallel(n_jobs=-1)]: Done 134 tasks      | elapsed:   17.1s\n",
      "[Parallel(n_jobs=-1)]: Done 135 tasks      | elapsed:   17.1s\n"
     ]
    },
    {
     "name": "stdout",
     "output_type": "stream",
     "text": [
      "building tree 140 of 1500\n",
      "building tree 141 of 1500\n",
      "building tree 142 of 1500\n",
      "building tree 143 of 1500\n"
     ]
    },
    {
     "name": "stderr",
     "output_type": "stream",
     "text": [
      "[Parallel(n_jobs=-1)]: Done 136 tasks      | elapsed:   17.7s\n",
      "[Parallel(n_jobs=-1)]: Done 137 tasks      | elapsed:   17.7s\n",
      "[Parallel(n_jobs=-1)]: Done 138 tasks      | elapsed:   17.8s\n",
      "[Parallel(n_jobs=-1)]: Done 139 tasks      | elapsed:   17.8s\n"
     ]
    },
    {
     "name": "stdout",
     "output_type": "stream",
     "text": [
      "building tree 144 of 1500\n",
      "building tree 145 of 1500\n",
      "building tree 146 of 1500\n",
      "building tree 147 of 1500\n"
     ]
    },
    {
     "name": "stderr",
     "output_type": "stream",
     "text": [
      "[Parallel(n_jobs=-1)]: Done 140 tasks      | elapsed:   18.3s\n",
      "[Parallel(n_jobs=-1)]: Done 141 tasks      | elapsed:   18.4s\n",
      "[Parallel(n_jobs=-1)]: Done 142 tasks      | elapsed:   18.4s\n",
      "[Parallel(n_jobs=-1)]: Done 143 tasks      | elapsed:   18.5s\n"
     ]
    },
    {
     "name": "stdout",
     "output_type": "stream",
     "text": [
      "building tree 148 of 1500\n",
      "building tree 149 of 1500\n",
      "building tree 150 of 1500\n"
     ]
    },
    {
     "name": "stderr",
     "output_type": "stream",
     "text": [
      "[Parallel(n_jobs=-1)]: Done 144 tasks      | elapsed:   19.0s\n",
      "[Parallel(n_jobs=-1)]: Done 145 tasks      | elapsed:   19.1s\n",
      "[Parallel(n_jobs=-1)]: Done 146 tasks      | elapsed:   19.1s\n"
     ]
    },
    {
     "name": "stdout",
     "output_type": "stream",
     "text": [
      "building tree 151 of 1500\n"
     ]
    },
    {
     "name": "stderr",
     "output_type": "stream",
     "text": [
      "[Parallel(n_jobs=-1)]: Done 147 tasks      | elapsed:   19.3s\n"
     ]
    },
    {
     "name": "stdout",
     "output_type": "stream",
     "text": [
      "building tree 152 of 1500\n",
      "building tree 153 of 1500\n",
      "building tree 154 of 1500\n"
     ]
    },
    {
     "name": "stderr",
     "output_type": "stream",
     "text": [
      "[Parallel(n_jobs=-1)]: Done 148 tasks      | elapsed:   19.6s\n",
      "[Parallel(n_jobs=-1)]: Done 149 tasks      | elapsed:   19.7s\n",
      "[Parallel(n_jobs=-1)]: Done 150 tasks      | elapsed:   19.7s\n"
     ]
    },
    {
     "name": "stdout",
     "output_type": "stream",
     "text": [
      "building tree 155 of 1500\n",
      "building tree 156 of 1500\n"
     ]
    },
    {
     "name": "stderr",
     "output_type": "stream",
     "text": [
      "[Parallel(n_jobs=-1)]: Done 151 tasks      | elapsed:   20.0s\n",
      "[Parallel(n_jobs=-1)]: Done 152 tasks      | elapsed:   20.2s\n"
     ]
    },
    {
     "name": "stdout",
     "output_type": "stream",
     "text": [
      "building tree 157 of 1500\n",
      "building tree 158 of 1500\n"
     ]
    },
    {
     "name": "stderr",
     "output_type": "stream",
     "text": [
      "[Parallel(n_jobs=-1)]: Done 153 tasks      | elapsed:   20.2s\n",
      "[Parallel(n_jobs=-1)]: Done 154 tasks      | elapsed:   20.2s\n"
     ]
    },
    {
     "name": "stdout",
     "output_type": "stream",
     "text": [
      "building tree 159 of 1500\n",
      "building tree 160 of 1500\n",
      "building tree 161 of 1500\n"
     ]
    },
    {
     "name": "stderr",
     "output_type": "stream",
     "text": [
      "[Parallel(n_jobs=-1)]: Done 155 tasks      | elapsed:   20.5s\n",
      "[Parallel(n_jobs=-1)]: Done 156 tasks      | elapsed:   20.7s\n",
      "[Parallel(n_jobs=-1)]: Done 157 tasks      | elapsed:   20.7s\n"
     ]
    },
    {
     "name": "stdout",
     "output_type": "stream",
     "text": [
      "building tree 162 of 1500\n",
      "building tree 163 of 1500\n"
     ]
    },
    {
     "name": "stderr",
     "output_type": "stream",
     "text": [
      "[Parallel(n_jobs=-1)]: Done 158 tasks      | elapsed:   20.7s\n",
      "[Parallel(n_jobs=-1)]: Done 159 tasks      | elapsed:   20.9s\n"
     ]
    },
    {
     "name": "stdout",
     "output_type": "stream",
     "text": [
      "building tree 164 of 1500\n",
      "building tree 165 of 1500\n",
      "building tree 166 of 1500\n"
     ]
    },
    {
     "name": "stderr",
     "output_type": "stream",
     "text": [
      "[Parallel(n_jobs=-1)]: Done 160 tasks      | elapsed:   21.1s\n",
      "[Parallel(n_jobs=-1)]: Done 161 tasks      | elapsed:   21.2s\n",
      "[Parallel(n_jobs=-1)]: Done 162 tasks      | elapsed:   21.3s\n"
     ]
    },
    {
     "name": "stdout",
     "output_type": "stream",
     "text": [
      "building tree 167 of 1500\n",
      "building tree 168 of 1500\n",
      "building tree 169 of 1500\n",
      "building tree 170 of 1500\n"
     ]
    },
    {
     "name": "stderr",
     "output_type": "stream",
     "text": [
      "[Parallel(n_jobs=-1)]: Done 163 tasks      | elapsed:   21.5s\n",
      "[Parallel(n_jobs=-1)]: Done 164 tasks      | elapsed:   21.6s\n",
      "[Parallel(n_jobs=-1)]: Done 165 tasks      | elapsed:   21.7s\n",
      "[Parallel(n_jobs=-1)]: Done 166 tasks      | elapsed:   21.7s\n"
     ]
    },
    {
     "name": "stdout",
     "output_type": "stream",
     "text": [
      "building tree 171 of 1500\n",
      "building tree 172 of 1500\n",
      "building tree 173 of 1500\n"
     ]
    },
    {
     "name": "stderr",
     "output_type": "stream",
     "text": [
      "[Parallel(n_jobs=-1)]: Done 167 tasks      | elapsed:   22.0s\n",
      "[Parallel(n_jobs=-1)]: Done 168 tasks      | elapsed:   22.1s\n",
      "[Parallel(n_jobs=-1)]: Done 169 tasks      | elapsed:   22.1s\n"
     ]
    },
    {
     "name": "stdout",
     "output_type": "stream",
     "text": [
      "building tree 174 of 1500\n"
     ]
    },
    {
     "name": "stderr",
     "output_type": "stream",
     "text": [
      "[Parallel(n_jobs=-1)]: Done 170 tasks      | elapsed:   22.2s\n"
     ]
    },
    {
     "name": "stdout",
     "output_type": "stream",
     "text": [
      "building tree 175 of 1500\n",
      "building tree 176 of 1500\n",
      "building tree 177 of 1500\n"
     ]
    },
    {
     "name": "stderr",
     "output_type": "stream",
     "text": [
      "[Parallel(n_jobs=-1)]: Done 171 tasks      | elapsed:   22.5s\n",
      "[Parallel(n_jobs=-1)]: Done 172 tasks      | elapsed:   22.6s\n",
      "[Parallel(n_jobs=-1)]: Done 173 tasks      | elapsed:   22.6s\n"
     ]
    },
    {
     "name": "stdout",
     "output_type": "stream",
     "text": [
      "building tree 178 of 1500\n"
     ]
    },
    {
     "name": "stderr",
     "output_type": "stream",
     "text": [
      "[Parallel(n_jobs=-1)]: Done 174 tasks      | elapsed:   22.8s\n"
     ]
    },
    {
     "name": "stdout",
     "output_type": "stream",
     "text": [
      "building tree 179 of 1500\n",
      "building tree 180 of 1500\n",
      "building tree 181 of 1500\n"
     ]
    },
    {
     "name": "stderr",
     "output_type": "stream",
     "text": [
      "[Parallel(n_jobs=-1)]: Done 175 tasks      | elapsed:   23.1s\n",
      "[Parallel(n_jobs=-1)]: Done 176 tasks      | elapsed:   23.1s\n",
      "[Parallel(n_jobs=-1)]: Done 177 tasks      | elapsed:   23.1s\n"
     ]
    },
    {
     "name": "stdout",
     "output_type": "stream",
     "text": [
      "building tree 182 of 1500\n",
      "building tree 183 of 1500\n",
      "building tree 184 of 1500\n"
     ]
    },
    {
     "name": "stderr",
     "output_type": "stream",
     "text": [
      "[Parallel(n_jobs=-1)]: Done 178 tasks      | elapsed:   23.4s\n",
      "[Parallel(n_jobs=-1)]: Done 179 tasks      | elapsed:   23.5s\n",
      "[Parallel(n_jobs=-1)]: Done 180 tasks      | elapsed:   23.5s\n"
     ]
    },
    {
     "name": "stdout",
     "output_type": "stream",
     "text": [
      "building tree 185 of 1500\n"
     ]
    },
    {
     "name": "stderr",
     "output_type": "stream",
     "text": [
      "[Parallel(n_jobs=-1)]: Done 181 tasks      | elapsed:   23.6s\n"
     ]
    },
    {
     "name": "stdout",
     "output_type": "stream",
     "text": [
      "building tree 186 of 1500\n",
      "building tree 187 of 1500\n",
      "building tree 188 of 1500\n",
      "building tree 189 of 1500\n"
     ]
    },
    {
     "name": "stderr",
     "output_type": "stream",
     "text": [
      "[Parallel(n_jobs=-1)]: Done 182 tasks      | elapsed:   24.0s\n",
      "[Parallel(n_jobs=-1)]: Done 183 tasks      | elapsed:   24.0s\n",
      "[Parallel(n_jobs=-1)]: Done 184 tasks      | elapsed:   24.1s\n",
      "[Parallel(n_jobs=-1)]: Done 185 tasks      | elapsed:   24.2s\n"
     ]
    },
    {
     "name": "stdout",
     "output_type": "stream",
     "text": [
      "building tree 190 of 1500\n",
      "building tree 191 of 1500\n",
      "building tree 192 of 1500\n",
      "building tree 193 of 1500\n"
     ]
    },
    {
     "name": "stderr",
     "output_type": "stream",
     "text": [
      "[Parallel(n_jobs=-1)]: Done 186 tasks      | elapsed:   24.5s\n",
      "[Parallel(n_jobs=-1)]: Done 187 tasks      | elapsed:   24.5s\n",
      "[Parallel(n_jobs=-1)]: Done 188 tasks      | elapsed:   24.6s\n",
      "[Parallel(n_jobs=-1)]: Done 189 tasks      | elapsed:   24.7s\n"
     ]
    },
    {
     "name": "stdout",
     "output_type": "stream",
     "text": [
      "building tree 194 of 1500\n",
      "building tree 195 of 1500\n"
     ]
    },
    {
     "name": "stderr",
     "output_type": "stream",
     "text": [
      "[Parallel(n_jobs=-1)]: Done 190 tasks      | elapsed:   24.9s\n",
      "[Parallel(n_jobs=-1)]: Done 191 tasks      | elapsed:   25.1s\n"
     ]
    },
    {
     "name": "stdout",
     "output_type": "stream",
     "text": [
      "building tree 196 of 1500\n",
      "building tree 197 of 1500\n",
      "building tree 198 of 1500\n"
     ]
    },
    {
     "name": "stderr",
     "output_type": "stream",
     "text": [
      "[Parallel(n_jobs=-1)]: Done 192 tasks      | elapsed:   25.2s\n",
      "[Parallel(n_jobs=-1)]: Done 193 tasks      | elapsed:   25.2s\n",
      "[Parallel(n_jobs=-1)]: Done 194 tasks      | elapsed:   25.4s\n"
     ]
    },
    {
     "name": "stdout",
     "output_type": "stream",
     "text": [
      "building tree 199 of 1500\n",
      "building tree 200 of 1500\n",
      "building tree 201 of 1500\n"
     ]
    },
    {
     "name": "stderr",
     "output_type": "stream",
     "text": [
      "[Parallel(n_jobs=-1)]: Done 195 tasks      | elapsed:   25.6s\n",
      "[Parallel(n_jobs=-1)]: Done 196 tasks      | elapsed:   25.7s\n",
      "[Parallel(n_jobs=-1)]: Done 197 tasks      | elapsed:   25.7s\n"
     ]
    },
    {
     "name": "stdout",
     "output_type": "stream",
     "text": [
      "building tree 202 of 1500\n",
      "building tree 203 of 1500\n"
     ]
    },
    {
     "name": "stderr",
     "output_type": "stream",
     "text": [
      "[Parallel(n_jobs=-1)]: Done 198 tasks      | elapsed:   25.9s\n",
      "[Parallel(n_jobs=-1)]: Done 199 tasks      | elapsed:   26.1s\n"
     ]
    },
    {
     "name": "stdout",
     "output_type": "stream",
     "text": [
      "building tree 204 of 1500\n",
      "building tree 205 of 1500\n",
      "building tree 206 of 1500\n"
     ]
    },
    {
     "name": "stderr",
     "output_type": "stream",
     "text": [
      "[Parallel(n_jobs=-1)]: Done 200 tasks      | elapsed:   26.2s\n",
      "[Parallel(n_jobs=-1)]: Done 201 tasks      | elapsed:   26.2s\n",
      "[Parallel(n_jobs=-1)]: Done 202 tasks      | elapsed:   26.3s\n"
     ]
    },
    {
     "name": "stdout",
     "output_type": "stream",
     "text": [
      "building tree 207 of 1500\n",
      "building tree 208 of 1500\n",
      "building tree 209 of 1500\n",
      "building tree 210 of 1500\n"
     ]
    },
    {
     "name": "stderr",
     "output_type": "stream",
     "text": [
      "[Parallel(n_jobs=-1)]: Done 203 tasks      | elapsed:   26.5s\n",
      "[Parallel(n_jobs=-1)]: Done 204 tasks      | elapsed:   26.7s\n",
      "[Parallel(n_jobs=-1)]: Done 205 tasks      | elapsed:   26.7s\n",
      "[Parallel(n_jobs=-1)]: Done 206 tasks      | elapsed:   26.7s\n"
     ]
    },
    {
     "name": "stdout",
     "output_type": "stream",
     "text": [
      "building tree 211 of 1500building tree 212 of 1500\n",
      "\n",
      "building tree 213 of 1500\n",
      "building tree 214 of 1500\n"
     ]
    },
    {
     "name": "stderr",
     "output_type": "stream",
     "text": [
      "[Parallel(n_jobs=-1)]: Done 207 tasks      | elapsed:   27.1s\n",
      "[Parallel(n_jobs=-1)]: Done 208 tasks      | elapsed:   27.1s\n",
      "[Parallel(n_jobs=-1)]: Done 209 tasks      | elapsed:   27.2s\n",
      "[Parallel(n_jobs=-1)]: Done 210 tasks      | elapsed:   27.2s\n"
     ]
    },
    {
     "name": "stdout",
     "output_type": "stream",
     "text": [
      "building tree 215 of 1500\n",
      "building tree 216 of 1500\n",
      "building tree 217 of 1500\n",
      "building tree 218 of 1500\n"
     ]
    },
    {
     "name": "stderr",
     "output_type": "stream",
     "text": [
      "[Parallel(n_jobs=-1)]: Done 211 tasks      | elapsed:   27.7s\n",
      "[Parallel(n_jobs=-1)]: Done 212 tasks      | elapsed:   27.7s\n",
      "[Parallel(n_jobs=-1)]: Done 213 tasks      | elapsed:   27.7s\n",
      "[Parallel(n_jobs=-1)]: Done 214 tasks      | elapsed:   27.8s\n"
     ]
    },
    {
     "name": "stdout",
     "output_type": "stream",
     "text": [
      "building tree 219 of 1500\n",
      "building tree 220 of 1500\n",
      "building tree 221 of 1500\n",
      "building tree 222 of 1500\n"
     ]
    },
    {
     "name": "stderr",
     "output_type": "stream",
     "text": [
      "[Parallel(n_jobs=-1)]: Done 215 tasks      | elapsed:   28.2s\n",
      "[Parallel(n_jobs=-1)]: Done 216 tasks      | elapsed:   28.2s\n",
      "[Parallel(n_jobs=-1)]: Done 217 tasks      | elapsed:   28.2s\n",
      "[Parallel(n_jobs=-1)]: Done 218 tasks      | elapsed:   28.3s\n"
     ]
    },
    {
     "name": "stdout",
     "output_type": "stream",
     "text": [
      "building tree 223 of 1500\n",
      "building tree 224 of 1500\n",
      "building tree 225 of 1500\n",
      "building tree 226 of 1500\n"
     ]
    },
    {
     "name": "stderr",
     "output_type": "stream",
     "text": [
      "[Parallel(n_jobs=-1)]: Done 219 tasks      | elapsed:   28.7s\n",
      "[Parallel(n_jobs=-1)]: Done 220 tasks      | elapsed:   28.7s\n",
      "[Parallel(n_jobs=-1)]: Done 221 tasks      | elapsed:   28.8s\n",
      "[Parallel(n_jobs=-1)]: Done 222 tasks      | elapsed:   28.9s\n"
     ]
    },
    {
     "name": "stdout",
     "output_type": "stream",
     "text": [
      "building tree 227 of 1500\n",
      "building tree 228 of 1500\n",
      "building tree 229 of 1500\n",
      "building tree 230 of 1500\n"
     ]
    },
    {
     "name": "stderr",
     "output_type": "stream",
     "text": [
      "[Parallel(n_jobs=-1)]: Done 223 tasks      | elapsed:   29.3s\n",
      "[Parallel(n_jobs=-1)]: Done 224 tasks      | elapsed:   29.3s\n",
      "[Parallel(n_jobs=-1)]: Done 225 tasks      | elapsed:   29.3s\n",
      "[Parallel(n_jobs=-1)]: Done 226 tasks      | elapsed:   29.3s\n"
     ]
    },
    {
     "name": "stdout",
     "output_type": "stream",
     "text": [
      "building tree 231 of 1500\n",
      "building tree 232 of 1500\n",
      "building tree 233 of 1500\n",
      "building tree 234 of 1500\n"
     ]
    },
    {
     "name": "stderr",
     "output_type": "stream",
     "text": [
      "[Parallel(n_jobs=-1)]: Done 227 tasks      | elapsed:   29.6s\n",
      "[Parallel(n_jobs=-1)]: Done 228 tasks      | elapsed:   29.7s\n",
      "[Parallel(n_jobs=-1)]: Done 229 tasks      | elapsed:   29.8s\n",
      "[Parallel(n_jobs=-1)]: Done 230 tasks      | elapsed:   29.8s\n"
     ]
    },
    {
     "name": "stdout",
     "output_type": "stream",
     "text": [
      "building tree 235 of 1500\n",
      "building tree 236 of 1500\n",
      "building tree 237 of 1500\n"
     ]
    },
    {
     "name": "stderr",
     "output_type": "stream",
     "text": [
      "[Parallel(n_jobs=-1)]: Done 231 tasks      | elapsed:   30.1s\n",
      "[Parallel(n_jobs=-1)]: Done 232 tasks      | elapsed:   30.2s\n",
      "[Parallel(n_jobs=-1)]: Done 233 tasks      | elapsed:   30.2s\n"
     ]
    },
    {
     "name": "stdout",
     "output_type": "stream",
     "text": [
      "building tree 238 of 1500\n"
     ]
    },
    {
     "name": "stderr",
     "output_type": "stream",
     "text": [
      "[Parallel(n_jobs=-1)]: Done 234 tasks      | elapsed:   30.3s\n"
     ]
    },
    {
     "name": "stdout",
     "output_type": "stream",
     "text": [
      "building tree 239 of 1500\n",
      "building tree 240 of 1500\n",
      "building tree 241 of 1500\n",
      "building tree 242 of 1500\n"
     ]
    },
    {
     "name": "stderr",
     "output_type": "stream",
     "text": [
      "[Parallel(n_jobs=-1)]: Done 235 tasks      | elapsed:   30.7s\n",
      "[Parallel(n_jobs=-1)]: Done 236 tasks      | elapsed:   30.7s\n",
      "[Parallel(n_jobs=-1)]: Done 237 tasks      | elapsed:   30.8s\n",
      "[Parallel(n_jobs=-1)]: Done 238 tasks      | elapsed:   30.9s\n"
     ]
    },
    {
     "name": "stdout",
     "output_type": "stream",
     "text": [
      "building tree 243 of 1500\n",
      "building tree 244 of 1500\n",
      "building tree 245 of 1500\n"
     ]
    },
    {
     "name": "stderr",
     "output_type": "stream",
     "text": [
      "[Parallel(n_jobs=-1)]: Done 239 tasks      | elapsed:   31.1s\n",
      "[Parallel(n_jobs=-1)]: Done 240 tasks      | elapsed:   31.2s\n",
      "[Parallel(n_jobs=-1)]: Done 241 tasks      | elapsed:   31.2s\n"
     ]
    },
    {
     "name": "stdout",
     "output_type": "stream",
     "text": [
      "building tree 246 of 1500\n"
     ]
    },
    {
     "name": "stderr",
     "output_type": "stream",
     "text": [
      "[Parallel(n_jobs=-1)]: Done 242 tasks      | elapsed:   31.3s\n"
     ]
    },
    {
     "name": "stdout",
     "output_type": "stream",
     "text": [
      "building tree 247 of 1500\n",
      "building tree 248 of 1500\n",
      "building tree 249 of 1500\n"
     ]
    },
    {
     "name": "stderr",
     "output_type": "stream",
     "text": [
      "[Parallel(n_jobs=-1)]: Done 243 tasks      | elapsed:   31.6s\n",
      "[Parallel(n_jobs=-1)]: Done 244 tasks      | elapsed:   31.7s\n",
      "[Parallel(n_jobs=-1)]: Done 245 tasks      | elapsed:   31.7s\n"
     ]
    },
    {
     "name": "stdout",
     "output_type": "stream",
     "text": [
      "building tree 250 of 1500\n"
     ]
    },
    {
     "name": "stderr",
     "output_type": "stream",
     "text": [
      "[Parallel(n_jobs=-1)]: Done 246 tasks      | elapsed:   31.9s\n"
     ]
    },
    {
     "name": "stdout",
     "output_type": "stream",
     "text": [
      "building tree 251 of 1500\n",
      "building tree 252 of 1500\n",
      "building tree 253 of 1500\n",
      "building tree 254 of 1500\n"
     ]
    },
    {
     "name": "stderr",
     "output_type": "stream",
     "text": [
      "[Parallel(n_jobs=-1)]: Done 247 tasks      | elapsed:   32.1s\n",
      "[Parallel(n_jobs=-1)]: Done 248 tasks      | elapsed:   32.1s\n",
      "[Parallel(n_jobs=-1)]: Done 249 tasks      | elapsed:   32.2s\n",
      "[Parallel(n_jobs=-1)]: Done 250 tasks      | elapsed:   32.3s\n"
     ]
    },
    {
     "name": "stdout",
     "output_type": "stream",
     "text": [
      "building tree 255 of 1500\n",
      "building tree 256 of 1500\n",
      "building tree 257 of 1500\n",
      "building tree 258 of 1500\n"
     ]
    },
    {
     "name": "stderr",
     "output_type": "stream",
     "text": [
      "[Parallel(n_jobs=-1)]: Done 251 tasks      | elapsed:   32.6s\n",
      "[Parallel(n_jobs=-1)]: Done 252 tasks      | elapsed:   32.6s\n",
      "[Parallel(n_jobs=-1)]: Done 253 tasks      | elapsed:   32.6s\n",
      "[Parallel(n_jobs=-1)]: Done 254 tasks      | elapsed:   32.8s\n"
     ]
    },
    {
     "name": "stdout",
     "output_type": "stream",
     "text": [
      "building tree 259 of 1500\n",
      "building tree 260 of 1500\n",
      "building tree 261 of 1500\n",
      "building tree 262 of 1500\n"
     ]
    },
    {
     "name": "stderr",
     "output_type": "stream",
     "text": [
      "[Parallel(n_jobs=-1)]: Done 255 tasks      | elapsed:   33.1s\n",
      "[Parallel(n_jobs=-1)]: Done 256 tasks      | elapsed:   33.1s\n",
      "[Parallel(n_jobs=-1)]: Done 257 tasks      | elapsed:   33.2s\n",
      "[Parallel(n_jobs=-1)]: Done 258 tasks      | elapsed:   33.2s\n"
     ]
    },
    {
     "name": "stdout",
     "output_type": "stream",
     "text": [
      "building tree 263 of 1500\n",
      "building tree 264 of 1500\n",
      "building tree 265 of 1500\n"
     ]
    },
    {
     "name": "stderr",
     "output_type": "stream",
     "text": [
      "[Parallel(n_jobs=-1)]: Done 259 tasks      | elapsed:   33.6s\n",
      "[Parallel(n_jobs=-1)]: Done 260 tasks      | elapsed:   33.7s\n",
      "[Parallel(n_jobs=-1)]: Done 261 tasks      | elapsed:   33.7s\n"
     ]
    },
    {
     "name": "stdout",
     "output_type": "stream",
     "text": [
      "building tree 266 of 1500\n"
     ]
    },
    {
     "name": "stderr",
     "output_type": "stream",
     "text": [
      "[Parallel(n_jobs=-1)]: Done 262 tasks      | elapsed:   33.8s\n"
     ]
    },
    {
     "name": "stdout",
     "output_type": "stream",
     "text": [
      "building tree 267 of 1500\n",
      "building tree 268 of 1500\n",
      "building tree 269 of 1500\n"
     ]
    },
    {
     "name": "stderr",
     "output_type": "stream",
     "text": [
      "[Parallel(n_jobs=-1)]: Done 263 tasks      | elapsed:   34.1s\n",
      "[Parallel(n_jobs=-1)]: Done 264 tasks      | elapsed:   34.1s\n",
      "[Parallel(n_jobs=-1)]: Done 265 tasks      | elapsed:   34.2s\n"
     ]
    },
    {
     "name": "stdout",
     "output_type": "stream",
     "text": [
      "building tree 270 of 1500\n",
      "building tree 271 of 1500\n"
     ]
    },
    {
     "name": "stderr",
     "output_type": "stream",
     "text": [
      "[Parallel(n_jobs=-1)]: Done 266 tasks      | elapsed:   34.4s\n",
      "[Parallel(n_jobs=-1)]: Done 267 tasks      | elapsed:   34.6s\n"
     ]
    },
    {
     "name": "stdout",
     "output_type": "stream",
     "text": [
      "building tree 272 of 1500\n",
      "building tree 273 of 1500\n",
      "building tree 274 of 1500\n"
     ]
    },
    {
     "name": "stderr",
     "output_type": "stream",
     "text": [
      "[Parallel(n_jobs=-1)]: Done 268 tasks      | elapsed:   34.7s\n",
      "[Parallel(n_jobs=-1)]: Done 269 tasks      | elapsed:   34.7s\n",
      "[Parallel(n_jobs=-1)]: Done 270 tasks      | elapsed:   34.8s\n"
     ]
    },
    {
     "name": "stdout",
     "output_type": "stream",
     "text": [
      "building tree 275 of 1500\n",
      "building tree 276 of 1500\n",
      "building tree 277 of 1500\n"
     ]
    },
    {
     "name": "stderr",
     "output_type": "stream",
     "text": [
      "[Parallel(n_jobs=-1)]: Done 271 tasks      | elapsed:   35.1s\n",
      "[Parallel(n_jobs=-1)]: Done 272 tasks      | elapsed:   35.1s\n",
      "[Parallel(n_jobs=-1)]: Done 273 tasks      | elapsed:   35.1s\n"
     ]
    },
    {
     "name": "stdout",
     "output_type": "stream",
     "text": [
      "building tree 278 of 1500\n"
     ]
    },
    {
     "name": "stderr",
     "output_type": "stream",
     "text": [
      "[Parallel(n_jobs=-1)]: Done 274 tasks      | elapsed:   35.3s\n"
     ]
    },
    {
     "name": "stdout",
     "output_type": "stream",
     "text": [
      "building tree 279 of 1500\n",
      "building tree 280 of 1500\n",
      "building tree 281 of 1500\n"
     ]
    },
    {
     "name": "stderr",
     "output_type": "stream",
     "text": [
      "[Parallel(n_jobs=-1)]: Done 275 tasks      | elapsed:   35.6s\n",
      "[Parallel(n_jobs=-1)]: Done 276 tasks      | elapsed:   35.6s\n",
      "[Parallel(n_jobs=-1)]: Done 277 tasks      | elapsed:   35.7s\n"
     ]
    },
    {
     "name": "stdout",
     "output_type": "stream",
     "text": [
      "building tree 282 of 1500\n",
      "building tree 283 of 1500\n",
      "building tree 284 of 1500\n"
     ]
    },
    {
     "name": "stderr",
     "output_type": "stream",
     "text": [
      "[Parallel(n_jobs=-1)]: Done 278 tasks      | elapsed:   35.9s\n",
      "[Parallel(n_jobs=-1)]: Done 279 tasks      | elapsed:   36.1s\n",
      "[Parallel(n_jobs=-1)]: Done 280 tasks      | elapsed:   36.2s\n"
     ]
    },
    {
     "name": "stdout",
     "output_type": "stream",
     "text": [
      "building tree 285 of 1500\n"
     ]
    },
    {
     "name": "stderr",
     "output_type": "stream",
     "text": [
      "[Parallel(n_jobs=-1)]: Done 281 tasks      | elapsed:   36.2s\n"
     ]
    },
    {
     "name": "stdout",
     "output_type": "stream",
     "text": [
      "building tree 286 of 1500\n",
      "building tree 287 of 1500\n",
      "building tree 288 of 1500\n"
     ]
    },
    {
     "name": "stderr",
     "output_type": "stream",
     "text": [
      "[Parallel(n_jobs=-1)]: Done 282 tasks      | elapsed:   36.4s\n",
      "[Parallel(n_jobs=-1)]: Done 283 tasks      | elapsed:   36.6s\n",
      "[Parallel(n_jobs=-1)]: Done 284 tasks      | elapsed:   36.6s\n"
     ]
    },
    {
     "name": "stdout",
     "output_type": "stream",
     "text": [
      "building tree 289 of 1500\n",
      "building tree 290 of 1500\n"
     ]
    },
    {
     "name": "stderr",
     "output_type": "stream",
     "text": [
      "[Parallel(n_jobs=-1)]: Done 285 tasks      | elapsed:   36.7s\n",
      "[Parallel(n_jobs=-1)]: Done 286 tasks      | elapsed:   36.8s\n"
     ]
    },
    {
     "name": "stdout",
     "output_type": "stream",
     "text": [
      "building tree 291 of 1500\n",
      "building tree 292 of 1500\n",
      "building tree 293 of 1500\n"
     ]
    },
    {
     "name": "stderr",
     "output_type": "stream",
     "text": [
      "[Parallel(n_jobs=-1)]: Done 287 tasks      | elapsed:   37.0s\n",
      "[Parallel(n_jobs=-1)]: Done 288 tasks      | elapsed:   37.0s\n",
      "[Parallel(n_jobs=-1)]: Done 289 tasks      | elapsed:   37.1s\n"
     ]
    },
    {
     "name": "stdout",
     "output_type": "stream",
     "text": [
      "building tree 294 of 1500\n",
      "building tree 295 of 1500\n",
      "building tree 296 of 1500\n"
     ]
    },
    {
     "name": "stderr",
     "output_type": "stream",
     "text": [
      "[Parallel(n_jobs=-1)]: Done 290 tasks      | elapsed:   37.3s\n",
      "[Parallel(n_jobs=-1)]: Done 291 tasks      | elapsed:   37.4s\n",
      "[Parallel(n_jobs=-1)]: Done 292 tasks      | elapsed:   37.5s\n"
     ]
    },
    {
     "name": "stdout",
     "output_type": "stream",
     "text": [
      "building tree 297 of 1500\n",
      "building tree 298 of 1500\n"
     ]
    },
    {
     "name": "stderr",
     "output_type": "stream",
     "text": [
      "[Parallel(n_jobs=-1)]: Done 293 tasks      | elapsed:   37.6s\n",
      "[Parallel(n_jobs=-1)]: Done 294 tasks      | elapsed:   37.8s\n"
     ]
    },
    {
     "name": "stdout",
     "output_type": "stream",
     "text": [
      "building tree 299 of 1500\n",
      "building tree 300 of 1500\n",
      "building tree 301 of 1500\n"
     ]
    },
    {
     "name": "stderr",
     "output_type": "stream",
     "text": [
      "[Parallel(n_jobs=-1)]: Done 295 tasks      | elapsed:   37.9s\n",
      "[Parallel(n_jobs=-1)]: Done 296 tasks      | elapsed:   37.9s\n",
      "[Parallel(n_jobs=-1)]: Done 297 tasks      | elapsed:   38.1s\n"
     ]
    },
    {
     "name": "stdout",
     "output_type": "stream",
     "text": [
      "building tree 302 of 1500\n",
      "building tree 303 of 1500\n",
      "building tree 304 of 1500\n"
     ]
    },
    {
     "name": "stderr",
     "output_type": "stream",
     "text": [
      "[Parallel(n_jobs=-1)]: Done 298 tasks      | elapsed:   38.3s\n",
      "[Parallel(n_jobs=-1)]: Done 299 tasks      | elapsed:   38.4s\n",
      "[Parallel(n_jobs=-1)]: Done 300 tasks      | elapsed:   38.4s\n"
     ]
    },
    {
     "name": "stdout",
     "output_type": "stream",
     "text": [
      "building tree 305 of 1500\n",
      "building tree 306 of 1500\n",
      "building tree 307 of 1500\n",
      "building tree 308 of 1500\n"
     ]
    },
    {
     "name": "stderr",
     "output_type": "stream",
     "text": [
      "[Parallel(n_jobs=-1)]: Done 301 tasks      | elapsed:   38.7s\n",
      "[Parallel(n_jobs=-1)]: Done 302 tasks      | elapsed:   38.7s\n",
      "[Parallel(n_jobs=-1)]: Done 303 tasks      | elapsed:   38.8s\n",
      "[Parallel(n_jobs=-1)]: Done 304 tasks      | elapsed:   38.8s\n"
     ]
    },
    {
     "name": "stdout",
     "output_type": "stream",
     "text": [
      "building tree 309 of 1500\n",
      "building tree 310 of 1500\n",
      "building tree 311 of 1500\n",
      "building tree 312 of 1500\n"
     ]
    },
    {
     "name": "stderr",
     "output_type": "stream",
     "text": [
      "[Parallel(n_jobs=-1)]: Done 305 tasks      | elapsed:   39.2s\n",
      "[Parallel(n_jobs=-1)]: Done 306 tasks      | elapsed:   39.2s\n",
      "[Parallel(n_jobs=-1)]: Done 307 tasks      | elapsed:   39.3s\n",
      "[Parallel(n_jobs=-1)]: Done 308 tasks      | elapsed:   39.4s\n"
     ]
    },
    {
     "name": "stdout",
     "output_type": "stream",
     "text": [
      "building tree 313 of 1500\n",
      "building tree 314 of 1500\n",
      "building tree 315 of 1500\n",
      "building tree 316 of 1500\n"
     ]
    },
    {
     "name": "stderr",
     "output_type": "stream",
     "text": [
      "[Parallel(n_jobs=-1)]: Done 309 tasks      | elapsed:   39.7s\n",
      "[Parallel(n_jobs=-1)]: Done 310 tasks      | elapsed:   39.8s\n",
      "[Parallel(n_jobs=-1)]: Done 311 tasks      | elapsed:   39.8s\n",
      "[Parallel(n_jobs=-1)]: Done 312 tasks      | elapsed:   39.9s\n"
     ]
    },
    {
     "name": "stdout",
     "output_type": "stream",
     "text": [
      "building tree 317 of 1500\n",
      "building tree 318 of 1500\n",
      "building tree 319 of 1500\n",
      "building tree 320 of 1500\n"
     ]
    },
    {
     "name": "stderr",
     "output_type": "stream",
     "text": [
      "[Parallel(n_jobs=-1)]: Done 313 tasks      | elapsed:   40.3s\n",
      "[Parallel(n_jobs=-1)]: Done 314 tasks      | elapsed:   40.3s\n",
      "[Parallel(n_jobs=-1)]: Done 315 tasks      | elapsed:   40.4s\n",
      "[Parallel(n_jobs=-1)]: Done 316 tasks      | elapsed:   40.4s\n"
     ]
    },
    {
     "name": "stdout",
     "output_type": "stream",
     "text": [
      "building tree 321 of 1500\n",
      "building tree 322 of 1500\n",
      "building tree 323 of 1500\n",
      "building tree 324 of 1500\n"
     ]
    },
    {
     "name": "stderr",
     "output_type": "stream",
     "text": [
      "[Parallel(n_jobs=-1)]: Done 317 tasks      | elapsed:   40.7s\n",
      "[Parallel(n_jobs=-1)]: Done 318 tasks      | elapsed:   40.8s\n",
      "[Parallel(n_jobs=-1)]: Done 319 tasks      | elapsed:   40.9s\n",
      "[Parallel(n_jobs=-1)]: Done 320 tasks      | elapsed:   40.9s\n"
     ]
    },
    {
     "name": "stdout",
     "output_type": "stream",
     "text": [
      "building tree 325 of 1500\n",
      "building tree 326 of 1500\n"
     ]
    },
    {
     "name": "stderr",
     "output_type": "stream",
     "text": [
      "[Parallel(n_jobs=-1)]: Done 321 tasks      | elapsed:   41.2s\n",
      "[Parallel(n_jobs=-1)]: Done 322 tasks      | elapsed:   41.3s\n"
     ]
    },
    {
     "name": "stdout",
     "output_type": "stream",
     "text": [
      "building tree 327 of 1500\n",
      "building tree 328 of 1500\n"
     ]
    },
    {
     "name": "stderr",
     "output_type": "stream",
     "text": [
      "[Parallel(n_jobs=-1)]: Done 323 tasks      | elapsed:   41.5s\n",
      "[Parallel(n_jobs=-1)]: Done 324 tasks      | elapsed:   41.5s\n"
     ]
    },
    {
     "name": "stdout",
     "output_type": "stream",
     "text": [
      "building tree 329 of 1500\n",
      "building tree 330 of 1500\n",
      "building tree 331 of 1500\n"
     ]
    },
    {
     "name": "stderr",
     "output_type": "stream",
     "text": [
      "[Parallel(n_jobs=-1)]: Done 325 tasks      | elapsed:   41.9s\n",
      "[Parallel(n_jobs=-1)]: Done 326 tasks      | elapsed:   42.0s\n",
      "[Parallel(n_jobs=-1)]: Done 327 tasks      | elapsed:   42.0s\n"
     ]
    },
    {
     "name": "stdout",
     "output_type": "stream",
     "text": [
      "building tree 332 of 1500\n"
     ]
    },
    {
     "name": "stderr",
     "output_type": "stream",
     "text": [
      "[Parallel(n_jobs=-1)]: Done 328 tasks      | elapsed:   42.2s\n"
     ]
    },
    {
     "name": "stdout",
     "output_type": "stream",
     "text": [
      "building tree 333 of 1500\n",
      "building tree 334 of 1500\n",
      "building tree 335 of 1500\n"
     ]
    },
    {
     "name": "stderr",
     "output_type": "stream",
     "text": [
      "[Parallel(n_jobs=-1)]: Done 329 tasks      | elapsed:   42.6s\n",
      "[Parallel(n_jobs=-1)]: Done 330 tasks      | elapsed:   42.6s\n",
      "[Parallel(n_jobs=-1)]: Done 331 tasks      | elapsed:   42.7s\n"
     ]
    },
    {
     "name": "stdout",
     "output_type": "stream",
     "text": [
      "building tree 336 of 1500\n"
     ]
    },
    {
     "name": "stderr",
     "output_type": "stream",
     "text": [
      "[Parallel(n_jobs=-1)]: Done 332 tasks      | elapsed:   42.9s\n"
     ]
    },
    {
     "name": "stdout",
     "output_type": "stream",
     "text": [
      "building tree 337 of 1500\n",
      "building tree 338 of 1500\n",
      "building tree 339 of 1500\n"
     ]
    },
    {
     "name": "stderr",
     "output_type": "stream",
     "text": [
      "[Parallel(n_jobs=-1)]: Done 333 tasks      | elapsed:   43.2s\n",
      "[Parallel(n_jobs=-1)]: Done 334 tasks      | elapsed:   43.2s\n",
      "[Parallel(n_jobs=-1)]: Done 335 tasks      | elapsed:   43.3s\n"
     ]
    },
    {
     "name": "stdout",
     "output_type": "stream",
     "text": [
      "building tree 340 of 1500\n"
     ]
    },
    {
     "name": "stderr",
     "output_type": "stream",
     "text": [
      "[Parallel(n_jobs=-1)]: Done 336 tasks      | elapsed:   43.5s\n"
     ]
    },
    {
     "name": "stdout",
     "output_type": "stream",
     "text": [
      "building tree 341 of 1500\n",
      "building tree 342 of 1500\n",
      "building tree 343 of 1500\n"
     ]
    },
    {
     "name": "stderr",
     "output_type": "stream",
     "text": [
      "[Parallel(n_jobs=-1)]: Done 337 tasks      | elapsed:   43.9s\n",
      "[Parallel(n_jobs=-1)]: Done 338 tasks      | elapsed:   43.9s\n",
      "[Parallel(n_jobs=-1)]: Done 339 tasks      | elapsed:   43.9s\n"
     ]
    },
    {
     "name": "stdout",
     "output_type": "stream",
     "text": [
      "building tree 344 of 1500\n"
     ]
    },
    {
     "name": "stderr",
     "output_type": "stream",
     "text": [
      "[Parallel(n_jobs=-1)]: Done 340 tasks      | elapsed:   44.2s\n"
     ]
    },
    {
     "name": "stdout",
     "output_type": "stream",
     "text": [
      "building tree 345 of 1500\n",
      "building tree 346 of 1500\n",
      "building tree 347 of 1500\n"
     ]
    },
    {
     "name": "stderr",
     "output_type": "stream",
     "text": [
      "[Parallel(n_jobs=-1)]: Done 341 tasks      | elapsed:   44.5s\n",
      "[Parallel(n_jobs=-1)]: Done 342 tasks      | elapsed:   44.6s\n",
      "[Parallel(n_jobs=-1)]: Done 343 tasks      | elapsed:   44.7s\n"
     ]
    },
    {
     "name": "stdout",
     "output_type": "stream",
     "text": [
      "building tree 348 of 1500\n",
      "building tree 349 of 1500\n"
     ]
    },
    {
     "name": "stderr",
     "output_type": "stream",
     "text": [
      "[Parallel(n_jobs=-1)]: Done 344 tasks      | elapsed:   44.9s\n",
      "[Parallel(n_jobs=-1)]: Done 345 tasks      | elapsed:   45.1s\n"
     ]
    },
    {
     "name": "stdout",
     "output_type": "stream",
     "text": [
      "building tree 350 of 1500\n",
      "building tree 351 of 1500\n"
     ]
    },
    {
     "name": "stderr",
     "output_type": "stream",
     "text": [
      "[Parallel(n_jobs=-1)]: Done 346 tasks      | elapsed:   45.2s\n",
      "[Parallel(n_jobs=-1)]: Done 347 tasks      | elapsed:   45.3s\n"
     ]
    },
    {
     "name": "stdout",
     "output_type": "stream",
     "text": [
      "building tree 352 of 1500\n",
      "building tree 353 of 1500\n"
     ]
    },
    {
     "name": "stderr",
     "output_type": "stream",
     "text": [
      "[Parallel(n_jobs=-1)]: Done 348 tasks      | elapsed:   45.5s\n",
      "[Parallel(n_jobs=-1)]: Done 349 tasks      | elapsed:   45.7s\n"
     ]
    },
    {
     "name": "stdout",
     "output_type": "stream",
     "text": [
      "building tree 354 of 1500\n",
      "building tree 355 of 1500\n"
     ]
    },
    {
     "name": "stderr",
     "output_type": "stream",
     "text": [
      "[Parallel(n_jobs=-1)]: Done 350 tasks      | elapsed:   45.9s\n",
      "[Parallel(n_jobs=-1)]: Done 351 tasks      | elapsed:   46.0s\n"
     ]
    },
    {
     "name": "stdout",
     "output_type": "stream",
     "text": [
      "building tree 356 of 1500\n",
      "building tree 357 of 1500\n"
     ]
    },
    {
     "name": "stderr",
     "output_type": "stream",
     "text": [
      "[Parallel(n_jobs=-1)]: Done 352 tasks      | elapsed:   46.1s\n",
      "[Parallel(n_jobs=-1)]: Done 353 tasks      | elapsed:   46.2s\n"
     ]
    },
    {
     "name": "stdout",
     "output_type": "stream",
     "text": [
      "building tree 358 of 1500\n",
      "building tree 359 of 1500\n"
     ]
    },
    {
     "name": "stderr",
     "output_type": "stream",
     "text": [
      "[Parallel(n_jobs=-1)]: Done 354 tasks      | elapsed:   46.4s\n",
      "[Parallel(n_jobs=-1)]: Done 355 tasks      | elapsed:   46.5s\n"
     ]
    },
    {
     "name": "stdout",
     "output_type": "stream",
     "text": [
      "building tree 360 of 1500\n",
      "building tree 361 of 1500\n"
     ]
    },
    {
     "name": "stderr",
     "output_type": "stream",
     "text": [
      "[Parallel(n_jobs=-1)]: Done 356 tasks      | elapsed:   46.7s\n",
      "[Parallel(n_jobs=-1)]: Done 357 tasks      | elapsed:   46.7s\n"
     ]
    },
    {
     "name": "stdout",
     "output_type": "stream",
     "text": [
      "building tree 362 of 1500\n",
      "building tree 363 of 1500\n"
     ]
    },
    {
     "name": "stderr",
     "output_type": "stream",
     "text": [
      "[Parallel(n_jobs=-1)]: Done 358 tasks      | elapsed:   47.0s\n",
      "[Parallel(n_jobs=-1)]: Done 359 tasks      | elapsed:   47.0s\n"
     ]
    },
    {
     "name": "stdout",
     "output_type": "stream",
     "text": [
      "building tree 364 of 1500\n",
      "building tree 365 of 1500\n"
     ]
    },
    {
     "name": "stderr",
     "output_type": "stream",
     "text": [
      "[Parallel(n_jobs=-1)]: Done 360 tasks      | elapsed:   47.2s\n",
      "[Parallel(n_jobs=-1)]: Done 361 tasks      | elapsed:   47.2s\n"
     ]
    },
    {
     "name": "stdout",
     "output_type": "stream",
     "text": [
      "building tree 366 of 1500\n",
      "building tree 367 of 1500\n",
      "building tree 368 of 1500\n"
     ]
    },
    {
     "name": "stderr",
     "output_type": "stream",
     "text": [
      "[Parallel(n_jobs=-1)]: Done 362 tasks      | elapsed:   47.5s\n",
      "[Parallel(n_jobs=-1)]: Done 363 tasks      | elapsed:   47.6s\n",
      "[Parallel(n_jobs=-1)]: Done 364 tasks      | elapsed:   47.7s\n"
     ]
    },
    {
     "name": "stdout",
     "output_type": "stream",
     "text": [
      "building tree 369 of 1500\n"
     ]
    },
    {
     "name": "stderr",
     "output_type": "stream",
     "text": [
      "[Parallel(n_jobs=-1)]: Done 365 tasks      | elapsed:   47.7s\n"
     ]
    },
    {
     "name": "stdout",
     "output_type": "stream",
     "text": [
      "building tree 370 of 1500\n",
      "building tree 371 of 1500\n"
     ]
    },
    {
     "name": "stderr",
     "output_type": "stream",
     "text": [
      "[Parallel(n_jobs=-1)]: Done 366 tasks      | elapsed:   48.0s\n",
      "[Parallel(n_jobs=-1)]: Done 367 tasks      | elapsed:   48.2s\n"
     ]
    },
    {
     "name": "stdout",
     "output_type": "stream",
     "text": [
      "building tree 372 of 1500\n",
      "building tree 373 of 1500\n"
     ]
    },
    {
     "name": "stderr",
     "output_type": "stream",
     "text": [
      "[Parallel(n_jobs=-1)]: Done 368 tasks      | elapsed:   48.3s\n",
      "[Parallel(n_jobs=-1)]: Done 369 tasks      | elapsed:   48.3s\n"
     ]
    },
    {
     "name": "stdout",
     "output_type": "stream",
     "text": [
      "building tree 374 of 1500\n",
      "building tree 375 of 1500\n",
      "building tree 376 of 1500\n"
     ]
    },
    {
     "name": "stderr",
     "output_type": "stream",
     "text": [
      "[Parallel(n_jobs=-1)]: Done 370 tasks      | elapsed:   48.6s\n",
      "[Parallel(n_jobs=-1)]: Done 371 tasks      | elapsed:   48.7s\n",
      "[Parallel(n_jobs=-1)]: Done 372 tasks      | elapsed:   48.7s\n"
     ]
    },
    {
     "name": "stdout",
     "output_type": "stream",
     "text": [
      "building tree 377 of 1500\n"
     ]
    },
    {
     "name": "stderr",
     "output_type": "stream",
     "text": [
      "[Parallel(n_jobs=-1)]: Done 373 tasks      | elapsed:   48.9s\n"
     ]
    },
    {
     "name": "stdout",
     "output_type": "stream",
     "text": [
      "building tree 378 of 1500\n",
      "building tree 379 of 1500\n",
      "building tree 380 of 1500\n"
     ]
    },
    {
     "name": "stderr",
     "output_type": "stream",
     "text": [
      "[Parallel(n_jobs=-1)]: Done 374 tasks      | elapsed:   49.2s\n",
      "[Parallel(n_jobs=-1)]: Done 375 tasks      | elapsed:   49.2s\n",
      "[Parallel(n_jobs=-1)]: Done 376 tasks      | elapsed:   49.2s\n"
     ]
    },
    {
     "name": "stdout",
     "output_type": "stream",
     "text": [
      "building tree 381 of 1500\n",
      "building tree 382 of 1500\n"
     ]
    },
    {
     "name": "stderr",
     "output_type": "stream",
     "text": [
      "[Parallel(n_jobs=-1)]: Done 377 tasks      | elapsed:   49.4s\n",
      "[Parallel(n_jobs=-1)]: Done 378 tasks      | elapsed:   49.6s\n"
     ]
    },
    {
     "name": "stdout",
     "output_type": "stream",
     "text": [
      "building tree 383 of 1500\n",
      "building tree 384 of 1500\n",
      "building tree 385 of 1500\n"
     ]
    },
    {
     "name": "stderr",
     "output_type": "stream",
     "text": [
      "[Parallel(n_jobs=-1)]: Done 379 tasks      | elapsed:   49.8s\n",
      "[Parallel(n_jobs=-1)]: Done 380 tasks      | elapsed:   49.8s\n",
      "[Parallel(n_jobs=-1)]: Done 381 tasks      | elapsed:   49.9s\n"
     ]
    },
    {
     "name": "stdout",
     "output_type": "stream",
     "text": [
      "building tree 386 of 1500\n",
      "building tree 387 of 1500\n",
      "building tree 388 of 1500\n"
     ]
    },
    {
     "name": "stderr",
     "output_type": "stream",
     "text": [
      "[Parallel(n_jobs=-1)]: Done 382 tasks      | elapsed:   50.2s\n",
      "[Parallel(n_jobs=-1)]: Done 383 tasks      | elapsed:   50.3s\n",
      "[Parallel(n_jobs=-1)]: Done 384 tasks      | elapsed:   50.3s\n"
     ]
    },
    {
     "name": "stdout",
     "output_type": "stream",
     "text": [
      "building tree 389 of 1500\n"
     ]
    },
    {
     "name": "stderr",
     "output_type": "stream",
     "text": [
      "[Parallel(n_jobs=-1)]: Done 385 tasks      | elapsed:   50.4s\n"
     ]
    },
    {
     "name": "stdout",
     "output_type": "stream",
     "text": [
      "building tree 390 of 1500\n",
      "building tree 391 of 1500\n",
      "building tree 392 of 1500\n"
     ]
    },
    {
     "name": "stderr",
     "output_type": "stream",
     "text": [
      "[Parallel(n_jobs=-1)]: Done 386 tasks      | elapsed:   50.7s\n",
      "[Parallel(n_jobs=-1)]: Done 387 tasks      | elapsed:   50.7s\n",
      "[Parallel(n_jobs=-1)]: Done 388 tasks      | elapsed:   50.8s\n"
     ]
    },
    {
     "name": "stdout",
     "output_type": "stream",
     "text": [
      "building tree 393 of 1500\n",
      "building tree 394 of 1500\n",
      "building tree 395 of 1500\n"
     ]
    },
    {
     "name": "stderr",
     "output_type": "stream",
     "text": [
      "[Parallel(n_jobs=-1)]: Done 389 tasks      | elapsed:   51.0s\n",
      "[Parallel(n_jobs=-1)]: Done 390 tasks      | elapsed:   51.1s\n",
      "[Parallel(n_jobs=-1)]: Done 391 tasks      | elapsed:   51.2s\n"
     ]
    },
    {
     "name": "stdout",
     "output_type": "stream",
     "text": [
      "building tree 396 of 1500\n"
     ]
    },
    {
     "name": "stderr",
     "output_type": "stream",
     "text": [
      "[Parallel(n_jobs=-1)]: Done 392 tasks      | elapsed:   51.2s\n"
     ]
    },
    {
     "name": "stdout",
     "output_type": "stream",
     "text": [
      "building tree 397 of 1500\n",
      "building tree 398 of 1500\n"
     ]
    },
    {
     "name": "stderr",
     "output_type": "stream",
     "text": [
      "[Parallel(n_jobs=-1)]: Done 393 tasks      | elapsed:   51.5s\n",
      "[Parallel(n_jobs=-1)]: Done 394 tasks      | elapsed:   51.7s\n"
     ]
    },
    {
     "name": "stdout",
     "output_type": "stream",
     "text": [
      "building tree 399 of 1500\n",
      "building tree 400 of 1500\n"
     ]
    },
    {
     "name": "stderr",
     "output_type": "stream",
     "text": [
      "[Parallel(n_jobs=-1)]: Done 395 tasks      | elapsed:   51.7s\n",
      "[Parallel(n_jobs=-1)]: Done 396 tasks      | elapsed:   51.8s\n"
     ]
    },
    {
     "name": "stdout",
     "output_type": "stream",
     "text": [
      "building tree 401 of 1500\n"
     ]
    },
    {
     "name": "stderr",
     "output_type": "stream",
     "text": [
      "[Parallel(n_jobs=-1)]: Done 397 tasks      | elapsed:   52.0s\n"
     ]
    },
    {
     "name": "stdout",
     "output_type": "stream",
     "text": [
      "building tree 402 of 1500\n",
      "building tree 403 of 1500\n",
      "building tree 404 of 1500\n"
     ]
    },
    {
     "name": "stderr",
     "output_type": "stream",
     "text": [
      "[Parallel(n_jobs=-1)]: Done 398 tasks      | elapsed:   52.2s\n",
      "[Parallel(n_jobs=-1)]: Done 399 tasks      | elapsed:   52.2s\n",
      "[Parallel(n_jobs=-1)]: Done 400 tasks      | elapsed:   52.3s\n"
     ]
    },
    {
     "name": "stdout",
     "output_type": "stream",
     "text": [
      "building tree 405 of 1500\n",
      "building tree 406 of 1500\n"
     ]
    },
    {
     "name": "stderr",
     "output_type": "stream",
     "text": [
      "[Parallel(n_jobs=-1)]: Done 401 tasks      | elapsed:   52.6s\n",
      "[Parallel(n_jobs=-1)]: Done 402 tasks      | elapsed:   52.7s\n"
     ]
    },
    {
     "name": "stdout",
     "output_type": "stream",
     "text": [
      "building tree 407 of 1500\n",
      "building tree 408 of 1500\n"
     ]
    },
    {
     "name": "stderr",
     "output_type": "stream",
     "text": [
      "[Parallel(n_jobs=-1)]: Done 403 tasks      | elapsed:   52.8s\n",
      "[Parallel(n_jobs=-1)]: Done 404 tasks      | elapsed:   52.8s\n"
     ]
    },
    {
     "name": "stdout",
     "output_type": "stream",
     "text": [
      "building tree 409 of 1500\n",
      "building tree 410 of 1500\n",
      "building tree 411 of 1500\n"
     ]
    },
    {
     "name": "stderr",
     "output_type": "stream",
     "text": [
      "[Parallel(n_jobs=-1)]: Done 405 tasks      | elapsed:   53.1s\n",
      "[Parallel(n_jobs=-1)]: Done 406 tasks      | elapsed:   53.2s\n",
      "[Parallel(n_jobs=-1)]: Done 407 tasks      | elapsed:   53.3s\n"
     ]
    },
    {
     "name": "stdout",
     "output_type": "stream",
     "text": [
      "building tree 412 of 1500\n"
     ]
    },
    {
     "name": "stderr",
     "output_type": "stream",
     "text": [
      "[Parallel(n_jobs=-1)]: Done 408 tasks      | elapsed:   53.4s\n"
     ]
    },
    {
     "name": "stdout",
     "output_type": "stream",
     "text": [
      "building tree 413 of 1500\n",
      "building tree 414 of 1500\n",
      "building tree 415 of 1500\n",
      "building tree 416 of 1500\n"
     ]
    },
    {
     "name": "stderr",
     "output_type": "stream",
     "text": [
      "[Parallel(n_jobs=-1)]: Done 409 tasks      | elapsed:   53.7s\n",
      "[Parallel(n_jobs=-1)]: Done 410 tasks      | elapsed:   53.7s\n",
      "[Parallel(n_jobs=-1)]: Done 411 tasks      | elapsed:   53.8s\n",
      "[Parallel(n_jobs=-1)]: Done 412 tasks      | elapsed:   53.8s\n"
     ]
    },
    {
     "name": "stdout",
     "output_type": "stream",
     "text": [
      "building tree 417 of 1500\n",
      "building tree 418 of 1500\n",
      "building tree 419 of 1500\n",
      "building tree 420 of 1500\n"
     ]
    },
    {
     "name": "stderr",
     "output_type": "stream",
     "text": [
      "[Parallel(n_jobs=-1)]: Done 413 tasks      | elapsed:   54.1s\n",
      "[Parallel(n_jobs=-1)]: Done 414 tasks      | elapsed:   54.2s\n",
      "[Parallel(n_jobs=-1)]: Done 415 tasks      | elapsed:   54.2s\n",
      "[Parallel(n_jobs=-1)]: Done 416 tasks      | elapsed:   54.3s\n"
     ]
    },
    {
     "name": "stdout",
     "output_type": "stream",
     "text": [
      "building tree 421 of 1500\n",
      "building tree 422 of 1500\n",
      "building tree 423 of 1500\n",
      "building tree 424 of 1500\n"
     ]
    },
    {
     "name": "stderr",
     "output_type": "stream",
     "text": [
      "[Parallel(n_jobs=-1)]: Done 417 tasks      | elapsed:   54.6s\n",
      "[Parallel(n_jobs=-1)]: Done 418 tasks      | elapsed:   54.6s\n",
      "[Parallel(n_jobs=-1)]: Done 419 tasks      | elapsed:   54.7s\n",
      "[Parallel(n_jobs=-1)]: Done 420 tasks      | elapsed:   54.7s\n"
     ]
    },
    {
     "name": "stdout",
     "output_type": "stream",
     "text": [
      "building tree 425 of 1500\n",
      "building tree 426 of 1500\n",
      "building tree 427 of 1500\n",
      "building tree 428 of 1500\n"
     ]
    },
    {
     "name": "stderr",
     "output_type": "stream",
     "text": [
      "[Parallel(n_jobs=-1)]: Done 421 tasks      | elapsed:   55.2s\n",
      "[Parallel(n_jobs=-1)]: Done 422 tasks      | elapsed:   55.2s\n",
      "[Parallel(n_jobs=-1)]: Done 423 tasks      | elapsed:   55.2s\n",
      "[Parallel(n_jobs=-1)]: Done 424 tasks      | elapsed:   55.3s\n"
     ]
    },
    {
     "name": "stdout",
     "output_type": "stream",
     "text": [
      "building tree 429 of 1500building tree 430 of 1500\n",
      "\n",
      "building tree 431 of 1500\n"
     ]
    },
    {
     "name": "stderr",
     "output_type": "stream",
     "text": [
      "[Parallel(n_jobs=-1)]: Done 425 tasks      | elapsed:   55.8s\n",
      "[Parallel(n_jobs=-1)]: Done 426 tasks      | elapsed:   55.8s\n",
      "[Parallel(n_jobs=-1)]: Done 427 tasks      | elapsed:   55.9s\n"
     ]
    },
    {
     "name": "stdout",
     "output_type": "stream",
     "text": [
      "building tree 432 of 1500\n"
     ]
    },
    {
     "name": "stderr",
     "output_type": "stream",
     "text": [
      "[Parallel(n_jobs=-1)]: Done 428 tasks      | elapsed:   56.1s\n"
     ]
    },
    {
     "name": "stdout",
     "output_type": "stream",
     "text": [
      "building tree 433 of 1500\n",
      "building tree 434 of 1500\n",
      "building tree 435 of 1500\n"
     ]
    },
    {
     "name": "stderr",
     "output_type": "stream",
     "text": [
      "[Parallel(n_jobs=-1)]: Done 429 tasks      | elapsed:   56.3s\n",
      "[Parallel(n_jobs=-1)]: Done 430 tasks      | elapsed:   56.4s\n",
      "[Parallel(n_jobs=-1)]: Done 431 tasks      | elapsed:   56.4s\n"
     ]
    },
    {
     "name": "stdout",
     "output_type": "stream",
     "text": [
      "building tree 436 of 1500\n",
      "building tree 437 of 1500\n"
     ]
    },
    {
     "name": "stderr",
     "output_type": "stream",
     "text": [
      "[Parallel(n_jobs=-1)]: Done 432 tasks      | elapsed:   56.6s\n",
      "[Parallel(n_jobs=-1)]: Done 433 tasks      | elapsed:   56.7s\n"
     ]
    },
    {
     "name": "stdout",
     "output_type": "stream",
     "text": [
      "building tree 438 of 1500\n",
      "building tree 439 of 1500\n"
     ]
    },
    {
     "name": "stderr",
     "output_type": "stream",
     "text": [
      "[Parallel(n_jobs=-1)]: Done 434 tasks      | elapsed:   56.9s\n",
      "[Parallel(n_jobs=-1)]: Done 435 tasks      | elapsed:   57.0s\n"
     ]
    },
    {
     "name": "stdout",
     "output_type": "stream",
     "text": [
      "building tree 440 of 1500\n",
      "building tree 441 of 1500\n"
     ]
    },
    {
     "name": "stderr",
     "output_type": "stream",
     "text": [
      "[Parallel(n_jobs=-1)]: Done 436 tasks      | elapsed:   57.1s\n",
      "[Parallel(n_jobs=-1)]: Done 437 tasks      | elapsed:   57.3s\n"
     ]
    },
    {
     "name": "stdout",
     "output_type": "stream",
     "text": [
      "building tree 442 of 1500\n",
      "building tree 443 of 1500\n",
      "building tree 444 of 1500\n"
     ]
    },
    {
     "name": "stderr",
     "output_type": "stream",
     "text": [
      "[Parallel(n_jobs=-1)]: Done 438 tasks      | elapsed:   57.4s\n",
      "[Parallel(n_jobs=-1)]: Done 439 tasks      | elapsed:   57.6s\n",
      "[Parallel(n_jobs=-1)]: Done 440 tasks      | elapsed:   57.6s\n"
     ]
    },
    {
     "name": "stdout",
     "output_type": "stream",
     "text": [
      "building tree 445 of 1500\n",
      "building tree 446 of 1500\n"
     ]
    },
    {
     "name": "stderr",
     "output_type": "stream",
     "text": [
      "[Parallel(n_jobs=-1)]: Done 441 tasks      | elapsed:   57.7s\n",
      "[Parallel(n_jobs=-1)]: Done 442 tasks      | elapsed:   57.9s\n"
     ]
    },
    {
     "name": "stdout",
     "output_type": "stream",
     "text": [
      "building tree 447 of 1500\n",
      "building tree 448 of 1500\n",
      "building tree 449 of 1500\n"
     ]
    },
    {
     "name": "stderr",
     "output_type": "stream",
     "text": [
      "[Parallel(n_jobs=-1)]: Done 443 tasks      | elapsed:   58.1s\n",
      "[Parallel(n_jobs=-1)]: Done 444 tasks      | elapsed:   58.2s\n",
      "[Parallel(n_jobs=-1)]: Done 445 tasks      | elapsed:   58.3s\n"
     ]
    },
    {
     "name": "stdout",
     "output_type": "stream",
     "text": [
      "building tree 450 of 1500\n",
      "building tree 451 of 1500\n"
     ]
    },
    {
     "name": "stderr",
     "output_type": "stream",
     "text": [
      "[Parallel(n_jobs=-1)]: Done 446 tasks      | elapsed:   58.3s\n",
      "[Parallel(n_jobs=-1)]: Done 447 tasks      | elapsed:   58.5s\n"
     ]
    },
    {
     "name": "stdout",
     "output_type": "stream",
     "text": [
      "building tree 452 of 1500\n",
      "building tree 453 of 1500\n"
     ]
    },
    {
     "name": "stderr",
     "output_type": "stream",
     "text": [
      "[Parallel(n_jobs=-1)]: Done 448 tasks      | elapsed:   58.6s\n",
      "[Parallel(n_jobs=-1)]: Done 449 tasks      | elapsed:   58.7s\n"
     ]
    },
    {
     "name": "stdout",
     "output_type": "stream",
     "text": [
      "building tree 454 of 1500\n",
      "building tree 455 of 1500\n",
      "building tree 456 of 1500\n"
     ]
    },
    {
     "name": "stderr",
     "output_type": "stream",
     "text": [
      "[Parallel(n_jobs=-1)]: Done 450 tasks      | elapsed:   58.9s\n",
      "[Parallel(n_jobs=-1)]: Done 451 tasks      | elapsed:   59.0s\n",
      "[Parallel(n_jobs=-1)]: Done 452 tasks      | elapsed:   59.1s\n"
     ]
    },
    {
     "name": "stdout",
     "output_type": "stream",
     "text": [
      "building tree 457 of 1500\n",
      "building tree 458 of 1500\n",
      "building tree 459 of 1500\n"
     ]
    },
    {
     "name": "stderr",
     "output_type": "stream",
     "text": [
      "[Parallel(n_jobs=-1)]: Done 453 tasks      | elapsed:   59.3s\n",
      "[Parallel(n_jobs=-1)]: Done 454 tasks      | elapsed:   59.3s\n",
      "[Parallel(n_jobs=-1)]: Done 455 tasks      | elapsed:   59.4s\n"
     ]
    },
    {
     "name": "stdout",
     "output_type": "stream",
     "text": [
      "building tree 460 of 1500\n"
     ]
    },
    {
     "name": "stderr",
     "output_type": "stream",
     "text": [
      "[Parallel(n_jobs=-1)]: Done 456 tasks      | elapsed:   59.5s\n"
     ]
    },
    {
     "name": "stdout",
     "output_type": "stream",
     "text": [
      "building tree 461 of 1500\n",
      "building tree 462 of 1500\n"
     ]
    },
    {
     "name": "stderr",
     "output_type": "stream",
     "text": [
      "[Parallel(n_jobs=-1)]: Done 457 tasks      | elapsed:   59.8s\n",
      "[Parallel(n_jobs=-1)]: Done 458 tasks      | elapsed:   59.9s\n"
     ]
    }
   ],
   "source": [
    "from sklearn.tree import DecisionTreeRegressor\n",
    "from sklearn.ensemble import RandomForestRegressor\n",
    "from sklearn.ensemble import RandomForestClassifier\n",
    "from sklearn import grid_search\n",
    "\n",
    "rfr = RandomForestRegressor(n_estimators = 1500, random_state = 2016,verbose = 30,n_jobs = -1)\n",
    "\n",
    "rfr.fit(xTraining, yTraining)\n",
    "yPredict3 = rfr.predict(xTest)\n",
    "\n",
    "for i in range(len(yPredict3)):\n",
    "    if yPredict3[i] < 0.4:\n",
    "        yPredict3[i] = 0\n",
    "    else:\n",
    "        yPredict3[i] = 1\n",
    "        \n",
    "print(metrics.accuracy_score(yTest,yPredict3))\n",
    "print(metrics.confusion_matrix(yTest,yPredict3))\n",
    "\n",
    "error3 = mean_squared_error(yTest, yPredict3)\n",
    "print(\"error 3 = \",error3)\n",
    "\n",
    "RMSE = mean_squared_error(yTest,yPredict3)**0.5\n",
    "print(\"RMSE = \",RMSE)"
   ]
  },
  {
   "cell_type": "markdown",
   "metadata": {},
   "source": [
    "# LINEAR LOGISTIC REGRESSION "
   ]
  },
  {
   "cell_type": "code",
   "execution_count": null,
   "metadata": {
    "collapsed": false
   },
   "outputs": [],
   "source": [
    "import sklearn.linear_model as linear_model\n",
    "import sklearn.metrics as metrics\n",
    "from sklearn import preprocessing\n",
    "lr_clf = linear_model.LogisticRegression()\n",
    "lr_clf.fit(xTraining, yTraining)\n",
    "yPredict4 = lr_clf.predict(xTest)\n",
    "\n",
    "print(metrics.accuracy_score(yTest,yPredict4))\n",
    "print(metrics.confusion_matrix(yTest,yPredict4))\n",
    "error4 = mean_squared_error(yTest, yPredict4)\n",
    "print(\"error 4 = \",error4)\n",
    "\n",
    "RMSE = mean_squared_error(yTest,yPredict4)**0.5\n",
    "print(\"RMSE = \",RMSE)"
   ]
  },
  {
   "cell_type": "code",
   "execution_count": null,
   "metadata": {
    "collapsed": true
   },
   "outputs": [],
   "source": []
  },
  {
   "cell_type": "code",
   "execution_count": null,
   "metadata": {
    "collapsed": true
   },
   "outputs": [],
   "source": []
  }
 ],
 "metadata": {
  "anaconda-cloud": {},
  "kernelspec": {
   "display_name": "Python [conda root]",
   "language": "python",
   "name": "conda-root-py"
  },
  "language_info": {
   "codemirror_mode": {
    "name": "ipython",
    "version": 3
   },
   "file_extension": ".py",
   "mimetype": "text/x-python",
   "name": "python",
   "nbconvert_exporter": "python",
   "pygments_lexer": "ipython3",
   "version": "3.5.2"
  }
 },
 "nbformat": 4,
 "nbformat_minor": 0
}
