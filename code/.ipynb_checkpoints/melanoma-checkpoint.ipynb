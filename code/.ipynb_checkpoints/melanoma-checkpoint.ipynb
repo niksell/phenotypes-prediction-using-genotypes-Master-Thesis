{
 "cells": [
  {
   "cell_type": "code",
   "execution_count": 82,
   "metadata": {
    "collapsed": false
   },
   "outputs": [],
   "source": [
    "class PatientPhenotype:\n",
    "    \n",
    "    def __init__(self, eid, case, sex, yearBirth):\n",
    "        \n",
    "        self.eid = eid\n",
    "        self.case = case\n",
    "        self.sex = sex\n",
    "        self.yearBirth = yearBirth\n",
    "        \n",
    "    def disp(self):\n",
    "        print(\"eid = \",self.eid)\n",
    "        "
   ]
  },
  {
   "cell_type": "code",
   "execution_count": 83,
   "metadata": {
    "collapsed": false
   },
   "outputs": [],
   "source": [
    "patientsPhen = {}\n",
    "\n",
    "f = open('C:\\\\Users\\\\Antonis\\\\Documents\\\\GitHub\\\\diplwmatikh\\\\data\\\\phenotype.txt','r')\n",
    "f.readline()\n",
    "for line in f:\n",
    "    patientsPhen[line.split()[0]] = PatientPhenotype(line.split()[0],line.split()[1],line.split()[2],line.split()[3])\n",
    "        "
   ]
  },
  {
   "cell_type": "code",
   "execution_count": 84,
   "metadata": {
    "collapsed": false
   },
   "outputs": [
    {
     "data": {
      "text/plain": [
       "5150"
      ]
     },
     "execution_count": 84,
     "metadata": {},
     "output_type": "execute_result"
    }
   ],
   "source": [
    "len(patientsPhen)"
   ]
  },
  {
   "cell_type": "code",
   "execution_count": null,
   "metadata": {
    "collapsed": false
   },
   "outputs": [],
   "source": []
  },
  {
   "cell_type": "code",
   "execution_count": null,
   "metadata": {
    "collapsed": true
   },
   "outputs": [],
   "source": []
  },
  {
   "cell_type": "code",
   "execution_count": null,
   "metadata": {
    "collapsed": true
   },
   "outputs": [],
   "source": []
  }
 ],
 "metadata": {
  "kernelspec": {
   "display_name": "Python 3",
   "language": "python",
   "name": "python3"
  },
  "language_info": {
   "codemirror_mode": {
    "name": "ipython",
    "version": 3
   },
   "file_extension": ".py",
   "mimetype": "text/x-python",
   "name": "python",
   "nbconvert_exporter": "python",
   "pygments_lexer": "ipython3",
   "version": "3.5.1"
  }
 },
 "nbformat": 4,
 "nbformat_minor": 0
}
