{
 "cells": [
  {
   "cell_type": "code",
   "execution_count": null,
   "metadata": {
    "collapsed": false
   },
   "outputs": [],
   "source": [
    "import os\n",
    "import ast\n",
    "\n",
    "threshold = []\n",
    "\n",
    "threshold.append(0.001)\n",
    "#threshold.append(0.0001)\n",
    "#threshold.append(0.00001)\n",
    "#threshold.append(0.000001)\n",
    "#threshold.append(0.00000005)\n",
    "\n",
    "path = 'C:\\\\Users\\\\Antonis\\\\Desktop' #to path pou 8a dhmiourgh8oun oi fakeloi eite desktop eite se kapoio sklhro\n",
    "\n",
    "for i in range(len(threshold)):\n",
    "    \n",
    "    folderPath = path + '\\\\' + 'pvalue = ' + str(threshold[i]) \n",
    "    \n",
    "    if not os.path.exists(folderPath):\n",
    "        os.makedirs(folderPath)\n",
    "    \n",
    "    for j in range(1,15):\n",
    "        \n",
    "        chro = \"chr\" + str(j)\n",
    "        \n",
    "        readPath = 'C:\\\\Users\\\\ANTONIS\\\\Desktop\\\\results of genotypes' + '\\\\' + chro +'.assoc' ####to path opou einai ola ta assoc arxeia\n",
    "        writePath = folderPath + \"\\\\\" + chro +\".assoc\" \n",
    "        \n",
    "        write = open(writePath,'w')\n",
    "        file = open(readPath,'r')\n",
    "        \n",
    "        line = file.readline()\n",
    "        write.write(line)\n",
    "        \n",
    "        for line in file:\n",
    "            \n",
    "            if line.split()[8].strip() != \"NA\":\n",
    "                \n",
    "                if float(line.split()[8]) <= threshold[i] :\n",
    "                    print(\"line = \",line.split()[8])\n",
    "                    print(\"threshold = \",threshold)\n",
    "                    write.write(line)\n",
    "        \n",
    "        file.close()\n",
    "        write.close()\n",
    "              "
   ]
  },
  {
   "cell_type": "code",
   "execution_count": null,
   "metadata": {
    "collapsed": true
   },
   "outputs": [],
   "source": []
  },
  {
   "cell_type": "code",
   "execution_count": null,
   "metadata": {
    "collapsed": true
   },
   "outputs": [],
   "source": []
  }
 ],
 "metadata": {
  "anaconda-cloud": {},
  "kernelspec": {
   "display_name": "Python [default]",
   "language": "python",
   "name": "python3"
  },
  "language_info": {
   "codemirror_mode": {
    "name": "ipython",
    "version": 3
   },
   "file_extension": ".py",
   "mimetype": "text/x-python",
   "name": "python",
   "nbconvert_exporter": "python",
   "pygments_lexer": "ipython3",
   "version": "3.5.2"
  }
 },
 "nbformat": 4,
 "nbformat_minor": 0
}
