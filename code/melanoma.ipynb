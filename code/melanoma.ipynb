{
 "cells": [
  {
   "cell_type": "code",
   "execution_count": 1,
   "metadata": {
    "collapsed": false
   },
   "outputs": [],
   "source": [
    "from sklearn import linear_model\n",
    "from sklearn.model_selection import cross_val_score\n",
    "from sklearn.model_selection import cross_val_score\n",
    "from sklearn.metrics import mean_squared_error\n",
    "import matplotlib.pyplot as plt\n",
    "import numpy as np\n",
    "import os.path\n",
    "import csv\n",
    "from sklearn.svm import SVC\n",
    "\n",
    "class PatientPhenotype:\n",
    "    \n",
    "    def __init__(self, eid, case, sex, yearBirth):\n",
    "        \n",
    "        self.eid = eid\n",
    "        self.case = case\n",
    "        self.sex = sex\n",
    "        self.yearBirth = yearBirth\n",
    "        self.snps = {}\n",
    "        \n",
    "    def getEid(self):\n",
    "        return self.eid\n",
    "     \n",
    "    def getCase(self):\n",
    "        return self.case\n",
    "    \n",
    "    def getSex(self):\n",
    "        return self.sex\n",
    "    \n",
    "    def getYearBirth(self):\n",
    "        return self.yearBirth\n",
    "        \n",
    "    def addSnps(self, snpId, allele1,allele2):\n",
    "        self.snps[snpId] = Snp(snpId,allele1,allele2)\n",
    "        \n",
    "    def snpCode(self,snpId,allele1,allele2):\n",
    "       \n",
    "        self.snps[snpId].setSnpCode(allele1,allele2)\n",
    "        \n",
    "    def getSnpCode(self,snpId):\n",
    "        return self.snps[snpId].getSnpCode()\n",
    "        \n",
    "    def getSize(self):\n",
    "        return len(self.snps)\n",
    "        \n",
    "        \n",
    "class Snp:\n",
    "    \n",
    "    def __init__(self,snpId,allele1,allele2):\n",
    "        \n",
    "        self.snpId = snpId\n",
    "        self.allele1 = allele1\n",
    "        self.allele2 = allele2\n",
    "        self.snpCode = -1\n",
    "        \n",
    "    def getId(self):\n",
    "        \n",
    "        return self.snpId\n",
    "        \n",
    "    def getAllele1(self):\n",
    "        \n",
    "        return self.allele1\n",
    "        \n",
    "    def getAllele2(self):\n",
    "        \n",
    "        return self.allele2\n",
    "        \n",
    "    def setSnpCode(self,allele1,allele2):\n",
    "      \n",
    "        if self.allele1 == allele1 and self.allele2 == allele1:\n",
    "            code = 2\n",
    "           \n",
    "        elif self.allele1 == allele1 and self.allele2 != allele1:\n",
    "            code = 1\n",
    "           \n",
    "        elif self.allele1 != allele1 and self.allele2 == allele1:\n",
    "            code = 1\n",
    "            \n",
    "        elif self.allele1 != allele1 and self.allele2 != allele1:\n",
    "            code = 0\n",
    "            \n",
    "        self.snpCode = code\n",
    "        \n",
    "    def getSnpCode(self):\n",
    "        \n",
    "        return self.snpCode\n",
    "    \n",
    "    \n",
    "class SaveDataSet():\n",
    "    def __init__(self,name,ids,data):\n",
    "        \n",
    "        self.name = name\n",
    "        self.ids = ids\n",
    "        self.data = data\n",
    "        self.__writeLogFile()\n",
    "        self.__writeVariables('patients')\n",
    "        self.__writeVariables('snps')\n",
    "        self.__writeCSV()\n",
    "        \n",
    "    def __writeLogFile(self):\n",
    "        \n",
    "        write = open(self.name+'.log','w')\n",
    "        write.write(\"Log file for the Test Data Set \"+self.name+'\\n')\n",
    "        write.write(self.name + \" has \"+ str(len(self.ids['patients']['nameToId'].keys())) + \" patients \"'\\n')\n",
    "        write.write(self.name + \" has \"+ str(len(self.ids['snps']['nameToId'].keys())) + \" snps \"'\\n')\n",
    "        write.close()\n",
    "        \n",
    "    def __writeVariables(self,kind):\n",
    "        \n",
    "        write = open(self.name+'_'+kind+'.txt','w')\n",
    "        write.write(kind + '\\n')\n",
    "        \n",
    "        for i in range(len(self.ids[kind]['nameToId'].keys())):\n",
    "            name = self.ids[kind]['idToName'][i]\n",
    "            write.write(name + '\\t'+str(self.ids[kind]['nameToId'][name]) + '\\n')\n",
    "        \n",
    "        write.close()\n",
    "        \n",
    "        \n",
    "    def __writeCSV(self):\n",
    "        \n",
    "        try:\n",
    "            \n",
    "            with open(self.name+'.csv', 'w') as csvfile:\n",
    "                writer = csv.writer(csvfile, dialect='excel', quoting=csv.QUOTE_NONNUMERIC)\n",
    "            \n",
    "                line = []\n",
    "                for i in range(len(self.ids['snps']['nameToId'].keys())):\n",
    "                   # if i == 0 :\n",
    "                    #    line += self.ids['snps']['idToName'][i]\n",
    "                    #else:\n",
    "                    line.append(self.ids['snps']['idToName'][i])\n",
    "                writer.writerow(line)\n",
    "            \n",
    "                line = [] \n",
    "                for i in range(len(self.ids['snps']['nameToId'].keys())):\n",
    "                    name = self.ids['snps']['idToName'][i]\n",
    "                 #   if i == 0:\n",
    "                  #      line += str(self.ids['snps']['nameToId'][name])\n",
    "                   # else:\n",
    "                    line.append(str(self.ids['snps']['nameToId'][name]))\n",
    "                writer.writerow(line)\n",
    "            \n",
    "            \n",
    "                for i in range(len(self.ids['patients']['nameToId'].keys())):\n",
    "                    line = []\n",
    "                    for j in range(len(self.ids['snps']['nameToId'].keys())):\n",
    "                        #if j == 0:\n",
    "                        #    line += str(self.data[i,j]) \n",
    "                        #else:\n",
    "                        \n",
    "                        line.append(str(self.data[i,j]))\n",
    "                        \n",
    "                    writer.writerow(line)\n",
    "        finally:\n",
    "            pass   \n",
    "        \n",
    "\n",
    "def setIdToName(aList):\n",
    "    \n",
    "    ids = {}\n",
    "    nameToId = {}\n",
    "    idToName = {}\n",
    "    count = 0\n",
    "    \n",
    "    for i in aList:\n",
    "        \n",
    "        nameToId[i] = count\n",
    "        idToName[count] = i\n",
    "        count += 1\n",
    "        \n",
    "    ids['nameToId'] = nameToId\n",
    "    ids['idToName'] = idToName\n",
    "    \n",
    "    return ids\n",
    "\n",
    "\n",
    "def createDataSet(kind,chromos,patients):\n",
    "    \n",
    "    for i in range(len(chromos.keys())):\n",
    "    \n",
    "        chro = 'chr'+str(i+1)\n",
    "        path = 'C:\\\\Users\\\\ANTONIS\\\\Desktop\\\\test1\\\\'+chro+kind+'.lgen'\n",
    "    \n",
    "        if os.path.exists(path):\n",
    "            f = open(path,'r')\n",
    "    \n",
    "            for line in f:\n",
    "                patients[line.split()[0]].addSnps(line.split()[2], line.split()[3],line.split()[4])\n",
    "    \n",
    "\n",
    "    \n",
    "    for i in range(chromos.keys()):\n",
    "    \n",
    "        chro = 'chr'+str(i+1)\n",
    "    \n",
    "        for snp in chromos[chro].keys():\n",
    "        \n",
    "            allele1 = chromos[chro][snp][0]\n",
    "            allele2 = chromos[chro][snp][1]\n",
    "    \n",
    "            for patient in patients.keys():\n",
    "            \n",
    "                patients[patient].snpCode(snp,allele1,allele2)\n",
    "    \n",
    "    return patients"
   ]
  },
  {
   "cell_type": "code",
   "execution_count": 2,
   "metadata": {
    "collapsed": false
   },
   "outputs": [],
   "source": [
    "minorSnps = []\n",
    "chromosomes = {}\n",
    "\n",
    "for i in range(14):\n",
    "    \n",
    "    chro = 'chr'+str(i+1)\n",
    "    path = 'C:\\\\Users\\\\ANTONIS\\\\Desktop\\\\test1\\\\'+chro+'.assoc.fisher'\n",
    "    f = open(path,'r')\n",
    "    f.readline()\n",
    "    snps = {}\n",
    "    \n",
    "    for line in f:\n",
    "        alleles = []\n",
    "        minorSnps.append(line.split()[1])\n",
    "        alleles.append(line.split()[3])\n",
    "        alleles.append(line.split()[6])\n",
    "        snps[line.split()[1]] = alleles\n",
    "        \n",
    "    chromosomes[chro] = snps\n",
    "    \n",
    "for i in range(14):\n",
    "    \n",
    "    chro = 'chr'+str(i+1)\n",
    "    path = 'C:\\\\Users\\\\ANTONIS\\\\Desktop\\\\test1\\\\'+chro+'snpList.txt'\n",
    "    write = open(path,'w')\n",
    "    for snp in chromosomes[chro].keys():\n",
    "        write.write(snp + '\\n')\n",
    "            \n",
    "    write.close()\n",
    "    \n"
   ]
  },
  {
   "cell_type": "markdown",
   "metadata": {},
   "source": [
    "# TRAIN SET CREATION"
   ]
  },
  {
   "cell_type": "code",
   "execution_count": 3,
   "metadata": {
    "collapsed": true
   },
   "outputs": [],
   "source": [
    "########   TRAIN ##########\n",
    "\n",
    "patientsPhen = {}\n",
    "\n",
    "f = open('C:\\\\Users\\\\Antonis\\\\Documents\\\\GitHub\\\\diplwmatikh\\\\data\\\\phenotype_euro_train.txt','r')\n",
    "f.readline()\n",
    "\n",
    "for line in f:\n",
    "    patientsPhen[line.split()[0]] = PatientPhenotype(line.split()[0],line.split()[3],line.split()[1],line.split()[2])\n",
    "\n",
    "    \n",
    "path = 'C:\\\\Users\\\\ANTONIS\\\\Desktop\\\\test1\\\\'+'trainPatient.txt'\n",
    "write = open(path,'w')\n",
    "for patient in patientsPhen.keys():\n",
    "    write.write(patient + '\\n')\n",
    "            \n",
    "write.close()\n",
    "    \n",
    "\n",
    "\n",
    "\n"
   ]
  },
  {
   "cell_type": "markdown",
   "metadata": {},
   "source": [
    "# run train_lgen bat"
   ]
  },
  {
   "cell_type": "code",
   "execution_count": 4,
   "metadata": {
    "collapsed": false
   },
   "outputs": [
    {
     "name": "stdout",
     "output_type": "stream",
     "text": [
      "count is  4482\n",
      "snps is  334\n",
      "shape id  (4482, 334)\n",
      "xtraining =  4482\n",
      "xtraining.T =  334\n"
     ]
    }
   ],
   "source": [
    "ids = {}\n",
    "for i in range(14):\n",
    "    \n",
    "    chro = 'chr'+str(i+1)\n",
    "    path = 'C:\\\\Users\\\\ANTONIS\\\\Desktop\\\\test1\\\\'+chro+'train.lgen'\n",
    "    \n",
    "    if os.path.exists(path):\n",
    "        f = open(path,'r')\n",
    "    \n",
    "        for line in f:\n",
    "            patientsPhen[line.split()[0]].addSnps(line.split()[2], line.split()[3],line.split()[4])\n",
    "    \n",
    "\n",
    "    \n",
    "for i in range(14):\n",
    "    \n",
    "    chro = 'chr'+str(i+1)\n",
    "    \n",
    "    for snp in chromosomes[chro].keys():\n",
    "        \n",
    "        allele1 = chromosomes[chro][snp][0]\n",
    "        allele2 = chromosomes[chro][snp][1]\n",
    "    \n",
    "        for patient in patientsPhen.keys():\n",
    "            \n",
    "            patientsPhen[patient].snpCode(snp,allele1,allele2)\n",
    "            \n",
    "#patientsPhen = createDataSet('train',chromosomes,patientsPhen)\n",
    "\n",
    "count = 0\n",
    "\n",
    "for patient in patientsPhen.keys():\n",
    "            \n",
    "    if patientsPhen[patient].getSize() == len(minorSnps):\n",
    "        \n",
    "        count += 1\n",
    "        \n",
    "print(\"count is \",count)\n",
    "print(\"snps is \",len(minorSnps))\n",
    "\n",
    "\n",
    "ids['patients'] = setIdToName(list(patientsPhen.keys()))\n",
    "ids['snps'] = setIdToName(minorSnps)\n",
    "    \n",
    "xTraining = np.zeros((len(ids['patients']['nameToId'].keys()), len(ids['snps']['nameToId'].keys())),dtype = int)\n",
    "\n",
    "print(\"shape id \",xTraining.shape)\n",
    "print(\"xtraining = \",len(xTraining))\n",
    "print(\"xtraining.T = \",len(xTraining.T))\n",
    "    \n",
    "for i in range(len(xTraining)):\n",
    "    for j in range(len(xTraining.T)):\n",
    "        \n",
    "        patient = ids['patients']['idToName'][i]\n",
    "        snp = ids['snps']['idToName'][j]\n",
    "        \n",
    "        xTraining[i,j] = patientsPhen[patient].getSnpCode(snp)\n",
    "        \n",
    "        \n",
    "yTraining = []\n",
    "\n",
    "for i in range(len(ids['patients']['nameToId'].keys())):\n",
    "    \n",
    "    patient = ids['patients']['idToName'][i]\n",
    "    yTraining.append(int(patientsPhen[patient].getCase()))"
   ]
  },
  {
   "cell_type": "code",
   "execution_count": 5,
   "metadata": {
    "collapsed": false
   },
   "outputs": [],
   "source": [
    "#dok = SaveDataSet(\"dok\",ids,xTraining)"
   ]
  },
  {
   "cell_type": "markdown",
   "metadata": {},
   "source": [
    "# TEST SET CREATION"
   ]
  },
  {
   "cell_type": "code",
   "execution_count": 6,
   "metadata": {
    "collapsed": false
   },
   "outputs": [],
   "source": [
    "patientsPhenTest = {}\n",
    "\n",
    "f = open('C:\\\\Users\\\\Antonis\\\\Documents\\\\GitHub\\\\diplwmatikh\\\\data\\\\phenotype_euro_test.txt','r')\n",
    "f.readline()\n",
    "for line in f:\n",
    "    patientsPhenTest[line.split()[0]] = PatientPhenotype(line.split()[0],line.split()[3],line.split()[1],line.split()[2])  \n",
    "    \n",
    "    \n",
    "path = 'C:\\\\Users\\\\ANTONIS\\\\Desktop\\\\test1\\\\'+'testPatient.txt'\n",
    "write = open(path,'w')\n",
    "for patient in patientsPhenTest.keys():\n",
    "    write.write(patient + '\\n')\n",
    "            \n",
    "write.close()"
   ]
  },
  {
   "cell_type": "markdown",
   "metadata": {},
   "source": [
    "# run test_lgen bat"
   ]
  },
  {
   "cell_type": "code",
   "execution_count": 7,
   "metadata": {
    "collapsed": false
   },
   "outputs": [
    {
     "name": "stdout",
     "output_type": "stream",
     "text": [
      "count is Test 498\n",
      "snps is Test 334\n",
      "shape id Test (498, 334)\n",
      "xtraining =  498\n",
      "xtest.T =  334\n"
     ]
    }
   ],
   "source": [
    "idsTest = {}\n",
    "\n",
    "for i in range(14):\n",
    "    \n",
    "    chro = 'chr'+str(i+1)\n",
    "    path = 'C:\\\\Users\\\\ANTONIS\\\\Desktop\\\\test1\\\\'+chro+'test.lgen'\n",
    "    if os.path.exists(path):\n",
    "        f = open(path,'r')\n",
    "    \n",
    "        for line in f:\n",
    "            patientsPhenTest[line.split()[0]].addSnps(line.split()[2], line.split()[3],line.split()[4])\n",
    "    \n",
    "\n",
    "    \n",
    "for i in range(14):\n",
    "    \n",
    "    chro = 'chr'+str(i+1)\n",
    "    \n",
    "    for snp in chromosomes[chro].keys():\n",
    "        \n",
    "        allele1 = chromosomes[chro][snp][0]\n",
    "        allele2 = chromosomes[chro][snp][1]\n",
    "        \n",
    "        for patient in patientsPhenTest.keys():\n",
    "            \n",
    "            patientsPhenTest[patient].snpCode(snp,allele1,allele2)\n",
    "            \n",
    "#patientsPhenTest = createDataSet('test',chromosomes,patientsPhenTest)            \n",
    "\n",
    "    \n",
    "count = 0\n",
    "\n",
    "for patient in patientsPhenTest.keys():\n",
    "            \n",
    "    if patientsPhenTest[patient].getSize() == len(minorSnps):\n",
    "        \n",
    "        count += 1\n",
    "        \n",
    "print(\"count is Test\",count)\n",
    "print(\"snps is Test\",len(minorSnps))\n",
    "\n",
    "\n",
    "idsTest['patients'] = setIdToName(list(patientsPhenTest.keys()))\n",
    "idsTest['snps'] = setIdToName(minorSnps)\n",
    "    \n",
    "xTest = np.zeros((len(idsTest['patients']['nameToId'].keys()), len(idsTest['snps']['nameToId'].keys())),dtype = int)\n",
    "\n",
    "print(\"shape id Test\",xTest.shape)\n",
    "print(\"xtraining = \",len(xTest))\n",
    "print(\"xtest.T = \",len(xTest.T))\n",
    "    \n",
    "for i in range(len(xTest)):\n",
    "    for j in range(len(xTest.T)):\n",
    "        \n",
    "        patient = idsTest['patients']['idToName'][i]\n",
    "        snp = idsTest['snps']['idToName'][j]\n",
    "        \n",
    "        xTest[i,j] = patientsPhenTest[patient].getSnpCode(snp)\n",
    "        \n",
    "        \n",
    "yTest = []\n",
    "\n",
    "for i in range(len(idsTest['patients']['nameToId'].keys())):\n",
    "    patient = idsTest['patients']['idToName'][i]\n",
    "    yTest.append(int(patientsPhenTest[patient].getCase()))\n",
    "\n",
    "yTest = np.array(yTest)"
   ]
  },
  {
   "cell_type": "markdown",
   "metadata": {},
   "source": [
    "# Linear Regression"
   ]
  },
  {
   "cell_type": "code",
   "execution_count": 76,
   "metadata": {
    "collapsed": false
   },
   "outputs": [
    {
     "name": "stdout",
     "output_type": "stream",
     "text": [
      "error 1 =  0.301204819277\n",
      "0.698795180723\n",
      "[[290 100]\n",
      " [ 50  58]]\n"
     ]
    }
   ],
   "source": [
    "from sklearn import linear_model\n",
    "from sklearn.model_selection import cross_val_score\n",
    "from sklearn.metrics import mean_squared_error\n",
    "import matplotlib.pyplot as plt\n",
    "\n",
    "regr = linear_model.LinearRegression()\n",
    "regr.fit(xTraining, yTraining)\n",
    "yPredict1 = regr.predict(xTest)\n",
    "\n",
    "for i in range(len(yPredict1)):\n",
    "    if yPredict1[i] < 0.27:\n",
    "        yPredict1[i] = 0\n",
    "    else:\n",
    "        yPredict1[i] = 1\n",
    "\n",
    "error1 = mean_squared_error(yTest, yPredict1)\n",
    "print(\"error 1 = \",error1)\n",
    "print(metrics.accuracy_score(yTest,yPredict1))\n",
    "print(metrics.confusion_matrix(yTest,yPredict1))"
   ]
  },
  {
   "cell_type": "markdown",
   "metadata": {},
   "source": [
    "# SVM"
   ]
  },
  {
   "cell_type": "code",
   "execution_count": 59,
   "metadata": {
    "collapsed": false
   },
   "outputs": [
    {
     "name": "stdout",
     "output_type": "stream",
     "text": [
      "0.78313253012\n",
      "[[390   0]\n",
      " [108   0]]\n",
      "error 2 =  0.21686746988\n"
     ]
    }
   ],
   "source": [
    "from sklearn.svm import SVC\n",
    "clf = SVC()\n",
    "clf.fit(xTraining, yTraining)\n",
    "yPredict2 = clf.predict(xTest)\n",
    "print(metrics.accuracy_score(yTest,yPredict2))\n",
    "print(metrics.confusion_matrix(yTest,yPredict2))\n",
    "error2 = mean_squared_error(yTest, yPredict2)\n",
    "print(\"error 2 = \",error2)"
   ]
  },
  {
   "cell_type": "markdown",
   "metadata": {},
   "source": [
    "# RF"
   ]
  },
  {
   "cell_type": "code",
   "execution_count": null,
   "metadata": {
    "collapsed": false
   },
   "outputs": [
    {
     "name": "stdout",
     "output_type": "stream",
     "text": [
      "Fitting 4 folds for each of 1 candidates, totalling 4 fits\n",
      "[CV]  ................................................................\n",
      "building tree 1 of 500\n"
     ]
    },
    {
     "name": "stderr",
     "output_type": "stream",
     "text": [
      "[Parallel(n_jobs=1)]: Done   1 out of   1 | elapsed:    0.2s remaining:    0.0s\n"
     ]
    },
    {
     "name": "stdout",
     "output_type": "stream",
     "text": [
      "building tree 2 of 500\n"
     ]
    },
    {
     "name": "stderr",
     "output_type": "stream",
     "text": [
      "[Parallel(n_jobs=1)]: Done   2 out of   2 | elapsed:    0.4s remaining:    0.0s\n",
      "[Parallel(n_jobs=1)]: Done   3 out of   3 | elapsed:    0.6s remaining:    0.0s\n"
     ]
    },
    {
     "name": "stdout",
     "output_type": "stream",
     "text": [
      "building tree 3 of 500\n",
      "building tree 4 of 500\n"
     ]
    },
    {
     "name": "stderr",
     "output_type": "stream",
     "text": [
      "[Parallel(n_jobs=1)]: Done   4 out of   4 | elapsed:    0.8s remaining:    0.0s\n",
      "[Parallel(n_jobs=1)]: Done   5 out of   5 | elapsed:    1.0s remaining:    0.0s\n"
     ]
    },
    {
     "name": "stdout",
     "output_type": "stream",
     "text": [
      "building tree 5 of 500\n",
      "building tree 6 of 500\n"
     ]
    },
    {
     "name": "stderr",
     "output_type": "stream",
     "text": [
      "[Parallel(n_jobs=1)]: Done   6 out of   6 | elapsed:    1.3s remaining:    0.0s\n"
     ]
    },
    {
     "name": "stdout",
     "output_type": "stream",
     "text": [
      "building tree 7 of 500\n"
     ]
    },
    {
     "name": "stderr",
     "output_type": "stream",
     "text": [
      "[Parallel(n_jobs=1)]: Done   7 out of   7 | elapsed:    1.7s remaining:    0.0s\n"
     ]
    },
    {
     "name": "stdout",
     "output_type": "stream",
     "text": [
      "building tree 8 of 500\n"
     ]
    },
    {
     "name": "stderr",
     "output_type": "stream",
     "text": [
      "[Parallel(n_jobs=1)]: Done   8 out of   8 | elapsed:    2.2s remaining:    0.0s\n"
     ]
    },
    {
     "name": "stdout",
     "output_type": "stream",
     "text": [
      "building tree 9 of 500\n"
     ]
    },
    {
     "name": "stderr",
     "output_type": "stream",
     "text": [
      "[Parallel(n_jobs=1)]: Done   9 out of   9 | elapsed:    2.6s remaining:    0.0s\n",
      "[Parallel(n_jobs=1)]: Done  10 out of  10 | elapsed:    2.8s remaining:    0.0s\n"
     ]
    },
    {
     "name": "stdout",
     "output_type": "stream",
     "text": [
      "building tree 10 of 500\n",
      "building tree 11 of 500\n"
     ]
    },
    {
     "name": "stderr",
     "output_type": "stream",
     "text": [
      "[Parallel(n_jobs=1)]: Done  11 out of  11 | elapsed:    3.0s remaining:    0.0s\n",
      "[Parallel(n_jobs=1)]: Done  12 out of  12 | elapsed:    3.2s remaining:    0.0s\n"
     ]
    },
    {
     "name": "stdout",
     "output_type": "stream",
     "text": [
      "building tree 12 of 500\n",
      "building tree 13 of 500\n"
     ]
    },
    {
     "name": "stderr",
     "output_type": "stream",
     "text": [
      "[Parallel(n_jobs=1)]: Done  13 out of  13 | elapsed:    3.4s remaining:    0.0s\n"
     ]
    },
    {
     "name": "stdout",
     "output_type": "stream",
     "text": [
      "building tree 14 of 500\n"
     ]
    },
    {
     "name": "stderr",
     "output_type": "stream",
     "text": [
      "[Parallel(n_jobs=1)]: Done  14 out of  14 | elapsed:    3.6s remaining:    0.0s\n"
     ]
    },
    {
     "name": "stdout",
     "output_type": "stream",
     "text": [
      "building tree 15 of 500\n"
     ]
    },
    {
     "name": "stderr",
     "output_type": "stream",
     "text": [
      "[Parallel(n_jobs=1)]: Done  15 out of  15 | elapsed:    4.0s remaining:    0.0s\n",
      "[Parallel(n_jobs=1)]: Done  16 out of  16 | elapsed:    4.1s remaining:    0.0s\n"
     ]
    },
    {
     "name": "stdout",
     "output_type": "stream",
     "text": [
      "building tree 16 of 500\n",
      "building tree 17 of 500\n"
     ]
    },
    {
     "name": "stderr",
     "output_type": "stream",
     "text": [
      "[Parallel(n_jobs=1)]: Done  17 out of  17 | elapsed:    4.3s remaining:    0.0s\n"
     ]
    },
    {
     "name": "stdout",
     "output_type": "stream",
     "text": [
      "building tree 18 of 500\n"
     ]
    },
    {
     "name": "stderr",
     "output_type": "stream",
     "text": [
      "[Parallel(n_jobs=1)]: Done  18 out of  18 | elapsed:    4.5s remaining:    0.0s\n",
      "[Parallel(n_jobs=1)]: Done  19 out of  19 | elapsed:    4.7s remaining:    0.0s\n"
     ]
    },
    {
     "name": "stdout",
     "output_type": "stream",
     "text": [
      "building tree 19 of 500\n",
      "building tree 20 of 500\n",
      "building tree 21 of 500\n",
      "building tree 22 of 500\n",
      "building tree 23 of 500\n",
      "building tree 24 of 500\n",
      "building tree 25 of 500\n",
      "building tree 26 of 500\n",
      "building tree 27 of 500\n",
      "building tree 28 of 500\n",
      "building tree 29 of 500\n",
      "building tree 30 of 500\n",
      "building tree 31 of 500\n",
      "building tree 32 of 500\n",
      "building tree 33 of 500\n",
      "building tree 34 of 500\n",
      "building tree 35 of 500\n",
      "building tree 36 of 500\n",
      "building tree 37 of 500\n",
      "building tree 38 of 500\n",
      "building tree 39 of 500\n",
      "building tree 40 of 500\n",
      "building tree 41 of 500\n",
      "building tree 42 of 500\n",
      "building tree 43 of 500\n",
      "building tree 44 of 500\n",
      "building tree 45 of 500\n",
      "building tree 46 of 500\n",
      "building tree 47 of 500\n",
      "building tree 48 of 500\n",
      "building tree 49 of 500\n",
      "building tree 50 of 500\n",
      "building tree 51 of 500\n",
      "building tree 52 of 500\n",
      "building tree 53 of 500\n",
      "building tree 54 of 500\n",
      "building tree 55 of 500\n",
      "building tree 56 of 500\n",
      "building tree 57 of 500\n",
      "building tree 58 of 500\n",
      "building tree 59 of 500\n",
      "building tree 60 of 500\n",
      "building tree 61 of 500\n",
      "building tree 62 of 500\n",
      "building tree 63 of 500\n",
      "building tree 64 of 500\n",
      "building tree 65 of 500\n",
      "building tree 66 of 500\n",
      "building tree 67 of 500\n",
      "building tree 68 of 500\n",
      "building tree 69 of 500\n",
      "building tree 70 of 500\n",
      "building tree 71 of 500\n",
      "building tree 72 of 500\n",
      "building tree 73 of 500\n",
      "building tree 74 of 500\n",
      "building tree 75 of 500\n",
      "building tree 76 of 500\n",
      "building tree 77 of 500\n",
      "building tree 78 of 500\n",
      "building tree 79 of 500\n",
      "building tree 80 of 500\n",
      "building tree 81 of 500\n",
      "building tree 82 of 500\n",
      "building tree 83 of 500\n",
      "building tree 84 of 500\n",
      "building tree 85 of 500\n",
      "building tree 86 of 500\n",
      "building tree 87 of 500\n",
      "building tree 88 of 500\n",
      "building tree 89 of 500\n",
      "building tree 90 of 500\n",
      "building tree 91 of 500\n",
      "building tree 92 of 500\n",
      "building tree 93 of 500\n",
      "building tree 94 of 500\n",
      "building tree 95 of 500\n",
      "building tree 96 of 500\n",
      "building tree 97 of 500\n",
      "building tree 98 of 500\n",
      "building tree 99 of 500\n",
      "building tree 100 of 500\n",
      "building tree 101 of 500\n",
      "building tree 102 of 500\n",
      "building tree 103 of 500\n",
      "building tree 104 of 500\n",
      "building tree 105 of 500\n",
      "building tree 106 of 500\n",
      "building tree 107 of 500\n",
      "building tree 108 of 500\n",
      "building tree 109 of 500\n",
      "building tree 110 of 500\n",
      "building tree 111 of 500\n",
      "building tree 112 of 500\n",
      "building tree 113 of 500\n",
      "building tree 114 of 500\n",
      "building tree 115 of 500\n",
      "building tree 116 of 500\n",
      "building tree 117 of 500\n",
      "building tree 118 of 500\n",
      "building tree 119 of 500\n",
      "building tree 120 of 500\n",
      "building tree 121 of 500\n",
      "building tree 122 of 500\n",
      "building tree 123 of 500\n",
      "building tree 124 of 500\n",
      "building tree 125 of 500\n",
      "building tree 126 of 500\n",
      "building tree 127 of 500\n",
      "building tree 128 of 500\n",
      "building tree 129 of 500\n",
      "building tree 130 of 500\n",
      "building tree 131 of 500\n",
      "building tree 132 of 500\n",
      "building tree 133 of 500\n",
      "building tree 134 of 500\n",
      "building tree 135 of 500\n",
      "building tree 136 of 500\n",
      "building tree 137 of 500\n",
      "building tree 138 of 500\n",
      "building tree 139 of 500\n",
      "building tree 140 of 500\n",
      "building tree 141 of 500\n",
      "building tree 142 of 500\n",
      "building tree 143 of 500\n",
      "building tree 144 of 500\n",
      "building tree 145 of 500\n",
      "building tree 146 of 500\n",
      "building tree 147 of 500\n",
      "building tree 148 of 500\n",
      "building tree 149 of 500\n",
      "building tree 150 of 500\n",
      "building tree 151 of 500\n",
      "building tree 152 of 500\n",
      "building tree 153 of 500\n",
      "building tree 154 of 500\n",
      "building tree 155 of 500\n",
      "building tree 156 of 500\n",
      "building tree 157 of 500\n",
      "building tree 158 of 500\n",
      "building tree 159 of 500\n",
      "building tree 160 of 500\n",
      "building tree 161 of 500\n",
      "building tree 162 of 500\n",
      "building tree 163 of 500\n",
      "building tree 164 of 500\n",
      "building tree 165 of 500\n",
      "building tree 166 of 500\n",
      "building tree 167 of 500\n",
      "building tree 168 of 500\n",
      "building tree 169 of 500\n",
      "building tree 170 of 500\n",
      "building tree 171 of 500\n",
      "building tree 172 of 500\n",
      "building tree 173 of 500\n",
      "building tree 174 of 500\n",
      "building tree 175 of 500\n",
      "building tree 176 of 500\n",
      "building tree 177 of 500\n",
      "building tree 178 of 500\n",
      "building tree 179 of 500\n",
      "building tree 180 of 500\n",
      "building tree 181 of 500\n",
      "building tree 182 of 500\n",
      "building tree 183 of 500\n",
      "building tree 184 of 500\n",
      "building tree 185 of 500\n",
      "building tree 186 of 500\n",
      "building tree 187 of 500\n",
      "building tree 188 of 500\n",
      "building tree 189 of 500\n",
      "building tree 190 of 500\n",
      "building tree 191 of 500\n",
      "building tree 192 of 500\n",
      "building tree 193 of 500\n",
      "building tree 194 of 500\n",
      "building tree 195 of 500\n",
      "building tree 196 of 500\n",
      "building tree 197 of 500\n",
      "building tree 198 of 500\n",
      "building tree 199 of 500\n",
      "building tree 200 of 500\n",
      "building tree 201 of 500\n",
      "building tree 202 of 500\n",
      "building tree 203 of 500\n",
      "building tree 204 of 500\n",
      "building tree 205 of 500\n",
      "building tree 206 of 500\n",
      "building tree 207 of 500\n",
      "building tree 208 of 500\n",
      "building tree 209 of 500\n",
      "building tree 210 of 500\n",
      "building tree 211 of 500\n",
      "building tree 212 of 500\n",
      "building tree 213 of 500\n",
      "building tree 214 of 500\n",
      "building tree 215 of 500\n",
      "building tree 216 of 500\n",
      "building tree 217 of 500\n",
      "building tree 218 of 500\n",
      "building tree 219 of 500\n",
      "building tree 220 of 500\n",
      "building tree 221 of 500\n",
      "building tree 222 of 500\n",
      "building tree 223 of 500\n",
      "building tree 224 of 500\n",
      "building tree 225 of 500\n",
      "building tree 226 of 500\n",
      "building tree 227 of 500\n",
      "building tree 228 of 500\n",
      "building tree 229 of 500\n",
      "building tree 230 of 500\n",
      "building tree 231 of 500\n",
      "building tree 232 of 500\n",
      "building tree 233 of 500\n",
      "building tree 234 of 500\n",
      "building tree 235 of 500\n",
      "building tree 236 of 500\n",
      "building tree 237 of 500\n",
      "building tree 238 of 500\n",
      "building tree 239 of 500\n",
      "building tree 240 of 500\n",
      "building tree 241 of 500\n",
      "building tree 242 of 500\n",
      "building tree 243 of 500\n",
      "building tree 244 of 500\n",
      "building tree 245 of 500\n",
      "building tree 246 of 500\n",
      "building tree 247 of 500\n",
      "building tree 248 of 500\n",
      "building tree 249 of 500\n",
      "building tree 250 of 500\n",
      "building tree 251 of 500\n",
      "building tree 252 of 500\n",
      "building tree 253 of 500\n",
      "building tree 254 of 500\n",
      "building tree 255 of 500\n",
      "building tree 256 of 500\n",
      "building tree 257 of 500\n",
      "building tree 258 of 500\n",
      "building tree 259 of 500\n",
      "building tree 260 of 500\n",
      "building tree 261 of 500\n",
      "building tree 262 of 500\n",
      "building tree 263 of 500\n",
      "building tree 264 of 500\n",
      "building tree 265 of 500\n",
      "building tree 266 of 500\n",
      "building tree 267 of 500\n",
      "building tree 268 of 500\n",
      "building tree 269 of 500\n",
      "building tree 270 of 500\n",
      "building tree 271 of 500\n",
      "building tree 272 of 500\n",
      "building tree 273 of 500\n",
      "building tree 274 of 500\n",
      "building tree 275 of 500\n",
      "building tree 276 of 500\n",
      "building tree 277 of 500\n",
      "building tree 278 of 500\n",
      "building tree 279 of 500\n",
      "building tree 280 of 500\n",
      "building tree 281 of 500\n",
      "building tree 282 of 500\n",
      "building tree 283 of 500\n",
      "building tree 284 of 500\n",
      "building tree 285 of 500\n",
      "building tree 286 of 500\n",
      "building tree 287 of 500\n",
      "building tree 288 of 500\n",
      "building tree 289 of 500\n",
      "building tree 290 of 500\n",
      "building tree 291 of 500\n",
      "building tree 292 of 500\n",
      "building tree 293 of 500\n",
      "building tree 294 of 500\n",
      "building tree 295 of 500\n",
      "building tree 296 of 500\n",
      "building tree 297 of 500\n",
      "building tree 298 of 500\n",
      "building tree 299 of 500\n",
      "building tree 300 of 500\n",
      "building tree 301 of 500\n",
      "building tree 302 of 500\n",
      "building tree 303 of 500\n",
      "building tree 304 of 500\n",
      "building tree 305 of 500\n",
      "building tree 306 of 500\n",
      "building tree 307 of 500\n",
      "building tree 308 of 500\n",
      "building tree 309 of 500\n",
      "building tree 310 of 500\n",
      "building tree 311 of 500\n",
      "building tree 312 of 500\n",
      "building tree 313 of 500\n",
      "building tree 314 of 500\n",
      "building tree 315 of 500\n",
      "building tree 316 of 500\n",
      "building tree 317 of 500\n"
     ]
    }
   ],
   "source": [
    "from sklearn.tree import DecisionTreeRegressor\n",
    "from sklearn.ensemble import RandomForestRegressor\n",
    "from sklearn.ensemble import RandomForestClassifier\n",
    "from sklearn import grid_search\n",
    "\n",
    "regr = linear_model.LinearRegression()\n",
    "rfr = RandomForestRegressor(n_estimators = 500, random_state = 2016, verbose = 20)\n",
    "param_grid = {}\n",
    "model = grid_search.GridSearchCV(estimator = rfr, param_grid = param_grid, cv = 4, verbose = 20, scoring=RMSE)\n",
    "\n",
    "model.fit(xTraining, yTraining)\n",
    "yPredict3 = model.predict(xTest)\n",
    "yPredict3 = my_forest.predict(xTest)\n",
    "\n",
    "print(metrics.accuracy_score(yTest,yPredict3))\n",
    "print(metrics.confusion_matrix(yTest,yPredict3))\n",
    "\n",
    "error3 = mean_squared_error(yTest, yPredict3)\n",
    "print(\"error 3 = \",error3)"
   ]
  },
  {
   "cell_type": "markdown",
   "metadata": {},
   "source": [
    "# LINEAR LOGISTIC REGRESSION "
   ]
  },
  {
   "cell_type": "code",
   "execution_count": null,
   "metadata": {
    "collapsed": false
   },
   "outputs": [],
   "source": [
    "import sklearn.linear_model as linear_model\n",
    "import sklearn.metrics as metrics\n",
    "from sklearn import preprocessing\n",
    "lr_clf = linear_model.LogisticRegression()\n",
    "lr_clf.fit(xTraining, yTraining)\n",
    "yPredict4 = lr_clf.predict(xTest)\n",
    "\n",
    "print(metrics.accuracy_score(yTest,yPredict4))\n",
    "print(metrics.confusion_matrix(yTest,yPredict4))\n",
    "error4 = mean_squared_error(yTest, yPredict4)\n",
    "print(\"error 4 = \",error4)\n",
    "\n",
    "RMSE = mean_squared_error(yTest,yPredict4)**0.5\n",
    "print(\"RMSE = \",RMSE)"
   ]
  },
  {
   "cell_type": "code",
   "execution_count": null,
   "metadata": {
    "collapsed": false
   },
   "outputs": [],
   "source": []
  },
  {
   "cell_type": "code",
   "execution_count": null,
   "metadata": {
    "collapsed": true
   },
   "outputs": [],
   "source": []
  }
 ],
 "metadata": {
  "anaconda-cloud": {},
  "kernelspec": {
   "display_name": "Python [conda root]",
   "language": "python",
   "name": "conda-root-py"
  },
  "language_info": {
   "codemirror_mode": {
    "name": "ipython",
    "version": 3
   },
   "file_extension": ".py",
   "mimetype": "text/x-python",
   "name": "python",
   "nbconvert_exporter": "python",
   "pygments_lexer": "ipython3",
   "version": "3.5.2"
  }
 },
 "nbformat": 4,
 "nbformat_minor": 0
}
