{
 "cells": [
  {
   "cell_type": "code",
   "execution_count": 27,
   "metadata": {
    "collapsed": false
   },
   "outputs": [],
   "source": [
    "class PatientPhenotype:\n",
    "    \n",
    "    def __init__(self, eid, case, sex, yearBirth):\n",
    "        \n",
    "        self.eid = eid\n",
    "        self.case = case\n",
    "        self.sex = sex\n",
    "        self.yearBirth = yearBirth\n",
    "        \n",
    "    def getEid(self):\n",
    "        return self.eid\n",
    "     \n",
    "    def getCase(self):\n",
    "        return self.case\n",
    "    \n",
    "    def getSex(self):\n",
    "        return self.sex\n",
    "    \n",
    "    def getYearBirth(self):\n",
    "        return self.yearBirth\n",
    "\n",
    "        "
   ]
  },
  {
   "cell_type": "code",
   "execution_count": 42,
   "metadata": {
    "collapsed": false
   },
   "outputs": [],
   "source": [
    "patientsPhen = {}\n",
    "\n",
    "f = open('C:\\\\Users\\\\Antonis\\\\Documents\\\\GitHub\\\\diplwmatikh\\\\data\\\\phenotype_euro.txt','r')\n",
    "f.readline()\n",
    "i = 0 \n",
    "for line in f:\n",
    "    patientsPhen[line.split()[0]] = PatientPhenotype(line.split()[0],line.split()[3],line.split()[1],line.split()[2])\n",
    "        "
   ]
  },
  {
   "cell_type": "code",
   "execution_count": 92,
   "metadata": {
    "collapsed": false
   },
   "outputs": [],
   "source": [
    "yearsCase0 = {}\n",
    "yearsCase1 = {}\n",
    "yearsMenCase0 = {}\n",
    "yearsMenCase1 = {}\n",
    "yearsWomenCase0 = {}\n",
    "yearsWomenCase1 = {}\n",
    "for i in patientsPhen.keys():\n",
    "    yearsCase0[patientsPhen[i].getYearBirth()] = 0\n",
    "    yearsCase1[patientsPhen[i].getYearBirth()] = 0\n",
    "    yearsMenCase0[patientsPhen[i].getYearBirth()] = 0\n",
    "    yearsMenCase1[patientsPhen[i].getYearBirth()] = 0\n",
    "    yearsWomenCase0[patientsPhen[i].getYearBirth()] = 0\n",
    "    yearsWomenCase1[patientsPhen[i].getYearBirth()] = 0\n",
    "\n",
    "\n",
    "for i in patientsPhen.keys():\n",
    "    if int(patientsPhen[i].getCase()) == 0:\n",
    "        yearsCase0[patientsPhen[i].getYearBirth()] = yearsCase0[patientsPhen[i].getYearBirth()] + 1\n",
    "    else:\n",
    "        yearsCase1[patientsPhen[i].getYearBirth()] = yearsCase1[patientsPhen[i].getYearBirth()] + 1\n",
    "count = 0\n",
    "for i in patientsPhen.keys():\n",
    "    count+=1\n",
    "    if int(patientsPhen[i].getSex()) == 1:\n",
    "        if int(patientsPhen[i].getCase()) == 0:\n",
    "             \n",
    "                yearsMenCase0[patientsPhen[i].getYearBirth()] = yearsMenCase0[patientsPhen[i].getYearBirth()] + 1\n",
    "        else:\n",
    "                yearsMenCase1[patientsPhen[i].getYearBirth()] = yearsMenCase1[patientsPhen[i].getYearBirth()] + 1\n",
    "               \n",
    "    else:\n",
    "        if int(patientsPhen[i].getCase()) == 0:\n",
    "                yearsWomenCase0[patientsPhen[i].getYearBirth()] = yearsWomenCase0[patientsPhen[i].getYearBirth()] + 1\n",
    "              \n",
    "        else:\n",
    "                yearsWomenCase1[patientsPhen[i].getYearBirth()] = yearsWomenCase1[patientsPhen[i].getYearBirth()] + 1\n",
    "                "
   ]
  },
  {
   "cell_type": "markdown",
   "metadata": {},
   "source": [
    "# men-women chart"
   ]
  },
  {
   "cell_type": "code",
   "execution_count": 99,
   "metadata": {
    "collapsed": false
   },
   "outputs": [],
   "source": [
    "axisX1 = []\n",
    "axisY1 = []\n",
    "\n",
    "for i in yearsCase1.keys():\n",
    "    axisX1.append(i)\n",
    "    \n",
    "axisX1.sort()\n",
    "\n",
    "for i in axisX1:\n",
    "    axisY1.append(yearsCase1[i])\n",
    "    \n",
    "    \n",
    "axisX0 = []\n",
    "axisY0 = []\n",
    "\n",
    "for i in yearsCase0.keys():\n",
    "    axisX0.append(i)\n",
    "    \n",
    "axisX0.sort()\n",
    "\n",
    "for i in axisX0:\n",
    "    axisY0.append(yearsCase0[i])"
   ]
  },
  {
   "cell_type": "code",
   "execution_count": 100,
   "metadata": {
    "collapsed": false
   },
   "outputs": [],
   "source": [
    "import matplotlib.pyplot as plt\n",
    "\n",
    "plt.plot(axisX0,axisY0,'r')\n",
    "plt.plot(axisX1,axisY1,'g')\n",
    "plt.show()"
   ]
  },
  {
   "cell_type": "markdown",
   "metadata": {},
   "source": [
    "# men chart"
   ]
  },
  {
   "cell_type": "code",
   "execution_count": 101,
   "metadata": {
    "collapsed": false
   },
   "outputs": [],
   "source": [
    "axisXm1 = []\n",
    "axisYm1 = []\n",
    "\n",
    "for i in yearsMenCase1.keys():\n",
    "    axisXm1.append(i)\n",
    "    \n",
    "axisXm1.sort()\n",
    "\n",
    "for i in axisX1:\n",
    "    axisYm1.append(yearsMenCase1[i])\n",
    "    \n",
    "    \n",
    "axisXm0 = []\n",
    "axisYm0 = []\n",
    "\n",
    "for i in yearsMenCase0.keys():\n",
    "    axisXm0.append(i)\n",
    "    \n",
    "axisXm0.sort()\n",
    "\n",
    "for i in axisXm0:\n",
    "    axisYm0.append(yearsMenCase0[i])"
   ]
  },
  {
   "cell_type": "code",
   "execution_count": 102,
   "metadata": {
    "collapsed": true
   },
   "outputs": [],
   "source": [
    "import matplotlib.pyplot as plt\n",
    "\n",
    "plt.plot(axisXm0,axisYm0,'r')\n",
    "plt.plot(axisXm1,axisYm1,'g')\n",
    "plt.show()"
   ]
  },
  {
   "cell_type": "markdown",
   "metadata": {},
   "source": [
    "# women chart\n"
   ]
  },
  {
   "cell_type": "code",
   "execution_count": 103,
   "metadata": {
    "collapsed": true
   },
   "outputs": [],
   "source": [
    "axisXw1 = []\n",
    "axisYw1 = []\n",
    "\n",
    "for i in yearsWomenCase1.keys():\n",
    "    axisXw1.append(i)\n",
    "    \n",
    "axisXw1.sort()\n",
    "\n",
    "for i in axisXw1:\n",
    "    axisYw1.append(yearsWomenCase1[i])\n",
    "    \n",
    "    \n",
    "axisXw0 = []\n",
    "axisYw0 = []\n",
    "\n",
    "for i in yearsWomenCase0.keys():\n",
    "    axisXw0.append(i)\n",
    "    \n",
    "axisXw0.sort()\n",
    "\n",
    "for i in axisX0:\n",
    "    axisYw0.append(yearsWomenCase0[i])"
   ]
  },
  {
   "cell_type": "code",
   "execution_count": null,
   "metadata": {
    "collapsed": true
   },
   "outputs": [],
   "source": [
    "import matplotlib.pyplot as plt\n",
    "\n",
    "plt.plot(axisXw0,axisYw0,'r')\n",
    "plt.plot(axisXw1,axisYw1,'g')\n",
    "plt.show()"
   ]
  },
  {
   "cell_type": "code",
   "execution_count": null,
   "metadata": {
    "collapsed": true
   },
   "outputs": [],
   "source": []
  }
 ],
 "metadata": {
  "kernelspec": {
   "display_name": "Python 3",
   "language": "python",
   "name": "python3"
  },
  "language_info": {
   "codemirror_mode": {
    "name": "ipython",
    "version": 3
   },
   "file_extension": ".py",
   "mimetype": "text/x-python",
   "name": "python",
   "nbconvert_exporter": "python",
   "pygments_lexer": "ipython3",
   "version": "3.5.1"
  }
 },
 "nbformat": 4,
 "nbformat_minor": 0
}
