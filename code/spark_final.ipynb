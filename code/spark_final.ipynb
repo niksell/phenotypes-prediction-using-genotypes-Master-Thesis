{
 "cells": [
  {
   "cell_type": "code",
   "execution_count": null,
   "metadata": {},
   "outputs": [],
   "source": [
    "## Import libs\n",
    "import findspark\n",
    "findspark.init(\"/home/antonis/spark-2.3.0-bin-hadoop2.7\")\n",
    "\n",
    "import os.path\n",
    "import pandas\n",
    "import math\n",
    "import time\n",
    "\n",
    "from metrics.Correlation import Correlation\n",
    "from IO.Output import Output\n",
    "from IO.Input import Input\n",
    "from metrics.RSquare import RSquare\n",
    "from DataSet.Dataset import DataSet\n",
    "\n",
    "import pyspark\n",
    "from pyspark.sql import SparkSession\n",
    "\n",
    "\n",
    "import sys\n",
    "from pyspark import SparkContext\n",
    "from pyspark.sql import SQLContext\n",
    "from pyspark.sql.types import *\n",
    "from pyspark.sql import Row\n",
    "from pyspark.sql.functions import countDistinct,avg,stddev\n",
    "from pyspark.ml.feature import (VectorAssembler,VectorIndexer,\n",
    "                               OneHotEncoder , StringIndexer)\n",
    "import DataSet.SnpsSelection as s\n",
    "\n",
    "from pyspark.ml.tuning import CrossValidator, ParamGridBuilder\n",
    "from pyspark.ml.evaluation import BinaryClassificationEvaluator\n",
    "from pyspark.ml import Pipeline\n",
    "from pyspark.ml.classification import LogisticRegression\n",
    "from pyspark.ml.linalg import DenseVector\n",
    "from pyspark.mllib.evaluation import MulticlassMetrics\n",
    "\n",
    "from pyspark.ml.evaluation import RegressionEvaluator\n",
    "from pyspark.ml.tuning import CrossValidator, ParamGridBuilder\n",
    "\n",
    "from pyspark.ml.classification import RandomForestClassifier\n",
    "from pyspark.ml.evaluation import MulticlassClassificationEvaluator\n",
    "from pyspark.ml.classification import LinearSVC\n",
    "\n",
    "from pyspark.ml.classification import NaiveBayes\n",
    "\n",
    "from pyspark.mllib.tree import DecisionTree, DecisionTreeModel\n",
    "from pyspark.mllib.util import MLUtils\n",
    "from pyspark.mllib.tree import GradientBoostedTrees, GradientBoostedTreesModel\n",
    "\n",
    "\n",
    "import math\n",
    "import time\n",
    "\n",
    "\n",
    "def writeCoef(path,snpsIds,sc,idToName,corr, name = None):\n",
    "        \n",
    "    if not name:\n",
    "        print(\"give a name to file\")\n",
    "        return\n",
    "        \n",
    "    p = path + name  + \" ( \" + time.strftime(\"%d-%m-%Y\") + \" ).txt \"  \n",
    "    \n",
    "    i=1\n",
    "    while os.path.exists(p):\n",
    "            \n",
    "        p = path + name  + \" ( \" + time.strftime(\"%d-%m-%Y\") + \" ) \" + '_' + str(i)+\".txt\"\n",
    "        i += 1\n",
    "        \n",
    "    snps = []\n",
    "    for i in range(len(snpsIds)):\n",
    "        s = snpsIds[i]\n",
    "        #snps.append(idToName[s])\n",
    "        snps.append(s)\n",
    "            \n",
    "    print(\"snpsIds = \",len(snpsIds))\n",
    "    print(\"idToName = \",len(idToName))\n",
    "        \n",
    "    write = open(p,'w')\n",
    "    write.write(\"len = \"+str(len(sc))+'\\n')\n",
    "    write.write('corr = '+str(corr)+'\\n')\n",
    "    for i in range(len(snps)):\n",
    "            \n",
    "        write.write(str(snps[i])+'\\t'+str(sc[i])+'\\n')\n",
    "            \n",
    "    write.close()\n",
    "\n",
    "\n",
    "def calcCoeff(path,coefs, columns,corr):\n",
    "    \n",
    "    ids = {}\n",
    "    ids['coef']={}\n",
    "   \n",
    "    print(\"before = \",len(set(coefs)))\n",
    "    #for i in range(len(coefs)):\n",
    "     #   coefs[i] = abs(coefs[i])\n",
    "\n",
    "    print(\"after = \",len(set(coefs)))\n",
    "\n",
    "    idToName = {}\n",
    "    nameToId = {}\n",
    "\n",
    "    for i in range(len(coefs)):\n",
    "        nameToId[coefs[i]] = []\n",
    "\n",
    "    for i in range(len(coefs)):\n",
    "        nameToId[coefs[i]].append(i)\n",
    "        idToName[i] = coefs[i]\n",
    "\n",
    "\n",
    "    ids['coef']['nameToId'] = nameToId\n",
    "    ids['coef']['idToName'] = idToName\n",
    "\n",
    "\n",
    "    sc = sorted(coefs,reverse=True)\n",
    "\n",
    "    top_30 = []\n",
    "\n",
    "    for i in range(30):\n",
    "\n",
    "        snp = ids['coef']['nameToId'][sc[i]][0]\n",
    "        ids['coef']['nameToId'][sc[i]].remove(snp)\n",
    "        top_30.append(columns[snp])\n",
    "     #   top_30.append(snp)\n",
    "\n",
    "    #snpReduc['low'] = top_30\n",
    "    writeCoef(path,top_30,sc,columns,corr, name = 'mycutoffabs')\n",
    "    \n",
    "    \n",
    "def showMetrics(c,value=1):\n",
    "    \n",
    "    predictionAndLabels = c.map(lambda lp: (lp.prediction, float(lp.label)))\n",
    "    metrics = MulticlassMetrics(predictionAndLabels)\n",
    "\n",
    "    print(\"confusion matrix = \", metrics.confusionMatrix().toArray())\n",
    "\n",
    "    print(\"accuracy = \", metrics.accuracy)\n",
    "    print(\"recal = \", metrics.recall(value))\n",
    "    print(\"precision = \", metrics.precision(value))\n",
    "    print(\"f1 = \", metrics.fMeasure(1.0))\n",
    "    \n",
    "    \n",
    "def showMyMetric(results,v1 = 1,v2 = 0):\n",
    "    \n",
    "    if v1 == v2:\n",
    "        print(\"wrong values!!!v1 is the same with v2!!!!\")\n",
    "       \n",
    "    \n",
    "    r = results.rdd\n",
    "    r3 = r.collect()\n",
    "\n",
    "    same0 = 0\n",
    "    same1 = 0\n",
    "    sum0 = 0\n",
    "    sum1 = 0\n",
    "    sumall = 0\n",
    "    for i in r3:\n",
    "\n",
    "        if i[v1] == 0:\n",
    "            sum0 += 1\n",
    "            if i[v2] == 0:\n",
    "                same0 += 1\n",
    "        elif i[v1] == 1:\n",
    "            sum1 += 1\n",
    "            if i[v2] == 1:\n",
    "                same1 += 1\n",
    "        sumall += 1\n",
    "\n",
    "    print('sum0 = ', sum0)\n",
    "    print('sum1 = ', sum1)\n",
    "    print('same0 = ', same0)\n",
    "    print('same1 = ', same1)\n",
    "    print('all = ', sumall)\n",
    "    print('all2 = ', sum0+sum1)"
   ]
  },
  {
   "cell_type": "code",
   "execution_count": null,
   "metadata": {},
   "outputs": [],
   "source": []
  },
  {
   "cell_type": "code",
   "execution_count": null,
   "metadata": {},
   "outputs": [],
   "source": [
    "from pyspark import SparkConf, SparkContext\n",
    "conf = (SparkConf()\n",
    "    .set(\"spark.driver.maxResultSize\", \"20g\")\n",
    "    .set('spark_executor_cores',\"3\")\n",
    "    .set('spark.graphx.pregel.checkpointInterval','-1')\n",
    "    .set('spark.network.timeout','100000000')\n",
    "    .set('spark.executor.heartbeatInterval','10000000'))\n",
    "\n",
    "#spark = SparkSession.builder.appName('melanoma').getOrCreate()\n",
    "sc = SparkContext(conf=conf)\n",
    "spark = SQLContext(sc)"
   ]
  },
  {
   "cell_type": "code",
   "execution_count": null,
   "metadata": {},
   "outputs": [],
   "source": [
    "#spark.stop()"
   ]
  },
  {
   "cell_type": "code",
   "execution_count": null,
   "metadata": {},
   "outputs": [],
   "source": []
  },
  {
   "cell_type": "markdown",
   "metadata": {},
   "source": [
    "# Tests"
   ]
  },
  {
   "cell_type": "code",
   "execution_count": null,
   "metadata": {},
   "outputs": [],
   "source": [
    "path = '/media/antonis/red/newdata/maf = 0.05/pvalue = 0.001/'\n",
    "\n",
    "#pathSnp = '/media/antonis/red/newSet/maf/maf = 0.05/assoc/pvalue = 0.001/snpCodeTest.csv'\n",
    "#pathSnp = '/media/antonis/red/newSet/maf/maf = 0.05/assoc/pvalue = 0.01/snp2.txt'\n",
    "#pathSnp = '/media/antonis/red/newdata/maf = 0.05/pvalue = 0.001/snp2.txt'\n",
    "pathSnp = '/media/antonis/red/newdata/maf = 0.05/pvalue = 0.001/snpCodeTest1.csv'\n",
    "\n",
    "#pathSnp = '/media/antonis/Antonis_Moulopoulos/newSet/pvalue = 0.001/snp1.txt'\n",
    "#pathSnp = '/media/antonis/Antonis_Moulopoulos/newdata/maf = 0.05/pvalue = 0.001/snp2.txt'\n",
    "\n",
    "\n",
    "data = spark.read.option(\"maxColumns\", 80000).csv(pathSnp,inferSchema=True,header=True)\n",
    "data=data.withColumnRenamed('TARGET','label')"
   ]
  },
  {
   "cell_type": "code",
   "execution_count": null,
   "metadata": {},
   "outputs": [],
   "source": [
    "print(\"data columns = \",len(data.columns))\n",
    "\n",
    "features = []\n",
    "for i in data.columns:\n",
    "    if 'rs' not in i and i !='label':\n",
    "        features.append(i)\n",
    "print(len(features))\n",
    "#print((features))"
   ]
  },
  {
   "cell_type": "code",
   "execution_count": null,
   "metadata": {},
   "outputs": [],
   "source": [
    "#data.select('patients','label').show(10)"
   ]
  },
  {
   "cell_type": "code",
   "execution_count": null,
   "metadata": {},
   "outputs": [],
   "source": [
    "from pyspark.ml.linalg import DenseVector\n",
    "\n",
    "d = data.drop('patients')\n",
    "for i in features:\n",
    "    d = d.drop(i)\n",
    "print(\"columns = \",len(d.columns))\n",
    "\n",
    "train_data,test_data = d.randomSplit([0.8,0.2],seed=18)\n",
    "\n"
   ]
  },
  {
   "cell_type": "code",
   "execution_count": null,
   "metadata": {},
   "outputs": [],
   "source": [
    "'''t0 = train_data.count()\n",
    "t1 = test_data.count()\n",
    "\n",
    "print(\"test = \",t1)\n",
    "print(\"train = \",t0)'''"
   ]
  },
  {
   "cell_type": "markdown",
   "metadata": {},
   "source": [
    "# Balanced Label1 to train"
   ]
  },
  {
   "cell_type": "code",
   "execution_count": null,
   "metadata": {},
   "outputs": [],
   "source": [
    "label1 = train_data.filter(\"label == 1\").count()\n",
    "label0 = train_data.filter(\"label == 0\").count()\n",
    "print(\"label0 = \", label0)\n",
    "print(\"label1 = \", label1)\n",
    "\n",
    "\n",
    "l0 = label1 * 2\n",
    "\n",
    "x = (l0 * 100) / label0\n",
    "\n",
    "\n",
    "x = x / 100\n",
    "\n",
    "print(\"label1 = \", label1)\n",
    "print(\"l2 = \",l0)\n",
    "print(\"label0 = \", label0)\n",
    "print(\"x = \", x)\n",
    "print()\n",
    "\n",
    "t0 = train_data.filter('label == 0')\n",
    "t1 = train_data.filter('label == 1')\n",
    "\n",
    "train0,t2 = t0.randomSplit([x,1-x],seed = 11)\n",
    "train_data = train0.union(t1)\n",
    "\n",
    "#train1,t3 = t1.randomSplit([0.5,0.5],seed = 11)\n",
    "#train_data = train0.union(train1)\n",
    "\n",
    "#t2 = t2.union(t3)\n",
    "#test_data = test_data.union(t2)\n",
    "\n",
    "t0 = train_data.count()\n",
    "t1 = test_data.count()\n",
    "\n",
    "print(\"label0 = \",label0)\n",
    "print('label1 = ', label1)\n",
    "print(\"l1 = \",l0)\n",
    "print('len test label1 = ',train_data.filter('label==1').count())\n",
    "print('len test label0 = ',train_data.filter('label==0').count())\n",
    "print('train = ', t0)\n",
    "print('test = ', t1)\n",
    "print('all = ', t0 + t1)\n",
    "print('d = ',d.count())\n"
   ]
  },
  {
   "cell_type": "code",
   "execution_count": null,
   "metadata": {},
   "outputs": [],
   "source": []
  },
  {
   "cell_type": "markdown",
   "metadata": {},
   "source": [
    "# UnBalanced Label1 to train"
   ]
  },
  {
   "cell_type": "code",
   "execution_count": null,
   "metadata": {},
   "outputs": [],
   "source": [
    "label1 = train_data.filter(\"label == 1\").count()\n",
    "label0 = train_data.filter(\"label == 0\").count()\n",
    "\n",
    "\n",
    "l1 = (label1/2) + ((label1/2) * 0.5)\n",
    "\n",
    "x = (l1 * 100) / label0\n",
    "\n",
    "\n",
    "x = x / 100\n",
    "\n",
    "print(\"label1 = \", label1)\n",
    "print(\"l1 = \",l1)\n",
    "print(\"label0 = \", label0)\n",
    "print(\"x = \", x)\n",
    "\n",
    "t0 = train_data.filter('label == 0')\n",
    "\n",
    "train0,t2 = t0.randomSplit([x,1-x],seed = 11)\n",
    "train1 = train_data.filter(\"label == 1\")\n",
    "\n",
    "train_data = train0.union(train1)\n",
    "test_data = test_data.union(t2)\n",
    "\n",
    "t0 = train_data.count()\n",
    "t1 = test_data.count()\n",
    "\n",
    "print(\"label0 = \",label0)\n",
    "print('label1 = ', label1)\n",
    "print(\"l1 = \",l1)\n",
    "print('train = ', t0)\n",
    "print('test = ', t1)\n",
    "print('all = ', t0 + t1)\n",
    "print('d = ',d.count())\n"
   ]
  },
  {
   "cell_type": "code",
   "execution_count": null,
   "metadata": {},
   "outputs": [],
   "source": []
  },
  {
   "cell_type": "markdown",
   "metadata": {},
   "source": [
    "# dokimh "
   ]
  },
  {
   "cell_type": "code",
   "execution_count": null,
   "metadata": {},
   "outputs": [],
   "source": [
    "from pyspark.ml.stat import Correlation\n",
    "\n",
    "li = len(d.columns)\n",
    "\n",
    "input_data = train_data.rdd.map(lambda x: (x[li-1], DenseVector(x[:li-1])))\n",
    "train0 = spark.createDataFrame(input_data, [\"label\", \"features\"])\n",
    "\n",
    "final_data1 = train0.select('features')\n",
    "corr = Correlation.corr(final_data1, \"features\")\n",
    "corr = corr.head()[0].toArray()"
   ]
  },
  {
   "cell_type": "code",
   "execution_count": null,
   "metadata": {},
   "outputs": [],
   "source": [
    "snpsRed = []\n",
    "snpsRed = s.lowCorrelation(corr, threshold=0.7, up=100, down=99)#oso megalytero threshold toso perissotero omoia einai "
   ]
  },
  {
   "cell_type": "code",
   "execution_count": null,
   "metadata": {},
   "outputs": [],
   "source": [
    "\n",
    "features = []\n",
    "\n",
    "for i in range(0,len(d.columns)):\n",
    "    if 'rs' in d.columns[i] and d.columns[i] !='label':\n",
    "        features.append(d.columns[i])\n",
    "\n",
    "print(\"len features1 = \",len(features))\n",
    "\n",
    "snpsRed1 = []\n",
    "for i in snpsRed:\n",
    "    snpsRed1.append(features[i])\n",
    "\n",
    "snpsRed1.append('label')\n",
    "\n",
    "print('len snpsRed1 = ', len(snpsRed1))\n",
    "    \n",
    "features = []\n",
    "for i in range(0,len(d.columns)):\n",
    "    if d.columns[i] not in snpsRed1:\n",
    "        features.append(d.columns[i])\n",
    "print(\"len features2 = \",len(features))\n",
    "\n",
    "dok_train = train_data.drop(*features)\n",
    "dok_test = test_data.drop(*features)\n",
    "\n",
    "print(\"columns dok train = \",len(dok_train.columns))\n",
    "print(\"columns dok test = \",len(dok_test.columns))\n",
    "li = len(dok_train.columns)\n",
    "\n",
    "print('first column = ', dok_train.columns[0])\n",
    "print('last column = ', dok_train.columns[li - 1])\n",
    "\n",
    "print('test first column = ', dok_test.columns[0])\n",
    "print('test last column = ', dok_test.columns[li - 1])"
   ]
  },
  {
   "cell_type": "code",
   "execution_count": null,
   "metadata": {},
   "outputs": [],
   "source": [
    "li = len(dok_train.columns)\n",
    "#li = len(test_data.columns)\n",
    "\n",
    "\n",
    "input_data = dok_test.rdd.map(lambda x: (x[li-1], DenseVector(x[:li-1])))\n",
    "test = spark.createDataFrame(input_data, [\"label\", \"features\"])\n",
    "\n",
    "input_data = dok_train.rdd.map(lambda x: (x[li-1], DenseVector(x[:li-1])))\n",
    "train = spark.createDataFrame(input_data, [\"label\", \"features\"])\n",
    "\n",
    "'''input_data = test_data.rdd.map(lambda x: (x[li-1], DenseVector(x[:li-1])))\n",
    "test = spark.createDataFrame(input_data, [\"label\", \"features\"])\n",
    "\n",
    "input_data = train_data.rdd.map(lambda x: (x[li-1], DenseVector(x[:li-1])))\n",
    "train = spark.createDataFrame(input_data, [\"label\", \"features\"])'''"
   ]
  },
  {
   "cell_type": "markdown",
   "metadata": {},
   "source": [
    "# telos dokimhs"
   ]
  },
  {
   "cell_type": "code",
   "execution_count": null,
   "metadata": {},
   "outputs": [],
   "source": [
    "print(\"train = \",train.head()[1].toArray().shape)\n",
    "print(\"test = \",test.head()[1].toArray().shape)"
   ]
  },
  {
   "cell_type": "markdown",
   "metadata": {},
   "source": [
    "# Linear Regression"
   ]
  },
  {
   "cell_type": "code",
   "execution_count": null,
   "metadata": {},
   "outputs": [],
   "source": [
    "log_reg = LogisticRegression(featuresCol='features',labelCol='label',maxIter=10)\n",
    "lr_model = log_reg.fit(train)"
   ]
  },
  {
   "cell_type": "code",
   "execution_count": null,
   "metadata": {},
   "outputs": [],
   "source": [
    "\n",
    "results = lr_model.transform(test)\n",
    "from pyspark.ml.evaluation import BinaryClassificationEvaluator\n",
    "evaluate = BinaryClassificationEvaluator(rawPredictionCol='prediction',labelCol='label')\n",
    "AUC = evaluate.evaluate(results)\n",
    "print(\"auc = \",AUC)\n",
    "'''0.7909133853963526'''"
   ]
  },
  {
   "cell_type": "code",
   "execution_count": null,
   "metadata": {},
   "outputs": [],
   "source": [
    "'''Param for metric name in evaluation. Supports: - \"rmse\" (default): root mean squared error - \n",
    "\"mse\": mean squared error - \"r2\": R^2^ metric - \"mae\": mean absolute error metricName='mae' '''\n",
    "\n",
    "'''pipeline = Pipeline(stages=[log_reg])\n",
    "modelEvaluator=RegressionEvaluator(predictionCol='prediction', labelCol='label',metricName='mse')\n",
    "paramGrid = ParamGridBuilder().build()\n",
    "\n",
    "crossval = CrossValidator(estimator=log_reg,\n",
    "                          estimatorParamMaps=paramGrid,\n",
    "                          evaluator=modelEvaluator,\n",
    "                          numFolds=4)\n",
    "\n",
    "cvModel = crossval.fit(train)\n",
    "cross_results = cvModel.transform(test)\n",
    "results = cross_results.select('prediction','label')\n",
    "#results.show(10)'''"
   ]
  },
  {
   "cell_type": "code",
   "execution_count": null,
   "metadata": {},
   "outputs": [],
   "source": [
    "'''Param for metric name in evaluation. Supports: - \"rmse\" (default): root mean squared error - \n",
    "\"mse\": mean squared error - \"r2\": R^2^ metric - \"mae\": mean absolute error metricName='mae' '''\n",
    "\n",
    "pipeline = Pipeline(stages=[log_reg])\n",
    "modelEvaluator=MulticlassClassificationEvaluator(predictionCol='prediction', labelCol='label',metricName='accuracy')\n",
    "paramGrid = ParamGridBuilder().build()\n",
    "\n",
    "crossval = CrossValidator(estimator=log_reg,\n",
    "                          estimatorParamMaps=paramGrid,\n",
    "                          evaluator=modelEvaluator,\n",
    "                          numFolds=4)\n",
    "\n",
    "\n",
    "cvModel = crossval.fit(train)\n",
    "\n",
    "\n",
    "\n",
    "cross_results = cvModel.transform(test)\n",
    "results = cross_results.select('prediction','label')\n",
    "#results.show(10)"
   ]
  },
  {
   "cell_type": "code",
   "execution_count": null,
   "metadata": {},
   "outputs": [],
   "source": [
    "avgResults = cvModel.avgMetrics"
   ]
  },
  {
   "cell_type": "code",
   "execution_count": null,
   "metadata": {},
   "outputs": [],
   "source": [
    "#print(len(d.columns))\n",
    "#print(d.columns[len(d.columns)-1])\n",
    "calcCoeff(path,lr_model.coefficientMatrix.toArray()[0],d.columns,0.2)"
   ]
  },
  {
   "cell_type": "code",
   "execution_count": null,
   "metadata": {},
   "outputs": [],
   "source": [
    "'''trainingSummary = cvModel.bestModel.stages[-1].summary\n",
    "trainingSummary.roc.show()\n",
    "print(\"areaUnderROC: \" + str(trainingSummary.areaUnderROC))'''"
   ]
  },
  {
   "cell_type": "code",
   "execution_count": null,
   "metadata": {},
   "outputs": [],
   "source": [
    "showMetrics(cross_results.rdd,value=1)\n",
    "showMyMetric(results,v1 = 1,v2 = 0)"
   ]
  },
  {
   "cell_type": "markdown",
   "metadata": {},
   "source": [
    "# RFR"
   ]
  },
  {
   "cell_type": "code",
   "execution_count": null,
   "metadata": {},
   "outputs": [],
   "source": [
    "rf = RandomForestClassifier(featuresCol='features',labelCol='label', numClasses=2, categoricalFeaturesInfo={},\n",
    "                                     numTrees=50, featureSubsetStrategy=\"auto\",\n",
    "                                     impurity='gini', maxDepth=4, maxBins=32)\n",
    "rf_model = rf.fit(train)"
   ]
  },
  {
   "cell_type": "code",
   "execution_count": null,
   "metadata": {},
   "outputs": [],
   "source": [
    "results = rf_model.transform(test)\n",
    "from pyspark.ml.evaluation import BinaryClassificationEvaluator\n",
    "evaluate = BinaryClassificationEvaluator(rawPredictionCol='prediction',labelCol='label')\n",
    "AUC = evaluate.evaluate(results)\n",
    "AUC"
   ]
  },
  {
   "cell_type": "code",
   "execution_count": null,
   "metadata": {},
   "outputs": [],
   "source": [
    "\n",
    "modelEvaluator=RegressionEvaluator(predictionCol='prediction', labelCol='label')\n",
    "paramGrid = ParamGridBuilder().build()\n",
    "\n",
    "crossval = CrossValidator(estimator=rf,\n",
    "                          estimatorParamMaps=paramGrid,\n",
    "                          evaluator=modelEvaluator,\n",
    "                          numFolds=4)\n",
    "\n",
    "cvModel = crossval.fit(train)\n",
    "cross_results = cvModel.transform(test)\n",
    "results = cross_results.select('prediction','label')\n",
    "#results.show(10)"
   ]
  },
  {
   "cell_type": "code",
   "execution_count": null,
   "metadata": {},
   "outputs": [],
   "source": [
    "showMetrics(cross_results.rdd,value=1)\n",
    "showMyMetric(results,v1 = 1,v2 = 0)"
   ]
  },
  {
   "cell_type": "code",
   "execution_count": null,
   "metadata": {},
   "outputs": [],
   "source": []
  },
  {
   "cell_type": "markdown",
   "metadata": {},
   "source": [
    "# SVM "
   ]
  },
  {
   "cell_type": "code",
   "execution_count": null,
   "metadata": {},
   "outputs": [],
   "source": [
    "#lsvc = LinearSVC(maxIter=10, regParam=0.1)\n",
    "lsvc = LinearSVC(featuresCol='features',labelCol='label',maxIter=10)\n",
    "lsvcModel = lsvc.fit(train)\n",
    "lsvc.setThreshold(0.5)"
   ]
  },
  {
   "cell_type": "code",
   "execution_count": null,
   "metadata": {},
   "outputs": [],
   "source": [
    "results = lsvcModel.transform(test)\n",
    "from pyspark.ml.evaluation import BinaryClassificationEvaluator\n",
    "evaluate = BinaryClassificationEvaluator(rawPredictionCol='prediction',labelCol='label')\n",
    "AUC = evaluate.evaluate(results)\n",
    "AUC"
   ]
  },
  {
   "cell_type": "code",
   "execution_count": null,
   "metadata": {},
   "outputs": [],
   "source": [
    "modelEvaluator=MulticlassClassificationEvaluator(predictionCol='prediction', labelCol='label',metricName='accuracy')\n",
    "paramGrid = ParamGridBuilder().build()\n",
    "\n",
    "crossval = CrossValidator(estimator=lsvc,\n",
    "                          estimatorParamMaps=paramGrid,\n",
    "                          evaluator=modelEvaluator,\n",
    "                          numFolds=4)\n",
    "\n",
    "\n",
    "cvModel = crossval.fit(train)\n",
    "\n",
    "\n",
    "\n",
    "cross_results = cvModel.transform(test)\n",
    "results = cross_results.select('prediction','label')\n",
    "#results.show(10)"
   ]
  },
  {
   "cell_type": "code",
   "execution_count": null,
   "metadata": {},
   "outputs": [],
   "source": [
    "showMetrics(cross_results.rdd,value=1)\n",
    "showMyMetric(results,v1 = 1,v2 = 0)\n",
    "lsvc.clearThreshold()"
   ]
  },
  {
   "cell_type": "code",
   "execution_count": null,
   "metadata": {},
   "outputs": [],
   "source": [
    "#calcCoeff(path,lr_model.coefficientMatrix.toArray()[0],d.columns)"
   ]
  },
  {
   "cell_type": "code",
   "execution_count": null,
   "metadata": {},
   "outputs": [],
   "source": [
    "'''print('len test label1 = ',train_data.filter('label==1').count())\n",
    "print('len test label0 = ',train_data.filter('label==0').count())'''"
   ]
  },
  {
   "cell_type": "markdown",
   "metadata": {},
   "source": [
    "# Bernoulli"
   ]
  },
  {
   "cell_type": "code",
   "execution_count": null,
   "metadata": {},
   "outputs": [],
   "source": [
    "nb = NaiveBayes(predictionCol='prediction', labelCol='label',smoothing=0.2)\n",
    "nbg = nb.fit(train)"
   ]
  },
  {
   "cell_type": "code",
   "execution_count": null,
   "metadata": {},
   "outputs": [],
   "source": [
    "results = nbg.transform(test)\n",
    "from pyspark.ml.evaluation import BinaryClassificationEvaluator\n",
    "evaluate = BinaryClassificationEvaluator(rawPredictionCol='prediction',labelCol='label')\n",
    "AUC = evaluate.evaluate(results)\n",
    "AUC"
   ]
  },
  {
   "cell_type": "code",
   "execution_count": null,
   "metadata": {},
   "outputs": [],
   "source": [
    "modelEvaluator=MulticlassClassificationEvaluator(predictionCol='prediction', labelCol='label',metricName='accuracy')\n",
    "paramGrid = ParamGridBuilder().build()\n",
    "\n",
    "crossval = CrossValidator(estimator=nb,\n",
    "                          estimatorParamMaps=paramGrid,\n",
    "                          evaluator=modelEvaluator,\n",
    "                          numFolds=4)\n",
    "\n",
    "\n",
    "cvModel = crossval.fit(train)\n",
    "\n",
    "\n",
    "\n",
    "cross_results = cvModel.transform(test)\n",
    "results = cross_results.select('prediction','label')\n",
    "#results.show(10)"
   ]
  },
  {
   "cell_type": "code",
   "execution_count": null,
   "metadata": {},
   "outputs": [],
   "source": [
    "showMetrics(cross_results.rdd,value=1)\n",
    "showMyMetric(results,v1 = 1,v2 = 0)"
   ]
  },
  {
   "cell_type": "code",
   "execution_count": null,
   "metadata": {},
   "outputs": [],
   "source": []
  },
  {
   "cell_type": "markdown",
   "metadata": {},
   "source": [
    "# Tree"
   ]
  },
  {
   "cell_type": "code",
   "execution_count": null,
   "metadata": {},
   "outputs": [],
   "source": [
    "from pyspark.mllib.regression import LabeledPoint\n",
    "from pyspark.sql.functions import col\n",
    "from pyspark.ml.regression import DecisionTreeRegressor\n",
    "from pyspark.ml.classification import DecisionTreeClassifier\n",
    "\n",
    "'''features = []\n",
    "\n",
    "for i in dok_train.columns:\n",
    "    features.append(i)\n",
    "\n",
    "assempler = VectorAssembler(inputCols=features,outputCol='features')\n",
    "output = assempler.transform(data)\n",
    "\n",
    "tr = output.select('label','features').rdd.map(lambda row: LabeledPoint(row.label, row.features))\n",
    "\n",
    "\n",
    "\n",
    "\n",
    "\n",
    "treeD = DecisionTree.trainClassifier(tr, numClasses=2, categoricalFeaturesInfo={}, \n",
    "                                     impurity='gini', maxDepth=4, maxBins=32)'''\n",
    "\n",
    "treeD = DecisionTreeClassifier(predictionCol='prediction', labelCol='label')\n",
    "tree = treeD.fit(train)\n",
    "\n",
    "#tree = treeD.fit(train0)\n",
    "print(\"ok\")"
   ]
  },
  {
   "cell_type": "code",
   "execution_count": null,
   "metadata": {},
   "outputs": [],
   "source": [
    "results = tree.transform(test)\n",
    "from pyspark.ml.evaluation import BinaryClassificationEvaluator\n",
    "evaluate = BinaryClassificationEvaluator(rawPredictionCol='prediction',labelCol='label')\n",
    "AUC = evaluate.evaluate(results)\n",
    "AUC"
   ]
  },
  {
   "cell_type": "code",
   "execution_count": null,
   "metadata": {
    "scrolled": true
   },
   "outputs": [],
   "source": [
    "modelEvaluator=MulticlassClassificationEvaluator(predictionCol='prediction', labelCol='label',metricName='accuracy')\n",
    "paramGrid = ParamGridBuilder().build()\n",
    "\n",
    "crossval = CrossValidator(estimator=treeD,\n",
    "                          estimatorParamMaps=paramGrid,\n",
    "                          evaluator=modelEvaluator,\n",
    "                          numFolds=4)\n",
    "\n",
    "\n",
    "cvModel = crossval.fit(train)\n",
    "\n",
    "\n",
    "\n",
    "cross_results = cvModel.transform(test)\n",
    "results = cross_results.select('prediction','label')\n",
    "#results.show(10)"
   ]
  },
  {
   "cell_type": "code",
   "execution_count": null,
   "metadata": {},
   "outputs": [],
   "source": [
    "showMetrics(cross_results.rdd,value=1)\n",
    "showMyMetric(results,v1 = 1,v2 = 0)\n"
   ]
  },
  {
   "cell_type": "code",
   "execution_count": null,
   "metadata": {},
   "outputs": [],
   "source": [
    "modelFile = path+'treeRules.txt'\n",
    "f = open(modelFile,\"w\") \n",
    "f.write(tree.toDebugString)\n",
    "f.close()"
   ]
  },
  {
   "cell_type": "code",
   "execution_count": null,
   "metadata": {},
   "outputs": [],
   "source": []
  },
  {
   "cell_type": "markdown",
   "metadata": {},
   "source": [
    "# Gradient-Boosted Trees (GBTs)"
   ]
  },
  {
   "cell_type": "code",
   "execution_count": null,
   "metadata": {},
   "outputs": [],
   "source": [
    "modelGBT = GradientBoostedTrees.trainClassifier(train,categoricalFeaturesInfo={}, numIterations=10)\n",
    "\n",
    "#modelGBT = GradientBoostedTrees(predictionCol='prediction', labelCol='label')\n",
    "gbt = treeD.fit(train)"
   ]
  },
  {
   "cell_type": "code",
   "execution_count": null,
   "metadata": {},
   "outputs": [],
   "source": [
    "results = gbt.transform(test)\n",
    "from pyspark.ml.evaluation import BinaryClassificationEvaluator\n",
    "evaluate = BinaryClassificationEvaluator(rawPredictionCol='prediction',labelCol='label')\n",
    "AUC = evaluate.evaluate(results)\n",
    "AUC"
   ]
  },
  {
   "cell_type": "code",
   "execution_count": null,
   "metadata": {},
   "outputs": [],
   "source": [
    "modelEvaluator=RegressionEvaluator(predictionCol='prediction', labelCol='label')\n",
    "paramGrid = ParamGridBuilder().build()\n",
    "\n",
    "crossval = CrossValidator(estimator=gbt,\n",
    "                          estimatorParamMaps=paramGrid,\n",
    "                          evaluator=modelEvaluator,\n",
    "                          numFolds=4)\n",
    "\n",
    "cvModel = crossval.fit(train)\n",
    "cross_results = cvModel.transform(test)\n",
    "results = cross_results.select('prediction','label')\n",
    "#results.show(10)"
   ]
  },
  {
   "cell_type": "code",
   "execution_count": null,
   "metadata": {},
   "outputs": [],
   "source": [
    "showMetrics(cross_results.rdd,value=1)\n",
    "showMyMetric(results,v1 = 1,v2 = 0)"
   ]
  },
  {
   "cell_type": "code",
   "execution_count": null,
   "metadata": {},
   "outputs": [],
   "source": []
  }
 ],
 "metadata": {
  "kernelspec": {
   "display_name": "Python 3",
   "language": "python",
   "name": "python3"
  },
  "language_info": {
   "codemirror_mode": {
    "name": "ipython",
    "version": 3
   },
   "file_extension": ".py",
   "mimetype": "text/x-python",
   "name": "python",
   "nbconvert_exporter": "python",
   "pygments_lexer": "ipython3",
   "version": "3.5.2"
  }
 },
 "nbformat": 4,
 "nbformat_minor": 2
}
