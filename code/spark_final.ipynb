{
 "cells": [
  {
   "cell_type": "code",
   "execution_count": null,
   "metadata": {},
   "outputs": [],
   "source": [
    "## Import libs\n",
    "import findspark\n",
    "findspark.init(\"/home/antonis/spark-2.3.0-bin-hadoop2.7\")\n",
    "\n",
    "import os.path\n",
    "import pandas\n",
    "import math\n",
    "import time\n",
    "\n",
    "from metrics.Correlation import Correlation\n",
    "from IO.Output import Output\n",
    "from IO.Input import Input\n",
    "from metrics.RSquare import RSquare\n",
    "from DataSet.Dataset import DataSet\n",
    "\n",
    "import pyspark\n",
    "from pyspark.sql import SparkSession\n",
    "\n",
    "\n",
    "import sys\n",
    "from pyspark import SparkContext\n",
    "from pyspark.sql import SQLContext\n",
    "from pyspark.sql.types import *\n",
    "from pyspark.sql import Row\n",
    "from pyspark.sql.functions import countDistinct,avg,stddev\n",
    "from pyspark.ml.feature import (VectorAssembler,VectorIndexer,\n",
    "                               OneHotEncoder , StringIndexer)\n",
    "import DataSet.SnpsSelection as s\n",
    "\n",
    "from pyspark.ml.tuning import CrossValidator, ParamGridBuilder\n",
    "from pyspark.ml.evaluation import BinaryClassificationEvaluator\n",
    "from pyspark.ml import Pipeline\n",
    "from pyspark.ml.classification import LogisticRegression\n",
    "from pyspark.ml.linalg import DenseVector\n",
    "from pyspark.mllib.evaluation import MulticlassMetrics\n",
    "\n",
    "from pyspark.ml.evaluation import RegressionEvaluator\n",
    "from pyspark.ml.tuning import CrossValidator, ParamGridBuilder\n",
    "\n",
    "from pyspark.ml.classification import RandomForestClassifier\n",
    "from pyspark.ml.evaluation import MulticlassClassificationEvaluator\n",
    "from pyspark.ml.classification import LinearSVC\n",
    "\n",
    "from pyspark.ml.classification import NaiveBayes\n",
    "\n",
    "from pyspark.mllib.tree import DecisionTree, DecisionTreeModel\n",
    "from pyspark.mllib.util import MLUtils\n",
    "from pyspark.mllib.tree import GradientBoostedTrees, GradientBoostedTreesModel\n",
    "\n",
    "\n",
    "import math\n",
    "import time\n",
    "\n",
    "\n",
    "def writeCoef(path,snpsIds,sc,idToName,name = None):\n",
    "        \n",
    "    if not name:\n",
    "        print(\"give a name to file\")\n",
    "        return\n",
    "        \n",
    "    p = path + name  + \" ( \" + time.strftime(\"%d-%m-%Y\") + \" ).txt \"  \n",
    "    \n",
    "    i=1\n",
    "    while os.path.exists(p):\n",
    "            \n",
    "        p = path + name  + \" ( \" + time.strftime(\"%d-%m-%Y\") + \" ) \" + '_' + str(i)+\".txt\"\n",
    "        i += 1\n",
    "        \n",
    "    snps = []\n",
    "    for i in range(len(snpsIds)):\n",
    "        s = snpsIds[i]\n",
    "        #snps.append(idToName[s])\n",
    "        snps.append(s)\n",
    "            \n",
    "    print(\"snpsIds = \",len(snpsIds))\n",
    "    print(\"idToName = \",len(idToName))\n",
    "        \n",
    "    write = open(p,'w')\n",
    "    for i in range(len(snps)):\n",
    "            \n",
    "        write.write(str(snps[i])+'\\t'+str(sc[i])+'\\n')\n",
    "            \n",
    "    write.close()\n",
    "\n",
    "\n",
    "def calcCoeff(path,coefs, columns):\n",
    "    \n",
    "    ids = {}\n",
    "    ids['coef']={}\n",
    "   \n",
    "    print(\"before = \",len(set(coefs)))\n",
    "    #for i in range(len(coefs)):\n",
    "     #   coefs[i] = abs(coefs[i])\n",
    "\n",
    "    print(\"after = \",len(set(coefs)))\n",
    "\n",
    "    idToName = {}\n",
    "    nameToId = {}\n",
    "\n",
    "    for i in range(len(coefs)):\n",
    "        nameToId[coefs[i]] = []\n",
    "\n",
    "    for i in range(len(coefs)):\n",
    "        nameToId[coefs[i]].append(i)\n",
    "        idToName[i] = coefs[i]\n",
    "\n",
    "\n",
    "    ids['coef']['nameToId'] = nameToId\n",
    "    ids['coef']['idToName'] = idToName\n",
    "\n",
    "\n",
    "    sc = sorted(coefs,reverse=True)\n",
    "\n",
    "    top_30 = []\n",
    "\n",
    "    for i in range(30):\n",
    "\n",
    "        snp = ids['coef']['nameToId'][sc[i]][0]\n",
    "        ids['coef']['nameToId'][sc[i]].remove(snp)\n",
    "        top_30.append(columns[snp])\n",
    "     #   top_30.append(snp)\n",
    "\n",
    "    #snpReduc['low'] = top_30\n",
    "    writeCoef(path,top_30,sc,columns, 'mycutoffabs')\n",
    "    \n",
    "    \n",
    "def showMetrics(c,value=1):\n",
    "    \n",
    "    predictionAndLabels = c.map(lambda lp: (lp.prediction, float(lp.label)))\n",
    "    metrics = MulticlassMetrics(predictionAndLabels)\n",
    "\n",
    "    print(\"confusion matrix = \", metrics.confusionMatrix().toArray())\n",
    "\n",
    "    print(\"accuracy = \", metrics.accuracy)\n",
    "    print(\"recal = \", metrics.recall(value))\n",
    "    print(\"precision = \", metrics.precision(value))\n",
    "    print(\"f1 = \", metrics.fMeasure(1.0))\n",
    "    \n",
    "    \n",
    "def showMyMetric(results,v1 = 1,v2 = 0):\n",
    "    \n",
    "    if v1 == v2:\n",
    "        print(\"wrong values!!!v1 is the same with v2!!!!\")\n",
    "       \n",
    "    \n",
    "    r = results.rdd\n",
    "    r3 = r.collect()\n",
    "\n",
    "    same0 = 0\n",
    "    same1 = 0\n",
    "    sum0 = 0\n",
    "    sum1 = 0\n",
    "    sumall = 0\n",
    "    for i in r3:\n",
    "\n",
    "        if i[v1] == 0:\n",
    "            sum0 += 1\n",
    "            if i[v2] == 0:\n",
    "                same0 += 1\n",
    "        elif i[v1] == 1:\n",
    "            sum1 += 1\n",
    "            if i[v2] == 1:\n",
    "                same1 += 1\n",
    "        sumall += 1\n",
    "\n",
    "    print('sum0 = ', sum0)\n",
    "    print('sum1 = ', sum1)\n",
    "    print('same0 = ', same0)\n",
    "    print('same1 = ', same1)\n",
    "    print('all = ', sumall)\n",
    "    print('all2 = ', sum0+sum1)"
   ]
  },
  {
   "cell_type": "code",
   "execution_count": null,
   "metadata": {},
   "outputs": [],
   "source": []
  },
  {
   "cell_type": "code",
   "execution_count": null,
   "metadata": {},
   "outputs": [],
   "source": [
    "from pyspark import SparkConf, SparkContext\n",
    "conf = (SparkConf()\n",
    "    .set(\"spark.driver.maxResultSize\", \"20g\")\n",
    "    .set('spark_executor_cores',\"3\")\n",
    "    .set('spark.graphx.pregel.checkpointInterval','-1')\n",
    "    .set('spark.network.timeout','100000000')\n",
    "    .set('spark.executor.heartbeatInterval','10000000'))\n",
    "\n",
    "#spark = SparkSession.builder.appName('melanoma').getOrCreate()\n",
    "sc = SparkContext(conf=conf)\n",
    "spark = SQLContext(sc)"
   ]
  },
  {
   "cell_type": "code",
   "execution_count": null,
   "metadata": {},
   "outputs": [],
   "source": [
    "#spark.stop()"
   ]
  },
  {
   "cell_type": "code",
   "execution_count": null,
   "metadata": {},
   "outputs": [],
   "source": []
  },
  {
   "cell_type": "markdown",
   "metadata": {},
   "source": [
    "# Tests"
   ]
  },
  {
   "cell_type": "code",
   "execution_count": null,
   "metadata": {},
   "outputs": [],
   "source": [
    "path = '/media/antonis/red/newdata/maf = 0.05/pvalue = 0.001/'\n",
    "\n",
    "#pathSnp = '/media/antonis/red/newSet/maf/maf = 0.05/assoc/pvalue = 0.001/snpCodeTest.csv'\n",
    "#pathSnp = '/media/antonis/red/newSet/maf/maf = 0.05/assoc/pvalue = 0.01/snp2.txt'\n",
    "#pathSnp = '/media/antonis/red/newdata/maf = 0.05/pvalue = 0.001/snp2.txt'\n",
    "pathSnp = '/media/antonis/red/newdata/maf = 0.05/pvalue = 0.001/snpCodeTest.csv'\n",
    "\n",
    "#pathSnp = '/media/antonis/Antonis_Moulopoulos/newSet/pvalue = 0.001/snp1.txt'\n",
    "#pathSnp = '/media/antonis/Antonis_Moulopoulos/newdata/maf = 0.05/pvalue = 0.001/snp2.txt'\n",
    "\n",
    "\n",
    "data = spark.read.option(\"maxColumns\", 80000).csv(pathSnp,inferSchema=True,header=True)\n",
    "data=data.withColumnRenamed('TARGET','label')"
   ]
  },
  {
   "cell_type": "code",
   "execution_count": null,
   "metadata": {},
   "outputs": [],
   "source": [
    "features = []\n",
    "for i in data.columns:\n",
    "    if 'rs' not in i and i !='label':\n",
    "        features.append(i)\n",
    "print(len(features))\n",
    "#print((features))"
   ]
  },
  {
   "cell_type": "code",
   "execution_count": null,
   "metadata": {},
   "outputs": [],
   "source": [
    "#data.select('patients','label').show(10)"
   ]
  },
  {
   "cell_type": "code",
   "execution_count": null,
   "metadata": {},
   "outputs": [],
   "source": [
    "from pyspark.ml.linalg import DenseVector\n",
    "\n",
    "d = data.drop('patients')\n",
    "for i in features:\n",
    "    d = d.drop(i)\n",
    "print(\"columns = \",len(d.columns))\n",
    "li = len(d.columns)\n",
    "input_data = d.rdd.map(lambda x: (x[li-1], DenseVector(x[:li-1])))\n",
    "\n",
    "df = spark.createDataFrame(input_data, [\"label\", \"features\"])"
   ]
  },
  {
   "cell_type": "code",
   "execution_count": null,
   "metadata": {},
   "outputs": [],
   "source": []
  },
  {
   "cell_type": "code",
   "execution_count": null,
   "metadata": {},
   "outputs": [],
   "source": [
    "df.show(10)"
   ]
  },
  {
   "cell_type": "markdown",
   "metadata": {},
   "source": [
    "# Correlation"
   ]
  },
  {
   "cell_type": "code",
   "execution_count": null,
   "metadata": {},
   "outputs": [],
   "source": [
    "from pyspark.ml.stat import Correlation\n",
    "final_data1 = df.select('features')\n",
    "corr = Correlation.corr(final_data1, \"features\")\n",
    "corr = corr.head()[0].toArray()"
   ]
  },
  {
   "cell_type": "code",
   "execution_count": null,
   "metadata": {},
   "outputs": [],
   "source": [
    "snpsRed = []\n",
    "snpsRed = s.lowCorrelation(corr, threshold=0.7, up=100, down=99.5)#oso megalytero threshold toso perissotero omoia einai "
   ]
  },
  {
   "cell_type": "code",
   "execution_count": null,
   "metadata": {
    "scrolled": true
   },
   "outputs": [],
   "source": [
    "\n",
    "d = data.drop('patients')\n",
    "features = []\n",
    "\n",
    "for i in data.columns:\n",
    "    if 'rs' in i and i !='label':\n",
    "        features.append(i)\n",
    "print(len(features))\n",
    "\n",
    "#features = d.columns\n",
    "\n",
    "print(\"len features1 = \",len(features))\n",
    "\n",
    "snpsRed1 = []\n",
    "for i in snpsRed:\n",
    "    snpsRed1.append(features[i])\n",
    "\n",
    "snpsRed1.append('label')\n",
    "    \n",
    "features = []\n",
    "for i in data.columns:\n",
    "    if i not in snpsRed1:\n",
    "        features.append(i)\n",
    "print(\"len features2 = \",len(features))\n",
    "\n",
    "#for i in features:\n",
    "#    d = d.drop(i)\n",
    "d = d.drop(*features)\n",
    "print(\"columns = \",len(d.columns))\n",
    "li = len(d.columns)\n",
    "input_data = d.rdd.map(lambda x: (x[li-1], DenseVector(x[:li-1])))\n",
    "\n",
    "df = spark.createDataFrame(input_data, [\"label\", \"features\"])\n",
    "\n",
    "#assempler = VectorAssembler(inputCols=snpsRed1,outputCol='snpsRed')\n",
    "#output = assempler.transform(data)\n",
    "#final_data = output.select('snpsRed','label')\n",
    "#final_data.show(10)"
   ]
  },
  {
   "cell_type": "code",
   "execution_count": null,
   "metadata": {},
   "outputs": [],
   "source": []
  },
  {
   "cell_type": "markdown",
   "metadata": {},
   "source": [
    "# Balanced Label1 to train"
   ]
  },
  {
   "cell_type": "code",
   "execution_count": null,
   "metadata": {},
   "outputs": [],
   "source": [
    "train1 = df.filter(\"label == 1\")\n",
    "train0 = df.filter(\"label == 0\")\n",
    "\n",
    "label1 = train1.count()\n",
    "label0 = train0.count()\n",
    "\n",
    "l1 = label1 + (label1 * 0.1)\n",
    "\n",
    "x = ((label1/2)*100) / label0\n",
    "\n",
    "x = x / 100\n",
    "\n",
    "\n",
    "tr1,tr11 = train1.randomSplit([0.5,0.5],seed=11)\n",
    "tr0,tr00 = train0.randomSplit([x,1-x],seed=11)\n",
    "\n",
    "train0 = tr0.union(tr1)\n",
    "test_data = tr00.union(tr11)\n",
    "\n",
    "t0 = train0.count()\n",
    "t1 = test_data.count()\n",
    "\n",
    "print(\"label0 = \",label0)\n",
    "print('label1 = ', label1)\n",
    "print(\"l1 = \",l1)\n",
    "print('train = ', t0)\n",
    "print('test = ', t1)\n",
    "print('all = ', t0 + t1)\n",
    "print('df = ',df.count())"
   ]
  },
  {
   "cell_type": "markdown",
   "metadata": {},
   "source": [
    "# UnBalanced Label1 to train"
   ]
  },
  {
   "cell_type": "code",
   "execution_count": null,
   "metadata": {},
   "outputs": [],
   "source": [
    "train_data,test_data = df.randomSplit([0.9,0.1],seed=11)\n",
    "\n",
    "label1 = train_data.filter(\"label == 1\").count()\n",
    "label0 = train_data.filter(\"label == 0\").count()\n",
    "\n",
    "x = (label1*100) / label0\n",
    "\n",
    "x = x / 100\n",
    "\n",
    "print(\"label1 = \", label1)\n",
    "print(\"label0 = \", label0)\n",
    "print(\"x = \", x)\n",
    "\n",
    "train0,t2 = train_data.filter('label == 0').randomSplit([x,1-x],seed = 11)\n",
    "train1 = train_data.filter(\"label == 1\")\n",
    "\n",
    "train0 = train0.union(train1)"
   ]
  },
  {
   "cell_type": "code",
   "execution_count": null,
   "metadata": {},
   "outputs": [],
   "source": [
    "print(train0.filter('label == 0').count())\n",
    "print(train0.filter('label == 1').count())\n",
    "print(train0.count())\n",
    "print(len(d.columns))\n"
   ]
  },
  {
   "cell_type": "code",
   "execution_count": null,
   "metadata": {},
   "outputs": [],
   "source": []
  },
  {
   "cell_type": "markdown",
   "metadata": {},
   "source": [
    "# dokimh "
   ]
  },
  {
   "cell_type": "code",
   "execution_count": null,
   "metadata": {},
   "outputs": [],
   "source": [
    "'''t0,t = data.filter('label == 0').randomSplit([0.001,1-0.001],seed=11)\n",
    "t1 = data.filter('label == 1')\n",
    "\n",
    "train_dok = t0.union(t1)\n",
    "\n",
    "features = []\n",
    "for i in train_dok.columns:\n",
    "    if 'rs' not in i and i !='label':\n",
    "        if i == 'label':\n",
    "            print('label')\n",
    "        features.append(i)\n",
    "print(len(features))\n",
    "\n",
    "train_dok = train_dok.drop('patients')\n",
    "train_dok = train_dok.drop(*features)\n",
    "\n",
    "print(\"columns = \",len(train_dok.columns))\n",
    "li = len(train_dok.columns)\n",
    "\n",
    "print(\"last column = \", train_dok.columns[li-1])\n",
    "\n",
    "input_data = train_dok.rdd.map(lambda x: (x[li-1], DenseVector(x[:li-1])))\n",
    "df = spark.createDataFrame(input_data, [\"label\", \"features\"])\n",
    "\n",
    "print(\"df count = \", df.count())\n",
    "\n",
    "'''"
   ]
  },
  {
   "cell_type": "code",
   "execution_count": null,
   "metadata": {},
   "outputs": [],
   "source": [
    "from pyspark.ml.stat import Correlation\n",
    "final_data1 = df.select('features')\n",
    "corr = Correlation.corr(final_data1, \"features\")\n",
    "corr = corr.head()[0].toArray()"
   ]
  },
  {
   "cell_type": "code",
   "execution_count": null,
   "metadata": {},
   "outputs": [],
   "source": [
    "snpsRed = []\n",
    "snpsRed = s.lowCorrelation(corr, threshold=0.7, up=100, down=100)#oso megalytero threshold toso perissotero omoia einai "
   ]
  },
  {
   "cell_type": "code",
   "execution_count": null,
   "metadata": {},
   "outputs": [],
   "source": [
    "\n",
    "features = []\n",
    "\n",
    "for i in range(0,len(train_dok.columns)):\n",
    "    if 'rs' in train_dok.columns[i] and train_dok.columns[i] !='label':\n",
    "        features.append(train_dok.columns[i])\n",
    "\n",
    "print(\"len features1 = \",len(features))\n",
    "\n",
    "snpsRed1 = []\n",
    "for i in snpsRed:\n",
    "    snpsRed1.append(features[i])\n",
    "\n",
    "snpsRed1.append('label')\n",
    "\n",
    "print('len snpsRed1 = ', len(snpsRed1))\n",
    "    \n",
    "features = []\n",
    "for i in range(0,len(data.columns)):\n",
    "    if data.columns[i] not in snpsRed1:\n",
    "        features.append(data.columns[i])\n",
    "print(\"len features2 = \",len(features))\n",
    "\n",
    "d = data.drop(*features)\n",
    "d = d.drop('patients')\n",
    "print(\"columns = \",len(d.columns))\n",
    "li = len(d.columns)\n",
    "\n",
    "print('first column = ', d.columns[0])\n",
    "print('last column = ', d.columns[li - 1])\n",
    "\n",
    "input_data = d.rdd.map(lambda x: (x[li-1], DenseVector(x[:li-1])))\n",
    "df = spark.createDataFrame(input_data, [\"label\", \"features\"])\n",
    "\n"
   ]
  },
  {
   "cell_type": "code",
   "execution_count": null,
   "metadata": {},
   "outputs": [],
   "source": [
    "train1 = df.filter(\"label == 1\")\n",
    "train0 = df.filter(\"label == 0\")\n",
    "\n",
    "label1 = train1.count()\n",
    "label0 = train0.count()\n",
    "\n",
    "l1 = label1 + (label1 * 0.1)\n",
    "\n",
    "x = ((label1/2)*100) / label0\n",
    "\n",
    "x = x / 100\n",
    "\n",
    "\n",
    "tr1,tr11 = train1.randomSplit([0.5,0.5],seed=11)\n",
    "tr0,tr00 = train0.randomSplit([x,1-x],seed=11)\n",
    "\n",
    "train0 = tr0.union(tr1)\n",
    "test_data = tr00.union(tr11)\n",
    "\n",
    "t0 = train0.count()\n",
    "t1 = test_data.count()\n",
    "\n",
    "print(\"label0 = \",label0)\n",
    "print('label1 = ', label1)\n",
    "print(\"l1 = \",l1)\n",
    "print('train = ', t0)\n",
    "print('test = ', t1)\n",
    "print('all = ', t0 + t1)\n",
    "print('df = ',df.count())"
   ]
  },
  {
   "cell_type": "markdown",
   "metadata": {},
   "source": [
    "# telos dokimhs"
   ]
  },
  {
   "cell_type": "code",
   "execution_count": null,
   "metadata": {},
   "outputs": [],
   "source": []
  },
  {
   "cell_type": "markdown",
   "metadata": {},
   "source": [
    "# Linear Regression"
   ]
  },
  {
   "cell_type": "code",
   "execution_count": null,
   "metadata": {},
   "outputs": [],
   "source": [
    "log_reg = LogisticRegression(featuresCol='features',labelCol='label',maxIter=10)\n",
    "lr_model = log_reg.fit(train0)"
   ]
  },
  {
   "cell_type": "code",
   "execution_count": null,
   "metadata": {},
   "outputs": [],
   "source": [
    "\n",
    "results = lr_model.transform(test_data)\n",
    "from pyspark.ml.evaluation import BinaryClassificationEvaluator\n",
    "evaluate = BinaryClassificationEvaluator(rawPredictionCol='prediction',labelCol='label')\n",
    "AUC = evaluate.evaluate(results)\n",
    "AUC"
   ]
  },
  {
   "cell_type": "code",
   "execution_count": null,
   "metadata": {},
   "outputs": [],
   "source": [
    "'''Param for metric name in evaluation. Supports: - \"rmse\" (default): root mean squared error - \n",
    "\"mse\": mean squared error - \"r2\": R^2^ metric - \"mae\": mean absolute error metricName='mae' '''\n",
    "\n",
    "pipeline = Pipeline(stages=[log_reg])\n",
    "modelEvaluator=RegressionEvaluator(predictionCol='prediction', labelCol='label',metricName='mae')\n",
    "paramGrid = ParamGridBuilder().build()\n",
    "\n",
    "crossval = CrossValidator(estimator=log_reg,\n",
    "                          estimatorParamMaps=paramGrid,\n",
    "                          evaluator=modelEvaluator,\n",
    "                          numFolds=6)\n",
    "\n",
    "cvModel = crossval.fit(train0)\n",
    "cross_results = cvModel.transform(test_data)\n",
    "results = cross_results.select('prediction','label')\n",
    "#results.show(10)"
   ]
  },
  {
   "cell_type": "code",
   "execution_count": null,
   "metadata": {},
   "outputs": [],
   "source": [
    "#print(len(d.columns))\n",
    "#print(d.columns[len(d.columns)-1])\n",
    "calcCoeff(path,lr_model.coefficientMatrix.toArray()[0],d.columns)"
   ]
  },
  {
   "cell_type": "code",
   "execution_count": null,
   "metadata": {},
   "outputs": [],
   "source": [
    "showMetrics(cross_results.rdd,value=1)\n",
    "showMyMetric(results,v1 = 1,v2 = 0)"
   ]
  },
  {
   "cell_type": "code",
   "execution_count": null,
   "metadata": {},
   "outputs": [],
   "source": [
    "lr_model.coefficientMatrix.toArray()[0].shape"
   ]
  },
  {
   "cell_type": "markdown",
   "metadata": {},
   "source": [
    "# RFR"
   ]
  },
  {
   "cell_type": "code",
   "execution_count": null,
   "metadata": {},
   "outputs": [],
   "source": [
    "rf = RandomForestClassifier(featuresCol='features',labelCol='label', numClasses=2, categoricalFeaturesInfo={},\n",
    "                                     numTrees=50, featureSubsetStrategy=\"auto\",\n",
    "                                     impurity='gini', maxDepth=4, maxBins=32)\n",
    "rf_model = rf.fit(train0)"
   ]
  },
  {
   "cell_type": "code",
   "execution_count": null,
   "metadata": {},
   "outputs": [],
   "source": [
    "results = rf_model.transform(test_data)\n",
    "from pyspark.ml.evaluation import BinaryClassificationEvaluator\n",
    "evaluate = BinaryClassificationEvaluator(rawPredictionCol='prediction',labelCol='label')\n",
    "AUC = evaluate.evaluate(results)\n",
    "AUC"
   ]
  },
  {
   "cell_type": "code",
   "execution_count": null,
   "metadata": {},
   "outputs": [],
   "source": [
    "\n",
    "modelEvaluator=RegressionEvaluator(predictionCol='prediction', labelCol='label')\n",
    "paramGrid = ParamGridBuilder().build()\n",
    "\n",
    "crossval = CrossValidator(estimator=rf,\n",
    "                          estimatorParamMaps=paramGrid,\n",
    "                          evaluator=modelEvaluator,\n",
    "                          numFolds=4)\n",
    "\n",
    "cvModel = crossval.fit(train0)\n",
    "cross_results = cvModel.transform(test_data)\n",
    "results = cross_results.select('prediction','label')\n",
    "#results.show(10)"
   ]
  },
  {
   "cell_type": "code",
   "execution_count": null,
   "metadata": {},
   "outputs": [],
   "source": [
    "showMetrics(cross_results.rdd,value=1)\n",
    "showMyMetric(results,v1 = 1,v2 = 0)"
   ]
  },
  {
   "cell_type": "code",
   "execution_count": null,
   "metadata": {},
   "outputs": [],
   "source": []
  },
  {
   "cell_type": "markdown",
   "metadata": {},
   "source": [
    "# SVM "
   ]
  },
  {
   "cell_type": "code",
   "execution_count": null,
   "metadata": {},
   "outputs": [],
   "source": [
    "#lsvc = LinearSVC(maxIter=10, regParam=0.1)\n",
    "lsvc = LinearSVC(featuresCol='features',labelCol='label',maxIter=10)\n",
    "lsvcModel = lsvc.fit(train0)"
   ]
  },
  {
   "cell_type": "code",
   "execution_count": null,
   "metadata": {},
   "outputs": [],
   "source": [
    "results = lsvcModel.transform(test_data)\n",
    "from pyspark.ml.evaluation import BinaryClassificationEvaluator\n",
    "evaluate = BinaryClassificationEvaluator(rawPredictionCol='prediction',labelCol='label')\n",
    "AUC = evaluate.evaluate(results)\n",
    "AUC"
   ]
  },
  {
   "cell_type": "code",
   "execution_count": null,
   "metadata": {},
   "outputs": [],
   "source": [
    "modelEvaluator=RegressionEvaluator(predictionCol='prediction', labelCol='label')\n",
    "paramGrid = ParamGridBuilder().build()\n",
    "\n",
    "crossval = CrossValidator(estimator=lsvcModel,\n",
    "                          estimatorParamMaps=paramGrid,\n",
    "                          evaluator=modelEvaluator,\n",
    "                          numFolds=4)\n",
    "\n",
    "cvModel = crossval.fit(train0)\n",
    "cross_results = cvModel.transform(test_data)\n",
    "results = cross_results.select('prediction','label')\n",
    "#results.show(10)"
   ]
  },
  {
   "cell_type": "code",
   "execution_count": null,
   "metadata": {},
   "outputs": [],
   "source": [
    "showMetrics(cross_results.rdd,value=1)\n",
    "showMyMetric(results,v1 = 1,v2 = 0)"
   ]
  },
  {
   "cell_type": "code",
   "execution_count": null,
   "metadata": {},
   "outputs": [],
   "source": [
    "#calcCoeff(path,lr_model.coefficientMatrix.toArray()[0],d.columns)"
   ]
  },
  {
   "cell_type": "code",
   "execution_count": null,
   "metadata": {},
   "outputs": [],
   "source": []
  },
  {
   "cell_type": "markdown",
   "metadata": {},
   "source": [
    "# Bernoulli"
   ]
  },
  {
   "cell_type": "code",
   "execution_count": null,
   "metadata": {},
   "outputs": [],
   "source": [
    "nb = NaiveBayes(predictionCol='prediction', labelCol='label',smoothing=1.0, modelType=\"multinomial\")\n",
    "nbg = nb.fit(train0)"
   ]
  },
  {
   "cell_type": "code",
   "execution_count": null,
   "metadata": {},
   "outputs": [],
   "source": [
    "results = nbg.transform(test_data)\n",
    "from pyspark.ml.evaluation import BinaryClassificationEvaluator\n",
    "evaluate = BinaryClassificationEvaluator(rawPredictionCol='prediction',labelCol='label')\n",
    "AUC = evaluate.evaluate(results)\n",
    "AUC"
   ]
  },
  {
   "cell_type": "code",
   "execution_count": null,
   "metadata": {},
   "outputs": [],
   "source": [
    "modelEvaluator=RegressionEvaluator(predictionCol='prediction', labelCol='label')\n",
    "paramGrid = ParamGridBuilder().build()\n",
    "\n",
    "crossval = CrossValidator(estimator=nbg,\n",
    "                          estimatorParamMaps=paramGrid,\n",
    "                          evaluator=modelEvaluator,\n",
    "                          numFolds=4)\n",
    "\n",
    "cvModel = crossval.fit(train0)\n",
    "cross_results = cvModel.transform(test_data)\n",
    "results = cross_results.select('prediction','label')\n",
    "#results.show(10)"
   ]
  },
  {
   "cell_type": "code",
   "execution_count": null,
   "metadata": {},
   "outputs": [],
   "source": [
    "showMetrics(cross_results.rdd,value=1)\n",
    "showMyMetric(results,v1 = 1,v2 = 0)"
   ]
  },
  {
   "cell_type": "code",
   "execution_count": null,
   "metadata": {},
   "outputs": [],
   "source": []
  },
  {
   "cell_type": "markdown",
   "metadata": {},
   "source": [
    "# Tree"
   ]
  },
  {
   "cell_type": "code",
   "execution_count": null,
   "metadata": {},
   "outputs": [],
   "source": [
    "t = train.rdd\n",
    "tr =  t.map(lambda lp: (int(lp.label), int(lp.features)))\n",
    "treeD = DecisionTree.trainClassifier(tr, numClasses=2, categoricalFeaturesInfo={},\n",
    "                                     impurity='gini', maxDepth=5, maxBins=32)\n",
    "\n",
    "\n",
    "tree = treeD.fit(train0)"
   ]
  },
  {
   "cell_type": "code",
   "execution_count": null,
   "metadata": {},
   "outputs": [],
   "source": [
    "results = tree.transform(test_data)\n",
    "from pyspark.ml.evaluation import BinaryClassificationEvaluator\n",
    "evaluate = BinaryClassificationEvaluator(rawPredictionCol='prediction',labelCol='label')\n",
    "AUC = evaluate.evaluate(results)\n",
    "AUC"
   ]
  },
  {
   "cell_type": "code",
   "execution_count": null,
   "metadata": {},
   "outputs": [],
   "source": [
    "modelEvaluator=RegressionEvaluator(predictionCol='prediction', labelCol='label')\n",
    "paramGrid = ParamGridBuilder().build()\n",
    "\n",
    "crossval = CrossValidator(estimator=tree,\n",
    "                          estimatorParamMaps=paramGrid,\n",
    "                          evaluator=modelEvaluator,\n",
    "                          numFolds=4)\n",
    "\n",
    "cvModel = crossval.fit(train0)\n",
    "cross_results = cvModel.transform(test_data)\n",
    "results = cross_results.select('prediction','label')\n",
    "#results.show(10)"
   ]
  },
  {
   "cell_type": "code",
   "execution_count": null,
   "metadata": {},
   "outputs": [],
   "source": [
    "showMetrics(cross_results.rdd,value=1)\n",
    "showMyMetric(results,v1 = 1,v2 = 0)\n"
   ]
  },
  {
   "cell_type": "code",
   "execution_count": null,
   "metadata": {},
   "outputs": [],
   "source": [
    "modelFile = path+'treeRules.txt'\n",
    "f = open(modelFile,\"w\") \n",
    "f.write(crossval.toDebugString())\n",
    "f.close()"
   ]
  },
  {
   "cell_type": "code",
   "execution_count": null,
   "metadata": {},
   "outputs": [],
   "source": []
  },
  {
   "cell_type": "markdown",
   "metadata": {},
   "source": [
    "# Gradient-Boosted Trees (GBTs)"
   ]
  },
  {
   "cell_type": "code",
   "execution_count": null,
   "metadata": {},
   "outputs": [],
   "source": [
    "modelGBT = GradientBoostedTrees.trainClassifier(train0,\n",
    "                                                                     categoricalFeaturesInfo={}, numIterations=10)\n",
    "\n",
    "gbt = treeD.fit(train0)"
   ]
  },
  {
   "cell_type": "code",
   "execution_count": null,
   "metadata": {},
   "outputs": [],
   "source": [
    "results = gbt.transform(test_data)\n",
    "from pyspark.ml.evaluation import BinaryClassificationEvaluator\n",
    "evaluate = BinaryClassificationEvaluator(rawPredictionCol='prediction',labelCol='label')\n",
    "AUC = evaluate.evaluate(results)\n",
    "AUC"
   ]
  },
  {
   "cell_type": "code",
   "execution_count": null,
   "metadata": {},
   "outputs": [],
   "source": [
    "modelEvaluator=RegressionEvaluator(predictionCol='prediction', labelCol='label')\n",
    "paramGrid = ParamGridBuilder().build()\n",
    "\n",
    "crossval = CrossValidator(estimator=gbt,\n",
    "                          estimatorParamMaps=paramGrid,\n",
    "                          evaluator=modelEvaluator,\n",
    "                          numFolds=4)\n",
    "\n",
    "cvModel = crossval.fit(train0)\n",
    "cross_results = cvModel.transform(test_data)\n",
    "results = cross_results.select('prediction','label')\n",
    "#results.show(10)"
   ]
  },
  {
   "cell_type": "code",
   "execution_count": null,
   "metadata": {},
   "outputs": [],
   "source": [
    "showMetrics(cross_results.rdd,value=1)\n",
    "showMyMetric(results,v1 = 1,v2 = 0)"
   ]
  },
  {
   "cell_type": "code",
   "execution_count": null,
   "metadata": {},
   "outputs": [],
   "source": []
  }
 ],
 "metadata": {
  "kernelspec": {
   "display_name": "Python 3",
   "language": "python",
   "name": "python3"
  },
  "language_info": {
   "codemirror_mode": {
    "name": "ipython",
    "version": 3
   },
   "file_extension": ".py",
   "mimetype": "text/x-python",
   "name": "python",
   "nbconvert_exporter": "python",
   "pygments_lexer": "ipython3",
   "version": "3.5.2"
  }
 },
 "nbformat": 4,
 "nbformat_minor": 2
}
