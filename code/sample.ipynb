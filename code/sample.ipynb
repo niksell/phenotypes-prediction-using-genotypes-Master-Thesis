{
 "cells": [
  {
   "cell_type": "code",
   "execution_count": 7,
   "metadata": {
    "collapsed": false
   },
   "outputs": [
    {
     "name": "stdout",
     "output_type": "stream",
     "text": [
      "count is  498\n",
      "sample size is  498\n"
     ]
    }
   ],
   "source": [
    "import numpy as np\n",
    "from random import randint\n",
    "\n",
    "f = open('C:\\\\Users\\\\Antonis\\\\Documents\\\\GitHub\\\\diplwmatikh\\\\data\\\\phenotype_euro_edit.txt','r')\n",
    "f.readline()\n",
    "count = 0\n",
    "\n",
    "for line in f:\n",
    "    count += 1\n",
    "    \n",
    "f.close()\n",
    "\n",
    "sampleSize = int(count * 10 / 100)\n",
    "\n",
    "sample = np.zeros(count)\n",
    "\n",
    "count = 1\n",
    "\n",
    "while (count <= sampleSize):\n",
    "\n",
    "    aRand = randint(0,len(sample)-1)\n",
    "    \n",
    "    while(sample[aRand] == 1):\n",
    "\n",
    "        aRand = randint(0,len(sample)-1)\n",
    "    \n",
    "    \n",
    "\n",
    "    sample[aRand] = 1\n",
    "    count += 1\n",
    "\n",
    "\n",
    "\n",
    "\n",
    "count = 0\n",
    "\n",
    "for i in sample:\n",
    "    \n",
    "    if i ==1:\n",
    "        count +=1\n",
    "\n",
    "print(\"count is \",count)\n",
    "print(\"sample size is \",sampleSize)\n",
    "\n",
    "f = open('C:\\\\Users\\\\Antonis\\\\Documents\\\\GitHub\\\\diplwmatikh\\\\data\\\\phenotype_euro_edit.txt','r')\n",
    "line  = f.readline()\n",
    "\n",
    "train = open('C:\\\\Users\\\\Antonis\\\\Documents\\\\GitHub\\\\diplwmatikh\\\\data\\\\phenotype_euro_train.txt','w')\n",
    "test = open('C:\\\\Users\\\\Antonis\\\\Documents\\\\GitHub\\\\diplwmatikh\\\\data\\\\phenotype_euro_test.txt','w')\n",
    "test.write(line)\n",
    "train.write(line)\n",
    "count = 0\n",
    "\n",
    "for line in f:\n",
    "    \n",
    "    if sample[count] == 1:\n",
    "        test.write(line)\n",
    "        \n",
    "    else:\n",
    "        train.write(line)\n",
    "        \n",
    "    count +=1\n",
    "        \n",
    "train.close()\n",
    "test.close()\n"
   ]
  },
  {
   "cell_type": "code",
   "execution_count": null,
   "metadata": {
    "collapsed": true
   },
   "outputs": [],
   "source": []
  }
 ],
 "metadata": {
  "anaconda-cloud": {},
  "kernelspec": {
   "display_name": "Python 3",
   "language": "python",
   "name": "python3"
  },
  "language_info": {
   "codemirror_mode": {
    "name": "ipython",
    "version": 3
   },
   "file_extension": ".py",
   "mimetype": "text/x-python",
   "name": "python",
   "nbconvert_exporter": "python",
   "pygments_lexer": "ipython3",
   "version": "3.5.2"
  }
 },
 "nbformat": 4,
 "nbformat_minor": 1
}
