{
 "cells": [
  {
   "cell_type": "code",
   "execution_count": null,
   "metadata": {
    "collapsed": false
   },
   "outputs": [],
   "source": [
    "import numpy as np\n",
    "from random import randint\n",
    "\n",
    "f = open('C:\\\\Users\\\\Antonis\\\\Documents\\\\GitHub\\\\diplwmatikh\\\\data\\\\phenotype_euro_balanced2.txt','r')\n",
    "f.readline()\n",
    "count = 0\n",
    "\n",
    "for line in f:\n",
    "    count += 1\n",
    "    \n",
    "f.close()\n",
    "\n",
    "sampleSize = int(count * 10 / 100)\n",
    "\n",
    "sample = np.zeros(count)\n",
    "\n",
    "count = 1\n",
    "\n",
    "while (count <= sampleSize):\n",
    "\n",
    "    aRand = randint(0,len(sample)-1)\n",
    "    \n",
    "    while(sample[aRand] == 1):\n",
    "\n",
    "        aRand = randint(0,len(sample)-1)\n",
    "    \n",
    "    \n",
    "\n",
    "    sample[aRand] = 1\n",
    "    count += 1\n",
    "\n",
    "\n",
    "\n",
    "\n",
    "count = 0\n",
    "\n",
    "for i in sample:\n",
    "    \n",
    "    if i ==1:\n",
    "        count +=1\n",
    "\n",
    "print(\"count is \",count)\n",
    "print(\"sample size is \",sampleSize)\n",
    "\n",
    "f = open('C:\\\\Users\\\\Antonis\\\\Documents\\\\GitHub\\\\diplwmatikh\\\\data\\\\phenotype_euro_balanced.txt','r')\n",
    "line  = f.readline()\n",
    "\n",
    "train = open('C:\\\\Users\\\\Antonis\\\\Documents\\\\GitHub\\\\diplwmatikh\\\\data\\\\phenotype_euro_train_balanced.txt','w')\n",
    "test = open('C:\\\\Users\\\\Antonis\\\\Documents\\\\GitHub\\\\diplwmatikh\\\\data\\\\phenotype_euro_test_balaned.txt','w')\n",
    "test.write(line)\n",
    "train.write(line)\n",
    "count = 0\n",
    "\n",
    "for line in f:\n",
    "    \n",
    "    if sample[count] == 1:\n",
    "        test.write(line)\n",
    "        \n",
    "    else:\n",
    "        train.write(line)\n",
    "        \n",
    "    count +=1\n",
    "        \n",
    "train.close()\n",
    "test.close()\n"
   ]
  },
  {
   "cell_type": "code",
   "execution_count": null,
   "metadata": {
    "collapsed": false
   },
   "outputs": [],
   "source": [
    "import metrics.Correlation as cor"
   ]
  },
  {
   "cell_type": "code",
   "execution_count": null,
   "metadata": {
    "collapsed": true
   },
   "outputs": [],
   "source": [
    "import numpy as np\n",
    "x1 = [1,2,3]\n",
    "x2 = [1,2,0]\n",
    "x3 = []\n",
    "x3.append(x1)\n",
    "#x3.append(x2)\n",
    "x4 = np.array(x3)"
   ]
  },
  {
   "cell_type": "code",
   "execution_count": null,
   "metadata": {
    "collapsed": false
   },
   "outputs": [],
   "source": [
    "a = cor.Correlation(x4.T)"
   ]
  },
  {
   "cell_type": "code",
   "execution_count": null,
   "metadata": {
    "collapsed": false
   },
   "outputs": [],
   "source": [
    "a.getCorrMatrix()"
   ]
  },
  {
   "cell_type": "code",
   "execution_count": null,
   "metadata": {
    "collapsed": false
   },
   "outputs": [],
   "source": [
    "import DataSet.snpsSelection as s"
   ]
  },
  {
   "cell_type": "code",
   "execution_count": null,
   "metadata": {
    "collapsed": false
   },
   "outputs": [],
   "source": [
    "s = a.getLowCorrelationSnps( 0.7)"
   ]
  },
  {
   "cell_type": "code",
   "execution_count": null,
   "metadata": {
    "collapsed": false
   },
   "outputs": [],
   "source": [
    "x4.shape"
   ]
  },
  {
   "cell_type": "code",
   "execution_count": null,
   "metadata": {
    "collapsed": false
   },
   "outputs": [],
   "source": [
    "x4.T * 3"
   ]
  },
  {
   "cell_type": "code",
   "execution_count": 1,
   "metadata": {
    "collapsed": true
   },
   "outputs": [],
   "source": [
    "import numpy as np\n",
    "x1 = [1,2,3]\n",
    "x2 = [1,2,0]\n",
    "x3 = []\n",
    "x3.append(x1)\n",
    "#x3.append(x2)\n",
    "x4 = np.array(x3)\n",
    "x5 = x4"
   ]
  },
  {
   "cell_type": "code",
   "execution_count": 2,
   "metadata": {
    "collapsed": false
   },
   "outputs": [],
   "source": [
    "from metrics.PCA import PCA "
   ]
  },
  {
   "cell_type": "code",
   "execution_count": 3,
   "metadata": {
    "collapsed": false
   },
   "outputs": [],
   "source": [
    "x1 = [1,1.5,0.5,-1,-2,0]\n",
    "x2 = [1,2,1,1,1.5,0]\n",
    "x3 = []\n",
    "x3.append(x1)\n",
    "x3.append(x2)\n",
    "x4 = np.array(x3)"
   ]
  },
  {
   "cell_type": "code",
   "execution_count": 8,
   "metadata": {
    "collapsed": false
   },
   "outputs": [
    {
     "data": {
      "text/plain": [
       "array([[ 1. ,  1. ],\n",
       "       [ 1.5,  2. ],\n",
       "       [ 0.5,  1. ],\n",
       "       [-1. ,  1. ],\n",
       "       [-2. ,  1.5],\n",
       "       [ 0. ,  0. ]])"
      ]
     },
     "execution_count": 8,
     "metadata": {},
     "output_type": "execute_result"
    }
   ],
   "source": [
    "x4.T"
   ]
  },
  {
   "cell_type": "code",
   "execution_count": 5,
   "metadata": {
    "collapsed": false
   },
   "outputs": [
    {
     "name": "stdout",
     "output_type": "stream",
     "text": [
      "f =  (2, 2)\n",
      "f1 =  (2,)\n"
     ]
    }
   ],
   "source": [
    "pc = PCA(x4.T)"
   ]
  },
  {
   "cell_type": "code",
   "execution_count": 6,
   "metadata": {
    "collapsed": false
   },
   "outputs": [
    {
     "name": "stdout",
     "output_type": "stream",
     "text": [
      "x =  (6, 2)\n",
      "x =  (6, 2)\n",
      "x =  (6, 2)\n",
      "x =  (6, 2)\n",
      "x =  (6, 2)\n",
      "x =  (6, 2)\n"
     ]
    }
   ],
   "source": [
    "x5 = pc.predict(x4.T)"
   ]
  },
  {
   "cell_type": "code",
   "execution_count": 7,
   "metadata": {
    "collapsed": false
   },
   "outputs": [
    {
     "data": {
      "text/plain": [
       "[-2.0347076177493464,\n",
       " -3.2010419487503792,\n",
       " -1.1663343310010328,\n",
       " 1.4387855292439076,\n",
       " 3.026551580614175,\n",
       " 0.0]"
      ]
     },
     "execution_count": 7,
     "metadata": {},
     "output_type": "execute_result"
    }
   ],
   "source": [
    "x5"
   ]
  },
  {
   "cell_type": "code",
   "execution_count": null,
   "metadata": {
    "collapsed": true
   },
   "outputs": [],
   "source": []
  }
 ],
 "metadata": {
  "anaconda-cloud": {},
  "kernelspec": {
   "display_name": "Python [default]",
   "language": "python",
   "name": "python3"
  },
  "language_info": {
   "codemirror_mode": {
    "name": "ipython",
    "version": 3
   },
   "file_extension": ".py",
   "mimetype": "text/x-python",
   "name": "python",
   "nbconvert_exporter": "python",
   "pygments_lexer": "ipython3",
   "version": "3.5.2"
  }
 },
 "nbformat": 4,
 "nbformat_minor": 1
}
