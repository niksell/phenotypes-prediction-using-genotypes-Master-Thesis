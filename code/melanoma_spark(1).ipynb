{
 "cells": [
  {
   "cell_type": "code",
   "execution_count": null,
   "metadata": {},
   "outputs": [],
   "source": [
    "# Import libs\n",
    "import findspark\n",
    "findspark.init(\"/home/antonis/spark-2.3.0-bin-hadoop2.7\")\n",
    "import pyspark\n",
    "from pyspark.sql import SparkSession\n",
    "\n",
    "\n",
    "import sys\n",
    "from pyspark import SparkContext\n",
    "from pyspark.sql import SQLContext\n",
    "from pyspark.sql.types import *\n",
    "from pyspark.sql import Row\n",
    "from pyspark.sql.functions import countDistinct,avg,stddev\n",
    "from pyspark.ml.feature import (VectorAssembler,VectorIndexer,\n",
    "                               OneHotEncoder , StringIndexer)\n",
    "\n",
    "from pyspark.ml import Pipeline\n",
    "from pyspark.ml.classification import LogisticRegression\n",
    "\n",
    "\n",
    "import os.path\n",
    "import pandas\n",
    "import math\n",
    "import time\n",
    "\n",
    "import DataSet.SnpsSelection as s\n",
    "\n",
    "\n"
   ]
  },
  {
   "cell_type": "code",
   "execution_count": null,
   "metadata": {},
   "outputs": [],
   "source": []
  },
  {
   "cell_type": "code",
   "execution_count": null,
   "metadata": {},
   "outputs": [],
   "source": [
    "spark = SparkSession.builder.appName('melanoma').getOrCreate()"
   ]
  },
  {
   "cell_type": "code",
   "execution_count": null,
   "metadata": {},
   "outputs": [],
   "source": []
  },
  {
   "cell_type": "code",
   "execution_count": null,
   "metadata": {},
   "outputs": [],
   "source": [
    "#spark.stop()"
   ]
  },
  {
   "cell_type": "code",
   "execution_count": null,
   "metadata": {},
   "outputs": [],
   "source": [
    "#path = '/home/george/diplwmatikh/code/maf/maf = 0.05/assocs/'\n",
    "#pathPatients = '/home/george/diplwmatikh/data/patients/Patients.txt'\n",
    "pathSnp = '/media/antonis/red/newSet/maf/maf = 0.05/assoc/pvalue = 0.001/snp1.txt'"
   ]
  },
  {
   "cell_type": "markdown",
   "metadata": {},
   "source": [
    "# Read ASSOCS"
   ]
  },
  {
   "cell_type": "code",
   "execution_count": null,
   "metadata": {},
   "outputs": [],
   "source": [
    "\n",
    "start_time = time.time()\n",
    "#path = '/home/george/snp/'\n",
    "sc = SparkContext.getOrCreate()\n",
    "sqlContext = SQLContext(sc)\n",
    "log_txt = sc.textFile(path)\n",
    "sc.setLogLevel(\"WARN\")\n",
    "header = log_txt.first()\n",
    "log_txt = log_txt.filter(lambda line: line != header)\n",
    "temp_var = log_txt.map(lambda k: k.split())\n",
    "\n",
    "inferRow = temp_var.map(lambda p: Row(CHR=(p[0].strip()),SNP=p[1].strip(),BP=p[2].strip(),A1=p[3].strip(),F_A=p[4].strip()\n",
    "                                   ,F_U=p[5].strip(),A2=p[6].strip(),CHISQ=p[7].strip(),P=(p[8].strip())\n",
    "                                      ,OR=p[9].strip()))\n",
    "schemaString = \"CHR SNP BP A1 F_A F_U A2 CHISQ P OR\"\n",
    "\n",
    "fields = [StructField(field_name, StringType(), True) for field_name in schemaString.split()]\n",
    "schema = StructType(fields)\n",
    "schemaAssocs = spark.createDataFrame(inferRow,schema)\n",
    "schemaAssocs.createOrReplaceTempView(\"Assocs\")\n",
    "#df=temp_var.toDF(header.split())\n",
    "#log_df.select(log_df['field2']).show()\n",
    "#log_df.filter(log_df['field2']=='1').count()\n",
    "elapsed_time = time.time() - start_time\n",
    "print(elapsed_time)\n",
    "#df =spark.read.csv(path,header=True,inferSchema=True,escape=\"\\t\")"
   ]
  },
  {
   "cell_type": "markdown",
   "metadata": {},
   "source": [
    "# Read Patients"
   ]
  },
  {
   "cell_type": "code",
   "execution_count": null,
   "metadata": {},
   "outputs": [],
   "source": [
    "start_time = time.time()\n",
    "#path = '/home/george/snp/'\n",
    "sc = SparkContext.getOrCreate()\n",
    "sqlContext = SQLContext(sc)\n",
    "log_txt = sc.textFile(pathPatients)\n",
    "sc.setLogLevel(\"WARN\")\n",
    "header = log_txt.first()\n",
    "log_txt = log_txt.filter(lambda line: line != header)\n",
    "temp_var = log_txt.map(lambda k: k.split())\n",
    "\n",
    "inferRow = temp_var.map(lambda p: Row(eid=(p[0].strip()),sex=p[1].strip(),birth_year=p[2].strip(),cases=p[3].strip()))\n",
    "schemaString = \"eid sex birth_year cases\"\n",
    "\n",
    "fields = [StructField(field_name, StringType(), True) for field_name in schemaString.split()]\n",
    "schema = StructType(fields)\n",
    "schemaPatients = spark.createDataFrame(inferRow,schema)\n",
    "schemaPatients.createOrReplaceTempView(\"Patients\")\n",
    "#df=temp_var.toDF(header.split())\n",
    "#log_df.select(log_df['field2']).show()\n",
    "#log_df.filter(log_df['field2']=='1').count()\n",
    "elapsed_time = time.time() - start_time\n",
    "print(elapsed_time)\n",
    "#df =spark.read.csv(path,header=True,inferSchema=True,escape=\"\\t\")"
   ]
  },
  {
   "cell_type": "markdown",
   "metadata": {},
   "source": [
    "# TO REMOVE NA"
   ]
  },
  {
   "cell_type": "code",
   "execution_count": null,
   "metadata": {},
   "outputs": [],
   "source": [
    "schemaAssocs = schemaAssocs.where(\"OR != 'NA'\").drop()"
   ]
  },
  {
   "cell_type": "code",
   "execution_count": null,
   "metadata": {},
   "outputs": [],
   "source": [
    "schemaAssocs.createOrReplaceTempView(\"Assocs\")\n"
   ]
  },
  {
   "cell_type": "code",
   "execution_count": null,
   "metadata": {},
   "outputs": [],
   "source": [
    "sqlDF = spark.sql(\"SELECT * FROM Assocs WHERE SNP=='.' \")\n",
    "sqlDF.show()"
   ]
  },
  {
   "cell_type": "code",
   "execution_count": null,
   "metadata": {},
   "outputs": [],
   "source": [
    "schemaPatients.show()"
   ]
  },
  {
   "cell_type": "markdown",
   "metadata": {},
   "source": [
    "# STRING INDEXING"
   ]
  },
  {
   "cell_type": "code",
   "execution_count": null,
   "metadata": {},
   "outputs": [],
   "source": [
    "snp_indexer = StringIndexer(inputCol='SNP',outputCol='SNPIndex')\n",
    "id_indexer = StringIndexer(inputCol='eid',outputCol='eidIndex')"
   ]
  },
  {
   "cell_type": "code",
   "execution_count": null,
   "metadata": {},
   "outputs": [],
   "source": [
    "Patients =id_indexer.fit(schemaPatients).transform(schemaPatients)"
   ]
  },
  {
   "cell_type": "code",
   "execution_count": null,
   "metadata": {},
   "outputs": [],
   "source": [
    "Patients.show()"
   ]
  },
  {
   "cell_type": "code",
   "execution_count": null,
   "metadata": {},
   "outputs": [],
   "source": [
    "Assocs = snp_indexer.fit(schemaAssocs).transform(schemaAssocs)"
   ]
  },
  {
   "cell_type": "code",
   "execution_count": null,
   "metadata": {},
   "outputs": [],
   "source": [
    "Assocs.show()"
   ]
  },
  {
   "cell_type": "markdown",
   "metadata": {},
   "source": [
    "# GET IDS FROM PATINETS AND SNP"
   ]
  },
  {
   "cell_type": "code",
   "execution_count": null,
   "metadata": {},
   "outputs": [],
   "source": [
    "def setIdToName(aList):\n",
    "    \n",
    "    ids = {}\n",
    "    nameToId = {}\n",
    "    idToName = {}\n",
    "    count = 0\n",
    "    \n",
    "    for i in aList:\n",
    "        \n",
    "        nameToId[i] = count\n",
    "        idToName[count] = i\n",
    "        count += 1\n",
    "        \n",
    "    ids['nameToId'] = nameToId\n",
    "    ids['idToName'] = idToName\n",
    "    \n",
    "    yield ids"
   ]
  },
  {
   "cell_type": "code",
   "execution_count": null,
   "metadata": {},
   "outputs": [],
   "source": [
    "ids={}\n",
    "test= Patients.select('eid')\n",
    "#idss = test.toPandas().to_dict(orient='list')\n",
    "snps = Assocs.select('SNPIndex')\n",
    "idsa = snps.toPandas().to_dict(orient='list')\n",
    "ids['patients'] = setIdToName(test.toPandas().to_dict(orient='list')['eid'])\n",
    "ids['snps'] = idsa['SNPIndex']"
   ]
  },
  {
   "cell_type": "code",
   "execution_count": null,
   "metadata": {},
   "outputs": [],
   "source": [
    "X, Y = read.readSnpsCode(patients,ids)"
   ]
  },
  {
   "cell_type": "code",
   "execution_count": null,
   "metadata": {},
   "outputs": [],
   "source": [
    "test.toPandas().to_dict(orient='list')['eid']"
   ]
  },
  {
   "cell_type": "markdown",
   "metadata": {},
   "source": [
    "# TESTS"
   ]
  },
  {
   "cell_type": "code",
   "execution_count": null,
   "metadata": {},
   "outputs": [],
   "source": [
    "#pathSnp = '/media/antonis/red/newSet/maf/maf = 0.05/assoc/pvalue = 0.001/snp1.txt'\n",
    "#pathSnp = '/media/antonis/red/newdata/maf = 0.05/pvalue = 0.001/snp1.txt'\n",
    "\n",
    "pathSnp = '/media/antonis/Antonis_Moulopoulos/newSet/pvalue = 0.001/snp1.txt'\n",
    "#pathSnp = '/media/antonis/Antonis_Moulopoulos/newdata/maf = 0.05/pvalue = 0.001/snp1.txt'\n",
    "\n",
    "data = spark.read.csv(pathSnp,inferSchema=True,header=True)\n",
    "data=data.withColumnRenamed('TARGET','label')"
   ]
  },
  {
   "cell_type": "code",
   "execution_count": null,
   "metadata": {},
   "outputs": [],
   "source": [
    "features = []\n",
    "for i in data.columns:\n",
    "    if 'rs'  in i:\n",
    "        features.append(i)\n",
    "print(len(features))"
   ]
  },
  {
   "cell_type": "code",
   "execution_count": null,
   "metadata": {},
   "outputs": [],
   "source": []
  },
  {
   "cell_type": "code",
   "execution_count": null,
   "metadata": {},
   "outputs": [],
   "source": [
    "assempler = VectorAssembler(inputCols=features,outputCol='features')\n",
    "output = assempler.transform(data)\n",
    "final_data = output.select('features','label')\n",
    "#final_data.show(10)"
   ]
  },
  {
   "cell_type": "code",
   "execution_count": null,
   "metadata": {},
   "outputs": [],
   "source": []
  },
  {
   "cell_type": "code",
   "execution_count": null,
   "metadata": {},
   "outputs": [],
   "source": [
    "\n",
    "from pyspark.ml.stat import Correlation\n",
    "final_data1 = final_data.select('features')\n",
    "corr = Correlation.corr(final_data1, \"features\")\n",
    "#corr[0].values[1]\n"
   ]
  },
  {
   "cell_type": "code",
   "execution_count": null,
   "metadata": {},
   "outputs": [],
   "source": [
    "a = corr.head()"
   ]
  },
  {
   "cell_type": "code",
   "execution_count": null,
   "metadata": {},
   "outputs": [],
   "source": [
    "b = a[0].toArray()"
   ]
  },
  {
   "cell_type": "code",
   "execution_count": null,
   "metadata": {},
   "outputs": [],
   "source": [
    "snpsCount = {}\n",
    "snpsRed = []\n",
    "'''\n",
    "for i in range(len(features)):\n",
    "    snpsCount[i] = 0\n",
    "    \n",
    "for i in range(len(features)):\n",
    "    for j in range(i*len(features),(i+1)*len(features)):\n",
    "        \n",
    "            \n",
    "        if corr[0].values[j] - 0.7 <= 1e-10:\n",
    "            snpsCount[i] = snpsCount[i] + 1\n",
    "########################################################################\n",
    "for i in range(len(b)):\n",
    "    for j in range(i+1,len(b.T)):\n",
    "        \n",
    "        if b[i][j] - 0.7 <= 1e-10:\n",
    "            snpsCount[i] = snpsCount[i] + 1\n",
    "            snpsCount[j] = snpsCount[j] + 1\n",
    "            \n",
    "count = 0\n",
    "for i in snpsCount.keys():\n",
    "        \n",
    "    if snpsCount[i] >= 100 * (len(features)-1) / 100 and snpsCount[i] <= 100 * (len(features)-1) / 100:\n",
    "        snpsRed.append(features[i])\n",
    "        count += 1\n",
    "        \n",
    "print(\"count = \", count)\n",
    "print(\"snpsRed = \", len(snpsRed))'''\n",
    "            \n",
    "snpsRed = s.lowCorrelation(b, b=0.7,c=-2, up=100, down=100)\n",
    "print(\"snpsRed = \", len(snpsRed))"
   ]
  },
  {
   "cell_type": "code",
   "execution_count": null,
   "metadata": {},
   "outputs": [],
   "source": [
    "assempler = VectorAssembler(inputCols=snpsRed,outputCol='snpsRed')\n",
    "output = assempler.transform(data)\n",
    "final_data = output.select('snpsRed','label')\n",
    "#final_data.show(10)"
   ]
  },
  {
   "cell_type": "code",
   "execution_count": null,
   "metadata": {},
   "outputs": [],
   "source": []
  },
  {
   "cell_type": "code",
   "execution_count": null,
   "metadata": {},
   "outputs": [],
   "source": [
    "\n",
    "train_data,test_data = final_data.randomSplit([0.9,0.1],seed=11)\n",
    "\n",
    "train_data=train_data.withColumnRenamed('TARGET','label')\n",
    "test_data=test_data.withColumnRenamed('TARGET','label')"
   ]
  },
  {
   "cell_type": "code",
   "execution_count": null,
   "metadata": {},
   "outputs": [],
   "source": [
    "'''print(\"final = \",final_data.count())\n",
    "print(\"test_data = \", test_data.count())\n",
    "print(\"train_data = \", train_data.count())\n",
    "print(\"all = \", test_data.count() + train_data.count())'''"
   ]
  },
  {
   "cell_type": "code",
   "execution_count": null,
   "metadata": {},
   "outputs": [],
   "source": [
    "log_reg = LogisticRegression(featuresCol='snpsRed',labelCol='label',maxIter=10)\n",
    "lr_model = log_reg.fit(train_data)"
   ]
  },
  {
   "cell_type": "code",
   "execution_count": null,
   "metadata": {},
   "outputs": [],
   "source": [
    "results = lr_model.transform(test_data)\n",
    "from pyspark.ml.evaluation import BinaryClassificationEvaluator\n",
    "evaluate = BinaryClassificationEvaluator(rawPredictionCol='prediction',labelCol='label')\n",
    "AUC = evaluate.evaluate(results)\n",
    "AUC"
   ]
  },
  {
   "cell_type": "code",
   "execution_count": null,
   "metadata": {},
   "outputs": [],
   "source": []
  },
  {
   "cell_type": "code",
   "execution_count": null,
   "metadata": {},
   "outputs": [],
   "source": [
    "'''Param for metric name in evaluation. Supports: - \"rmse\" (default): root mean squared error - \n",
    "\"mse\": mean squared error - \"r2\": R^2^ metric - \"mae\": mean absolute error '''\n",
    "\n",
    "from pyspark.ml.evaluation import RegressionEvaluator\n",
    "from pyspark.ml.tuning import CrossValidator, ParamGridBuilder\n",
    "\n",
    "#lr = LinearRegression(maxIter=maxIteration)\n",
    "#pipeline = Pipeline(stages=[output, log_reg])\n",
    "\n",
    "modelEvaluator=RegressionEvaluator(predictionCol='prediction', labelCol='label')\n",
    "paramGrid = ParamGridBuilder().build()\n",
    "\n",
    "crossval = CrossValidator(estimator=log_reg,\n",
    "                          estimatorParamMaps=paramGrid,\n",
    "                          evaluator=modelEvaluator,\n",
    "                          numFolds=10)\n",
    "\n",
    "cvModel = crossval.fit(train_data)\n",
    "cross_results = cvModel.transform(test_data)\n",
    "results = cross_results.select('prediction','label')\n",
    "#results.show(10)"
   ]
  },
  {
   "cell_type": "code",
   "execution_count": null,
   "metadata": {},
   "outputs": [],
   "source": [
    "cross_results"
   ]
  },
  {
   "cell_type": "code",
   "execution_count": null,
   "metadata": {},
   "outputs": [],
   "source": [
    "from pyspark.mllib.evaluation import MulticlassMetrics\n",
    "\n",
    "\n",
    "c = cross_results.rdd\n",
    "predictionAndLabels = c.map(lambda lp: (lp.prediction, float(lp.label)))\n",
    "metrics = MulticlassMetrics(predictionAndLabels)\n",
    "metrics.confusionMatrix()"
   ]
  },
  {
   "cell_type": "code",
   "execution_count": null,
   "metadata": {},
   "outputs": [],
   "source": [
    "metrics.confusionMatrix().toArray()"
   ]
  },
  {
   "cell_type": "code",
   "execution_count": null,
   "metadata": {
    "scrolled": true
   },
   "outputs": [],
   "source": [
    "print(\"accuracy = \", metrics.accuracy)\n",
    "print(\"recal = \", metrics.recall(1))\n",
    "print(\"precision = \", metrics.precision(1))\n",
    "print(\"f1 = \", metrics.fMeasure(1.0))\n",
    "\n"
   ]
  },
  {
   "cell_type": "code",
   "execution_count": null,
   "metadata": {},
   "outputs": [],
   "source": [
    "metrics.weightedPrecision\n",
    "\n"
   ]
  },
  {
   "cell_type": "code",
   "execution_count": null,
   "metadata": {},
   "outputs": [],
   "source": [
    "metrics.weightedFMeasure()"
   ]
  },
  {
   "cell_type": "code",
   "execution_count": null,
   "metadata": {},
   "outputs": [],
   "source": []
  }
 ],
 "metadata": {
  "kernelspec": {
   "display_name": "Python 3",
   "language": "python",
   "name": "python3"
  },
  "language_info": {
   "codemirror_mode": {
    "name": "ipython",
    "version": 3
   },
   "file_extension": ".py",
   "mimetype": "text/x-python",
   "name": "python",
   "nbconvert_exporter": "python",
   "pygments_lexer": "ipython3",
   "version": "3.5.2"
  }
 },
 "nbformat": 4,
 "nbformat_minor": 2
}
